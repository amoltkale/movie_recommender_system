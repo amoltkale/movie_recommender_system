{
 "cells": [
  {
   "cell_type": "markdown",
   "id": "5eeca08b-9b22-4bff-a050-c16fee6edeba",
   "metadata": {},
   "source": [
    "# Start Spark Session"
   ]
  },
  {
   "cell_type": "code",
   "execution_count": 1,
   "id": "7913f5fb-794b-4a2c-a106-8c3419de57cc",
   "metadata": {},
   "outputs": [
    {
     "name": "stderr",
     "output_type": "stream",
     "text": [
      "WARNING: An illegal reflective access operation has occurred\n",
      "WARNING: Illegal reflective access by org.apache.spark.unsafe.Platform (file:/usr/spark-3.2.1/jars/spark-unsafe_2.12-3.2.1.jar) to constructor java.nio.DirectByteBuffer(long,int)\n",
      "WARNING: Please consider reporting this to the maintainers of org.apache.spark.unsafe.Platform\n",
      "WARNING: Use --illegal-access=warn to enable warnings of further illegal reflective access operations\n",
      "WARNING: All illegal access operations will be denied in a future release\n",
      "Setting default log level to \"WARN\".\n",
      "To adjust logging level use sc.setLogLevel(newLevel). For SparkR, use setLogLevel(newLevel).\n",
      "2022-05-16 00:02:31,887 WARN util.NativeCodeLoader: Unable to load native-hadoop library for your platform... using builtin-java classes where applicable\n",
      "2022-05-16 00:02:33,380 WARN util.Utils: Service 'SparkUI' could not bind on port 4040. Attempting port 4041.\n",
      "2022-05-16 00:02:33,381 WARN util.Utils: Service 'SparkUI' could not bind on port 4041. Attempting port 4042.\n"
     ]
    }
   ],
   "source": [
    "# Change the number of cores in this code block\n",
    "# by setting `spark.master` to `local[n]` where\n",
    "# n is the number of cores\n",
    "import pyspark\n",
    "from pyspark.sql import SparkSession\n",
    "from pyspark.sql.functions import *\n",
    "\n",
    "import matplotlib.pyplot as plt\n",
    "\n",
    "conf = pyspark.SparkConf().setAll([('spark.master', 'local[2]'),\n",
    "                                   ('spark.app.name', 'Basic Setup')])\n",
    "spark = SparkSession.builder.config(conf=conf).getOrCreate()"
   ]
  },
  {
   "cell_type": "markdown",
   "id": "6a26270f-6317-4594-a551-c7305184774a",
   "metadata": {},
   "source": [
    "## Load Data\n",
    "\n",
    "Read data from the `ratings.csv` file"
   ]
  },
  {
   "cell_type": "code",
   "execution_count": 2,
   "id": "994ea6c7-2a53-4cd8-b567-69b944f2d670",
   "metadata": {},
   "outputs": [
    {
     "name": "stderr",
     "output_type": "stream",
     "text": [
      "                                                                                \r"
     ]
    },
    {
     "name": "stdout",
     "output_type": "stream",
     "text": [
      "root\n",
      " |-- movieId: string (nullable = true)\n",
      " |-- title: string (nullable = true)\n",
      " |-- genres: string (nullable = true)\n",
      "\n"
     ]
    }
   ],
   "source": [
    "movies_df = spark.read.option(\"header\",True).csv(\"file:///home/work/data/movies.csv\").cache()\n",
    "movies_df.printSchema()"
   ]
  },
  {
   "cell_type": "code",
   "execution_count": 3,
   "id": "a8a8b15e-3e60-4b3b-8bed-f53fda99a1d8",
   "metadata": {},
   "outputs": [
    {
     "name": "stderr",
     "output_type": "stream",
     "text": [
      "[Stage 1:>                                                          (0 + 1) / 1]\r"
     ]
    },
    {
     "name": "stdout",
     "output_type": "stream",
     "text": [
      "+-------+--------------------+--------------------+\n",
      "|movieId|               title|              genres|\n",
      "+-------+--------------------+--------------------+\n",
      "|      1|    Toy Story (1995)|Adventure|Animati...|\n",
      "|      2|      Jumanji (1995)|Adventure|Childre...|\n",
      "|      3|Grumpier Old Men ...|      Comedy|Romance|\n",
      "|      4|Waiting to Exhale...|Comedy|Drama|Romance|\n",
      "|      5|Father of the Bri...|              Comedy|\n",
      "|      6|         Heat (1995)|Action|Crime|Thri...|\n",
      "|      7|      Sabrina (1995)|      Comedy|Romance|\n",
      "|      8| Tom and Huck (1995)|  Adventure|Children|\n",
      "|      9| Sudden Death (1995)|              Action|\n",
      "|     10|    GoldenEye (1995)|Action|Adventure|...|\n",
      "|     11|American Presiden...|Comedy|Drama|Romance|\n",
      "|     12|Dracula: Dead and...|       Comedy|Horror|\n",
      "|     13|        Balto (1995)|Adventure|Animati...|\n",
      "|     14|        Nixon (1995)|               Drama|\n",
      "|     15|Cutthroat Island ...|Action|Adventure|...|\n",
      "|     16|       Casino (1995)|         Crime|Drama|\n",
      "|     17|Sense and Sensibi...|       Drama|Romance|\n",
      "|     18|   Four Rooms (1995)|              Comedy|\n",
      "|     19|Ace Ventura: When...|              Comedy|\n",
      "|     20|  Money Train (1995)|Action|Comedy|Cri...|\n",
      "+-------+--------------------+--------------------+\n",
      "only showing top 20 rows\n",
      "\n"
     ]
    },
    {
     "name": "stderr",
     "output_type": "stream",
     "text": [
      "                                                                                \r"
     ]
    }
   ],
   "source": [
    "movies_df.show()"
   ]
  },
  {
   "cell_type": "code",
   "execution_count": 4,
   "id": "6e7e82b3-0775-42ff-839f-13382503a9b5",
   "metadata": {},
   "outputs": [
    {
     "name": "stdout",
     "output_type": "stream",
     "text": [
      "+---------+\n",
      "|word     |\n",
      "+---------+\n",
      "|Adventure|\n",
      "|Animation|\n",
      "|Children |\n",
      "|Comedy   |\n",
      "|Fantasy  |\n",
      "+---------+\n",
      "only showing top 5 rows\n",
      "\n"
     ]
    }
   ],
   "source": [
    "genres_df = movies_df.select(split(\"genres\",\"\\|\").alias(\"genres\"))\n",
    "genres_df = genres_df.select(explode(\"genres\").alias(\"word\"))\n",
    "genres_df.show(5, truncate=False)"
   ]
  },
  {
   "cell_type": "code",
   "execution_count": 5,
   "id": "7abd9910-a94d-4eb0-a21f-d0bdbb9252c3",
   "metadata": {},
   "outputs": [
    {
     "name": "stderr",
     "output_type": "stream",
     "text": [
      "                                                                                \r"
     ]
    },
    {
     "name": "stdout",
     "output_type": "stream",
     "text": [
      "Total distinct genres: 20\n",
      "+------------------+-----+\n",
      "|word              |count|\n",
      "+------------------+-----+\n",
      "|Drama             |25606|\n",
      "|Comedy            |16870|\n",
      "|Thriller          |8654 |\n",
      "|Romance           |7719 |\n",
      "|Action            |7348 |\n",
      "|Horror            |5989 |\n",
      "|Documentary       |5605 |\n",
      "|Crime             |5319 |\n",
      "|(no genres listed)|5062 |\n",
      "|Adventure         |4145 |\n",
      "|Sci-Fi            |3595 |\n",
      "|Children          |2935 |\n",
      "|Animation         |2929 |\n",
      "|Mystery           |2925 |\n",
      "|Fantasy           |2731 |\n",
      "|War               |1874 |\n",
      "|Western           |1399 |\n",
      "|Musical           |1054 |\n",
      "|Film-Noir         |353  |\n",
      "|IMAX              |195  |\n",
      "+------------------+-----+\n",
      "\n"
     ]
    }
   ],
   "source": [
    "distinct_genres = genres_df.groupBy('word').count().sort(col(\"count\").desc())\n",
    "print(f\"Total distinct genres: {distinct_genres.count()}\")\n",
    "distinct_genres.show(25, truncate=False)"
   ]
  },
  {
   "cell_type": "code",
   "execution_count": 6,
   "id": "33cd21b0-ba02-4aab-87cb-d8ecfbbba6ba",
   "metadata": {},
   "outputs": [
    {
     "name": "stderr",
     "output_type": "stream",
     "text": [
      "/tmp/ipykernel_2504/2915233492.py:3: SettingWithCopyWarning: \n",
      "A value is trying to be set on a copy of a slice from a DataFrame\n",
      "\n",
      "See the caveats in the documentation: https://pandas.pydata.org/pandas-docs/stable/user_guide/indexing.html#returning-a-view-versus-a-copy\n",
      "  g[\"word\"][8] = \"No Genre\" # change (no genres listed) to No Genre\n"
     ]
    }
   ],
   "source": [
    "# create histogram\n",
    "g = distinct_genres.toPandas()\n",
    "g[\"word\"][8] = \"No Genre\" # change (no genres listed) to No Genre"
   ]
  },
  {
   "cell_type": "code",
   "execution_count": 7,
   "id": "642c816c-2394-48b9-84f3-148f14124e4c",
   "metadata": {},
   "outputs": [
    {
     "data": {
      "image/png": "[encoded data removed]",
      "text/plain": [
       "<Figure size 720x720 with 1 Axes>"
      ]
     },
     "metadata": {
      "needs_background": "light"
     },
     "output_type": "display_data"
    }
   ],
   "source": [
    "font = {'family' : 'DejaVu Sans',\n",
    "        'weight' : 'bold',\n",
    "        'size'   : 16}\n",
    "\n",
    "plt.rc('font', **font)\n",
    "x = list(range(g.shape[0]))\n",
    "plt.figure(figsize=(10,10))\n",
    "plt.bar(g[\"word\"], g[\"count\"],width=1,edgecolor='k')\n",
    "plt.title(\"Genre Distribution\")\n",
    "plt.ylabel(\"Count\")\n",
    "ax = plt.gca()\n",
    "ax.set_xticks(x, g[\"word\"], rotation=40, ha='right', rotation_mode='anchor')\n",
    "plt.savefig('../data/genre_dist.png')"
   ]
  },
  {
   "cell_type": "code",
   "execution_count": 8,
   "id": "6e0c6b59-7911-4b46-819b-5c6326798d17",
   "metadata": {},
   "outputs": [],
   "source": [
    "spark.stop()"
   ]
  },
  {
   "cell_type": "code",
   "execution_count": null,
   "id": "de285072-c965-43ce-b679-65c5974a2dad",
   "metadata": {},
   "outputs": [],
   "source": []
  }
 ],
 "metadata": {
  "kernelspec": {
   "display_name": "Python 3 (ipykernel)",
   "language": "python",
   "name": "python3"
  },
  "language_info": {
   "codemirror_mode": {
    "name": "ipython",
    "version": 3
   },
   "file_extension": ".py",
   "mimetype": "text/x-python",
   "name": "python",
   "nbconvert_exporter": "python",
   "pygments_lexer": "ipython3",
   "version": "3.8.10"
  }
 },
 "nbformat": 4,
 "nbformat_minor": 5
}
