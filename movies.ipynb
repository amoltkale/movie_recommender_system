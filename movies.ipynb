{
 "cells": [
  {
   "cell_type": "markdown",
   "id": "8287030d-6074-473e-8f0f-a80f797cbd6b",
   "metadata": {
    "tags": []
   },
   "source": [
    "# Load data in HDFS"
   ]
  },
  {
   "cell_type": "code",
   "execution_count": 1,
   "id": "6ca5de79-78e2-47d2-abf5-126d832a8d06",
   "metadata": {},
   "outputs": [
    {
     "data": {
      "text/plain": [
       "'\\nUncomment below to copy files to local HDFS.\\nAssumes that code lives in git directory and that data/ lives one level above\\n'"
      ]
     },
     "execution_count": 1,
     "metadata": {},
     "output_type": "execute_result"
    }
   ],
   "source": [
    "'''\n",
    "Uncomment below to copy files to local HDFS.\n",
    "Assumes that code lives in git directory and that data/ lives one level above\n",
    "'''\n",
    "# !hadoop fs -copyFromLocal ../data/movies.csv /\n",
    "# !hadoop fs -ls /\n",
    "# !hadoop fs -cat /movies.csv | head"
   ]
  },
  {
   "cell_type": "markdown",
   "id": "5eeca08b-9b22-4bff-a050-c16fee6edeba",
   "metadata": {},
   "source": [
    "# Start Spark Session"
   ]
  },
  {
   "cell_type": "code",
   "execution_count": 2,
   "id": "7913f5fb-794b-4a2c-a106-8c3419de57cc",
   "metadata": {},
   "outputs": [
    {
     "name": "stderr",
     "output_type": "stream",
     "text": [
      "WARNING: An illegal reflective access operation has occurred\n",
      "WARNING: Illegal reflective access by org.apache.spark.unsafe.Platform (file:/usr/spark-3.2.1/jars/spark-unsafe_2.12-3.2.1.jar) to constructor java.nio.DirectByteBuffer(long,int)\n",
      "WARNING: Please consider reporting this to the maintainers of org.apache.spark.unsafe.Platform\n",
      "WARNING: Use --illegal-access=warn to enable warnings of further illegal reflective access operations\n",
      "WARNING: All illegal access operations will be denied in a future release\n",
      "Setting default log level to \"WARN\".\n",
      "To adjust logging level use sc.setLogLevel(newLevel). For SparkR, use setLogLevel(newLevel).\n",
      "2022-04-27 22:07:51,908 WARN util.NativeCodeLoader: Unable to load native-hadoop library for your platform... using builtin-java classes where applicable\n"
     ]
    }
   ],
   "source": [
    "# Change the number of cores in this code block\n",
    "# by setting `spark.master` to `local[n]` where\n",
    "# n is the number of cores\n",
    "import pyspark\n",
    "from pyspark.sql import SparkSession\n",
    "from pyspark.sql.functions import *\n",
    "\n",
    "conf = pyspark.SparkConf().setAll([('spark.master', 'local[2]'),\n",
    "                                   ('spark.app.name', 'Basic Setup')])\n",
    "spark = SparkSession.builder.config(conf=conf).getOrCreate()"
   ]
  },
  {
   "cell_type": "markdown",
   "id": "6a26270f-6317-4594-a551-c7305184774a",
   "metadata": {},
   "source": [
    "## Load Data\n",
    "\n",
    "Read data from the `ratings.csv` file"
   ]
  },
  {
   "cell_type": "code",
   "execution_count": 3,
   "id": "994ea6c7-2a53-4cd8-b567-69b944f2d670",
   "metadata": {},
   "outputs": [
    {
     "name": "stdout",
     "output_type": "stream",
     "text": [
      "root\n",
      " |-- movieId: string (nullable = true)\n",
      " |-- title: string (nullable = true)\n",
      " |-- genres: string (nullable = true)\n",
      "\n"
     ]
    }
   ],
   "source": [
    "movies_df = spark.read.option(\"header\",True).csv(\"hdfs:///movies.csv\").cache()\n",
    "movies_df.printSchema()"
   ]
  },
  {
   "cell_type": "code",
   "execution_count": 4,
   "id": "a8a8b15e-3e60-4b3b-8bed-f53fda99a1d8",
   "metadata": {},
   "outputs": [
    {
     "name": "stdout",
     "output_type": "stream",
     "text": [
      "+-------+--------------------+--------------------+\n",
      "|movieId|               title|              genres|\n",
      "+-------+--------------------+--------------------+\n",
      "|      1|    Toy Story (1995)|Adventure|Animati...|\n",
      "|      2|      Jumanji (1995)|Adventure|Childre...|\n",
      "|      3|Grumpier Old Men ...|      Comedy|Romance|\n",
      "|      4|Waiting to Exhale...|Comedy|Drama|Romance|\n",
      "|      5|Father of the Bri...|              Comedy|\n",
      "|      6|         Heat (1995)|Action|Crime|Thri...|\n",
      "|      7|      Sabrina (1995)|      Comedy|Romance|\n",
      "|      8| Tom and Huck (1995)|  Adventure|Children|\n",
      "|      9| Sudden Death (1995)|              Action|\n",
      "|     10|    GoldenEye (1995)|Action|Adventure|...|\n",
      "|     11|American Presiden...|Comedy|Drama|Romance|\n",
      "|     12|Dracula: Dead and...|       Comedy|Horror|\n",
      "|     13|        Balto (1995)|Adventure|Animati...|\n",
      "|     14|        Nixon (1995)|               Drama|\n",
      "|     15|Cutthroat Island ...|Action|Adventure|...|\n",
      "|     16|       Casino (1995)|         Crime|Drama|\n",
      "|     17|Sense and Sensibi...|       Drama|Romance|\n",
      "|     18|   Four Rooms (1995)|              Comedy|\n",
      "|     19|Ace Ventura: When...|              Comedy|\n",
      "|     20|  Money Train (1995)|Action|Comedy|Cri...|\n",
      "+-------+--------------------+--------------------+\n",
      "only showing top 20 rows\n",
      "\n"
     ]
    },
    {
     "name": "stderr",
     "output_type": "stream",
     "text": [
      "                                                                                \r"
     ]
    }
   ],
   "source": [
    "movies_df.show()"
   ]
  },
  {
   "cell_type": "code",
   "execution_count": 5,
   "id": "6e7e82b3-0775-42ff-839f-13382503a9b5",
   "metadata": {},
   "outputs": [
    {
     "name": "stdout",
     "output_type": "stream",
     "text": [
      "+---------+\n",
      "|word     |\n",
      "+---------+\n",
      "|Adventure|\n",
      "|Animation|\n",
      "|Children |\n",
      "|Comedy   |\n",
      "|Fantasy  |\n",
      "+---------+\n",
      "only showing top 5 rows\n",
      "\n"
     ]
    }
   ],
   "source": [
    "genres_df = movies_df.select(split(\"genres\",\"\\|\").alias(\"genres\"))\n",
    "genres_df = genres_df.select(explode(\"genres\").alias(\"word\"))\n",
    "genres_df.show(5, truncate=False)"
   ]
  },
  {
   "cell_type": "code",
   "execution_count": 6,
   "id": "7abd9910-a94d-4eb0-a21f-d0bdbb9252c3",
   "metadata": {},
   "outputs": [
    {
     "name": "stdout",
     "output_type": "stream",
     "text": [
      "Total distinct genres: 20\n",
      "+------------------+-----+\n",
      "|word              |count|\n",
      "+------------------+-----+\n",
      "|Drama             |25606|\n",
      "|Comedy            |16870|\n",
      "|Thriller          |8654 |\n",
      "|Romance           |7719 |\n",
      "|Action            |7348 |\n",
      "|Horror            |5989 |\n",
      "|Documentary       |5605 |\n",
      "|Crime             |5319 |\n",
      "|(no genres listed)|5062 |\n",
      "|Adventure         |4145 |\n",
      "|Sci-Fi            |3595 |\n",
      "|Children          |2935 |\n",
      "|Animation         |2929 |\n",
      "|Mystery           |2925 |\n",
      "|Fantasy           |2731 |\n",
      "|War               |1874 |\n",
      "|Western           |1399 |\n",
      "|Musical           |1054 |\n",
      "|Film-Noir         |353  |\n",
      "|IMAX              |195  |\n",
      "+------------------+-----+\n",
      "\n"
     ]
    }
   ],
   "source": [
    "distinct_genres = genres_df.groupBy('word').count().sort(col(\"count\").desc())\n",
    "print(f\"Total distinct genres: {distinct_genres.count()}\")\n",
    "distinct_genres.show(25, truncate=False)"
   ]
  },
  {
   "cell_type": "code",
   "execution_count": 7,
   "id": "6e0c6b59-7911-4b46-819b-5c6326798d17",
   "metadata": {},
   "outputs": [],
   "source": [
    "spark.stop()"
   ]
  }
 ],
 "metadata": {
  "kernelspec": {
   "display_name": "Python 3 (ipykernel)",
   "language": "python",
   "name": "python3"
  },
  "language_info": {
   "codemirror_mode": {
    "name": "ipython",
    "version": 3
   },
   "file_extension": ".py",
   "mimetype": "text/x-python",
   "name": "python",
   "nbconvert_exporter": "python",
   "pygments_lexer": "ipython3",
   "version": "3.8.10"
  }
 },
 "nbformat": 4,
 "nbformat_minor": 5
}
