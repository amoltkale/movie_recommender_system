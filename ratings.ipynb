{
 "cells": [
  {
   "cell_type": "markdown",
   "id": "9240fedd-b8aa-4b81-91b7-40219d22cded",
   "metadata": {
    "tags": []
   },
   "source": [
    "# Load data"
   ]
  },
  {
   "cell_type": "code",
   "execution_count": 1,
   "id": "f8aaba45-6427-498a-a95d-0822f5eb66b1",
   "metadata": {},
   "outputs": [
    {
     "name": "stdout",
     "output_type": "stream",
     "text": [
      "copyFromLocal: `/ratings.csv': File exists\n",
      "Found 2 items\n",
      "-rw-r--r--   1 root supergroup    3038099 2022-04-28 22:17 /movies.csv\n",
      "-rw-r--r--   1 root supergroup  678260987 2022-04-28 22:22 /ratings.csv\n",
      "userId,movieId,rating,timestamp\n",
      "1,296,5.0,1147880044\n",
      "1,306,3.5,1147868817\n",
      "1,307,5.0,1147868828\n",
      "1,665,5.0,1147878820\n",
      "1,899,3.5,1147868510\n",
      "1,1088,4.0,1147868495\n",
      "1,1175,3.5,1147868826\n",
      "1,1217,3.5,1147878326\n",
      "1,1237,5.0,1147868839\n",
      "cat: Unable to write to output stream.\n"
     ]
    }
   ],
   "source": [
    "'''\n",
    "Uncomment below to copy files to local HDFS.\n",
    "Assumes that code lives in git directory and that data/ lives one level above\n",
    "'''\n",
    "# !hadoop fs -copyFromLocal ../data/ratings.csv /\n",
    "# !hadoop fs -ls /\n",
    "# !hadoop fs -cat /ratings.csv | head"
   ]
  },
  {
   "cell_type": "markdown",
   "id": "dc80353a-1954-48a3-a750-9404a40c0907",
   "metadata": {},
   "source": [
    "### 2. Start Spark Session"
   ]
  },
  {
   "cell_type": "code",
   "execution_count": 2,
   "id": "e4554393-8bbb-4f07-b44f-8b5c076a8fae",
   "metadata": {},
   "outputs": [
    {
     "name": "stderr",
     "output_type": "stream",
     "text": [
      "WARNING: An illegal reflective access operation has occurred\n",
      "WARNING: Illegal reflective access by org.apache.spark.unsafe.Platform (file:/usr/spark-3.2.1/jars/spark-unsafe_2.12-3.2.1.jar) to constructor java.nio.DirectByteBuffer(long,int)\n",
      "WARNING: Please consider reporting this to the maintainers of org.apache.spark.unsafe.Platform\n",
      "WARNING: Use --illegal-access=warn to enable warnings of further illegal reflective access operations\n",
      "WARNING: All illegal access operations will be denied in a future release\n",
      "Setting default log level to \"WARN\".\n",
      "To adjust logging level use sc.setLogLevel(newLevel). For SparkR, use setLogLevel(newLevel).\n",
      "2022-04-28 23:42:11,413 WARN util.NativeCodeLoader: Unable to load native-hadoop library for your platform... using builtin-java classes where applicable\n"
     ]
    }
   ],
   "source": [
    "# Change the number of cores in this code block\n",
    "# by setting `spark.master` to `local[n]` where\n",
    "# n is the number of cores\n",
    "import pyspark\n",
    "from pyspark.sql import SparkSession\n",
    "from pyspark.sql.functions import *\n",
    "\n",
    "import matplotlib.pyplot as plt\n",
    "\n",
    "conf = pyspark.SparkConf().setAll([('spark.master', 'local[2]'),\n",
    "                                   ('spark.app.name', 'Basic Setup')])\n",
    "spark = SparkSession.builder.config(conf=conf).getOrCreate()"
   ]
  },
  {
   "cell_type": "markdown",
   "id": "d0d49f44-8428-44d8-a824-7cb63fe27cfb",
   "metadata": {},
   "source": [
    "### 3. Load Data\n",
    "\n",
    "Read data from the `ratings.csv` file"
   ]
  },
  {
   "cell_type": "code",
   "execution_count": 3,
   "id": "a1d5584d-4d5f-4377-a75a-db4f412faf26",
   "metadata": {},
   "outputs": [
    {
     "name": "stdout",
     "output_type": "stream",
     "text": [
      "root\n",
      " |-- userId: string (nullable = true)\n",
      " |-- movieId: string (nullable = true)\n",
      " |-- rating: string (nullable = true)\n",
      " |-- timestamp: string (nullable = true)\n",
      "\n"
     ]
    }
   ],
   "source": [
    "ratings_df = spark.read.option(\"header\",True).csv(\"hdfs:///ratings.csv\").cache()\n",
    "ratings_df.printSchema()"
   ]
  },
  {
   "cell_type": "code",
   "execution_count": 4,
   "id": "c1f56c70-33a3-4ce3-b107-22a4727c0c49",
   "metadata": {},
   "outputs": [
    {
     "name": "stderr",
     "output_type": "stream",
     "text": [
      "[Stage 1:>                                                          (0 + 1) / 1]\r"
     ]
    },
    {
     "name": "stdout",
     "output_type": "stream",
     "text": [
      "+------+-------+------+----------+\n",
      "|userId|movieId|rating| timestamp|\n",
      "+------+-------+------+----------+\n",
      "|     1|    296|   5.0|1147880044|\n",
      "|     1|    306|   3.5|1147868817|\n",
      "|     1|    307|   5.0|1147868828|\n",
      "|     1|    665|   5.0|1147878820|\n",
      "|     1|    899|   3.5|1147868510|\n",
      "|     1|   1088|   4.0|1147868495|\n",
      "|     1|   1175|   3.5|1147868826|\n",
      "|     1|   1217|   3.5|1147878326|\n",
      "|     1|   1237|   5.0|1147868839|\n",
      "|     1|   1250|   4.0|1147868414|\n",
      "|     1|   1260|   3.5|1147877857|\n",
      "|     1|   1653|   4.0|1147868097|\n",
      "|     1|   2011|   2.5|1147868079|\n",
      "|     1|   2012|   2.5|1147868068|\n",
      "|     1|   2068|   2.5|1147869044|\n",
      "|     1|   2161|   3.5|1147868609|\n",
      "|     1|   2351|   4.5|1147877957|\n",
      "|     1|   2573|   4.0|1147878923|\n",
      "|     1|   2632|   5.0|1147878248|\n",
      "|     1|   2692|   5.0|1147869100|\n",
      "+------+-------+------+----------+\n",
      "only showing top 20 rows\n",
      "\n"
     ]
    },
    {
     "name": "stderr",
     "output_type": "stream",
     "text": [
      "                                                                                \r"
     ]
    }
   ],
   "source": [
    "ratings_df.show()"
   ]
  },
  {
   "cell_type": "code",
   "execution_count": 5,
   "id": "976e1f38-1039-4363-ad69-0779753ce3ba",
   "metadata": {},
   "outputs": [
    {
     "name": "stderr",
     "output_type": "stream",
     "text": [
      "2022-04-28 23:43:01,320 WARN memory.MemoryStore: Not enough space to cache rdd_13_3 in memory! (computed 54.6 MiB so far)\n",
      "2022-04-28 23:43:01,327 WARN storage.BlockManager: Persisting block rdd_13_3 to disk instead.\n",
      "2022-04-28 23:43:07,290 WARN memory.MemoryStore: Not enough space to cache rdd_13_3 in memory! (computed 6.6 MiB so far)\n",
      "[Stage 2:=================================================>         (5 + 1) / 6]\r"
     ]
    },
    {
     "name": "stdout",
     "output_type": "stream",
     "text": [
      "+------+-----+\n",
      "|userID|count|\n",
      "+------+-----+\n",
      "| 72315|32202|\n",
      "| 80974| 9178|\n",
      "|137293| 8913|\n",
      "| 33844| 7919|\n",
      "| 20055| 7488|\n",
      "|109731| 6647|\n",
      "| 92046| 6564|\n",
      "| 49403| 6553|\n",
      "| 30879| 5693|\n",
      "|115102| 5649|\n",
      "|110971| 5633|\n",
      "| 75309| 5525|\n",
      "| 78849| 5276|\n",
      "| 61010| 5244|\n",
      "| 29803| 5219|\n",
      "|122011| 5160|\n",
      "| 57548| 5066|\n",
      "| 93855| 5045|\n",
      "|103611| 4861|\n",
      "| 34987| 4831|\n",
      "+------+-----+\n",
      "only showing top 20 rows\n",
      "\n"
     ]
    },
    {
     "name": "stderr",
     "output_type": "stream",
     "text": [
      "                                                                                \r"
     ]
    }
   ],
   "source": [
    "ratings_df.groupBy('userID').count().sort(col(\"count\").desc()).show()"
   ]
  },
  {
   "cell_type": "code",
   "execution_count": 6,
   "id": "4ee1c372-eee4-4e9d-bb4f-4a444bf820ee",
   "metadata": {},
   "outputs": [
    {
     "name": "stderr",
     "output_type": "stream",
     "text": [
      "2022-04-28 23:43:11,399 WARN memory.MemoryStore: Not enough space to cache rdd_13_3 in memory! (computed 22.6 MiB so far)\n",
      "2022-04-28 23:43:12,216 WARN memory.MemoryStore: Not enough space to cache rdd_13_4 in memory! (computed 83.6 MiB so far)\n",
      "[Stage 5:=================================================>         (5 + 1) / 6]\r"
     ]
    },
    {
     "name": "stdout",
     "output_type": "stream",
     "text": [
      "+-------+------------------+------------------+\n",
      "|summary|            userID|             count|\n",
      "+-------+------------------+------------------+\n",
      "|  count|            162541|            162541|\n",
      "|   mean|           81271.0|153.80793153727367|\n",
      "| stddev|46921.689389521205|    268.0475900845|\n",
      "|    min|                 1|                20|\n",
      "|    max|             99999|             32202|\n",
      "+-------+------------------+------------------+\n",
      "\n"
     ]
    },
    {
     "name": "stderr",
     "output_type": "stream",
     "text": [
      "                                                                                \r"
     ]
    }
   ],
   "source": [
    "ratings_df.groupBy('userID').count().describe().show()"
   ]
  },
  {
   "cell_type": "code",
   "execution_count": 7,
   "id": "8c90f44b-c843-4e8f-a269-51e5536ab076",
   "metadata": {},
   "outputs": [
    {
     "name": "stderr",
     "output_type": "stream",
     "text": [
      "2022-04-28 23:43:15,090 WARN memory.MemoryStore: Not enough space to cache rdd_13_3 in memory! (computed 83.9 MiB so far)\n",
      "2022-04-28 23:43:15,919 WARN memory.MemoryStore: Not enough space to cache rdd_13_4 in memory! (computed 83.6 MiB so far)\n",
      "                                                                                \r"
     ]
    },
    {
     "data": {
      "text/plain": [
       "[39.0]"
      ]
     },
     "execution_count": 7,
     "metadata": {},
     "output_type": "execute_result"
    }
   ],
   "source": [
    "# Find median ratings for users\n",
    "ratings_df.groupBy('userID').count().sort(col(\"count\").desc()).approxQuantile(\"count\", [0.5], 0.25)"
   ]
  },
  {
   "cell_type": "code",
   "execution_count": null,
   "id": "85a1d013-5ec1-4b34-9c1f-e58447985f96",
   "metadata": {},
   "outputs": [],
   "source": []
  },
  {
   "cell_type": "code",
   "execution_count": 8,
   "id": "cd6ad8d9-762c-4393-8f9d-915bc2195c9e",
   "metadata": {},
   "outputs": [
    {
     "name": "stderr",
     "output_type": "stream",
     "text": [
      "2022-04-28 23:43:19,717 WARN memory.MemoryStore: Not enough space to cache rdd_13_3 in memory! (computed 83.9 MiB so far)\n",
      "2022-04-28 23:43:20,238 WARN memory.MemoryStore: Not enough space to cache rdd_13_4 in memory! (computed 35.4 MiB so far)\n",
      "                                                                                \r"
     ]
    }
   ],
   "source": [
    "r = ratings_df.groupBy('rating').count().sort(col(\"rating\").asc())\n",
    "r = r.toPandas()"
   ]
  },
  {
   "cell_type": "code",
   "execution_count": 9,
   "id": "f587645a-8d58-48f5-8e66-71cc615e684e",
   "metadata": {},
   "outputs": [
    {
     "data": {
      "text/html": [
       "<div>\n",
       "<style scoped>\n",
       "    .dataframe tbody tr th:only-of-type {\n",
       "        vertical-align: middle;\n",
       "    }\n",
       "\n",
       "    .dataframe tbody tr th {\n",
       "        vertical-align: top;\n",
       "    }\n",
       "\n",
       "    .dataframe thead th {\n",
       "        text-align: right;\n",
       "    }\n",
       "</style>\n",
       "<table border=\"1\" class=\"dataframe\">\n",
       "  <thead>\n",
       "    <tr style=\"text-align: right;\">\n",
       "      <th></th>\n",
       "      <th>rating</th>\n",
       "      <th>count</th>\n",
       "    </tr>\n",
       "  </thead>\n",
       "  <tbody>\n",
       "    <tr>\n",
       "      <th>0</th>\n",
       "      <td>0.5</td>\n",
       "      <td>393068</td>\n",
       "    </tr>\n",
       "    <tr>\n",
       "      <th>1</th>\n",
       "      <td>1.0</td>\n",
       "      <td>776815</td>\n",
       "    </tr>\n",
       "    <tr>\n",
       "      <th>2</th>\n",
       "      <td>1.5</td>\n",
       "      <td>399490</td>\n",
       "    </tr>\n",
       "    <tr>\n",
       "      <th>3</th>\n",
       "      <td>2.0</td>\n",
       "      <td>1640868</td>\n",
       "    </tr>\n",
       "    <tr>\n",
       "      <th>4</th>\n",
       "      <td>2.5</td>\n",
       "      <td>1262797</td>\n",
       "    </tr>\n",
       "    <tr>\n",
       "      <th>5</th>\n",
       "      <td>3.0</td>\n",
       "      <td>4896928</td>\n",
       "    </tr>\n",
       "    <tr>\n",
       "      <th>6</th>\n",
       "      <td>3.5</td>\n",
       "      <td>3177318</td>\n",
       "    </tr>\n",
       "    <tr>\n",
       "      <th>7</th>\n",
       "      <td>4.0</td>\n",
       "      <td>6639798</td>\n",
       "    </tr>\n",
       "    <tr>\n",
       "      <th>8</th>\n",
       "      <td>4.5</td>\n",
       "      <td>2200539</td>\n",
       "    </tr>\n",
       "    <tr>\n",
       "      <th>9</th>\n",
       "      <td>5.0</td>\n",
       "      <td>3612474</td>\n",
       "    </tr>\n",
       "  </tbody>\n",
       "</table>\n",
       "</div>"
      ],
      "text/plain": [
       "  rating    count\n",
       "0    0.5   393068\n",
       "1    1.0   776815\n",
       "2    1.5   399490\n",
       "3    2.0  1640868\n",
       "4    2.5  1262797\n",
       "5    3.0  4896928\n",
       "6    3.5  3177318\n",
       "7    4.0  6639798\n",
       "8    4.5  2200539\n",
       "9    5.0  3612474"
      ]
     },
     "execution_count": 9,
     "metadata": {},
     "output_type": "execute_result"
    }
   ],
   "source": [
    "r"
   ]
  },
  {
   "cell_type": "code",
   "execution_count": 10,
   "id": "53b2ce04-d640-42d8-a93c-bc9563114e8e",
   "metadata": {},
   "outputs": [
    {
     "data": {
      "image/png": "[encoded data removed]",
      "text/plain": [
       "<Figure size 720x720 with 1 Axes>"
      ]
     },
     "metadata": {
      "needs_background": "light"
     },
     "output_type": "display_data"
    }
   ],
   "source": [
    "font = {'family' : 'DejaVu Sans',\n",
    "        'weight' : 'bold',\n",
    "        'size'   : 22}\n",
    "\n",
    "plt.rc('font', **font)\n",
    "\n",
    "plt.figure(figsize=(10,10))\n",
    "plt.bar(r[\"rating\"], r[\"count\"],width=1,edgecolor='k')\n",
    "plt.title(\"Rating Distribution\")\n",
    "plt.ylabel(\"Count (Million)\")\n",
    "plt.xlabel(\"Rating\")\n",
    "ax = plt.gca()\n",
    "plt.savefig('../data/rating_dist.png')"
   ]
  },
  {
   "cell_type": "code",
   "execution_count": 11,
   "id": "6e0c6b59-7911-4b46-819b-5c6326798d17",
   "metadata": {},
   "outputs": [],
   "source": [
    "spark.stop()"
   ]
  },
  {
   "cell_type": "code",
   "execution_count": null,
   "id": "df309549-248c-4c83-99a8-0e057dd85333",
   "metadata": {},
   "outputs": [],
   "source": []
  }
 ],
 "metadata": {
  "kernelspec": {
   "display_name": "Python 3 (ipykernel)",
   "language": "python",
   "name": "python3"
  },
  "language_info": {
   "codemirror_mode": {
    "name": "ipython",
    "version": 3
   },
   "file_extension": ".py",
   "mimetype": "text/x-python",
   "name": "python",
   "nbconvert_exporter": "python",
   "pygments_lexer": "ipython3",
   "version": "3.8.10"
  }
 },
 "nbformat": 4,
 "nbformat_minor": 5
}
