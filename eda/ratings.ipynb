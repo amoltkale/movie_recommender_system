{
 "cells": [
  {
   "cell_type": "markdown",
   "id": "9240fedd-b8aa-4b81-91b7-40219d22cded",
   "metadata": {
    "tags": []
   },
   "source": [
    "# Load data"
   ]
  },
  {
   "cell_type": "markdown",
   "id": "dc80353a-1954-48a3-a750-9404a40c0907",
   "metadata": {},
   "source": [
    "## Start Spark Session"
   ]
  },
  {
   "cell_type": "code",
   "execution_count": 1,
   "id": "e4554393-8bbb-4f07-b44f-8b5c076a8fae",
   "metadata": {},
   "outputs": [
    {
     "name": "stderr",
     "output_type": "stream",
     "text": [
      "WARNING: An illegal reflective access operation has occurred\n",
      "WARNING: Illegal reflective access by org.apache.spark.unsafe.Platform (file:/usr/spark-3.2.1/jars/spark-unsafe_2.12-3.2.1.jar) to constructor java.nio.DirectByteBuffer(long,int)\n",
      "WARNING: Please consider reporting this to the maintainers of org.apache.spark.unsafe.Platform\n",
      "WARNING: Use --illegal-access=warn to enable warnings of further illegal reflective access operations\n",
      "WARNING: All illegal access operations will be denied in a future release\n",
      "Setting default log level to \"WARN\".\n",
      "To adjust logging level use sc.setLogLevel(newLevel). For SparkR, use setLogLevel(newLevel).\n",
      "2022-05-30 22:55:01,811 WARN util.NativeCodeLoader: Unable to load native-hadoop library for your platform... using builtin-java classes where applicable\n"
     ]
    }
   ],
   "source": [
    "# Change the number of cores in this code block\n",
    "# by setting `spark.master` to `local[n]` where\n",
    "# n is the number of cores\n",
    "import pyspark\n",
    "from pyspark.sql import SparkSession\n",
    "from pyspark.sql.functions import *\n",
    "\n",
    "import matplotlib.pyplot as plt\n",
    "\n",
    "conf = pyspark.SparkConf().setAll([('spark.master', 'local[2]'),\n",
    "                                   ('spark.app.name', 'Basic Setup')])\n",
    "spark = SparkSession.builder.config(conf=conf).getOrCreate()"
   ]
  },
  {
   "cell_type": "code",
   "execution_count": 2,
   "id": "1e57d076-f854-4d80-97fc-866f0dd159cc",
   "metadata": {},
   "outputs": [],
   "source": [
    "# params\n",
    "load_cleaned = False"
   ]
  },
  {
   "cell_type": "markdown",
   "id": "d0d49f44-8428-44d8-a824-7cb63fe27cfb",
   "metadata": {},
   "source": [
    "## Load Data\n",
    "\n",
    "Read data from the `ratings.csv` file"
   ]
  },
  {
   "cell_type": "code",
   "execution_count": 3,
   "id": "21de2a83-fcd2-40e8-b53e-ffe9f81147f7",
   "metadata": {},
   "outputs": [],
   "source": [
    "if load_cleaned:\n",
    "    r_path    = 'file:///home/work/data/cleaned_ratings'\n",
    "    dist_path = '../../data/cleaned_rating_dist.png'\n",
    "    prop_path = '../../data/cleaned_rating_prop.png'\n",
    "else:\n",
    "    r_path    = 'file:///home/work/data/ratings.csv'\n",
    "    dist_path = '../../data/rating_count.png'\n",
    "    prop_path = '../../data/rating_prop.png'"
   ]
  },
  {
   "cell_type": "code",
   "execution_count": 4,
   "id": "a1d5584d-4d5f-4377-a75a-db4f412faf26",
   "metadata": {},
   "outputs": [
    {
     "name": "stdout",
     "output_type": "stream",
     "text": [
      "root\n",
      " |-- userId: string (nullable = true)\n",
      " |-- movieId: string (nullable = true)\n",
      " |-- rating: string (nullable = true)\n",
      " |-- timestamp: string (nullable = true)\n",
      "\n"
     ]
    }
   ],
   "source": [
    "ratings_df = spark.read.option(\"header\",True).csv(r_path).cache()\n",
    "ratings_df.printSchema()"
   ]
  },
  {
   "cell_type": "code",
   "execution_count": 5,
   "id": "c1f56c70-33a3-4ce3-b107-22a4727c0c49",
   "metadata": {},
   "outputs": [
    {
     "name": "stderr",
     "output_type": "stream",
     "text": [
      "[Stage 1:>                                                          (0 + 1) / 1]\r"
     ]
    },
    {
     "name": "stdout",
     "output_type": "stream",
     "text": [
      "+------+-------+------+----------+\n",
      "|userId|movieId|rating| timestamp|\n",
      "+------+-------+------+----------+\n",
      "|     1|    296|   5.0|1147880044|\n",
      "|     1|    306|   3.5|1147868817|\n",
      "|     1|    307|   5.0|1147868828|\n",
      "|     1|    665|   5.0|1147878820|\n",
      "|     1|    899|   3.5|1147868510|\n",
      "|     1|   1088|   4.0|1147868495|\n",
      "|     1|   1175|   3.5|1147868826|\n",
      "|     1|   1217|   3.5|1147878326|\n",
      "|     1|   1237|   5.0|1147868839|\n",
      "|     1|   1250|   4.0|1147868414|\n",
      "|     1|   1260|   3.5|1147877857|\n",
      "|     1|   1653|   4.0|1147868097|\n",
      "|     1|   2011|   2.5|1147868079|\n",
      "|     1|   2012|   2.5|1147868068|\n",
      "|     1|   2068|   2.5|1147869044|\n",
      "|     1|   2161|   3.5|1147868609|\n",
      "|     1|   2351|   4.5|1147877957|\n",
      "|     1|   2573|   4.0|1147878923|\n",
      "|     1|   2632|   5.0|1147878248|\n",
      "|     1|   2692|   5.0|1147869100|\n",
      "+------+-------+------+----------+\n",
      "only showing top 20 rows\n",
      "\n"
     ]
    },
    {
     "name": "stderr",
     "output_type": "stream",
     "text": [
      "                                                                                \r"
     ]
    }
   ],
   "source": [
    "ratings_df.show()"
   ]
  },
  {
   "cell_type": "markdown",
   "id": "c5835cde-32bf-4a77-a705-8558ab3c6e44",
   "metadata": {},
   "source": [
    "## Look at the data"
   ]
  },
  {
   "cell_type": "code",
   "execution_count": 6,
   "id": "20d22b8a-36e5-45e1-9e7a-970431c7c08a",
   "metadata": {},
   "outputs": [
    {
     "name": "stderr",
     "output_type": "stream",
     "text": [
      "2022-05-30 22:55:48,222 WARN memory.MemoryStore: Not enough space to cache rdd_13_3 in memory! (computed 83.9 MiB so far)\n",
      "2022-05-30 22:55:48,226 WARN storage.BlockManager: Persisting block rdd_13_3 to disk instead.\n",
      "2022-05-30 22:55:50,094 WARN memory.MemoryStore: Not enough space to cache rdd_13_3 in memory! (computed 54.6 MiB so far)\n",
      "2022-05-30 22:55:52,790 WARN memory.MemoryStore: Not enough space to cache rdd_13_4 in memory! (computed 54.6 MiB so far)\n",
      "2022-05-30 22:55:52,790 WARN storage.BlockManager: Persisting block rdd_13_4 to disk instead.\n",
      "                                                                                \r"
     ]
    },
    {
     "data": {
      "text/html": [
       "<div>\n",
       "<style scoped>\n",
       "    .dataframe tbody tr th:only-of-type {\n",
       "        vertical-align: middle;\n",
       "    }\n",
       "\n",
       "    .dataframe tbody tr th {\n",
       "        vertical-align: top;\n",
       "    }\n",
       "\n",
       "    .dataframe thead th {\n",
       "        text-align: right;\n",
       "    }\n",
       "</style>\n",
       "<table border=\"1\" class=\"dataframe\">\n",
       "  <thead>\n",
       "    <tr style=\"text-align: right;\">\n",
       "      <th></th>\n",
       "      <th>summary</th>\n",
       "      <th>userId</th>\n",
       "      <th>movieId</th>\n",
       "      <th>rating</th>\n",
       "      <th>timestamp</th>\n",
       "    </tr>\n",
       "  </thead>\n",
       "  <tbody>\n",
       "    <tr>\n",
       "      <th>0</th>\n",
       "      <td>count</td>\n",
       "      <td>25000095</td>\n",
       "      <td>25000095</td>\n",
       "      <td>25000095</td>\n",
       "      <td>25000095</td>\n",
       "    </tr>\n",
       "    <tr>\n",
       "      <th>1</th>\n",
       "      <td>mean</td>\n",
       "      <td>81189.28115381162</td>\n",
       "      <td>21387.981943268616</td>\n",
       "      <td>3.533854451353085</td>\n",
       "      <td>1.2156014431215513E9</td>\n",
       "    </tr>\n",
       "    <tr>\n",
       "      <th>2</th>\n",
       "      <td>stddev</td>\n",
       "      <td>46791.71589745776</td>\n",
       "      <td>39198.86210105973</td>\n",
       "      <td>1.0607439611423535</td>\n",
       "      <td>2.268758080595386E8</td>\n",
       "    </tr>\n",
       "    <tr>\n",
       "      <th>3</th>\n",
       "      <td>min</td>\n",
       "      <td>1</td>\n",
       "      <td>1</td>\n",
       "      <td>0.5</td>\n",
       "      <td>1000000065</td>\n",
       "    </tr>\n",
       "    <tr>\n",
       "      <th>4</th>\n",
       "      <td>max</td>\n",
       "      <td>99999</td>\n",
       "      <td>99999</td>\n",
       "      <td>5.0</td>\n",
       "      <td>999999978</td>\n",
       "    </tr>\n",
       "  </tbody>\n",
       "</table>\n",
       "</div>"
      ],
      "text/plain": [
       "  summary             userId             movieId              rating  \\\n",
       "0   count           25000095            25000095            25000095   \n",
       "1    mean  81189.28115381162  21387.981943268616   3.533854451353085   \n",
       "2  stddev  46791.71589745776   39198.86210105973  1.0607439611423535   \n",
       "3     min                  1                   1                 0.5   \n",
       "4     max              99999               99999                 5.0   \n",
       "\n",
       "              timestamp  \n",
       "0              25000095  \n",
       "1  1.2156014431215513E9  \n",
       "2   2.268758080595386E8  \n",
       "3            1000000065  \n",
       "4             999999978  "
      ]
     },
     "execution_count": 6,
     "metadata": {},
     "output_type": "execute_result"
    }
   ],
   "source": [
    "ratings_df.describe().toPandas()"
   ]
  },
  {
   "cell_type": "code",
   "execution_count": 7,
   "id": "976e1f38-1039-4363-ad69-0779753ce3ba",
   "metadata": {},
   "outputs": [
    {
     "name": "stderr",
     "output_type": "stream",
     "text": [
      "2022-05-30 22:56:05,218 WARN memory.MemoryStore: Not enough space to cache rdd_13_3 in memory! (computed 22.6 MiB so far)\n",
      "2022-05-30 22:56:05,865 WARN memory.MemoryStore: Not enough space to cache rdd_13_4 in memory! (computed 83.6 MiB so far)\n",
      "[Stage 5:=================================================>         (5 + 1) / 6]\r"
     ]
    },
    {
     "name": "stdout",
     "output_type": "stream",
     "text": [
      "+------+-----+\n",
      "|userID|count|\n",
      "+------+-----+\n",
      "| 72315|32202|\n",
      "| 80974| 9178|\n",
      "|137293| 8913|\n",
      "| 33844| 7919|\n",
      "| 20055| 7488|\n",
      "|109731| 6647|\n",
      "| 92046| 6564|\n",
      "| 49403| 6553|\n",
      "| 30879| 5693|\n",
      "|115102| 5649|\n",
      "|110971| 5633|\n",
      "| 75309| 5525|\n",
      "| 78849| 5276|\n",
      "| 61010| 5244|\n",
      "| 29803| 5219|\n",
      "|122011| 5160|\n",
      "| 57548| 5066|\n",
      "| 93855| 5045|\n",
      "|103611| 4861|\n",
      "| 34987| 4831|\n",
      "+------+-----+\n",
      "only showing top 20 rows\n",
      "\n"
     ]
    },
    {
     "name": "stderr",
     "output_type": "stream",
     "text": [
      "                                                                                \r"
     ]
    }
   ],
   "source": [
    "ratings_df.groupBy('userID').count().sort(col(\"count\").desc()).show()"
   ]
  },
  {
   "cell_type": "code",
   "execution_count": 8,
   "id": "4ee1c372-eee4-4e9d-bb4f-4a444bf820ee",
   "metadata": {},
   "outputs": [
    {
     "name": "stderr",
     "output_type": "stream",
     "text": [
      "2022-05-30 22:56:07,604 WARN memory.MemoryStore: Not enough space to cache rdd_13_3 in memory! (computed 83.9 MiB so far)\n",
      "2022-05-30 22:56:08,036 WARN memory.MemoryStore: Not enough space to cache rdd_13_4 in memory! (computed 22.7 MiB so far)\n",
      "[Stage 8:=================================================>         (5 + 1) / 6]\r"
     ]
    },
    {
     "name": "stdout",
     "output_type": "stream",
     "text": [
      "+-------+------------------+------------------+\n",
      "|summary|            userID|             count|\n",
      "+-------+------------------+------------------+\n",
      "|  count|            162541|            162541|\n",
      "|   mean|           81271.0|153.80793153727367|\n",
      "| stddev|46921.689389521205|    268.0475900845|\n",
      "|    min|                 1|                20|\n",
      "|    max|             99999|             32202|\n",
      "+-------+------------------+------------------+\n",
      "\n"
     ]
    },
    {
     "name": "stderr",
     "output_type": "stream",
     "text": [
      "                                                                                \r"
     ]
    }
   ],
   "source": [
    "ratings_df.groupBy('userID').count().describe().show()"
   ]
  },
  {
   "cell_type": "code",
   "execution_count": 9,
   "id": "8c90f44b-c843-4e8f-a269-51e5536ab076",
   "metadata": {},
   "outputs": [
    {
     "name": "stderr",
     "output_type": "stream",
     "text": [
      "2022-05-30 22:56:10,000 WARN memory.MemoryStore: Not enough space to cache rdd_13_3 in memory! (computed 83.9 MiB so far)\n",
      "2022-05-30 22:56:10,456 WARN memory.MemoryStore: Not enough space to cache rdd_13_4 in memory! (computed 22.7 MiB so far)\n",
      "                                                                                \r"
     ]
    },
    {
     "name": "stdout",
     "output_type": "stream",
     "text": [
      "Median ratings by user: [39.0]\n"
     ]
    }
   ],
   "source": [
    "# Find median ratings for users\n",
    "median = ratings_df.groupBy('userID').count().sort(col(\"count\").desc()).approxQuantile(\"count\", [0.5], 0.25)\n",
    "print(f\"Median ratings by user: {median}\")"
   ]
  },
  {
   "cell_type": "code",
   "execution_count": 10,
   "id": "cd6ad8d9-762c-4393-8f9d-915bc2195c9e",
   "metadata": {},
   "outputs": [
    {
     "name": "stderr",
     "output_type": "stream",
     "text": [
      "2022-05-30 22:56:12,950 WARN memory.MemoryStore: Not enough space to cache rdd_13_3 in memory! (computed 83.9 MiB so far)\n",
      "2022-05-30 22:56:13,377 WARN memory.MemoryStore: Not enough space to cache rdd_13_4 in memory! (computed 35.4 MiB so far)\n",
      "                                                                                \r"
     ]
    }
   ],
   "source": [
    "r = ratings_df.groupBy('rating').count().sort(col(\"rating\").asc())\n",
    "r = r.toPandas()\n",
    "r[\"prop\"] = (r[\"count\"] / r[\"count\"].sum()) * 100"
   ]
  },
  {
   "cell_type": "markdown",
   "id": "6cdd0550-2e08-4847-b2cb-ced9379cc954",
   "metadata": {},
   "source": [
    "## Plot the data"
   ]
  },
  {
   "cell_type": "code",
   "execution_count": 11,
   "id": "53b2ce04-d640-42d8-a93c-bc9563114e8e",
   "metadata": {},
   "outputs": [
    {
     "data": {
      "image/png": "[encoded data removed]",
      "text/plain": [
       "<Figure size 720x720 with 1 Axes>"
      ]
     },
     "metadata": {
      "needs_background": "light"
     },
     "output_type": "display_data"
    }
   ],
   "source": [
    "font = {'family' : 'DejaVu Sans',\n",
    "        'weight' : 'bold',\n",
    "        'size'   : 22}\n",
    "\n",
    "plt.rc('font', **font)\n",
    "\n",
    "plt.figure(figsize=(10,10))\n",
    "plt.bar(r[\"rating\"], r[\"count\"],width=1,edgecolor='k')\n",
    "plt.title(\"Rating Distribution\")\n",
    "plt.ylabel(\"Count (Million)\")\n",
    "plt.xlabel(\"Rating\")\n",
    "ax = plt.gca()\n",
    "plt.savefig(dist_path)"
   ]
  },
  {
   "cell_type": "code",
   "execution_count": 12,
   "id": "72b930bb-b998-4447-8d3a-7a5844cc8ee4",
   "metadata": {},
   "outputs": [
    {
     "data": {
      "image/png": "[encoded data removed]",
      "text/plain": [
       "<Figure size 720x720 with 1 Axes>"
      ]
     },
     "metadata": {
      "needs_background": "light"
     },
     "output_type": "display_data"
    }
   ],
   "source": [
    "font = {'family' : 'DejaVu Sans',\n",
    "        'weight' : 'bold',\n",
    "        'size'   : 22}\n",
    "\n",
    "plt.rc('font', **font)\n",
    "\n",
    "plt.figure(figsize=(10,10))\n",
    "plt.bar(r[\"rating\"], r[\"prop\"],width=1,edgecolor='k')\n",
    "plt.title(\"Rating Distribution\")\n",
    "plt.ylabel(\"Proportion (%)\")\n",
    "plt.xlabel(\"Rating\")\n",
    "ax = plt.gca()\n",
    "plt.savefig(prop_path)"
   ]
  },
  {
   "cell_type": "code",
   "execution_count": 13,
   "id": "6e0c6b59-7911-4b46-819b-5c6326798d17",
   "metadata": {},
   "outputs": [],
   "source": [
    "spark.stop()"
   ]
  },
  {
   "cell_type": "code",
   "execution_count": null,
   "id": "df309549-248c-4c83-99a8-0e057dd85333",
   "metadata": {},
   "outputs": [],
   "source": []
  }
 ],
 "metadata": {
  "kernelspec": {
   "display_name": "Python 3 (ipykernel)",
   "language": "python",
   "name": "python3"
  },
  "language_info": {
   "codemirror_mode": {
    "name": "ipython",
    "version": 3
   },
   "file_extension": ".py",
   "mimetype": "text/x-python",
   "name": "python",
   "nbconvert_exporter": "python",
   "pygments_lexer": "ipython3",
   "version": "3.8.10"
  }
 },
 "nbformat": 4,
 "nbformat_minor": 5
}
