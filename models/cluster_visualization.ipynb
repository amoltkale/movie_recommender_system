{
 "cells": [
  {
   "cell_type": "code",
   "execution_count": 1,
   "id": "b0925be8-32b2-402c-b626-11f5818bfc22",
   "metadata": {},
   "outputs": [],
   "source": [
    "import time\n",
    "\n",
    "import numpy as np\n",
    "import pandas as pd\n",
    "import matplotlib.pyplot as plt\n",
    "\n",
    "import pyspark\n",
    "\n",
    "from pyspark.sql import SparkSession\n",
    "from pyspark.sql.functions import *\n",
    "\n",
    "from pyspark.ml.feature import VectorAssembler\n",
    "\n",
    "from pyspark.ml.tuning import TrainValidationSplit, ParamGridBuilder\n",
    "from pyspark.ml.tuning import TrainValidationSplitModel\n",
    "\n",
    "from pyspark.ml.clustering import KMeans, KMeansSummary\n",
    "\n",
    "from pyspark.ml.evaluation import ClusteringEvaluator"
   ]
  },
  {
   "cell_type": "code",
   "execution_count": 2,
   "id": "e062cb22-cdec-4aee-b7ac-aaec6778df51",
   "metadata": {},
   "outputs": [],
   "source": [
    "#env variables\n",
    "model_path = \"file:///home/work/data/kmeans_movies_model\"\n",
    "model_clusters = 140"
   ]
  },
  {
   "cell_type": "code",
   "execution_count": 3,
   "id": "1bb37095-536b-4f07-9caf-79c5e4c2d0ed",
   "metadata": {
    "tags": []
   },
   "outputs": [
    {
     "name": "stderr",
     "output_type": "stream",
     "text": [
      "WARNING: An illegal reflective access operation has occurred\n",
      "WARNING: Illegal reflective access by org.apache.spark.unsafe.Platform (file:/usr/spark-3.2.1/jars/spark-unsafe_2.12-3.2.1.jar) to constructor java.nio.DirectByteBuffer(long,int)\n",
      "WARNING: Please consider reporting this to the maintainers of org.apache.spark.unsafe.Platform\n",
      "WARNING: Use --illegal-access=warn to enable warnings of further illegal reflective access operations\n",
      "WARNING: All illegal access operations will be denied in a future release\n",
      "Setting default log level to \"WARN\".\n",
      "To adjust logging level use sc.setLogLevel(newLevel). For SparkR, use setLogLevel(newLevel).\n",
      "2022-05-30 01:45:27,938 WARN util.NativeCodeLoader: Unable to load native-hadoop library for your platform... using builtin-java classes where applicable\n"
     ]
    }
   ],
   "source": [
    "# Change the number of cores in this code block\n",
    "# by setting `spark.master` to `local[n]` where\n",
    "# n is the number of cores\n",
    "\n",
    "conf = pyspark.SparkConf().setAll([('spark.master', 'local[4]'),\n",
    "                                   ('spark.app.name', 'KMEANS Clustering')])\n",
    "spark = SparkSession.builder.config(conf=conf).getOrCreate()"
   ]
  },
  {
   "cell_type": "markdown",
   "id": "2f428711-81e9-4f3b-86bb-f810cc5f7596",
   "metadata": {},
   "source": [
    "## Read in data"
   ]
  },
  {
   "cell_type": "code",
   "execution_count": 4,
   "id": "3f782b99-e43d-440a-9cde-a30222d597a3",
   "metadata": {},
   "outputs": [],
   "source": [
    "train_df = spark.read.option(\"header\",True).csv(\"file:///home/work/data/kmeans_movies_train/\", inferSchema=True)\n",
    "test_df = spark.read.option(\"header\",True).csv(\"file:///home/work/data/kmeans_movies_test/\", inferSchema=True)"
   ]
  },
  {
   "cell_type": "code",
   "execution_count": 5,
   "id": "2d301671-36c5-4f7d-971d-7eb8bf1aa45e",
   "metadata": {},
   "outputs": [],
   "source": [
    "col_names = train_df.columns\n",
    "exc_cols = ['movieId', 'title', 'genres', 'movieYear']\n",
    "feat_cols = sorted(list(set(col_names).difference(set(exc_cols))))"
   ]
  },
  {
   "cell_type": "code",
   "execution_count": 6,
   "id": "b0be9b78-4731-4725-91b3-3d32a8f80a1e",
   "metadata": {},
   "outputs": [],
   "source": [
    "assembler = VectorAssembler(inputCols=feat_cols, outputCol='features', handleInvalid='skip')\n",
    "train = assembler.transform(train_df)\n",
    "test = assembler.transform(test_df)"
   ]
  },
  {
   "cell_type": "code",
   "execution_count": 7,
   "id": "b26c3a6c-1b05-44af-b54a-561ea5af201d",
   "metadata": {},
   "outputs": [
    {
     "name": "stderr",
     "output_type": "stream",
     "text": [
      "2022-05-30 01:45:40,337 WARN util.package: Truncated the string representation of a plan since it was too large. This behavior can be adjusted by setting 'spark.sql.debug.maxToStringFields'.\n",
      "[Stage 21:>                                                         (0 + 1) / 1]\r"
     ]
    },
    {
     "name": "stdout",
     "output_type": "stream",
     "text": [
      "Train score: 0.6355963350995041 Test score: 0.5725490613357676\n"
     ]
    },
    {
     "name": "stderr",
     "output_type": "stream",
     "text": [
      "                                                                                \r"
     ]
    }
   ],
   "source": [
    "tvsModel = TrainValidationSplitModel.read().load(model_path)\n",
    "cluster_list = list(range(10,1501,10))\n",
    "evaluator = ClusteringEvaluator(predictionCol='prediction',\n",
    "                          featuresCol='features',\n",
    "                          metricName='silhouette',\n",
    "                          distanceMeasure='cosine')\n",
    "\n",
    "train_score = evaluator.evaluate(tvsModel.transform(train))\n",
    "test_score = evaluator.evaluate(tvsModel.transform(test))\n",
    "print(f\"Train score: {train_score} Test score: {test_score}\")"
   ]
  },
  {
   "cell_type": "markdown",
   "id": "cb4a04b9-dee1-4bdc-9f55-1d4f4f9928ad",
   "metadata": {},
   "source": [
    "## Model comparison"
   ]
  },
  {
   "cell_type": "code",
   "execution_count": 8,
   "id": "f911c114-3c5b-4f79-a425-3fc2d2a0338f",
   "metadata": {},
   "outputs": [
    {
     "name": "stdout",
     "output_type": "stream",
     "text": [
      "K: 140 cosine score: 0.6029447511074769\n",
      "K: 1350 cosine score: 0.6031929712453477\n"
     ]
    },
    {
     "data": {
      "image/png": "[encoded data removed]",
      "text/plain": [
       "<Figure size 360x360 with 1 Axes>"
      ]
     },
     "metadata": {
      "needs_background": "light"
     },
     "output_type": "display_data"
    }
   ],
   "source": [
    "plt.figure(figsize=(5,5))\n",
    "scores_i = np.where(np.array(tvsModel.validationMetrics) >= 0.6)[0]\n",
    "plt.scatter(cluster_list, tvsModel.validationMetrics, color='black', s=20)\n",
    "colors = ['mediumorchid','forestgreen']\n",
    "for i, s_i in enumerate(scores_i):\n",
    "    s_k = (s_i + 1) * 10\n",
    "    print(f'K: {s_k} cosine score: {tvsModel.validationMetrics[s_i]}')\n",
    "    plt.scatter(s_k, tvsModel.validationMetrics[s_i], color=colors[i], s=40)\n",
    "plt.ylabel('Score')\n",
    "plt.xlabel('Total Clusters')\n",
    "plt.title('Score Dependence on Total Clusters')\n",
    "plt.savefig('../../data/kmeans_scatter.png')"
   ]
  },
  {
   "cell_type": "code",
   "execution_count": 9,
   "id": "e56e10ad-ee91-4a45-a0b3-c1b9dccc693b",
   "metadata": {},
   "outputs": [
    {
     "name": "stdout",
     "output_type": "stream",
     "text": [
      "0.6029447511074769\n"
     ]
    },
    {
     "name": "stderr",
     "output_type": "stream",
     "text": [
      "                                                                                \r"
     ]
    },
    {
     "name": "stdout",
     "output_type": "stream",
     "text": [
      "Train eval with 140 clusters: Train: 0.5352356173647969 Test: 0.540881080013947\n",
      "Clusters with less than 10 observations: 2\n",
      "0.6031929712453477\n"
     ]
    },
    {
     "name": "stderr",
     "output_type": "stream",
     "text": [
      "                                                                                \r"
     ]
    },
    {
     "name": "stdout",
     "output_type": "stream",
     "text": [
      "Train eval with 1350 clusters: Train: 0.6355963350995041 Test: 0.5725490613357676\n",
      "Clusters with less than 10 observations: 968\n"
     ]
    },
    {
     "data": {
      "image/png": "[encoded data removed]",
      "text/plain": [
       "<Figure size 864x864 with 4 Axes>"
      ]
     },
     "metadata": {
      "needs_background": "light"
     },
     "output_type": "display_data"
    }
   ],
   "source": [
    "plt.figure(figsize=(12,12))\n",
    "train_i = 1\n",
    "test_i = 3\n",
    "for i, s_i in enumerate(scores_i):\n",
    "    print(tvsModel.validationMetrics[s_i])\n",
    "    s_k = (s_i + 1) * 10\n",
    "    kmeans = KMeans(k=s_k, featuresCol='features', seed=0, maxIter=1000, distanceMeasure=\"cosine\")\n",
    "    mood = kmeans.fit(train)\n",
    "    s_k_train = evaluator.evaluate(mood.transform(train))\n",
    "    s_k_test = evaluator.evaluate(mood.transform(test))\n",
    "    small_clusters = np.where(np.array(mood.summary.clusterSizes) <= 10)[0]\n",
    "    tot_small = len(small_clusters)\n",
    "    print(f\"Train eval with {s_k} clusters: Train: {s_k_train} Test: {s_k_test}\")\n",
    "    print(f\"Clusters with less than 10 observations: {tot_small}\")\n",
    "    # plot train\n",
    "    plt.subplot(2,2,train_i)\n",
    "    _, _, _ = plt.hist(mood.summary.clusterSizes,bins=20,color=colors[i])\n",
    "    plt.title(f'Movie Distribution Across {s_k} Clusters')\n",
    "    plt.xlabel('Cluster Size')\n",
    "    plt.ylabel('Count')\n",
    "    # plot test\n",
    "    transformed = mood.transform(test)\n",
    "    h = transformed.select('prediction').groupBy('prediction').count()\n",
    "    h = h.select('count').toPandas()\n",
    "    plt.subplot(2,2,test_i)\n",
    "    _, _, _ = plt.hist(h['count'],bins=20,color=colors[i])\n",
    "    plt.title(f'Movie Distribution Across {s_k} Clusters')\n",
    "    plt.xlabel('Cluster Size')\n",
    "    plt.ylabel('Count')\n",
    "    # update plot counters\n",
    "    train_i = train_i + 1\n",
    "    test_i = test_i + 1\n",
    "plt.savefig('../../data/kmeans_model_comparison.png')"
   ]
  },
  {
   "cell_type": "markdown",
   "id": "47323153-7528-44dd-bfb7-cdaa1cdaff30",
   "metadata": {},
   "source": [
    "## Pick model and train"
   ]
  },
  {
   "cell_type": "code",
   "execution_count": 10,
   "id": "69903edc-c01a-44f7-8f73-62010f3efa13",
   "metadata": {},
   "outputs": [],
   "source": [
    "kmeans = KMeans(k=model_clusters, featuresCol='features', seed=0, maxIter=1000, distanceMeasure=\"cosine\")\n",
    "model = kmeans.fit(train)\n",
    "transformed = model.transform(test)"
   ]
  },
  {
   "cell_type": "code",
   "execution_count": 11,
   "id": "bbf2cb5d-e3cb-4c8f-aed0-39d80d4215c6",
   "metadata": {},
   "outputs": [
    {
     "name": "stderr",
     "output_type": "stream",
     "text": [
      "/usr/local/lib/python3.8/dist-packages/pyspark/sql/context.py:125: FutureWarning: Deprecated in 3.0.0. Use SparkSession.builder.getOrCreate() instead.\n",
      "  warnings.warn(\n"
     ]
    }
   ],
   "source": [
    "model_pred_genres = model.summary.predictions.select('genres', 'prediction').groupBy('genres', 'prediction').count()\n",
    "large_clusters = np.where(np.array(model.summary.clusterSizes) >= 900)[0]\n",
    "large_clusters = np.insert(large_clusters, 0, 1)"
   ]
  },
  {
   "cell_type": "code",
   "execution_count": 12,
   "id": "2d4be713-b6af-4c98-92eb-c5b481dabb20",
   "metadata": {},
   "outputs": [],
   "source": [
    "# Get train info\n",
    "train_genres = model.summary.predictions.select('genres', 'prediction').groupBy('genres', 'prediction').count()\n",
    "train_stats = model.summary.predictions.select('avg_rating', 'prediction')\n",
    "# Get test info\n",
    "test_genres = transformed.select('genres', 'prediction').groupBy('genres', 'prediction').count()\n",
    "test_stats = transformed.select('genres', 'prediction').groupBy('genres', 'prediction').count()"
   ]
  },
  {
   "cell_type": "markdown",
   "id": "32f9ad42-2956-4afb-80dd-ce5675e8b233",
   "metadata": {},
   "source": [
    "## Examine some clusters"
   ]
  },
  {
   "cell_type": "code",
   "execution_count": 13,
   "id": "054df0ba-8862-4b5e-8281-bfe102778e26",
   "metadata": {},
   "outputs": [
    {
     "name": "stdout",
     "output_type": "stream",
     "text": [
      "CLUSTER ID: 1\n",
      "----------TRAIN-----------------\n",
      "+---------------------------+-----+\n",
      "|genres                     |count|\n",
      "+---------------------------+-----+\n",
      "|Action|Comedy|Crime|Romance|4    |\n",
      "|Action|Comedy|Crime|Horror |1    |\n",
      "|Action|Comedy|Crime|Western|1    |\n",
      "|Action|Comedy|Crime|Mystery|1    |\n",
      "|Action|Comedy|Crime        |60   |\n",
      "+---------------------------+-----+\n",
      "\n",
      "  summary          avg_rating prediction\n",
      "0   count                  67         67\n",
      "1    mean  3.0149167321620465        1.0\n",
      "2  stddev  0.4584579990170097        0.0\n",
      "3     min  1.8717948717948718          1\n",
      "4     max  3.8518737809974923          1\n",
      "----------TEST-----------------\n",
      "+---------------------------+-----+\n",
      "|genres                     |count|\n",
      "+---------------------------+-----+\n",
      "|Action|Comedy|Crime|Romance|1    |\n",
      "|Action|Comedy|Crime        |9    |\n",
      "+---------------------------+-----+\n",
      "\n",
      "  summary                       genres prediction              count\n",
      "0   count                            2          2                  2\n",
      "1    mean                         None        1.0                5.0\n",
      "2  stddev                         None        0.0  5.656854249492381\n",
      "3     min          Action|Comedy|Crime          1                  1\n",
      "4     max  Action|Comedy|Crime|Romance          1                  9\n",
      "CLUSTER ID: 2\n",
      "----------TRAIN-----------------\n",
      "+-----------------+-----+\n",
      "|genres           |count|\n",
      "+-----------------+-----+\n",
      "|Documentary|Drama|39   |\n",
      "|Drama            |973  |\n",
      "+-----------------+-----+\n",
      "\n",
      "  summary           avg_rating prediction\n",
      "0   count                 1012       1012\n",
      "1    mean   3.1538499954517127        2.0\n",
      "2  stddev  0.16315533269060237        0.0\n",
      "3     min   2.6666666666666665          2\n",
      "4     max    4.067796610169491          2\n",
      "----------TEST-----------------\n",
      "+-----------------+-----+\n",
      "|genres           |count|\n",
      "+-----------------+-----+\n",
      "|Documentary|Drama|4    |\n",
      "|Drama            |244  |\n",
      "+-----------------+-----+\n",
      "\n",
      "  summary             genres prediction              count\n",
      "0   count                  2          2                  2\n",
      "1    mean               None        2.0              124.0\n",
      "2  stddev               None        0.0  169.7056274847714\n",
      "3     min  Documentary|Drama          2                  4\n",
      "4     max              Drama          2                244\n",
      "CLUSTER ID: 21\n",
      "----------TRAIN-----------------\n",
      "+------------------+-----+\n",
      "|genres            |count|\n",
      "+------------------+-----+\n",
      "|Comedy|War|Western|1    |\n",
      "|Comedy|Mystery    |5    |\n",
      "|Comedy            |1012 |\n",
      "|Comedy|War        |15   |\n",
      "|Comedy|Western    |29   |\n",
      "+------------------+-----+\n",
      "\n",
      "  summary          avg_rating prediction\n",
      "0   count                1062       1062\n",
      "1    mean   3.407121120091698       21.0\n",
      "2  stddev  0.2754268151605674        0.0\n",
      "3     min  2.9705882352941178         21\n",
      "4     max   4.277777777777778         21\n",
      "----------TEST-----------------\n",
      "+--------------+-----+\n",
      "|genres        |count|\n",
      "+--------------+-----+\n",
      "|Comedy|Mystery|5    |\n",
      "|Comedy        |257  |\n",
      "|Comedy|War    |4    |\n",
      "|Comedy|Western|10   |\n",
      "+--------------+-----+\n",
      "\n",
      "  summary          genres prediction               count\n",
      "0   count               4          4                   4\n",
      "1    mean            None       21.0                69.0\n",
      "2  stddev            None        0.0  125.36081259043168\n",
      "3     min          Comedy         21                   4\n",
      "4     max  Comedy|Western         21                 257\n",
      "CLUSTER ID: 89\n",
      "----------TRAIN-----------------\n",
      "+------+-----+\n",
      "|genres|count|\n",
      "+------+-----+\n",
      "|Drama |1606 |\n",
      "+------+-----+\n",
      "\n",
      "  summary          avg_rating prediction\n",
      "0   count                1606       1606\n",
      "1    mean  3.6349702307881184       89.0\n",
      "2  stddev  0.1811617409344552        0.0\n",
      "3     min  3.3553191489361702         89\n",
      "4     max                4.25         89\n",
      "----------TEST-----------------\n",
      "+------+-----+\n",
      "|genres|count|\n",
      "+------+-----+\n",
      "|Drama |404  |\n",
      "+------+-----+\n",
      "\n",
      "  summary genres prediction  count\n",
      "0   count      1          1      1\n",
      "1    mean   None       89.0  404.0\n",
      "2  stddev   None       None   None\n",
      "3     min  Drama         89    404\n",
      "4     max  Drama         89    404\n",
      "CLUSTER ID: 125\n",
      "----------TRAIN-----------------\n",
      "+---------------------------+-----+\n",
      "|genres                     |count|\n",
      "+---------------------------+-----+\n",
      "|Animation|Documentary      |7    |\n",
      "|Documentary|Fantasy        |1    |\n",
      "|Documentary                |1014 |\n",
      "|Adventure|Crime|Documentary|2    |\n",
      "|Crime|Documentary          |19   |\n",
      "|Children|Documentary       |2    |\n",
      "|Action|Documentary         |1    |\n",
      "|Documentary|Thriller       |2    |\n",
      "|Documentary|Mystery        |6    |\n",
      "|Adventure|Documentary      |8    |\n",
      "|Documentary|Sci-Fi         |1    |\n",
      "|Documentary|Western        |1    |\n",
      "+---------------------------+-----+\n",
      "\n",
      "  summary           avg_rating prediction\n",
      "0   count                 1064       1064\n",
      "1    mean    3.584496165641161      125.0\n",
      "2  stddev  0.26502798683082873        0.0\n",
      "3     min                  3.0        125\n",
      "4     max    4.483096085409253        125\n",
      "----------TEST-----------------\n",
      "+---------------------+-----+\n",
      "|genres               |count|\n",
      "+---------------------+-----+\n",
      "|Animation|Documentary|1    |\n",
      "|Documentary|Fantasy  |1    |\n",
      "|Documentary          |240  |\n",
      "|Crime|Documentary    |4    |\n",
      "|Documentary|Thriller |1    |\n",
      "|Adventure|Documentary|2    |\n",
      "|Documentary|Sci-Fi   |1    |\n",
      "+---------------------+-----+\n",
      "\n",
      "  summary                 genres prediction               count\n",
      "0   count                      7          7                   7\n",
      "1    mean                   None      125.0  35.714285714285715\n",
      "2  stddev                   None        0.0   90.08831645615741\n",
      "3     min  Adventure|Documentary        125                   1\n",
      "4     max   Documentary|Thriller        125                 240\n"
     ]
    }
   ],
   "source": [
    "for l in large_clusters:\n",
    "    print(f\"CLUSTER ID: {l}\")\n",
    "    print(f\"----------TRAIN-----------------\")\n",
    "    train_genres.filter(train_genres.prediction == int(l)).select('genres','count').show(truncate=False)\n",
    "    print(train_stats.filter(train_stats.prediction == int(l)).describe().toPandas())\n",
    "    print(f\"----------TEST-----------------\")\n",
    "    test_genres.filter(test_genres.prediction == int(l)).select('genres','count').show(truncate=False)\n",
    "    print(test_stats.filter(test_stats.prediction == int(l)).describe().toPandas())"
   ]
  },
  {
   "cell_type": "markdown",
   "id": "65c08b42-e8db-4eec-b1e9-3579b09ada4f",
   "metadata": {},
   "source": [
    "## Examine similar clusters"
   ]
  },
  {
   "cell_type": "code",
   "execution_count": 14,
   "id": "447bf7cb-f47d-46d2-9e5c-406320b58262",
   "metadata": {},
   "outputs": [
    {
     "name": "stdout",
     "output_type": "stream",
     "text": [
      "CLUSTER ID: 13\n",
      "----------TRAIN-----------------\n",
      "+--------------+-----+\n",
      "|genres        |count|\n",
      "+--------------+-----+\n",
      "|Comedy        |623  |\n",
      "|Comedy|War    |4    |\n",
      "|Comedy|Mystery|4    |\n",
      "|Comedy|Western|7    |\n",
      "+--------------+-----+\n",
      "\n",
      "  summary           avg_rating prediction\n",
      "0   count                  638        638\n",
      "1    mean   2.6481201493536495       13.0\n",
      "2  stddev  0.22563261271340423        0.0\n",
      "3     min   2.1522727272727273         13\n",
      "4     max   2.9722222222222223         13\n",
      "----------TEST-----------------\n",
      "+--------------+-----+\n",
      "|genres        |count|\n",
      "+--------------+-----+\n",
      "|Comedy        |168  |\n",
      "|Comedy|War    |2    |\n",
      "|Comedy|Mystery|1    |\n",
      "|Comedy|Western|1    |\n",
      "+--------------+-----+\n",
      "\n",
      "  summary          genres prediction              count\n",
      "0   count               4          4                  4\n",
      "1    mean            None       13.0               43.0\n",
      "2  stddev            None        0.0  83.33466665600017\n",
      "3     min          Comedy         13                  1\n",
      "4     max  Comedy|Western         13                168\n",
      "CLUSTER ID: 27\n",
      "----------TRAIN-----------------\n",
      "+--------------+-----+\n",
      "|genres        |count|\n",
      "+--------------+-----+\n",
      "|Comedy        |99   |\n",
      "|Comedy|Western|1    |\n",
      "+--------------+-----+\n",
      "\n",
      "  summary           avg_rating prediction\n",
      "0   count                  100        100\n",
      "1    mean    1.814827944349358       27.0\n",
      "2  stddev  0.26309165562163705        0.0\n",
      "3     min   0.8990384615384616         27\n",
      "4     max   2.1379310344827585         27\n",
      "----------TEST-----------------\n",
      "+--------------+-----+\n",
      "|genres        |count|\n",
      "+--------------+-----+\n",
      "|Comedy        |17   |\n",
      "|Comedy|War    |1    |\n",
      "|Comedy|Mystery|2    |\n",
      "+--------------+-----+\n",
      "\n",
      "  summary      genres prediction              count\n",
      "0   count           3          3                  3\n",
      "1    mean        None       27.0  6.666666666666667\n",
      "2  stddev        None        0.0  8.962886439832502\n",
      "3     min      Comedy         27                  1\n",
      "4     max  Comedy|War         27                 17\n"
     ]
    }
   ],
   "source": [
    "sim_clusters = [13,27]\n",
    "for l in sim_clusters:\n",
    "    print(f\"CLUSTER ID: {l}\")\n",
    "    print(f\"----------TRAIN-----------------\")\n",
    "    train_genres.filter(train_genres.prediction == int(l)).select('genres','count').show(truncate=False)\n",
    "    print(train_stats.filter(train_stats.prediction == int(l)).describe().toPandas())\n",
    "    print(f\"----------TEST-----------------\")\n",
    "    test_genres.filter(test_genres.prediction == int(l)).select('genres','count').show(truncate=False)\n",
    "    print(test_stats.filter(test_stats.prediction == int(l)).describe().toPandas())"
   ]
  },
  {
   "cell_type": "code",
   "execution_count": 15,
   "id": "9ea34fa8-dc02-4d09-b562-6eddeab91a3c",
   "metadata": {},
   "outputs": [],
   "source": [
    "spark.stop()"
   ]
  }
 ],
 "metadata": {
  "kernelspec": {
   "display_name": "Python 3 (ipykernel)",
   "language": "python",
   "name": "python3"
  },
  "language_info": {
   "codemirror_mode": {
    "name": "ipython",
    "version": 3
   },
   "file_extension": ".py",
   "mimetype": "text/x-python",
   "name": "python",
   "nbconvert_exporter": "python",
   "pygments_lexer": "ipython3",
   "version": "3.8.10"
  }
 },
 "nbformat": 4,
 "nbformat_minor": 5
}
