{
 "cells": [
  {
   "cell_type": "code",
   "execution_count": 1,
   "id": "b0925be8-32b2-402c-b626-11f5818bfc22",
   "metadata": {},
   "outputs": [],
   "source": [
    "import time\n",
    "\n",
    "import numpy as np\n",
    "import pandas as pd\n",
    "import matplotlib.pyplot as plt\n",
    "\n",
    "import pyspark\n",
    "\n",
    "from pyspark.sql import SparkSession\n",
    "from pyspark.sql.functions import *\n",
    "\n",
    "from pyspark.ml.feature import VectorAssembler\n",
    "\n",
    "from pyspark.ml.tuning import TrainValidationSplit, ParamGridBuilder\n",
    "from pyspark.ml.tuning import TrainValidationSplitModel\n",
    "\n",
    "from pyspark.ml.clustering import KMeans, KMeansSummary\n",
    "\n",
    "from pyspark.ml.evaluation import ClusteringEvaluator"
   ]
  },
  {
   "cell_type": "code",
   "execution_count": 2,
   "id": "e062cb22-cdec-4aee-b7ac-aaec6778df51",
   "metadata": {},
   "outputs": [],
   "source": [
    "#env variables\n",
    "write_files = True\n",
    "fit_model = True\n",
    "model_path = \"file:///home/work/data/kmeans_movies_model\""
   ]
  },
  {
   "cell_type": "code",
   "execution_count": 3,
   "id": "1bb37095-536b-4f07-9caf-79c5e4c2d0ed",
   "metadata": {
    "tags": []
   },
   "outputs": [
    {
     "name": "stderr",
     "output_type": "stream",
     "text": [
      "WARNING: An illegal reflective access operation has occurred\n",
      "WARNING: Illegal reflective access by org.apache.spark.unsafe.Platform (file:/usr/spark-3.2.1/jars/spark-unsafe_2.12-3.2.1.jar) to constructor java.nio.DirectByteBuffer(long,int)\n",
      "WARNING: Please consider reporting this to the maintainers of org.apache.spark.unsafe.Platform\n",
      "WARNING: Use --illegal-access=warn to enable warnings of further illegal reflective access operations\n",
      "WARNING: All illegal access operations will be denied in a future release\n",
      "Setting default log level to \"WARN\".\n",
      "To adjust logging level use sc.setLogLevel(newLevel). For SparkR, use setLogLevel(newLevel).\n",
      "2022-05-27 03:00:50,770 WARN util.NativeCodeLoader: Unable to load native-hadoop library for your platform... using builtin-java classes where applicable\n",
      "2022-05-27 03:00:51,444 WARN util.Utils: Service 'SparkUI' could not bind on port 4040. Attempting port 4041.\n",
      "2022-05-27 03:00:51,444 WARN util.Utils: Service 'SparkUI' could not bind on port 4041. Attempting port 4042.\n",
      "2022-05-27 03:00:51,444 WARN util.Utils: Service 'SparkUI' could not bind on port 4042. Attempting port 4043.\n"
     ]
    }
   ],
   "source": [
    "# Change the number of cores in this code block\n",
    "# by setting `spark.master` to `local[n]` where\n",
    "# n is the number of cores\n",
    "\n",
    "conf = pyspark.SparkConf().setAll([('spark.master', 'local[4]'),\n",
    "                                   ('spark.app.name', 'KMEANS Clustering')])\n",
    "spark = SparkSession.builder.config(conf=conf).getOrCreate()"
   ]
  },
  {
   "cell_type": "code",
   "execution_count": 4,
   "id": "3f782b99-e43d-440a-9cde-a30222d597a3",
   "metadata": {},
   "outputs": [],
   "source": [
    "train_df = spark.read.option(\"header\",True).csv(\"file:///home/work/data/kmeans_movies_train.csv\", inferSchema=True)\n",
    "test_df = spark.read.option(\"header\",True).csv(\"file:///home/work/data/kmeans_movies_test.csv\", inferSchema=True)\n",
    "\n",
    "\n",
    "# READ IN OLD STUFF\n",
    "#TODO REMOVE\n",
    "# df = spark.read.option(\"header\",True).csv(\"file:///home/work/data/final_movies_df_10.csv\", inferSchema=True)\n",
    "# train_df, test_df = df.randomSplit([0.8, 0.1], seed=0)"
   ]
  },
  {
   "cell_type": "code",
   "execution_count": 5,
   "id": "2d301671-36c5-4f7d-971d-7eb8bf1aa45e",
   "metadata": {},
   "outputs": [
    {
     "data": {
      "text/plain": [
       "['Action',\n",
       " 'Adventure',\n",
       " 'Animation',\n",
       " 'Children',\n",
       " 'Comedy',\n",
       " 'Crime',\n",
       " 'Documentary',\n",
       " 'Drama',\n",
       " 'Fantasy',\n",
       " 'Film-Noir',\n",
       " 'Horror',\n",
       " 'Musical',\n",
       " 'Mystery',\n",
       " 'Romance',\n",
       " 'Sci-Fi',\n",
       " 'Thriller',\n",
       " 'War',\n",
       " 'Western',\n",
       " 'avg_rating']"
      ]
     },
     "execution_count": 5,
     "metadata": {},
     "output_type": "execute_result"
    }
   ],
   "source": [
    "col_names = train_df.columns\n",
    "exc_cols = ['movieId', 'title', 'genres', 'movieYear']\n",
    "feat_cols = sorted(list(set(col_names).difference(set(exc_cols))))\n",
    "feat_cols"
   ]
  },
  {
   "cell_type": "code",
   "execution_count": 6,
   "id": "b0be9b78-4731-4725-91b3-3d32a8f80a1e",
   "metadata": {},
   "outputs": [
    {
     "name": "stderr",
     "output_type": "stream",
     "text": [
      "2022-05-27 03:00:56,633 WARN util.package: Truncated the string representation of a plan since it was too large. This behavior can be adjusted by setting 'spark.sql.debug.maxToStringFields'.\n"
     ]
    },
    {
     "name": "stdout",
     "output_type": "stream",
     "text": [
      "+-------+--------------------+------------------+---------+--------------------+-----+-------+--------+---------+-----+---+-----------+-------+-------+-------+---------+---------+------+-------+------+--------+------+------+--------------------+\n",
      "|movieId|               title|        avg_rating|movieYear|              genres|Crime|Romance|Thriller|Adventure|Drama|War|Documentary|Fantasy|Mystery|Musical|Animation|Film-Noir|Horror|Western|Comedy|Children|Action|Sci-Fi|            features|\n",
      "+-------+--------------------+------------------+---------+--------------------+-----+-------+--------+---------+-----+---+-----------+-------+-------+-------+---------+---------+------+-------+------+--------+------+------+--------------------+\n",
      "|      1|    Toy Story (1995)| 3.893707794587238|     1995|Adventure|Animati...|  0.0|    0.0|     0.0|      1.0|  0.0|0.0|        0.0|    1.0|    0.0|    0.0|      1.0|      0.0|   0.0|    0.0|   1.0|     1.0|   0.0|   0.0|(19,[1,2,3,4,8,18...|\n",
      "| 100008|    Flaw, The (2011)|3.5714285714285716|     2011|         Documentary|  0.0|    0.0|     0.0|      0.0|  0.0|0.0|        1.0|    0.0|    0.0|    0.0|      0.0|      0.0|   0.0|    0.0|   0.0|     0.0|   0.0|   0.0|(19,[6,18],[1.0,3...|\n",
      "| 100048|Omar Killed Me (O...|              3.35|     2011|         Crime|Drama|  1.0|    0.0|     0.0|      0.0|  1.0|0.0|        0.0|    0.0|    0.0|    0.0|      0.0|      0.0|   0.0|    0.0|   0.0|     0.0|   0.0|   0.0|(19,[5,7,18],[1.0...|\n",
      "| 100060|Sunny (Sseo-ni) (...|              3.75|     2011|               Drama|  0.0|    0.0|     0.0|      0.0|  1.0|0.0|        0.0|    0.0|    0.0|    0.0|      0.0|      0.0|   0.0|    0.0|   0.0|     0.0|   0.0|   0.0|(19,[7,18],[1.0,3...|\n",
      "| 100108|       Parker (2013)|3.1691449814126393|     2013|      Crime|Thriller|  1.0|    0.0|     1.0|      0.0|  0.0|0.0|        0.0|    0.0|    0.0|    0.0|      0.0|      0.0|   0.0|    0.0|   0.0|     0.0|   0.0|   0.0|(19,[5,15,18],[1....|\n",
      "+-------+--------------------+------------------+---------+--------------------+-----+-------+--------+---------+-----+---+-----------+-------+-------+-------+---------+---------+------+-------+------+--------+------+------+--------------------+\n",
      "only showing top 5 rows\n",
      "\n"
     ]
    }
   ],
   "source": [
    "assembler = VectorAssembler(inputCols=feat_cols, outputCol='features', handleInvalid='skip')\n",
    "train = assembler.transform(train_df)\n",
    "test = assembler.transform(test_df)\n",
    "train.show(5)"
   ]
  },
  {
   "cell_type": "code",
   "execution_count": 7,
   "id": "b26c3a6c-1b05-44af-b54a-561ea5af201d",
   "metadata": {},
   "outputs": [],
   "source": [
    "tvsModel = TrainValidationSplitModel.read().load(model_path)\n",
    "cluster_list = list(range(10,1501,10))\n",
    "evaluator = ClusteringEvaluator(predictionCol='prediction',\n",
    "                          featuresCol='features',\n",
    "                          metricName='silhouette',\n",
    "                          distanceMeasure='cosine')\n"
   ]
  },
  {
   "cell_type": "code",
   "execution_count": 8,
   "id": "dd67931a-0c26-4fda-9828-3b9e9e201c21",
   "metadata": {},
   "outputs": [
    {
     "name": "stderr",
     "output_type": "stream",
     "text": [
      "[Stage 17:>                                                         (0 + 1) / 1]\r"
     ]
    },
    {
     "name": "stdout",
     "output_type": "stream",
     "text": [
      "CPU times: user 13.6 ms, sys: 6.26 ms, total: 19.8 ms\n",
      "Wall time: 14.7 s\n"
     ]
    },
    {
     "name": "stderr",
     "output_type": "stream",
     "text": [
      "                                                                                \r"
     ]
    },
    {
     "data": {
      "text/plain": [
       "0.6355963350995041"
      ]
     },
     "execution_count": 8,
     "metadata": {},
     "output_type": "execute_result"
    }
   ],
   "source": [
    "%%time\n",
    "evaluator.evaluate(tvsModel.transform(train))"
   ]
  },
  {
   "cell_type": "code",
   "execution_count": 9,
   "id": "b9e4f7ab-d015-4fa1-9a0f-d245f7ba097a",
   "metadata": {},
   "outputs": [
    {
     "name": "stderr",
     "output_type": "stream",
     "text": [
      "[Stage 22:>                                                         (0 + 1) / 1]\r"
     ]
    },
    {
     "name": "stdout",
     "output_type": "stream",
     "text": [
      "CPU times: user 13.8 ms, sys: 0 ns, total: 13.8 ms\n",
      "Wall time: 2.78 s\n"
     ]
    },
    {
     "name": "stderr",
     "output_type": "stream",
     "text": [
      "                                                                                \r"
     ]
    },
    {
     "data": {
      "text/plain": [
       "0.5725490613357676"
      ]
     },
     "execution_count": 9,
     "metadata": {},
     "output_type": "execute_result"
    }
   ],
   "source": [
    "%%time\n",
    "evaluator.evaluate(tvsModel.transform(test))"
   ]
  },
  {
   "cell_type": "code",
   "execution_count": 10,
   "id": "f911c114-3c5b-4f79-a425-3fc2d2a0338f",
   "metadata": {},
   "outputs": [
    {
     "name": "stdout",
     "output_type": "stream",
     "text": [
      "K: 140 cosine score: 0.6029447511074769\n",
      "K: 1350 cosine score: 0.6031929712453477\n"
     ]
    },
    {
     "data": {
      "text/plain": [
       "Text(0.5, 1.0, 'Score Dependence on Total Clusters')"
      ]
     },
     "execution_count": 10,
     "metadata": {},
     "output_type": "execute_result"
    },
    {
     "data": {
      "image/png": "[encoded data removed]",
      "text/plain": [
       "<Figure size 360x360 with 1 Axes>"
      ]
     },
     "metadata": {
      "needs_background": "light"
     },
     "output_type": "display_data"
    }
   ],
   "source": [
    "plt.figure(figsize=(5,5))\n",
    "scores_i = np.where(np.array(tvsModel.validationMetrics) >= 0.6)[0]\n",
    "plt.scatter(cluster_list, tvsModel.validationMetrics, color='black', s=20)\n",
    "colors = ['mediumorchid','forestgreen']\n",
    "for i, s_i in enumerate(scores_i):\n",
    "    s_k = (s_i + 1) * 10\n",
    "    print(f'K: {s_k} cosine score: {tvsModel.validationMetrics[s_i]}')\n",
    "    plt.scatter(s_k, tvsModel.validationMetrics[s_i], color=colors[i], s=40)\n",
    "plt.ylabel('Score')\n",
    "plt.xlabel('Total Clusters')\n",
    "plt.title('Score Dependence on Total Clusters')"
   ]
  },
  {
   "cell_type": "code",
   "execution_count": 11,
   "id": "e56e10ad-ee91-4a45-a0b3-c1b9dccc693b",
   "metadata": {},
   "outputs": [
    {
     "name": "stdout",
     "output_type": "stream",
     "text": [
      "0.6029447511074769\n"
     ]
    },
    {
     "name": "stderr",
     "output_type": "stream",
     "text": [
      "                                                                                \r"
     ]
    },
    {
     "name": "stdout",
     "output_type": "stream",
     "text": [
      "Train eval with 140 clusters: Train: 0.5352356173647969 Test: 0.540881080013947\n",
      "Clusters with less than 10 observations: 2\n",
      "0.6031929712453477\n"
     ]
    },
    {
     "name": "stderr",
     "output_type": "stream",
     "text": [
      "                                                                                \r"
     ]
    },
    {
     "name": "stdout",
     "output_type": "stream",
     "text": [
      "Train eval with 1350 clusters: Train: 0.6355963350995041 Test: 0.5725490613357676\n",
      "Clusters with less than 10 observations: 968\n",
      "CPU times: user 345 ms, sys: 70.7 ms, total: 416 ms\n",
      "Wall time: 2min 23s\n"
     ]
    },
    {
     "data": {
      "image/png": "[encoded data removed]",
      "text/plain": [
       "<Figure size 864x864 with 4 Axes>"
      ]
     },
     "metadata": {
      "needs_background": "light"
     },
     "output_type": "display_data"
    }
   ],
   "source": [
    "%%time\n",
    "plt.figure(figsize=(12,12))\n",
    "train_i = 1\n",
    "test_i = 3\n",
    "for i, s_i in enumerate(scores_i):\n",
    "    print(tvsModel.validationMetrics[s_i])\n",
    "    s_k = (s_i + 1) * 10\n",
    "    kmeans = KMeans(k=s_k, featuresCol='features', seed=0, maxIter=1000, distanceMeasure=\"cosine\")\n",
    "    mood = kmeans.fit(train)\n",
    "    s_k_train = evaluator.evaluate(mood.transform(train))\n",
    "    s_k_test = evaluator.evaluate(mood.transform(test))\n",
    "    small_clusters = np.where(np.array(mood.summary.clusterSizes) <= 10)[0]\n",
    "    tot_small = len(small_clusters)\n",
    "    print(f\"Train eval with {s_k} clusters: Train: {s_k_train} Test: {s_k_test}\")\n",
    "    print(f\"Clusters with less than 10 observations: {tot_small}\")\n",
    "    # plot train\n",
    "    plt.subplot(2,2,train_i)\n",
    "    _, _, _ = plt.hist(mood.summary.clusterSizes,bins=20,color=colors[i])\n",
    "    plt.title(f'Training Cluster Distribution with {s_k} Clusters')\n",
    "    plt.xlabel('Cluster Size')\n",
    "    plt.ylabel('Count')\n",
    "    # plot test\n",
    "    transformed = mood.transform(test)\n",
    "    h = transformed.select('prediction').groupBy('prediction').count()\n",
    "    h = h.select('count').toPandas()\n",
    "    plt.subplot(2,2,test_i)\n",
    "    _, _, _ = plt.hist(h['count'],bins=20,color=colors[i])\n",
    "    plt.title(f'Testing Cluster Distribution with {s_k} Clusters')\n",
    "    plt.xlabel('Cluster Size')\n",
    "    plt.ylabel('Count')\n",
    "    # update plot counters\n",
    "    train_i = train_i + 1\n",
    "    test_i = test_i + 1"
   ]
  },
  {
   "cell_type": "code",
   "execution_count": 12,
   "id": "69903edc-c01a-44f7-8f73-62010f3efa13",
   "metadata": {},
   "outputs": [
    {
     "name": "stdout",
     "output_type": "stream",
     "text": [
      "CPU times: user 7.66 ms, sys: 3.79 ms, total: 11.4 ms\n",
      "Wall time: 2.28 s\n"
     ]
    }
   ],
   "source": [
    "%%time\n",
    "k = (scores_i[0] + 1) * 10\n",
    "kmeans = KMeans(k=k, featuresCol='features', seed=0, maxIter=1000, distanceMeasure=\"cosine\")\n",
    "mood = kmeans.fit(train)"
   ]
  },
  {
   "cell_type": "code",
   "execution_count": 13,
   "id": "bbf2cb5d-e3cb-4c8f-aed0-39d80d4215c6",
   "metadata": {},
   "outputs": [
    {
     "name": "stderr",
     "output_type": "stream",
     "text": [
      "/usr/local/lib/python3.8/dist-packages/pyspark/sql/context.py:125: FutureWarning: Deprecated in 3.0.0. Use SparkSession.builder.getOrCreate() instead.\n",
      "  warnings.warn(\n"
     ]
    },
    {
     "data": {
      "text/plain": [
       "array([  2,  21,  89, 125])"
      ]
     },
     "execution_count": 13,
     "metadata": {},
     "output_type": "execute_result"
    }
   ],
   "source": [
    "b = mood.summary.predictions.select('genres', 'prediction').groupBy('genres', 'prediction').count()\n",
    "large_clusters = np.where(np.array(mood.summary.clusterSizes) >= 900)[0]\n",
    "large_clusters"
   ]
  },
  {
   "cell_type": "code",
   "execution_count": 14,
   "id": "054df0ba-8862-4b5e-8281-bfe102778e26",
   "metadata": {},
   "outputs": [
    {
     "name": "stdout",
     "output_type": "stream",
     "text": [
      "1\n",
      "+---------------------------+-----+\n",
      "|genres                     |count|\n",
      "+---------------------------+-----+\n",
      "|Action|Comedy|Crime|Romance|4    |\n",
      "|Action|Comedy|Crime|Horror |1    |\n",
      "|Action|Comedy|Crime|Western|1    |\n",
      "|Action|Comedy|Crime|Mystery|1    |\n",
      "|Action|Comedy|Crime        |60   |\n",
      "+---------------------------+-----+\n",
      "\n",
      "2\n",
      "+-----------------+-----+\n",
      "|genres           |count|\n",
      "+-----------------+-----+\n",
      "|Documentary|Drama|39   |\n",
      "|Drama            |973  |\n",
      "+-----------------+-----+\n",
      "\n",
      "21\n",
      "+------------------+-----+\n",
      "|genres            |count|\n",
      "+------------------+-----+\n",
      "|Comedy|War|Western|1    |\n",
      "|Comedy|Mystery    |5    |\n",
      "|Comedy            |1012 |\n",
      "|Comedy|War        |15   |\n",
      "|Comedy|Western    |29   |\n",
      "+------------------+-----+\n",
      "\n",
      "89\n",
      "+------+-----+\n",
      "|genres|count|\n",
      "+------+-----+\n",
      "|Drama |1606 |\n",
      "+------+-----+\n",
      "\n",
      "125\n",
      "+---------------------------+-----+\n",
      "|genres                     |count|\n",
      "+---------------------------+-----+\n",
      "|Animation|Documentary      |7    |\n",
      "|Documentary|Fantasy        |1    |\n",
      "|Documentary                |1014 |\n",
      "|Adventure|Crime|Documentary|2    |\n",
      "|Crime|Documentary          |19   |\n",
      "|Children|Documentary       |2    |\n",
      "|Action|Documentary         |1    |\n",
      "|Documentary|Thriller       |2    |\n",
      "|Documentary|Mystery        |6    |\n",
      "|Adventure|Documentary      |8    |\n",
      "|Documentary|Sci-Fi         |1    |\n",
      "|Documentary|Western        |1    |\n",
      "+---------------------------+-----+\n",
      "\n"
     ]
    }
   ],
   "source": [
    "b = mood.summary.predictions.select('genres', 'prediction').groupBy('genres', 'prediction').count()\n",
    "print(1)\n",
    "b.filter(b.prediction == 1).select('genres','count').show(truncate=False)\n",
    "for l in large_clusters:\n",
    "    print(l)\n",
    "    b.filter(b.prediction == int(l)).select('genres','count').show(truncate=False)"
   ]
  },
  {
   "cell_type": "code",
   "execution_count": 15,
   "id": "b2b85a99-5018-449e-94e0-36c97627848d",
   "metadata": {},
   "outputs": [
    {
     "name": "stdout",
     "output_type": "stream",
     "text": [
      "1\n",
      "+---------------------------+-----+\n",
      "|genres                     |count|\n",
      "+---------------------------+-----+\n",
      "|Action|Comedy|Crime|Romance|1    |\n",
      "|Action|Comedy|Crime        |9    |\n",
      "+---------------------------+-----+\n",
      "\n",
      "2\n",
      "+-----------------+-----+\n",
      "|genres           |count|\n",
      "+-----------------+-----+\n",
      "|Documentary|Drama|4    |\n",
      "|Drama            |244  |\n",
      "+-----------------+-----+\n",
      "\n",
      "21\n",
      "+--------------+-----+\n",
      "|genres        |count|\n",
      "+--------------+-----+\n",
      "|Comedy|Mystery|5    |\n",
      "|Comedy        |257  |\n",
      "|Comedy|War    |4    |\n",
      "|Comedy|Western|10   |\n",
      "+--------------+-----+\n",
      "\n",
      "89\n",
      "+------+-----+\n",
      "|genres|count|\n",
      "+------+-----+\n",
      "|Drama |404  |\n",
      "+------+-----+\n",
      "\n",
      "125\n",
      "+---------------------+-----+\n",
      "|genres               |count|\n",
      "+---------------------+-----+\n",
      "|Animation|Documentary|1    |\n",
      "|Documentary|Fantasy  |1    |\n",
      "|Documentary          |240  |\n",
      "|Crime|Documentary    |4    |\n",
      "|Documentary|Thriller |1    |\n",
      "|Adventure|Documentary|2    |\n",
      "|Documentary|Sci-Fi   |1    |\n",
      "+---------------------+-----+\n",
      "\n"
     ]
    }
   ],
   "source": [
    "transformed = mood.transform(test)\n",
    "print(1)\n",
    "bb = transformed.select('genres', 'prediction').groupBy('genres', 'prediction').count()\n",
    "bb.filter(bb.prediction == 1).select('genres','count').show(truncate=False)\n",
    "for l in large_clusters:\n",
    "    print(l)\n",
    "    bb.filter(bb.prediction == int(l)).select('genres','count').show(truncate=False)"
   ]
  },
  {
   "cell_type": "code",
   "execution_count": 17,
   "id": "9ea34fa8-dc02-4d09-b562-6eddeab91a3c",
   "metadata": {},
   "outputs": [],
   "source": [
    "spark.stop()"
   ]
  },
  {
   "cell_type": "code",
   "execution_count": null,
   "id": "e49bb218-50d4-4948-aa12-0d3d7358a9b9",
   "metadata": {},
   "outputs": [],
   "source": []
  }
 ],
 "metadata": {
  "kernelspec": {
   "display_name": "Python 3 (ipykernel)",
   "language": "python",
   "name": "python3"
  },
  "language_info": {
   "codemirror_mode": {
    "name": "ipython",
    "version": 3
   },
   "file_extension": ".py",
   "mimetype": "text/x-python",
   "name": "python",
   "nbconvert_exporter": "python",
   "pygments_lexer": "ipython3",
   "version": "3.8.10"
  }
 },
 "nbformat": 4,
 "nbformat_minor": 5
}
