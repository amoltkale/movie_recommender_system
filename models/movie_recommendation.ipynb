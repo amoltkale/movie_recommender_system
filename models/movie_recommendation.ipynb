{
 "cells": [
  {
   "cell_type": "markdown",
   "id": "aadb84bb-9ac3-4bcc-91de-c42847a8b597",
   "metadata": {},
   "source": [
    "# Movie Ratings Matrix Factorization (Collaborative Filtering)"
   ]
  },
  {
   "cell_type": "markdown",
   "id": "922e83e9-d208-46ff-b955-934847f1ecb3",
   "metadata": {},
   "source": [
    "### Imports"
   ]
  },
  {
   "cell_type": "code",
   "execution_count": 1,
   "id": "5fa89d59-cee9-48ff-a958-307bab0b4610",
   "metadata": {},
   "outputs": [],
   "source": [
    "import pyspark\n",
    "from pyspark.sql import SparkSession\n",
    "from pyspark.sql.functions import *\n",
    "from pyspark.ml.tuning import ParamGridBuilder\n",
    "from pyspark.ml.tuning import TrainValidationSplit\n",
    "from pyspark.ml.tuning import TrainValidationSplitModel\n",
    "import time\n",
    "import matplotlib.pyplot as plt"
   ]
  },
  {
   "cell_type": "markdown",
   "id": "ce62d06f-e61b-4b7f-912e-f010eb79509b",
   "metadata": {},
   "source": [
    "### Environment Variables"
   ]
  },
  {
   "cell_type": "code",
   "execution_count": 2,
   "id": "3987fe69-9816-4295-868b-ba0cc21d71ce",
   "metadata": {},
   "outputs": [],
   "source": [
    "write_files = False\n",
    "fit_model = False\n",
    "model_path = \"file:///home/work/data/als_recommender_model\""
   ]
  },
  {
   "cell_type": "markdown",
   "id": "016ca127-97a9-4b9e-9693-e55447c865f9",
   "metadata": {},
   "source": [
    "### Spark Session"
   ]
  },
  {
   "cell_type": "code",
   "execution_count": 3,
   "id": "fa1f26ce-f197-4e4b-8c30-b5389cd06335",
   "metadata": {},
   "outputs": [
    {
     "name": "stderr",
     "output_type": "stream",
     "text": [
      "WARNING: An illegal reflective access operation has occurred\n",
      "WARNING: Illegal reflective access by org.apache.spark.unsafe.Platform (file:/usr/spark-3.2.1/jars/spark-unsafe_2.12-3.2.1.jar) to constructor java.nio.DirectByteBuffer(long,int)\n",
      "WARNING: Please consider reporting this to the maintainers of org.apache.spark.unsafe.Platform\n",
      "WARNING: Use --illegal-access=warn to enable warnings of further illegal reflective access operations\n",
      "WARNING: All illegal access operations will be denied in a future release\n",
      "Setting default log level to \"WARN\".\n",
      "To adjust logging level use sc.setLogLevel(newLevel). For SparkR, use setLogLevel(newLevel).\n",
      "2022-05-30 23:00:25,196 WARN util.NativeCodeLoader: Unable to load native-hadoop library for your platform... using builtin-java classes where applicable\n"
     ]
    }
   ],
   "source": [
    "# Change the number of cores in this code block\n",
    "# by setting `spark.master` to `local[n]` where\n",
    "# n is the number of cores\n",
    "\n",
    "conf = pyspark.SparkConf().setAll([('spark.master', 'local[4]'),\n",
    "                                   ('spark.app.name', 'MatrixFactorization'),\n",
    "                                   ('spark.memory.offHeap.enabled', True),\n",
    "                                   ('spark.memory.offHeap.size','4g'),\n",
    "                                   ('spark.executor.memory', '4g'), \n",
    "                                   ('spark.driver.memory','6g')])\n",
    "spark = SparkSession.builder.config(conf=conf).getOrCreate()"
   ]
  },
  {
   "cell_type": "markdown",
   "id": "ca93645b-d2bd-4709-a5aa-792c3a2a9321",
   "metadata": {},
   "source": [
    "### Spark Context"
   ]
  },
  {
   "cell_type": "code",
   "execution_count": 4,
   "id": "ef3ade65-8682-49d2-95cf-16b781ae5683",
   "metadata": {},
   "outputs": [],
   "source": [
    "sc = spark.sparkContext\n",
    "#setting log level off \n",
    "sc.setLogLevel(\"off\")"
   ]
  },
  {
   "cell_type": "markdown",
   "id": "5d21c409-67d0-46c1-9597-26a5b331a8ce",
   "metadata": {},
   "source": [
    "### Load Final Ratings Train Data"
   ]
  },
  {
   "cell_type": "code",
   "execution_count": 5,
   "id": "490e7220-5daf-4d0f-b428-9b0ad67ec15f",
   "metadata": {},
   "outputs": [
    {
     "name": "stderr",
     "output_type": "stream",
     "text": [
      "                                                                                \r"
     ]
    }
   ],
   "source": [
    "train = spark.read.csv(\"file:///home/work/data/als_ratings_train\", inferSchema=True, header=True)"
   ]
  },
  {
   "cell_type": "markdown",
   "id": "878ab34c-05cc-4517-af5a-176880f60bcb",
   "metadata": {},
   "source": [
    "### Load Final Ratings Test Data"
   ]
  },
  {
   "cell_type": "code",
   "execution_count": 6,
   "id": "f731ab49-031c-4788-b19b-41dd3950095b",
   "metadata": {},
   "outputs": [
    {
     "name": "stderr",
     "output_type": "stream",
     "text": [
      "                                                                                \r"
     ]
    }
   ],
   "source": [
    "test = spark.read.csv(\"file:///home/work/data/als_ratings_test\", inferSchema=True, header=True)"
   ]
  },
  {
   "cell_type": "markdown",
   "id": "e909bf6d-77d6-40cd-8f8c-6b8445a07b85",
   "metadata": {},
   "source": [
    "## Building ALS model"
   ]
  },
  {
   "cell_type": "markdown",
   "id": "a17447ea-5ccf-4968-90d8-9ac215587ced",
   "metadata": {},
   "source": [
    "### Alternating Least Squares (ALS) matrix factorization"
   ]
  },
  {
   "cell_type": "code",
   "execution_count": 7,
   "id": "daf8117a-9fbd-442c-90a7-407c677e112e",
   "metadata": {},
   "outputs": [],
   "source": [
    "#Alternating Least Squares (ALS) matrix factorization\n",
    "from pyspark.ml.recommendation import ALS\n",
    "als = ALS(userCol='userId',\n",
    "          itemCol='movieId',\n",
    "          ratingCol='rating',\n",
    "          nonnegative=True, #setting this to true since we are using ratings > 0.\n",
    "          implicitPrefs=False, #setting this to false as we are using explicit ratings.\n",
    "          coldStartStrategy='drop', # to make sure we don't get NaN evaluation metrics\n",
    ")"
   ]
  },
  {
   "cell_type": "markdown",
   "id": "e66be9f7-8e3f-4f3d-98cf-75c8b51994af",
   "metadata": {},
   "source": [
    "### Hyperparameter Tuning"
   ]
  },
  {
   "cell_type": "code",
   "execution_count": 8,
   "id": "d9782f34-51a6-4443-8b2d-145c07f47bb9",
   "metadata": {},
   "outputs": [],
   "source": [
    "param_grid = ParamGridBuilder() \\\n",
    "                .addGrid(als.rank,[50, 75, 100, 125]) \\\n",
    "                .addGrid(als.regParam,[.1, .2, .3, .4]) \\\n",
    "                .build()"
   ]
  },
  {
   "cell_type": "code",
   "execution_count": 9,
   "id": "dac7d835-47d7-4e7c-ad4d-05b39df08f6b",
   "metadata": {},
   "outputs": [],
   "source": [
    "from pyspark.ml.evaluation import RegressionEvaluator\n",
    "evaluator = RegressionEvaluator(metricName='rmse',\n",
    "                                labelCol='rating',\n",
    "                                predictionCol='prediction')                                "
   ]
  },
  {
   "cell_type": "code",
   "execution_count": 10,
   "id": "43266aa3-71a5-401a-b732-1a6084b47f62",
   "metadata": {},
   "outputs": [],
   "source": [
    "tvs = TrainValidationSplit(estimator=als, estimatorParamMaps=param_grid, evaluator=evaluator, parallelism=1, seed=0)\n"
   ]
  },
  {
   "cell_type": "code",
   "execution_count": 11,
   "id": "5b6e78b4-d754-487a-af39-f73945c3de21",
   "metadata": {},
   "outputs": [
    {
     "name": "stdout",
     "output_type": "stream",
     "text": [
      "Total runtime to fit ALS optimization for all the grids: 0.00018358230590820312\n"
     ]
    }
   ],
   "source": [
    "start = time.time()\n",
    "if fit_model:\n",
    "    tvs_model = tvs.fit(train)\n",
    "tot_runtime = time.time() - start\n",
    "print(f\"Total runtime to fit ALS optimization for all the grids: {tot_runtime}\")"
   ]
  },
  {
   "cell_type": "markdown",
   "id": "0e78558e-4fcb-45db-9a6f-85c514603ea5",
   "metadata": {},
   "source": [
    "### Save Tuned Model"
   ]
  },
  {
   "cell_type": "code",
   "execution_count": 12,
   "id": "1ee8a1bb-4163-445c-95bb-2b526aa1203c",
   "metadata": {},
   "outputs": [],
   "source": [
    "if write_files:\n",
    "    tvs_model.save(model_path)"
   ]
  },
  {
   "cell_type": "markdown",
   "id": "c720dc07-8b52-4e3a-9e72-6248bbcbae6d",
   "metadata": {},
   "source": [
    "### Read Saved Model "
   ]
  },
  {
   "cell_type": "code",
   "execution_count": 13,
   "id": "5b15d3aa-440c-4d26-bb30-7127fc778b14",
   "metadata": {},
   "outputs": [
    {
     "name": "stderr",
     "output_type": "stream",
     "text": [
      "                                                                                \r"
     ]
    }
   ],
   "source": [
    "tvsModelRead = TrainValidationSplitModel.read().load(model_path)"
   ]
  },
  {
   "cell_type": "markdown",
   "id": "94d63ae0-8a71-4187-8f82-8e32fdc2916a",
   "metadata": {},
   "source": [
    "### Check validation Metrics i.e RMSE for all the models"
   ]
  },
  {
   "cell_type": "code",
   "execution_count": 14,
   "id": "81908983-42a0-43f1-a62c-e25e63e78112",
   "metadata": {},
   "outputs": [
    {
     "data": {
      "text/plain": [
       "[0.8905777707351172,\n",
       " 0.9010232162538442,\n",
       " 0.9454123025737626,\n",
       " 0.9913658875456827,\n",
       " 0.8896598583663039,\n",
       " 0.9012318321097895,\n",
       " 0.9456857052263995,\n",
       " 0.9915404477757173,\n",
       " 0.8898603884721867,\n",
       " 0.9015462862606608,\n",
       " 0.9458674191100008,\n",
       " 0.991629804403516,\n",
       " 0.8892534517948678,\n",
       " 0.90146664920257,\n",
       " 0.9458295484781136,\n",
       " 0.9915637274683925]"
      ]
     },
     "execution_count": 14,
     "metadata": {},
     "output_type": "execute_result"
    }
   ],
   "source": [
    "tvsModelRead.validationMetrics"
   ]
  },
  {
   "cell_type": "markdown",
   "id": "524ec5af-13bf-422e-8c81-247492cb8293",
   "metadata": {},
   "source": [
    "### Explain all the parameters from Hyperparameter Tuning"
   ]
  },
  {
   "cell_type": "code",
   "execution_count": 15,
   "id": "07c16fdf-8d3e-46be-b90f-57fa4f457664",
   "metadata": {},
   "outputs": [
    {
     "data": {
      "text/plain": [
       "\"estimator: estimator to be cross-validated (current: ALS_b6e83d8d5f39)\\nestimatorParamMaps: estimator param maps (current: [{Param(parent='ALS_b6e83d8d5f39', name='rank', doc='rank of the factorization'): 50, Param(parent='ALS_b6e83d8d5f39', name='regParam', doc='regularization parameter (>= 0).'): 0.1}, {Param(parent='ALS_b6e83d8d5f39', name='rank', doc='rank of the factorization'): 50, Param(parent='ALS_b6e83d8d5f39', name='regParam', doc='regularization parameter (>= 0).'): 0.2}, {Param(parent='ALS_b6e83d8d5f39', name='rank', doc='rank of the factorization'): 50, Param(parent='ALS_b6e83d8d5f39', name='regParam', doc='regularization parameter (>= 0).'): 0.3}, {Param(parent='ALS_b6e83d8d5f39', name='rank', doc='rank of the factorization'): 50, Param(parent='ALS_b6e83d8d5f39', name='regParam', doc='regularization parameter (>= 0).'): 0.4}, {Param(parent='ALS_b6e83d8d5f39', name='rank', doc='rank of the factorization'): 75, Param(parent='ALS_b6e83d8d5f39', name='regParam', doc='regularization parameter (>= 0).'): 0.1}, {Param(parent='ALS_b6e83d8d5f39', name='rank', doc='rank of the factorization'): 75, Param(parent='ALS_b6e83d8d5f39', name='regParam', doc='regularization parameter (>= 0).'): 0.2}, {Param(parent='ALS_b6e83d8d5f39', name='rank', doc='rank of the factorization'): 75, Param(parent='ALS_b6e83d8d5f39', name='regParam', doc='regularization parameter (>= 0).'): 0.3}, {Param(parent='ALS_b6e83d8d5f39', name='rank', doc='rank of the factorization'): 75, Param(parent='ALS_b6e83d8d5f39', name='regParam', doc='regularization parameter (>= 0).'): 0.4}, {Param(parent='ALS_b6e83d8d5f39', name='rank', doc='rank of the factorization'): 100, Param(parent='ALS_b6e83d8d5f39', name='regParam', doc='regularization parameter (>= 0).'): 0.1}, {Param(parent='ALS_b6e83d8d5f39', name='rank', doc='rank of the factorization'): 100, Param(parent='ALS_b6e83d8d5f39', name='regParam', doc='regularization parameter (>= 0).'): 0.2}, {Param(parent='ALS_b6e83d8d5f39', name='rank', doc='rank of the factorization'): 100, Param(parent='ALS_b6e83d8d5f39', name='regParam', doc='regularization parameter (>= 0).'): 0.3}, {Param(parent='ALS_b6e83d8d5f39', name='rank', doc='rank of the factorization'): 100, Param(parent='ALS_b6e83d8d5f39', name='regParam', doc='regularization parameter (>= 0).'): 0.4}, {Param(parent='ALS_b6e83d8d5f39', name='rank', doc='rank of the factorization'): 125, Param(parent='ALS_b6e83d8d5f39', name='regParam', doc='regularization parameter (>= 0).'): 0.1}, {Param(parent='ALS_b6e83d8d5f39', name='rank', doc='rank of the factorization'): 125, Param(parent='ALS_b6e83d8d5f39', name='regParam', doc='regularization parameter (>= 0).'): 0.2}, {Param(parent='ALS_b6e83d8d5f39', name='rank', doc='rank of the factorization'): 125, Param(parent='ALS_b6e83d8d5f39', name='regParam', doc='regularization parameter (>= 0).'): 0.3}, {Param(parent='ALS_b6e83d8d5f39', name='rank', doc='rank of the factorization'): 125, Param(parent='ALS_b6e83d8d5f39', name='regParam', doc='regularization parameter (>= 0).'): 0.4}])\\nevaluator: evaluator used to select hyper-parameters that maximize the validator metric (current: RegressionEvaluator_87d4d2a3e012)\\nseed: random seed. (default: 3927432609280123170, current: 0)\\ntrainRatio: Param for ratio between train and     validation data. Must be between 0 and 1. (default: 0.75, current: 0.75)\""
      ]
     },
     "execution_count": 15,
     "metadata": {},
     "output_type": "execute_result"
    }
   ],
   "source": [
    "tvsModelRead.explainParams()"
   ]
  },
  {
   "cell_type": "markdown",
   "id": "e50bcb96-faed-4161-b036-13a6a441d715",
   "metadata": {},
   "source": [
    "### Best Model after tuning"
   ]
  },
  {
   "cell_type": "code",
   "execution_count": 16,
   "id": "adb2df2a-711f-4cbd-895f-d4999eedb362",
   "metadata": {},
   "outputs": [],
   "source": [
    "best_model = tvsModelRead.bestModel"
   ]
  },
  {
   "cell_type": "code",
   "execution_count": 17,
   "id": "165e1cfb-395f-48ec-8996-adf115e7424e",
   "metadata": {},
   "outputs": [
    {
     "name": "stderr",
     "output_type": "stream",
     "text": [
      "[Stage 19:===========================================>              (3 + 1) / 4]\r"
     ]
    },
    {
     "name": "stdout",
     "output_type": "stream",
     "text": [
      "Best Model Train RMSE =  0.6290511606387795\n"
     ]
    },
    {
     "name": "stderr",
     "output_type": "stream",
     "text": [
      "                                                                                \r"
     ]
    }
   ],
   "source": [
    "print(\"Best Model Train RMSE = \",evaluator.evaluate(best_model.transform(train)))"
   ]
  },
  {
   "cell_type": "code",
   "execution_count": 18,
   "id": "9559ca36-7442-42c0-b405-1b3a7c6d9dde",
   "metadata": {},
   "outputs": [
    {
     "name": "stderr",
     "output_type": "stream",
     "text": [
      "[Stage 25:===========================================>              (3 + 1) / 4]\r"
     ]
    },
    {
     "name": "stdout",
     "output_type": "stream",
     "text": [
      "Best Model Test RMSE =  0.8647913965554024\n"
     ]
    },
    {
     "name": "stderr",
     "output_type": "stream",
     "text": [
      "                                                                                \r"
     ]
    }
   ],
   "source": [
    "print(\"Best Model Test RMSE = \",evaluator.evaluate(best_model.transform(test)))"
   ]
  },
  {
   "cell_type": "markdown",
   "id": "be56c21a-fd34-4a25-ba94-74be33569376",
   "metadata": {},
   "source": [
    "### Model factors"
   ]
  },
  {
   "cell_type": "code",
   "execution_count": 19,
   "id": "5a5b1896-0b41-4ff0-b803-8ca93c9f4975",
   "metadata": {},
   "outputs": [
    {
     "name": "stderr",
     "output_type": "stream",
     "text": [
      "/usr/local/lib/python3.8/dist-packages/pyspark/sql/context.py:125: FutureWarning: Deprecated in 3.0.0. Use SparkSession.builder.getOrCreate() instead.\n",
      "  warnings.warn(\n"
     ]
    },
    {
     "name": "stdout",
     "output_type": "stream",
     "text": [
      "Model Rank: 125\n"
     ]
    },
    {
     "name": "stderr",
     "output_type": "stream",
     "text": [
      "[Stage 26:==============================================>           (4 + 1) / 5]\r"
     ]
    },
    {
     "name": "stdout",
     "output_type": "stream",
     "text": [
      "User Latent Factors for ID: 1 :- \n",
      "[0.23951619863510132, 0.021939320489764214, 0.16278468072414398, 0.14137627184391022, 0.38238295912742615, 0.0, 0.027870215475559235, 0.09165193140506744, 0.1637464314699173, 0.24965836107730865, 0.3340897262096405, 0.18262438476085663, 0.4963119626045227, 0.10208820551633835, 0.003951970487833023, 0.2899414896965027, 0.11626213788986206, 0.010605011135339737, 0.25845080614089966, 0.005914095789194107, 0.016693610697984695, 0.038840558379888535, 0.20357799530029297, 0.35085204243659973, 0.33390697836875916, 0.11779268831014633, 0.2005985975265503, 0.040152113884687424, 0.1704455316066742, 0.1159241795539856, 0.3218660354614258, 0.10789263248443604, 0.08509869128465652, 0.2192203253507614, 0.14105072617530823, 0.005512623116374016, 0.6597520709037781, 0.059967949986457825, 0.047319069504737854, 0.1724238246679306, 0.1600998193025589, 0.06128586828708649, 0.2078404575586319, 0.06138043478131294, 0.26897597312927246, 0.2640194892883301, 0.03680936619639397, 0.22936241328716278, 0.08329539746046066, 0.0, 0.2503712475299835, 0.3586251437664032, 0.1530943214893341, 0.1670634150505066, 0.3411177396774292, 0.23972856998443604, 0.11433828622102737, 0.05602061003446579, 0.2536206543445587, 0.21193909645080566, 0.07948952168226242, 0.440166711807251, 0.21188636124134064, 0.13975588977336884, 0.1797027587890625, 0.2402126044034958, 0.056658785790205, 0.6660753488540649, 0.3735952079296112, 0.3573662340641022, 0.2046346366405487, 0.2285173386335373, 0.05403049290180206, 0.5568966269493103, 0.06851830333471298, 0.2227475494146347, 0.26112470030784607, 0.05210327357053757, 0.4395982623100281, 0.052409954369068146, 0.25692278146743774, 0.0866406187415123, 0.0, 0.061612289398908615, 0.16690635681152344, 0.28665459156036377, 0.41000697016716003, 0.11762207001447678, 0.07112669944763184, 0.0864296704530716, 0.4977516829967499, 0.20593497157096863, 0.3058607876300812, 0.36384010314941406, 0.0, 0.3332568407058716, 0.0810866579413414, 0.1423567831516266, 0.046477753669023514, 0.5074728727340698, 0.09436839818954468, 0.22848336398601532, 0.16812996566295624, 0.12029938399791718, 0.32319870591163635, 0.4100708067417145, 0.0, 0.11945036798715591, 0.049487579613924026, 0.0, 0.0, 0.3266911506652832, 0.18920528888702393, 0.13881923258304596, 0.2157333344221115, 0.30524614453315735, 0.2561318576335907, 0.33467501401901245, 0.3093823790550232, 0.24955794215202332, 0.15337038040161133, 0.15043842792510986, 0.2881090044975281, 0.31775978207588196, 0.16493818163871765] \n"
     ]
    },
    {
     "name": "stderr",
     "output_type": "stream",
     "text": [
      "                                                                                \r"
     ]
    }
   ],
   "source": [
    "print(\"Model Rank:\",best_model.rank)\n",
    "user_factors = best_model.userFactors.orderBy('id').limit(1).collect()\n",
    "print(f\"User Latent Factors for ID: {user_factors[0][0]} :- \\n{user_factors[0][1]} \")"
   ]
  },
  {
   "cell_type": "code",
   "execution_count": 20,
   "id": "13088634-a192-4256-a970-62ac5b49fb9e",
   "metadata": {},
   "outputs": [],
   "source": [
    "movies_df = spark.read.option(\"header\",True).csv(\"file:///home/work/data/cleaned_movies\", inferSchema=True)"
   ]
  },
  {
   "cell_type": "markdown",
   "id": "72a9fdb6-4a8c-4bdd-9911-616480fd2ef8",
   "metadata": {},
   "source": [
    "### Top 5 recommended Movies"
   ]
  },
  {
   "cell_type": "code",
   "execution_count": 21,
   "id": "0bcfc77b-dbd8-45b6-844b-75afcb7fcc8f",
   "metadata": {},
   "outputs": [
    {
     "name": "stderr",
     "output_type": "stream",
     "text": [
      "[Stage 30:==============================================>           (4 + 1) / 5]\r"
     ]
    },
    {
     "name": "stdout",
     "output_type": "stream",
     "text": [
      "+------+--------------------------------------------------------------------------------------------------------+\n",
      "|userId|recommendations                                                                                         |\n",
      "+------+--------------------------------------------------------------------------------------------------------+\n",
      "|1     |[{26520, 4.9192705}, {2632, 4.610244}, {8629, 4.5221386}, {8377, 4.4997187}, {7096, 4.4996743}]         |\n",
      "|6     |[{25941, 5.2045436}, {5911, 4.9134603}, {31086, 4.8424063}, {146327, 4.8311415}, {8377, 4.817455}]      |\n",
      "|16    |[{163512, 5.1467366}, {170425, 5.1442766}, {25941, 5.127475}, {72850, 5.077169}, {152842, 5.048527}]    |\n",
      "|22    |[{118760, 5.2957597}, {36799, 5.0936933}, {8377, 5.0924625}, {170777, 5.0544353}, {6411, 5.034553}]     |\n",
      "|26    |[{163512, 4.3564367}, {170425, 4.3407555}, {163112, 4.2501783}, {32705, 4.2499933}, {179795, 4.2499933}]|\n",
      "|27    |[{185571, 4.915963}, {96991, 4.8671374}, {113315, 4.839786}, {118760, 4.821211}, {163112, 4.8124537}]   |\n",
      "|28    |[{163512, 5.6988235}, {170635, 5.659982}, {152842, 5.5184946}, {169252, 5.4954357}, {162210, 5.48936}]  |\n",
      "|34    |[{163512, 3.8946488}, {92475, 3.8389647}, {170425, 3.802386}, {119068, 3.797408}, {112580, 3.7507577}]  |\n",
      "|44    |[{107304, 5.3242316}, {112580, 5.3116875}, {207311, 5.300731}, {119068, 5.2453666}, {181217, 5.2274237}]|\n",
      "|47    |[{25941, 4.3078494}, {163512, 4.292602}, {8377, 4.197066}, {26875, 4.0904074}, {170425, 4.045802}]      |\n",
      "+------+--------------------------------------------------------------------------------------------------------+\n",
      "only showing top 10 rows\n",
      "\n"
     ]
    },
    {
     "name": "stderr",
     "output_type": "stream",
     "text": [
      "                                                                                \r"
     ]
    }
   ],
   "source": [
    "recommendations = best_model.recommendForAllUsers(5)\n",
    "recommendations.show(10,truncate=False)"
   ]
  },
  {
   "cell_type": "code",
   "execution_count": 22,
   "id": "530f723a-f755-418d-bdbb-fa7a5df3e602",
   "metadata": {},
   "outputs": [],
   "source": [
    "top_5_recommendations = recommendations.withColumn('recommendation', explode('recommendations')) \\\n",
    "                .select('userId',col('recommendation.movieId').alias('rec_movie_id'),col('recommendation.rating').alias('rec_rating'))\n"
   ]
  },
  {
   "cell_type": "code",
   "execution_count": 23,
   "id": "fa4a947d-f12f-45f9-9bf9-0bafd9ccd48a",
   "metadata": {},
   "outputs": [
    {
     "name": "stderr",
     "output_type": "stream",
     "text": [
      "                                                                                \r"
     ]
    },
    {
     "data": {
      "text/html": [
       "<div>\n",
       "<style scoped>\n",
       "    .dataframe tbody tr th:only-of-type {\n",
       "        vertical-align: middle;\n",
       "    }\n",
       "\n",
       "    .dataframe tbody tr th {\n",
       "        vertical-align: top;\n",
       "    }\n",
       "\n",
       "    .dataframe thead th {\n",
       "        text-align: right;\n",
       "    }\n",
       "</style>\n",
       "<table border=\"1\" class=\"dataframe\">\n",
       "  <thead>\n",
       "    <tr style=\"text-align: right;\">\n",
       "      <th></th>\n",
       "      <th>summary</th>\n",
       "      <th>rec_rating</th>\n",
       "    </tr>\n",
       "  </thead>\n",
       "  <tbody>\n",
       "    <tr>\n",
       "      <th>0</th>\n",
       "      <td>count</td>\n",
       "      <td>554385</td>\n",
       "    </tr>\n",
       "    <tr>\n",
       "      <th>1</th>\n",
       "      <td>mean</td>\n",
       "      <td>4.620933781641176</td>\n",
       "    </tr>\n",
       "    <tr>\n",
       "      <th>2</th>\n",
       "      <td>stddev</td>\n",
       "      <td>0.47630448818225835</td>\n",
       "    </tr>\n",
       "    <tr>\n",
       "      <th>3</th>\n",
       "      <td>min</td>\n",
       "      <td>0.5628935</td>\n",
       "    </tr>\n",
       "    <tr>\n",
       "      <th>4</th>\n",
       "      <td>max</td>\n",
       "      <td>6.4984093</td>\n",
       "    </tr>\n",
       "  </tbody>\n",
       "</table>\n",
       "</div>"
      ],
      "text/plain": [
       "  summary           rec_rating\n",
       "0   count               554385\n",
       "1    mean    4.620933781641176\n",
       "2  stddev  0.47630448818225835\n",
       "3     min            0.5628935\n",
       "4     max            6.4984093"
      ]
     },
     "execution_count": 23,
     "metadata": {},
     "output_type": "execute_result"
    }
   ],
   "source": [
    "top_5_recommendations.select('rec_rating').describe().toPandas()"
   ]
  },
  {
   "cell_type": "markdown",
   "id": "ddb5fcbc-10b0-4756-b658-5b258dfafbc4",
   "metadata": {},
   "source": [
    "### Fetching groups of user id and top recommended rating"
   ]
  },
  {
   "cell_type": "code",
   "execution_count": 24,
   "id": "47a33c4e-98ff-41c0-b2f3-409aad487134",
   "metadata": {},
   "outputs": [
    {
     "name": "stderr",
     "output_type": "stream",
     "text": [
      "                                                                                \r"
     ]
    },
    {
     "name": "stdout",
     "output_type": "stream",
     "text": [
      "+------+------------+----------+\n",
      "|userId|rec_movie_id|rec_rating|\n",
      "+------+------------+----------+\n",
      "| 86408|      163512| 0.5783854|\n",
      "|113767|      118760| 0.5990427|\n",
      "| 13677|      118760| 0.6035718|\n",
      "|122697|       25941| 0.6085643|\n",
      "|  9152|      118760|0.60947174|\n",
      "|  5821|      163512|0.61109954|\n",
      "|121218|      163512|0.61887234|\n",
      "| 61102|      118760| 0.6210604|\n",
      "| 63044|      118760|0.62464553|\n",
      "| 38998|      170425| 0.6257034|\n",
      "| 60674|      118760| 0.6270056|\n",
      "|124552|      118760| 0.6310857|\n",
      "| 94280|      118760|0.63461524|\n",
      "| 10364|        8377|0.63687766|\n",
      "| 37091|         914| 0.7694206|\n",
      "| 99438|         273| 0.9350204|\n",
      "|138720|       93432| 1.0294752|\n",
      "|121401|         223| 1.0479981|\n",
      "| 15547|        1093| 1.0568098|\n",
      "| 50119|        2826| 1.0912154|\n",
      "+------+------------+----------+\n",
      "only showing top 20 rows\n",
      "\n"
     ]
    }
   ],
   "source": [
    "from pyspark.sql.window import Window\n",
    "from pyspark.sql.functions import col, row_number\n",
    "windowDept = Window.partitionBy(\"userId\").orderBy(col(\"rec_rating\").desc())\n",
    "top_5_recommendations.withColumn(\"row\",row_number().over(windowDept)) \\\n",
    "  .filter(col(\"row\") == 1).drop(\"row\") \\\n",
    "  .sort('rec_rating') \\\n",
    "  .show()"
   ]
  },
  {
   "cell_type": "markdown",
   "id": "4fcf7aad-e0d0-4f92-8511-6edafad1509b",
   "metadata": {},
   "source": [
    "### Fetching max recommended rating !!"
   ]
  },
  {
   "cell_type": "code",
   "execution_count": null,
   "id": "fc21fff1-3075-4e19-b5d0-c459e4baa5f5",
   "metadata": {},
   "outputs": [],
   "source": [
    "max_rec_rating = top_5_recommendations.select(max('rec_rating')).collect()[0][0]\n",
    "min_rec_rating = top_5_recommendations.select(min('rec_rating')).collect()[0][0]"
   ]
  },
  {
   "cell_type": "markdown",
   "id": "0a87d246-594b-4516-a509-05777cab7b5f",
   "metadata": {},
   "source": [
    "### Finding the user with max recommended rating"
   ]
  },
  {
   "cell_type": "code",
   "execution_count": 26,
   "id": "d5b36c76-c45f-44e8-a500-b1d5b77ee6a1",
   "metadata": {},
   "outputs": [
    {
     "name": "stderr",
     "output_type": "stream",
     "text": [
      "                                                                                \r"
     ]
    },
    {
     "data": {
      "text/html": [
       "<div>\n",
       "<style scoped>\n",
       "    .dataframe tbody tr th:only-of-type {\n",
       "        vertical-align: middle;\n",
       "    }\n",
       "\n",
       "    .dataframe tbody tr th {\n",
       "        vertical-align: top;\n",
       "    }\n",
       "\n",
       "    .dataframe thead th {\n",
       "        text-align: right;\n",
       "    }\n",
       "</style>\n",
       "<table border=\"1\" class=\"dataframe\">\n",
       "  <thead>\n",
       "    <tr style=\"text-align: right;\">\n",
       "      <th></th>\n",
       "      <th>userId</th>\n",
       "      <th>rec_movie_id</th>\n",
       "      <th>rec_rating</th>\n",
       "    </tr>\n",
       "  </thead>\n",
       "  <tbody>\n",
       "    <tr>\n",
       "      <th>0</th>\n",
       "      <td>18230</td>\n",
       "      <td>118760</td>\n",
       "      <td>6.498409</td>\n",
       "    </tr>\n",
       "  </tbody>\n",
       "</table>\n",
       "</div>"
      ],
      "text/plain": [
       "   userId  rec_movie_id  rec_rating\n",
       "0   18230        118760    6.498409"
      ]
     },
     "execution_count": 26,
     "metadata": {},
     "output_type": "execute_result"
    }
   ],
   "source": [
    "top_5_recommendations.filter(col('rec_rating')==max_rec_rating).toPandas()"
   ]
  },
  {
   "cell_type": "code",
   "execution_count": 27,
   "id": "d7e6bdde-7ccc-4934-b687-b9684ffe5975",
   "metadata": {},
   "outputs": [
    {
     "name": "stderr",
     "output_type": "stream",
     "text": [
      "                                                                                \r"
     ]
    },
    {
     "name": "stdout",
     "output_type": "stream",
     "text": [
      "User ID with max recommendation rating:  18230\n"
     ]
    },
    {
     "name": "stderr",
     "output_type": "stream",
     "text": [
      "[Stage 69:===========================================>              (3 + 1) / 4]\r"
     ]
    },
    {
     "name": "stdout",
     "output_type": "stream",
     "text": [
      "User ID with min recommendation rating:  86408\n"
     ]
    },
    {
     "name": "stderr",
     "output_type": "stream",
     "text": [
      "                                                                                \r"
     ]
    }
   ],
   "source": [
    "user_id_with_max_rec_rating = top_5_recommendations.filter(col('rec_rating')==max_rec_rating).collect()[0][0]\n",
    "print(\"User ID with max recommendation rating: \", user_id_with_max_rec_rating)\n",
    "user_id_with_min_rec_rating = top_5_recommendations.filter(col('rec_rating')==min_rec_rating).collect()[0][0]\n",
    "print(\"User ID with min recommendation rating: \", user_id_with_min_rec_rating)"
   ]
  },
  {
   "cell_type": "code",
   "execution_count": 28,
   "id": "94f958c8-3fd7-4cf8-bf84-f6f5b40edfc8",
   "metadata": {},
   "outputs": [],
   "source": [
    "def print_reccomendations(u_id, recs, train, test, movies_df):\n",
    "    print(f\"Top recommendations for user = {u_id}:\")\n",
    "    recs.filter(col('userId')==u_id) \\\n",
    "                    .join(movies_df.select('movieId','title', 'genres'), recs.rec_movie_id ==  movies_df.movieId) \\\n",
    "                    .sort('rec_rating', ascending=False) \\\n",
    "                    .show(truncate=False)\n",
    "    print(f\"User = {u_id}'s actual prefernces in train data:\")\n",
    "    train.select('userId','movieId','rating').filter(col('userId')==u_id) \\\n",
    "                .join(movies_df.select('movieId','title', 'genres'), on='movieId') \\\n",
    "                .sort('rating', ascending=False) \\\n",
    "                .show(10,truncate=False)\n",
    "    print(f\"User {u_id}'s actual prefernces in test data:\")\n",
    "    test.select('userId','movieId','rating').filter(col('userId')==u_id) \\\n",
    "                .join(movies_df.select('movieId','title', 'genres'), on='movieId') \\\n",
    "                .sort('rating', ascending=False) \\\n",
    "                .show(10,truncate=False)"
   ]
  },
  {
   "cell_type": "code",
   "execution_count": 29,
   "id": "401f1e96-63b6-45bc-bb68-c5c99c239f24",
   "metadata": {},
   "outputs": [],
   "source": [
    "#print(\"Max Rec Stats\")\n",
    "#print_reccomendations(user_id_with_max_rec_rating, top_5_recommendations, train, test, movies_df)"
   ]
  },
  {
   "cell_type": "code",
   "execution_count": 30,
   "id": "cafe5d1d-9796-4388-b04f-242de9b22547",
   "metadata": {},
   "outputs": [],
   "source": [
    "#print(\"Min Rec Stats\")\n",
    "#print_reccomendations(user_id_with_min_rec_rating, top_5_recommendations, train, test, movies_df)"
   ]
  },
  {
   "cell_type": "code",
   "execution_count": 31,
   "id": "be0881cc-d9e8-4b2a-9399-f5d42eaf97cc",
   "metadata": {},
   "outputs": [
    {
     "name": "stderr",
     "output_type": "stream",
     "text": [
      "                                                                                \r"
     ]
    },
    {
     "name": "stdout",
     "output_type": "stream",
     "text": [
      "Rand Rec Stats\n",
      "Top recommendations for user = 44730:\n"
     ]
    },
    {
     "name": "stderr",
     "output_type": "stream",
     "text": [
      "                                                                                \r"
     ]
    },
    {
     "name": "stdout",
     "output_type": "stream",
     "text": [
      "+------+------------+----------+-------+-------------------------------------------------------+-------------+\n",
      "|userId|rec_movie_id|rec_rating|movieId|title                                                  |genres       |\n",
      "+------+------------+----------+-------+-------------------------------------------------------+-------------+\n",
      "|44730 |118760      |4.452896  |118760 |The Good Lie (2014)                                    |Drama        |\n",
      "|44730 |25941       |4.4283395 |25941  |Letter from an Unknown Woman (1948)                    |Drama|Romance|\n",
      "|44730 |26520       |4.425784  |26520  |Full Moon in Paris (Les nuits de la pleine lune) (1984)|Drama|Romance|\n",
      "|44730 |8377        |4.4134445 |8377   |City of Joy (1992)                                     |Drama        |\n",
      "|44730 |147330      |4.4011326 |147330 |Sherlock Holmes and Dr. Watson: Acquaintance (1979)    |Crime        |\n",
      "+------+------------+----------+-------+-------------------------------------------------------+-------------+\n",
      "\n",
      "User = 44730's actual prefernces in train data:\n"
     ]
    },
    {
     "name": "stderr",
     "output_type": "stream",
     "text": [
      "                                                                                \r"
     ]
    },
    {
     "name": "stdout",
     "output_type": "stream",
     "text": [
      "+-------+------+------+--------------------------------------+------------------------------+\n",
      "|movieId|userId|rating|title                                 |genres                        |\n",
      "+-------+------+------+--------------------------------------+------------------------------+\n",
      "|1408   |44730 |4.5   |Last of the Mohicans, The (1992)      |Action|Romance|War|Western    |\n",
      "|1500   |44730 |4.5   |Grosse Pointe Blank (1997)            |Comedy|Crime|Romance          |\n",
      "|904    |44730 |4.5   |Rear Window (1954)                    |Mystery|Thriller              |\n",
      "|1721   |44730 |4.5   |Titanic (1997)                        |Drama|Romance                 |\n",
      "|1219   |44730 |4.0   |Psycho (1960)                         |Crime|Horror                  |\n",
      "|1380   |44730 |4.0   |Grease (1978)                         |Comedy|Musical|Romance        |\n",
      "|1043   |44730 |4.0   |To Gillian on Her 37th Birthday (1996)|Drama|Romance                 |\n",
      "|593    |44730 |4.0   |Silence of the Lambs, The (1991)      |Crime|Horror|Thriller         |\n",
      "|1407   |44730 |4.0   |Scream (1996)                         |Comedy|Horror|Mystery|Thriller|\n",
      "|1674   |44730 |4.0   |Witness (1985)                        |Drama|Romance|Thriller        |\n",
      "+-------+------+------+--------------------------------------+------------------------------+\n",
      "only showing top 10 rows\n",
      "\n",
      "User 44730's actual prefernces in test data:\n"
     ]
    },
    {
     "name": "stderr",
     "output_type": "stream",
     "text": [
      "[Stage 80:>                                                         (0 + 4) / 4]\r"
     ]
    },
    {
     "name": "stdout",
     "output_type": "stream",
     "text": [
      "+-------+------+------+--------------------------------------+--------------------------------------+\n",
      "|movieId|userId|rating|title                                 |genres                                |\n",
      "+-------+------+------+--------------------------------------+--------------------------------------+\n",
      "|2599   |44730 |4.5   |Election (1999)                       |Comedy                                |\n",
      "|2797   |44730 |4.5   |Big (1988)                            |Comedy|Drama|Fantasy|Romance          |\n",
      "|953    |44730 |4.5   |It's a Wonderful Life (1946)          |Children|Drama|Fantasy|Romance        |\n",
      "|1923   |44730 |4.5   |There's Something About Mary (1998)   |Comedy|Romance                        |\n",
      "|6503   |44730 |4.0   |Charlie's Angels: Full Throttle (2003)|Action|Adventure|Comedy|Crime|Thriller|\n",
      "|1207   |44730 |4.0   |To Kill a Mockingbird (1962)          |Drama                                 |\n",
      "|7771   |44730 |4.0   |Zorba the Greek (Alexis Zorbas) (1964)|Adventure|Drama                       |\n",
      "|520    |44730 |3.5   |Robin Hood: Men in Tights (1993)      |Comedy                                |\n",
      "|1644   |44730 |3.0   |I Know What You Did Last Summer (1997)|Horror|Mystery|Thriller               |\n",
      "|342    |44730 |2.0   |Muriel's Wedding (1994)               |Comedy                                |\n",
      "+-------+------+------+--------------------------------------+--------------------------------------+\n",
      "only showing top 10 rows\n",
      "\n"
     ]
    },
    {
     "name": "stderr",
     "output_type": "stream",
     "text": [
      "                                                                                \r"
     ]
    }
   ],
   "source": [
    "rand_id = test.rdd.takeSample(False, 1, seed=0)[0][0]\n",
    "print(\"Rand Rec Stats\")\n",
    "print_reccomendations(rand_id, top_5_recommendations, train, test, movies_df)"
   ]
  },
  {
   "cell_type": "markdown",
   "id": "0d0224da-de3e-4add-a5aa-8f5834870b9f",
   "metadata": {},
   "source": [
    "### Top 5 recommended Users"
   ]
  },
  {
   "cell_type": "code",
   "execution_count": 32,
   "id": "f9688ad5-41cf-4792-a592-ca3d8375b249",
   "metadata": {},
   "outputs": [
    {
     "name": "stderr",
     "output_type": "stream",
     "text": [
      "/usr/local/lib/python3.8/dist-packages/pyspark/sql/context.py:125: FutureWarning: Deprecated in 3.0.0. Use SparkSession.builder.getOrCreate() instead.\n",
      "  warnings.warn(\n",
      "[Stage 82:==============================================>           (4 + 1) / 5]\r"
     ]
    },
    {
     "name": "stdout",
     "output_type": "stream",
     "text": [
      "+-------+-----------+----------+\n",
      "|movieId|rec_user_id|rec_rating|\n",
      "+-------+-----------+----------+\n",
      "|1      |137831     |5.3221583 |\n",
      "|1      |18230      |5.228027  |\n",
      "|1      |27173      |5.2063    |\n",
      "|1      |66365      |5.1933675 |\n",
      "|1      |89631      |5.1882453 |\n",
      "|12     |110061     |4.5251412 |\n",
      "|12     |96471      |4.4960876 |\n",
      "|12     |50715      |4.4597187 |\n",
      "|12     |34979      |4.437086  |\n",
      "|12     |93649      |4.4292912 |\n",
      "|13     |52924      |4.7441325 |\n",
      "|13     |54192      |4.66887   |\n",
      "|13     |108346     |4.664882  |\n",
      "|13     |18230      |4.639894  |\n",
      "|13     |151238     |4.638042  |\n",
      "|22     |96471      |5.019087  |\n",
      "|22     |86668      |4.920675  |\n",
      "|22     |74833      |4.9188876 |\n",
      "|22     |70505      |4.9117274 |\n",
      "|22     |66365      |4.8727326 |\n",
      "+-------+-----------+----------+\n",
      "only showing top 20 rows\n",
      "\n"
     ]
    },
    {
     "name": "stderr",
     "output_type": "stream",
     "text": [
      "                                                                                \r"
     ]
    }
   ],
   "source": [
    "#Top 5 Users for movies\n",
    "top_5_user_recommendations = best_model.recommendForAllItems(5) \\\n",
    "                .withColumn('recommendation', explode('recommendations')) \\\n",
    "                .select('movieId',col('recommendation.userId').alias('rec_user_id'),col('recommendation.rating').alias('rec_rating'))\n",
    "top_5_user_recommendations.show(truncate=False)"
   ]
  },
  {
   "cell_type": "code",
   "execution_count": 33,
   "id": "c9e14796-832a-4328-8223-8386a97dc6b7",
   "metadata": {},
   "outputs": [
    {
     "name": "stderr",
     "output_type": "stream",
     "text": [
      "[Stage 87:==============================================>           (4 + 1) / 5]\r"
     ]
    },
    {
     "name": "stdout",
     "output_type": "stream",
     "text": [
      "+-------+-----------+----------+-------+----------------+-------------------------------------------+\n",
      "|movieId|rec_user_id|rec_rating|movieId|title           |genres                                     |\n",
      "+-------+-----------+----------+-------+----------------+-------------------------------------------+\n",
      "|1      |137831     |5.3221583 |1      |Toy Story (1995)|Adventure|Animation|Children|Comedy|Fantasy|\n",
      "|1      |18230      |5.228027  |1      |Toy Story (1995)|Adventure|Animation|Children|Comedy|Fantasy|\n",
      "|1      |27173      |5.2063    |1      |Toy Story (1995)|Adventure|Animation|Children|Comedy|Fantasy|\n",
      "|1      |66365      |5.1933675 |1      |Toy Story (1995)|Adventure|Animation|Children|Comedy|Fantasy|\n",
      "|1      |89631      |5.1882453 |1      |Toy Story (1995)|Adventure|Animation|Children|Comedy|Fantasy|\n",
      "+-------+-----------+----------+-------+----------------+-------------------------------------------+\n",
      "\n"
     ]
    },
    {
     "name": "stderr",
     "output_type": "stream",
     "text": [
      "                                                                                \r"
     ]
    }
   ],
   "source": [
    "#Show top 5 user recommendation for movieId = 1\n",
    "top_5_user_recommendations.filter(col('movieId')==1) \\\n",
    "                    .join(movies_df.select('movieId', 'title', 'genres'), top_5_user_recommendations.movieId ==  movies_df.movieId) \\\n",
    "                    .sort('rec_rating', ascending=False) \\\n",
    "                    .show(truncate=False)"
   ]
  },
  {
   "cell_type": "code",
   "execution_count": 34,
   "id": "b4e51697-5789-4c65-824e-e5c8d5ad0a08",
   "metadata": {},
   "outputs": [
    {
     "name": "stderr",
     "output_type": "stream",
     "text": [
      "                                                                                \r"
     ]
    }
   ],
   "source": [
    "#Top 5 users recommended for movieId = 1\n",
    "top_5_user_recommendations = top_5_user_recommendations.filter(col('movieId')==1) \\\n",
    "                    .join(movies_df.select('movieId', 'title', 'genres'), top_5_user_recommendations.movieId ==  movies_df.movieId) \\\n",
    "                    .sort('rec_rating', ascending=False) \\\n",
    "                    .collect()"
   ]
  },
  {
   "cell_type": "code",
   "execution_count": 35,
   "id": "178b5689-557c-4437-840a-b76a2e97514f",
   "metadata": {},
   "outputs": [
    {
     "name": "stdout",
     "output_type": "stream",
     "text": [
      "Users we want to validate for movie recommendations ['137831', '18230', '27173', '66365', '89631']\n"
     ]
    }
   ],
   "source": [
    "import numpy as np\n",
    "user_list = list(np.asarray(top_5_user_recommendations)[:,1])\n",
    "print(\"Users we want to validate for movie recommendations\",user_list)"
   ]
  },
  {
   "cell_type": "markdown",
   "id": "4f5d497c-a9a6-49f5-8e68-b13c43fe57b6",
   "metadata": {},
   "source": [
    "#### Let's check the top rated movie genres by top 5 users recommended for movieId = 1"
   ]
  },
  {
   "cell_type": "code",
   "execution_count": 36,
   "id": "0aef2693-5422-4942-aeb8-71a30c2b9163",
   "metadata": {},
   "outputs": [
    {
     "name": "stderr",
     "output_type": "stream",
     "text": [
      "[Stage 100:==========================================>              (3 + 1) / 4]\r"
     ]
    },
    {
     "name": "stdout",
     "output_type": "stream",
     "text": [
      "+------+-------+------+----------------------------------------+\n",
      "|userId|movieId|rating|genres                                  |\n",
      "+------+-------+------+----------------------------------------+\n",
      "|137831|107    |5.0   |Adventure|Children|Comedy|Musical       |\n",
      "|137831|104    |5.0   |Comedy                                  |\n",
      "|137831|158    |5.0   |Adventure|Children                      |\n",
      "|89631 |246    |5.0   |Documentary                             |\n",
      "|89631 |31     |5.0   |Drama                                   |\n",
      "|89631 |355    |5.0   |Children|Comedy|Fantasy                 |\n",
      "|66365 |158    |5.0   |Adventure|Children                      |\n",
      "|66365 |58     |5.0   |Comedy|Drama|Romance                    |\n",
      "|66365 |70     |5.0   |Action|Comedy|Horror|Thriller           |\n",
      "|27173 |34     |5.0   |Children|Drama                          |\n",
      "|27173 |110    |5.0   |Action|Drama|War                        |\n",
      "|27173 |10     |5.0   |Action|Adventure|Thriller               |\n",
      "|18230 |5      |5.0   |Comedy                                  |\n",
      "|18230 |31     |5.0   |Drama                                   |\n",
      "|18230 |48     |5.0   |Animation|Children|Drama|Musical|Romance|\n",
      "+------+-------+------+----------------------------------------+\n",
      "\n"
     ]
    },
    {
     "name": "stderr",
     "output_type": "stream",
     "text": [
      "                                                                                \r"
     ]
    }
   ],
   "source": [
    "#Sample user's actual top 3 choices\n",
    "windowDept = Window.partitionBy(\"userId\").orderBy(col(\"rating\").desc())\n",
    "train.filter(train.userId.isin(user_list)) \\\n",
    "   .withColumn(\"row\",row_number().over(windowDept)) \\\n",
    "  .filter(col(\"row\") <= 3).drop(\"row\",\"avg_rating\") \\\n",
    "  .sort('userId','rating', ascending=False) \\\n",
    "  .show(truncate=False)"
   ]
  },
  {
   "cell_type": "code",
   "execution_count": 37,
   "id": "741d87a7-56a9-4b1d-8348-c2e377d1a97f",
   "metadata": {},
   "outputs": [],
   "source": [
    "spark.stop()"
   ]
  }
 ],
 "metadata": {
  "kernelspec": {
   "display_name": "Python 3 (ipykernel)",
   "language": "python",
   "name": "python3"
  },
  "language_info": {
   "codemirror_mode": {
    "name": "ipython",
    "version": 3
   },
   "file_extension": ".py",
   "mimetype": "text/x-python",
   "name": "python",
   "nbconvert_exporter": "python",
   "pygments_lexer": "ipython3",
   "version": "3.8.10"
  },
  "toc-autonumbering": true,
  "toc-showcode": true,
  "toc-showmarkdowntxt": true
 },
 "nbformat": 4,
 "nbformat_minor": 5
}
