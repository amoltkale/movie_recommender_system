{
 "cells": [
  {
   "cell_type": "markdown",
   "id": "aadb84bb-9ac3-4bcc-91de-c42847a8b597",
   "metadata": {},
   "source": [
    "# Movie Ratings Matrix Factorization (Collaborative Filtering)"
   ]
  },
  {
   "cell_type": "markdown",
   "id": "922e83e9-d208-46ff-b955-934847f1ecb3",
   "metadata": {},
   "source": [
    "## Imports"
   ]
  },
  {
   "cell_type": "code",
   "execution_count": 1,
   "id": "5fa89d59-cee9-48ff-a958-307bab0b4610",
   "metadata": {},
   "outputs": [],
   "source": [
    "import pyspark\n",
    "from pyspark.sql import SparkSession\n",
    "from pyspark.sql.functions import *"
   ]
  },
  {
   "cell_type": "code",
   "execution_count": 2,
   "id": "3987fe69-9816-4295-868b-ba0cc21d71ce",
   "metadata": {},
   "outputs": [],
   "source": [
    "#env variables\n",
    "write_files = False\n",
    "fit_model = False\n",
    "model_path = \"file:///home/work/data/als_model_v3.0\""
   ]
  },
  {
   "cell_type": "markdown",
   "id": "016ca127-97a9-4b9e-9693-e55447c865f9",
   "metadata": {},
   "source": [
    "## Spark Session"
   ]
  },
  {
   "cell_type": "code",
   "execution_count": 3,
   "id": "fa1f26ce-f197-4e4b-8c30-b5389cd06335",
   "metadata": {},
   "outputs": [
    {
     "name": "stderr",
     "output_type": "stream",
     "text": [
      "WARNING: An illegal reflective access operation has occurred\n",
      "WARNING: Illegal reflective access by org.apache.spark.unsafe.Platform (file:/usr/spark-3.2.1/jars/spark-unsafe_2.12-3.2.1.jar) to constructor java.nio.DirectByteBuffer(long,int)\n",
      "WARNING: Please consider reporting this to the maintainers of org.apache.spark.unsafe.Platform\n",
      "WARNING: Use --illegal-access=warn to enable warnings of further illegal reflective access operations\n",
      "WARNING: All illegal access operations will be denied in a future release\n",
      "Setting default log level to \"WARN\".\n",
      "To adjust logging level use sc.setLogLevel(newLevel). For SparkR, use setLogLevel(newLevel).\n",
      "2022-05-24 00:43:22,099 WARN util.NativeCodeLoader: Unable to load native-hadoop library for your platform... using builtin-java classes where applicable\n"
     ]
    }
   ],
   "source": [
    "# Change the number of cores in this code block\n",
    "# by setting `spark.master` to `local[n]` where\n",
    "# n is the number of cores\n",
    "\n",
    "import matplotlib.pyplot as plt\n",
    "\n",
    "conf = pyspark.SparkConf().setAll([('spark.master', 'local[4]'),\n",
    "                                   ('spark.app.name', 'MatrixFactorization'),\n",
    "                                   ('spark.memory.offHeap.enabled', True),\n",
    "                                   ('spark.memory.offHeap.size','4g'),\n",
    "                                   ('spark.executor.memory', '4g'), \n",
    "                                   ('spark.driver.memory','6g')])\n",
    "spark = SparkSession.builder.config(conf=conf).getOrCreate()"
   ]
  },
  {
   "cell_type": "code",
   "execution_count": 4,
   "id": "ef3ade65-8682-49d2-95cf-16b781ae5683",
   "metadata": {},
   "outputs": [],
   "source": [
    "spark.sparkContext.setLogLevel(\"off\")"
   ]
  },
  {
   "cell_type": "code",
   "execution_count": 5,
   "id": "f3abbb7b-826f-458c-9da6-2bf639e05e56",
   "metadata": {},
   "outputs": [
    {
     "data": {
      "text/plain": [
       "'3.2.1'"
      ]
     },
     "execution_count": 5,
     "metadata": {},
     "output_type": "execute_result"
    }
   ],
   "source": [
    "spark.version"
   ]
  },
  {
   "cell_type": "markdown",
   "id": "878ab34c-05cc-4517-af5a-176880f60bcb",
   "metadata": {},
   "source": [
    "## Load final ratings files"
   ]
  },
  {
   "cell_type": "code",
   "execution_count": 6,
   "id": "9acda688-d8e8-4b82-a1e5-b6480ab8a383",
   "metadata": {},
   "outputs": [],
   "source": [
    "# ratings_df = spark.read.csv(\"file:///home/work/data/ratings_100_max.csv\", inferSchema=True, header=True) \\\n",
    "#                         .select('userId','movieId','rating','genres')\n",
    "# ratings_df.printSchema()"
   ]
  },
  {
   "cell_type": "code",
   "execution_count": 7,
   "id": "87ad7090-25c9-473e-ab7f-ad0e6416ff18",
   "metadata": {},
   "outputs": [],
   "source": [
    "#ratings_df.write.csv(\"file:///home/work/data/ratings_100_max_wo_ohe.csv\", header=True)"
   ]
  },
  {
   "cell_type": "code",
   "execution_count": 8,
   "id": "490e7220-5daf-4d0f-b428-9b0ad67ec15f",
   "metadata": {},
   "outputs": [
    {
     "name": "stderr",
     "output_type": "stream",
     "text": [
      "                                                                                \r"
     ]
    }
   ],
   "source": [
    "train = spark.read.csv(\"file:///home/work/data/ratings_train.csv\", inferSchema=True, header=True)"
   ]
  },
  {
   "cell_type": "markdown",
   "id": "e909bf6d-77d6-40cd-8f8c-6b8445a07b85",
   "metadata": {},
   "source": [
    "## Building ALS model"
   ]
  },
  {
   "cell_type": "markdown",
   "id": "a17447ea-5ccf-4968-90d8-9ac215587ced",
   "metadata": {},
   "source": [
    "### Alternating Least Squares (ALS) matrix factorization"
   ]
  },
  {
   "cell_type": "code",
   "execution_count": 9,
   "id": "daf8117a-9fbd-442c-90a7-407c677e112e",
   "metadata": {},
   "outputs": [],
   "source": [
    "#Alternating Least Squares (ALS) matrix factorization\n",
    "from pyspark.ml.recommendation import ALS\n",
    "als = ALS(userCol='userId',\n",
    "          itemCol='movieId',\n",
    "          ratingCol='rating',\n",
    "          nonnegative=True, #setting this to true since we are using ratings > 0.\n",
    "          implicitPrefs=False, #setting this to false as we are using explicit ratings.\n",
    "          coldStartStrategy='drop', # to make sure we don't get NaN evaluation metrics\n",
    ")"
   ]
  },
  {
   "cell_type": "markdown",
   "id": "e66be9f7-8e3f-4f3d-98cf-75c8b51994af",
   "metadata": {},
   "source": [
    "### Hyperparameter Tuning"
   ]
  },
  {
   "cell_type": "code",
   "execution_count": 10,
   "id": "d9782f34-51a6-4443-8b2d-145c07f47bb9",
   "metadata": {},
   "outputs": [],
   "source": [
    "from pyspark.ml.tuning import ParamGridBuilder\n",
    "param_grid = ParamGridBuilder() \\\n",
    "                .addGrid(als.rank,[50, 75, 100, 125]) \\\n",
    "                .addGrid(als.regParam,[.1, .2, .3, .4]) \\\n",
    "                .build()"
   ]
  },
  {
   "cell_type": "code",
   "execution_count": 11,
   "id": "dac7d835-47d7-4e7c-ad4d-05b39df08f6b",
   "metadata": {},
   "outputs": [],
   "source": [
    "from pyspark.ml.evaluation import RegressionEvaluator\n",
    "evaluator = RegressionEvaluator(metricName='rmse',\n",
    "                                labelCol='rating',\n",
    "                                predictionCol='prediction')                                "
   ]
  },
  {
   "cell_type": "code",
   "execution_count": 12,
   "id": "43266aa3-71a5-401a-b732-1a6084b47f62",
   "metadata": {},
   "outputs": [],
   "source": [
    "# from pyspark.ml.tuning import CrossValidator\n",
    "# cv = CrossValidator(estimator=als,\n",
    "#                     estimatorParamMaps=param_grid,\n",
    "#                     evaluator=evaluator,\n",
    "#                     numFolds=10)\n",
    "# cv.fit(test)\n",
    "from pyspark.ml.tuning import TrainValidationSplit\n",
    "tvs = TrainValidationSplit(estimator=als, estimatorParamMaps=param_grid, evaluator=evaluator, parallelism=1, seed=0)\n"
   ]
  },
  {
   "cell_type": "code",
   "execution_count": 13,
   "id": "5b6e78b4-d754-487a-af39-f73945c3de21",
   "metadata": {},
   "outputs": [
    {
     "name": "stdout",
     "output_type": "stream",
     "text": [
      "CPU times: user 5 µs, sys: 1 µs, total: 6 µs\n",
      "Wall time: 7.87 µs\n"
     ]
    }
   ],
   "source": [
    "%%time\n",
    "if fit_model:\n",
    "    tvs_model = tvs.fit(train)"
   ]
  },
  {
   "cell_type": "code",
   "execution_count": 14,
   "id": "1ee8a1bb-4163-445c-95bb-2b526aa1203c",
   "metadata": {},
   "outputs": [],
   "source": [
    "if write_files:\n",
    "    tvs_model.save(model_path)"
   ]
  },
  {
   "cell_type": "code",
   "execution_count": 15,
   "id": "5b15d3aa-440c-4d26-bb30-7127fc778b14",
   "metadata": {},
   "outputs": [
    {
     "name": "stderr",
     "output_type": "stream",
     "text": [
      "                                                                                \r"
     ]
    }
   ],
   "source": [
    "from pyspark.ml.tuning import TrainValidationSplitModel\n",
    "tvsModelRead = TrainValidationSplitModel.read().load(model_path)\n",
    "# train = spark.read.csv(\"file:///home/work/data/ratings_train.csv\", inferSchema=True, header=True)\n",
    "test = spark.read.csv(\"file:///home/work/data/ratings_test.csv\", inferSchema=True, header=True)"
   ]
  },
  {
   "cell_type": "code",
   "execution_count": 16,
   "id": "13088634-a192-4256-a970-62ac5b49fb9e",
   "metadata": {},
   "outputs": [],
   "source": [
    "movies_df = spark.read.option(\"header\",True).csv(\"file:///home/work/data/cleaned_movies.csv\", inferSchema=True)"
   ]
  },
  {
   "cell_type": "code",
   "execution_count": 17,
   "id": "81908983-42a0-43f1-a62c-e25e63e78112",
   "metadata": {},
   "outputs": [
    {
     "data": {
      "text/plain": [
       "[0.8905777707351172,\n",
       " 0.9010232162538442,\n",
       " 0.9454123025737626,\n",
       " 0.9913658875456827,\n",
       " 0.8896598583663039,\n",
       " 0.9012318321097895,\n",
       " 0.9456857052263995,\n",
       " 0.9915404477757173,\n",
       " 0.8898603884721867,\n",
       " 0.9015462862606608,\n",
       " 0.9458674191100008,\n",
       " 0.991629804403516,\n",
       " 0.8892534517948678,\n",
       " 0.90146664920257,\n",
       " 0.9458295484781136,\n",
       " 0.9915637274683925]"
      ]
     },
     "execution_count": 17,
     "metadata": {},
     "output_type": "execute_result"
    }
   ],
   "source": [
    "tvsModelRead.validationMetrics"
   ]
  },
  {
   "cell_type": "code",
   "execution_count": 18,
   "id": "07c16fdf-8d3e-46be-b90f-57fa4f457664",
   "metadata": {},
   "outputs": [
    {
     "data": {
      "text/plain": [
       "\"estimator: estimator to be cross-validated (current: ALS_b6e83d8d5f39)\\nestimatorParamMaps: estimator param maps (current: [{Param(parent='ALS_b6e83d8d5f39', name='rank', doc='rank of the factorization'): 50, Param(parent='ALS_b6e83d8d5f39', name='regParam', doc='regularization parameter (>= 0).'): 0.1}, {Param(parent='ALS_b6e83d8d5f39', name='rank', doc='rank of the factorization'): 50, Param(parent='ALS_b6e83d8d5f39', name='regParam', doc='regularization parameter (>= 0).'): 0.2}, {Param(parent='ALS_b6e83d8d5f39', name='rank', doc='rank of the factorization'): 50, Param(parent='ALS_b6e83d8d5f39', name='regParam', doc='regularization parameter (>= 0).'): 0.3}, {Param(parent='ALS_b6e83d8d5f39', name='rank', doc='rank of the factorization'): 50, Param(parent='ALS_b6e83d8d5f39', name='regParam', doc='regularization parameter (>= 0).'): 0.4}, {Param(parent='ALS_b6e83d8d5f39', name='rank', doc='rank of the factorization'): 75, Param(parent='ALS_b6e83d8d5f39', name='regParam', doc='regularization parameter (>= 0).'): 0.1}, {Param(parent='ALS_b6e83d8d5f39', name='rank', doc='rank of the factorization'): 75, Param(parent='ALS_b6e83d8d5f39', name='regParam', doc='regularization parameter (>= 0).'): 0.2}, {Param(parent='ALS_b6e83d8d5f39', name='rank', doc='rank of the factorization'): 75, Param(parent='ALS_b6e83d8d5f39', name='regParam', doc='regularization parameter (>= 0).'): 0.3}, {Param(parent='ALS_b6e83d8d5f39', name='rank', doc='rank of the factorization'): 75, Param(parent='ALS_b6e83d8d5f39', name='regParam', doc='regularization parameter (>= 0).'): 0.4}, {Param(parent='ALS_b6e83d8d5f39', name='rank', doc='rank of the factorization'): 100, Param(parent='ALS_b6e83d8d5f39', name='regParam', doc='regularization parameter (>= 0).'): 0.1}, {Param(parent='ALS_b6e83d8d5f39', name='rank', doc='rank of the factorization'): 100, Param(parent='ALS_b6e83d8d5f39', name='regParam', doc='regularization parameter (>= 0).'): 0.2}, {Param(parent='ALS_b6e83d8d5f39', name='rank', doc='rank of the factorization'): 100, Param(parent='ALS_b6e83d8d5f39', name='regParam', doc='regularization parameter (>= 0).'): 0.3}, {Param(parent='ALS_b6e83d8d5f39', name='rank', doc='rank of the factorization'): 100, Param(parent='ALS_b6e83d8d5f39', name='regParam', doc='regularization parameter (>= 0).'): 0.4}, {Param(parent='ALS_b6e83d8d5f39', name='rank', doc='rank of the factorization'): 125, Param(parent='ALS_b6e83d8d5f39', name='regParam', doc='regularization parameter (>= 0).'): 0.1}, {Param(parent='ALS_b6e83d8d5f39', name='rank', doc='rank of the factorization'): 125, Param(parent='ALS_b6e83d8d5f39', name='regParam', doc='regularization parameter (>= 0).'): 0.2}, {Param(parent='ALS_b6e83d8d5f39', name='rank', doc='rank of the factorization'): 125, Param(parent='ALS_b6e83d8d5f39', name='regParam', doc='regularization parameter (>= 0).'): 0.3}, {Param(parent='ALS_b6e83d8d5f39', name='rank', doc='rank of the factorization'): 125, Param(parent='ALS_b6e83d8d5f39', name='regParam', doc='regularization parameter (>= 0).'): 0.4}])\\nevaluator: evaluator used to select hyper-parameters that maximize the validator metric (current: RegressionEvaluator_87d4d2a3e012)\\nseed: random seed. (default: 2595371819089520316, current: 0)\\ntrainRatio: Param for ratio between train and     validation data. Must be between 0 and 1. (default: 0.75, current: 0.75)\""
      ]
     },
     "execution_count": 18,
     "metadata": {},
     "output_type": "execute_result"
    }
   ],
   "source": [
    "tvsModelRead.explainParams()"
   ]
  },
  {
   "cell_type": "code",
   "execution_count": 19,
   "id": "adb2df2a-711f-4cbd-895f-d4999eedb362",
   "metadata": {},
   "outputs": [],
   "source": [
    "best_model = tvsModelRead.bestModel"
   ]
  },
  {
   "cell_type": "code",
   "execution_count": 20,
   "id": "165e1cfb-395f-48ec-8996-adf115e7424e",
   "metadata": {},
   "outputs": [
    {
     "name": "stderr",
     "output_type": "stream",
     "text": [
      "[Stage 21:===========================================>              (3 + 1) / 4]\r"
     ]
    },
    {
     "name": "stdout",
     "output_type": "stream",
     "text": [
      "Best Model Train RMSE =  0.6290511606387795\n"
     ]
    },
    {
     "name": "stderr",
     "output_type": "stream",
     "text": [
      "                                                                                \r"
     ]
    }
   ],
   "source": [
    "print(\"Best Model Train RMSE = \",evaluator.evaluate(best_model.transform(train)))"
   ]
  },
  {
   "cell_type": "code",
   "execution_count": 21,
   "id": "9559ca36-7442-42c0-b405-1b3a7c6d9dde",
   "metadata": {},
   "outputs": [
    {
     "name": "stderr",
     "output_type": "stream",
     "text": [
      "[Stage 27:===========================================>              (3 + 1) / 4]\r"
     ]
    },
    {
     "name": "stdout",
     "output_type": "stream",
     "text": [
      "Best Model Test RMSE =  0.8647913965554024\n",
      "CPU times: user 14.3 ms, sys: 1.05 ms, total: 15.4 ms\n",
      "Wall time: 27.9 s\n"
     ]
    },
    {
     "name": "stderr",
     "output_type": "stream",
     "text": [
      "                                                                                \r"
     ]
    }
   ],
   "source": [
    "%%time\n",
    "print(\"Best Model Test RMSE = \",evaluator.evaluate(best_model.transform(test)))"
   ]
  },
  {
   "cell_type": "code",
   "execution_count": 22,
   "id": "0bcfc77b-dbd8-45b6-844b-75afcb7fcc8f",
   "metadata": {},
   "outputs": [
    {
     "name": "stderr",
     "output_type": "stream",
     "text": [
      "/usr/local/lib/python3.8/dist-packages/pyspark/sql/context.py:125: FutureWarning: Deprecated in 3.0.0. Use SparkSession.builder.getOrCreate() instead.\n",
      "  warnings.warn(\n",
      "[Stage 29:==============================================>           (4 + 1) / 5]\r"
     ]
    },
    {
     "name": "stdout",
     "output_type": "stream",
     "text": [
      "+------+--------------------------------------------------------------------------------------------------------+\n",
      "|userId|recommendations                                                                                         |\n",
      "+------+--------------------------------------------------------------------------------------------------------+\n",
      "|1     |[{26520, 4.9192705}, {2632, 4.610244}, {8629, 4.5221386}, {8377, 4.4997187}, {7096, 4.4996743}]         |\n",
      "|6     |[{25941, 5.2045436}, {5911, 4.9134603}, {31086, 4.8424063}, {146327, 4.8311415}, {8377, 4.817455}]      |\n",
      "|16    |[{163512, 5.1467366}, {170425, 5.1442766}, {25941, 5.127475}, {72850, 5.077169}, {152842, 5.048527}]    |\n",
      "|22    |[{118760, 5.2957597}, {36799, 5.0936933}, {8377, 5.0924625}, {170777, 5.0544353}, {6411, 5.034553}]     |\n",
      "|26    |[{163512, 4.3564367}, {170425, 4.3407555}, {163112, 4.2501783}, {32705, 4.2499933}, {179795, 4.2499933}]|\n",
      "|27    |[{185571, 4.915963}, {96991, 4.8671374}, {113315, 4.839786}, {118760, 4.821211}, {163112, 4.8124537}]   |\n",
      "|28    |[{163512, 5.6988235}, {170635, 5.659982}, {152842, 5.5184946}, {169252, 5.4954357}, {162210, 5.48936}]  |\n",
      "|34    |[{163512, 3.8946488}, {92475, 3.8389647}, {170425, 3.802386}, {119068, 3.797408}, {112580, 3.7507577}]  |\n",
      "|44    |[{107304, 5.3242316}, {112580, 5.3116875}, {207311, 5.300731}, {119068, 5.2453666}, {181217, 5.2274237}]|\n",
      "|47    |[{25941, 4.3078494}, {163512, 4.292602}, {8377, 4.197066}, {26875, 4.0904074}, {170425, 4.045802}]      |\n",
      "+------+--------------------------------------------------------------------------------------------------------+\n",
      "only showing top 10 rows\n",
      "\n"
     ]
    },
    {
     "name": "stderr",
     "output_type": "stream",
     "text": [
      "                                                                                \r"
     ]
    }
   ],
   "source": [
    "recommendations = best_model.recommendForAllUsers(5)\n",
    "recommendations.show(10,truncate=False)"
   ]
  },
  {
   "cell_type": "code",
   "execution_count": 23,
   "id": "530f723a-f755-418d-bdbb-fa7a5df3e602",
   "metadata": {},
   "outputs": [],
   "source": [
    "top_5_recommendations = recommendations.withColumn('recommendation', explode('recommendations')) \\\n",
    "                .select('userId',col('recommendation.movieId').alias('rec_movie_id'),col('recommendation.rating').alias('rec_rating'))\n"
   ]
  },
  {
   "cell_type": "code",
   "execution_count": 24,
   "id": "fa4a947d-f12f-45f9-9bf9-0bafd9ccd48a",
   "metadata": {},
   "outputs": [
    {
     "name": "stderr",
     "output_type": "stream",
     "text": [
      "                                                                                \r"
     ]
    },
    {
     "data": {
      "text/html": [
       "<div>\n",
       "<style scoped>\n",
       "    .dataframe tbody tr th:only-of-type {\n",
       "        vertical-align: middle;\n",
       "    }\n",
       "\n",
       "    .dataframe tbody tr th {\n",
       "        vertical-align: top;\n",
       "    }\n",
       "\n",
       "    .dataframe thead th {\n",
       "        text-align: right;\n",
       "    }\n",
       "</style>\n",
       "<table border=\"1\" class=\"dataframe\">\n",
       "  <thead>\n",
       "    <tr style=\"text-align: right;\">\n",
       "      <th></th>\n",
       "      <th>summary</th>\n",
       "      <th>rec_rating</th>\n",
       "    </tr>\n",
       "  </thead>\n",
       "  <tbody>\n",
       "    <tr>\n",
       "      <th>0</th>\n",
       "      <td>count</td>\n",
       "      <td>554385</td>\n",
       "    </tr>\n",
       "    <tr>\n",
       "      <th>1</th>\n",
       "      <td>mean</td>\n",
       "      <td>4.620933781641176</td>\n",
       "    </tr>\n",
       "    <tr>\n",
       "      <th>2</th>\n",
       "      <td>stddev</td>\n",
       "      <td>0.47630448818225835</td>\n",
       "    </tr>\n",
       "    <tr>\n",
       "      <th>3</th>\n",
       "      <td>min</td>\n",
       "      <td>0.5628935</td>\n",
       "    </tr>\n",
       "    <tr>\n",
       "      <th>4</th>\n",
       "      <td>max</td>\n",
       "      <td>6.4984093</td>\n",
       "    </tr>\n",
       "  </tbody>\n",
       "</table>\n",
       "</div>"
      ],
      "text/plain": [
       "  summary           rec_rating\n",
       "0   count               554385\n",
       "1    mean    4.620933781641176\n",
       "2  stddev  0.47630448818225835\n",
       "3     min            0.5628935\n",
       "4     max            6.4984093"
      ]
     },
     "execution_count": 24,
     "metadata": {},
     "output_type": "execute_result"
    }
   ],
   "source": [
    "top_5_recommendations.select('rec_rating').describe().toPandas()"
   ]
  },
  {
   "cell_type": "markdown",
   "id": "ddb5fcbc-10b0-4756-b658-5b258dfafbc4",
   "metadata": {},
   "source": [
    "Fetching groups of user id and top recommended rating"
   ]
  },
  {
   "cell_type": "code",
   "execution_count": 25,
   "id": "47a33c4e-98ff-41c0-b2f3-409aad487134",
   "metadata": {},
   "outputs": [
    {
     "name": "stderr",
     "output_type": "stream",
     "text": [
      "[Stage 42:>                                                         (0 + 4) / 4]\r"
     ]
    },
    {
     "name": "stdout",
     "output_type": "stream",
     "text": [
      "+------+------------+----------+\n",
      "|userId|rec_movie_id|rec_rating|\n",
      "+------+------------+----------+\n",
      "| 86408|      163512| 0.5783854|\n",
      "|113767|      118760| 0.5990427|\n",
      "| 13677|      118760| 0.6035718|\n",
      "|122697|       25941| 0.6085643|\n",
      "|  9152|      118760|0.60947174|\n",
      "|  5821|      163512|0.61109954|\n",
      "|121218|      163512|0.61887234|\n",
      "| 61102|      118760| 0.6210604|\n",
      "| 63044|      118760|0.62464553|\n",
      "| 38998|      170425| 0.6257034|\n",
      "| 60674|      118760| 0.6270056|\n",
      "|124552|      118760| 0.6310857|\n",
      "| 94280|      118760|0.63461524|\n",
      "| 10364|        8377|0.63687766|\n",
      "| 37091|         914| 0.7694206|\n",
      "| 99438|         273| 0.9350204|\n",
      "|138720|       93432| 1.0294752|\n",
      "|121401|         223| 1.0479981|\n",
      "| 15547|        1093| 1.0568098|\n",
      "| 50119|        2826| 1.0912154|\n",
      "+------+------------+----------+\n",
      "only showing top 20 rows\n",
      "\n"
     ]
    },
    {
     "name": "stderr",
     "output_type": "stream",
     "text": [
      "                                                                                \r"
     ]
    }
   ],
   "source": [
    "from pyspark.sql.window import Window\n",
    "from pyspark.sql.functions import col, row_number\n",
    "windowDept = Window.partitionBy(\"userId\").orderBy(col(\"rec_rating\").desc())\n",
    "top_5_recommendations.withColumn(\"row\",row_number().over(windowDept)) \\\n",
    "  .filter(col(\"row\") == 1).drop(\"row\") \\\n",
    "  .sort('rec_rating') \\\n",
    "  .show()"
   ]
  },
  {
   "cell_type": "markdown",
   "id": "4fcf7aad-e0d0-4f92-8511-6edafad1509b",
   "metadata": {},
   "source": [
    "Fetching max recommended rating !!"
   ]
  },
  {
   "cell_type": "code",
   "execution_count": 26,
   "id": "fc21fff1-3075-4e19-b5d0-c459e4baa5f5",
   "metadata": {},
   "outputs": [
    {
     "name": "stderr",
     "output_type": "stream",
     "text": [
      "                                                                                \r"
     ]
    },
    {
     "data": {
      "text/plain": [
       "6.498409271240234"
      ]
     },
     "execution_count": 26,
     "metadata": {},
     "output_type": "execute_result"
    }
   ],
   "source": [
    "max_rec_rating = top_5_recommendations.select(max('rec_rating')).collect()[0][0]\n",
    "min_rec_rating = top_5_recommendations.select(min('rec_rating')).collect()[0][0]\n",
    "max_rec_rating"
   ]
  },
  {
   "cell_type": "markdown",
   "id": "0a87d246-594b-4516-a509-05777cab7b5f",
   "metadata": {},
   "source": [
    "Finding the user with max recommended rating"
   ]
  },
  {
   "cell_type": "code",
   "execution_count": 27,
   "id": "d5b36c76-c45f-44e8-a500-b1d5b77ee6a1",
   "metadata": {},
   "outputs": [
    {
     "name": "stderr",
     "output_type": "stream",
     "text": [
      "                                                                                \r"
     ]
    },
    {
     "data": {
      "text/html": [
       "<div>\n",
       "<style scoped>\n",
       "    .dataframe tbody tr th:only-of-type {\n",
       "        vertical-align: middle;\n",
       "    }\n",
       "\n",
       "    .dataframe tbody tr th {\n",
       "        vertical-align: top;\n",
       "    }\n",
       "\n",
       "    .dataframe thead th {\n",
       "        text-align: right;\n",
       "    }\n",
       "</style>\n",
       "<table border=\"1\" class=\"dataframe\">\n",
       "  <thead>\n",
       "    <tr style=\"text-align: right;\">\n",
       "      <th></th>\n",
       "      <th>userId</th>\n",
       "      <th>rec_movie_id</th>\n",
       "      <th>rec_rating</th>\n",
       "    </tr>\n",
       "  </thead>\n",
       "  <tbody>\n",
       "    <tr>\n",
       "      <th>0</th>\n",
       "      <td>18230</td>\n",
       "      <td>118760</td>\n",
       "      <td>6.498409</td>\n",
       "    </tr>\n",
       "  </tbody>\n",
       "</table>\n",
       "</div>"
      ],
      "text/plain": [
       "   userId  rec_movie_id  rec_rating\n",
       "0   18230        118760    6.498409"
      ]
     },
     "execution_count": 27,
     "metadata": {},
     "output_type": "execute_result"
    }
   ],
   "source": [
    "top_5_recommendations.filter(col('rec_rating')==max_rec_rating).toPandas()"
   ]
  },
  {
   "cell_type": "code",
   "execution_count": 28,
   "id": "d7e6bdde-7ccc-4934-b687-b9684ffe5975",
   "metadata": {},
   "outputs": [
    {
     "name": "stderr",
     "output_type": "stream",
     "text": [
      "                                                                                \r"
     ]
    },
    {
     "name": "stdout",
     "output_type": "stream",
     "text": [
      "User ID with max recommendation rating:  18230\n"
     ]
    },
    {
     "name": "stderr",
     "output_type": "stream",
     "text": [
      "[Stage 66:==============================================>           (4 + 1) / 5]\r"
     ]
    },
    {
     "name": "stdout",
     "output_type": "stream",
     "text": [
      "User ID with min recommendation rating:  86408\n"
     ]
    },
    {
     "name": "stderr",
     "output_type": "stream",
     "text": [
      "                                                                                \r"
     ]
    }
   ],
   "source": [
    "user_id_with_max_rec_rating = top_5_recommendations.filter(col('rec_rating')==max_rec_rating).collect()[0][0]\n",
    "print(\"User ID with max recommendation rating: \", user_id_with_max_rec_rating)\n",
    "user_id_with_min_rec_rating = top_5_recommendations.filter(col('rec_rating')==min_rec_rating).collect()[0][0]\n",
    "print(\"User ID with min recommendation rating: \", user_id_with_min_rec_rating)"
   ]
  },
  {
   "cell_type": "code",
   "execution_count": 29,
   "id": "94f958c8-3fd7-4cf8-bf84-f6f5b40edfc8",
   "metadata": {},
   "outputs": [],
   "source": [
    "def print_reccomendations(u_id, recs, train, test, movies_df):\n",
    "    print(f\"user {u_id} top preferences:\")\n",
    "    recs.filter(col('userId')==u_id) \\\n",
    "                    .join(movies_df.select('movieId','title', 'genres'), recs.rec_movie_id ==  movies_df.movieId).show(truncate=False)\n",
    "    print(f\"user {u_id} train data:\")\n",
    "    train.select('userId','movieId','rating').filter(col('userId')==u_id) \\\n",
    "                .join(movies_df.select('movieId','title', 'genres'), on='movieId').show(truncate=False)\n",
    "    print(f\"user {u_id} test data:\")\n",
    "    test.select('userId','movieId','rating').filter(col('userId')==u_id) \\\n",
    "                .join(movies_df.select('movieId','title', 'genres'), on='movieId').show(truncate=False)"
   ]
  },
  {
   "cell_type": "code",
   "execution_count": 30,
   "id": "401f1e96-63b6-45bc-bb68-c5c99c239f24",
   "metadata": {},
   "outputs": [
    {
     "name": "stdout",
     "output_type": "stream",
     "text": [
      "Max Rec Stats\n",
      "user 18230 top preferences:\n"
     ]
    },
    {
     "name": "stderr",
     "output_type": "stream",
     "text": [
      "                                                                                \r"
     ]
    },
    {
     "name": "stdout",
     "output_type": "stream",
     "text": [
      "+------+------------+----------+-------+-----------------------------------+--------------------+\n",
      "|userId|rec_movie_id|rec_rating|movieId|title                              |genres              |\n",
      "+------+------------+----------+-------+-----------------------------------+--------------------+\n",
      "|18230 |118760      |6.4984093 |118760 |The Good Lie (2014)                |Drama               |\n",
      "|18230 |8377        |6.2914524 |8377   |City of Joy (1992)                 |Drama               |\n",
      "|18230 |163512      |6.2710433 |163512 |Aquarius (2016)                    |Drama               |\n",
      "|18230 |142875      |6.119466  |142875 |Star (2014)                        |Comedy|Drama|Romance|\n",
      "|18230 |25941       |6.0998225 |25941  |Letter from an Unknown Woman (1948)|Drama|Romance       |\n",
      "+------+------------+----------+-------+-----------------------------------+--------------------+\n",
      "\n",
      "user 18230 train data:\n"
     ]
    },
    {
     "name": "stderr",
     "output_type": "stream",
     "text": [
      "                                                                                \r"
     ]
    },
    {
     "name": "stdout",
     "output_type": "stream",
     "text": [
      "+-------+------+------+-------------------------------------+----------------------------------------+\n",
      "|movieId|userId|rating|title                                |genres                                  |\n",
      "+-------+------+------+-------------------------------------+----------------------------------------+\n",
      "|5      |18230 |5.0   |Father of the Bride Part II (1995)   |Comedy                                  |\n",
      "|31     |18230 |5.0   |Dangerous Minds (1995)               |Drama                                   |\n",
      "|48     |18230 |5.0   |Pocahontas (1995)                    |Animation|Children|Drama|Musical|Romance|\n",
      "|105    |18230 |5.0   |Bridges of Madison County, The (1995)|Drama|Romance                           |\n",
      "|256    |18230 |5.0   |Junior (1994)                        |Comedy|Sci-Fi                           |\n",
      "|355    |18230 |5.0   |Flintstones, The (1994)              |Children|Comedy|Fantasy                 |\n",
      "|596    |18230 |5.0   |Pinocchio (1940)                     |Animation|Children|Fantasy|Musical      |\n",
      "|902    |18230 |5.0   |Breakfast at Tiffany's (1961)        |Drama|Romance                           |\n",
      "|1233   |18230 |5.0   |Boot, Das (Boat, The) (1981)         |Action|Drama|War                        |\n",
      "|2006   |18230 |5.0   |Mask of Zorro, The (1998)            |Action|Comedy|Romance                   |\n",
      "|2105   |18230 |5.0   |Tron (1982)                          |Action|Adventure|Sci-Fi                 |\n",
      "|2161   |18230 |5.0   |NeverEnding Story, The (1984)        |Adventure|Children|Fantasy              |\n",
      "|3255   |18230 |5.0   |League of Their Own, A (1992)        |Comedy|Drama                            |\n",
      "|3911   |18230 |5.0   |Best in Show (2000)                  |Comedy                                  |\n",
      "|95744  |18230 |5.0   |2 Days in New York (2012)            |Comedy                                  |\n",
      "+-------+------+------+-------------------------------------+----------------------------------------+\n",
      "\n",
      "user 18230 test data:\n",
      "+-------+------+------+-----------------------------------+-------------------------------+\n",
      "|movieId|userId|rating|title                              |genres                         |\n",
      "+-------+------+------+-----------------------------------+-------------------------------+\n",
      "|158    |18230 |5.0   |Casper (1995)                      |Adventure|Children             |\n",
      "|196    |18230 |5.0   |Species (1995)                     |Horror|Sci-Fi                  |\n",
      "|543    |18230 |5.0   |So I Married an Axe Murderer (1993)|Comedy|Romance|Thriller        |\n",
      "|552    |18230 |5.0   |Three Musketeers, The (1993)       |Action|Adventure|Comedy|Romance|\n",
      "|1320   |18230 |5.0   |Alien³ (a.k.a. Alien 3) (1992)     |Action|Horror|Sci-Fi|Thriller  |\n",
      "|4085   |18230 |5.0   |Beverly Hills Cop (1984)           |Action|Comedy|Crime|Drama      |\n",
      "+-------+------+------+-----------------------------------+-------------------------------+\n",
      "\n"
     ]
    }
   ],
   "source": [
    "print(\"Max Rec Stats\")\n",
    "print_reccomendations(user_id_with_max_rec_rating, top_5_recommendations, train, test, movies_df)"
   ]
  },
  {
   "cell_type": "code",
   "execution_count": 31,
   "id": "cafe5d1d-9796-4388-b04f-242de9b22547",
   "metadata": {},
   "outputs": [
    {
     "name": "stdout",
     "output_type": "stream",
     "text": [
      "Min Rec Stats\n",
      "user 86408 top preferences:\n"
     ]
    },
    {
     "name": "stderr",
     "output_type": "stream",
     "text": [
      "                                                                                \r"
     ]
    },
    {
     "name": "stdout",
     "output_type": "stream",
     "text": [
      "+------+------------+----------+-------+----------------------------------------------+--------------------------------+\n",
      "|userId|rec_movie_id|rec_rating|movieId|title                                         |genres                          |\n",
      "+------+------------+----------+-------+----------------------------------------------+--------------------------------+\n",
      "|86408 |163512      |0.5783854 |163512 |Aquarius (2016)                               |Drama                           |\n",
      "|86408 |170425      |0.5776877 |170425 |Monsieur & Madame Adelman (2017)              |Comedy|Drama                    |\n",
      "|86408 |25941       |0.5721399 |25941  |Letter from an Unknown Woman (1948)           |Drama|Romance                   |\n",
      "|86408 |8377        |0.5697266 |8377   |City of Joy (1992)                            |Drama                           |\n",
      "|86408 |26875       |0.5628935 |26875  |Pure Formality, A (Pura formalità, Una) (1994)|Crime|Film-Noir|Mystery|Thriller|\n",
      "+------+------------+----------+-------+----------------------------------------------+--------------------------------+\n",
      "\n",
      "user 86408 train data:\n"
     ]
    },
    {
     "name": "stderr",
     "output_type": "stream",
     "text": [
      "                                                                                \r"
     ]
    },
    {
     "name": "stdout",
     "output_type": "stream",
     "text": [
      "+-------+------+------+--------------------------------------+----------------------+\n",
      "|movieId|userId|rating|title                                 |genres                |\n",
      "+-------+------+------+--------------------------------------+----------------------+\n",
      "|318    |86408 |0.5   |Shawshank Redemption, The (1994)      |Crime|Drama           |\n",
      "|508    |86408 |0.5   |Philadelphia (1993)                   |Drama                 |\n",
      "|524    |86408 |0.5   |Rudy (1993)                           |Drama                 |\n",
      "|1193   |86408 |0.5   |One Flew Over the Cuckoo's Nest (1975)|Drama                 |\n",
      "|1225   |86408 |0.5   |Amadeus (1984)                        |Drama                 |\n",
      "|1271   |86408 |0.5   |Fried Green Tomatoes (1991)           |Comedy|Crime|Drama    |\n",
      "|1302   |86408 |0.5   |Field of Dreams (1989)                |Children|Drama|Fantasy|\n",
      "|1673   |86408 |0.5   |Boogie Nights (1997)                  |Drama                 |\n",
      "|1682   |86408 |0.5   |Truman Show, The (1998)               |Comedy|Drama|Sci-Fi   |\n",
      "|1704   |86408 |0.5   |Good Will Hunting (1997)              |Drama|Romance         |\n",
      "|2231   |86408 |0.5   |Rounders (1998)                       |Drama                 |\n",
      "|2329   |86408 |0.5   |American History X (1998)             |Crime|Drama           |\n",
      "|3098   |86408 |0.5   |Natural, The (1984)                   |Drama                 |\n",
      "|3916   |86408 |0.5   |Remember the Titans (2000)            |Drama                 |\n",
      "|3967   |86408 |0.5   |Billy Elliot (2000)                   |Drama                 |\n",
      "|30707  |86408 |0.5   |Million Dollar Baby (2004)            |Drama                 |\n",
      "+-------+------+------+--------------------------------------+----------------------+\n",
      "\n",
      "user 86408 test data:\n",
      "+-------+------+------+----------------------+------+\n",
      "|movieId|userId|rating|title                 |genres|\n",
      "+-------+------+------+----------------------+------+\n",
      "|1228   |86408 |0.5   |Raging Bull (1980)    |Drama |\n",
      "|1961   |86408 |0.5   |Rain Man (1988)       |Drama |\n",
      "|3408   |86408 |0.5   |Erin Brockovich (2000)|Drama |\n",
      "|4022   |86408 |0.5   |Cast Away (2000)      |Drama |\n",
      "+-------+------+------+----------------------+------+\n",
      "\n"
     ]
    }
   ],
   "source": [
    "print(\"Min Rec Stats\")\n",
    "print_reccomendations(user_id_with_min_rec_rating, top_5_recommendations, train, test, movies_df)"
   ]
  },
  {
   "cell_type": "code",
   "execution_count": 32,
   "id": "be0881cc-d9e8-4b2a-9399-f5d42eaf97cc",
   "metadata": {},
   "outputs": [
    {
     "name": "stderr",
     "output_type": "stream",
     "text": [
      "                                                                                \r"
     ]
    },
    {
     "name": "stdout",
     "output_type": "stream",
     "text": [
      "Rand Rec Stats\n",
      "user 44730 top preferences:\n"
     ]
    },
    {
     "name": "stderr",
     "output_type": "stream",
     "text": [
      "                                                                                \r"
     ]
    },
    {
     "name": "stdout",
     "output_type": "stream",
     "text": [
      "+------+------------+----------+-------+-------------------------------------------------------+-------------+\n",
      "|userId|rec_movie_id|rec_rating|movieId|title                                                  |genres       |\n",
      "+------+------------+----------+-------+-------------------------------------------------------+-------------+\n",
      "|44730 |118760      |4.452896  |118760 |The Good Lie (2014)                                    |Drama        |\n",
      "|44730 |25941       |4.4283395 |25941  |Letter from an Unknown Woman (1948)                    |Drama|Romance|\n",
      "|44730 |26520       |4.425784  |26520  |Full Moon in Paris (Les nuits de la pleine lune) (1984)|Drama|Romance|\n",
      "|44730 |8377        |4.4134445 |8377   |City of Joy (1992)                                     |Drama        |\n",
      "|44730 |147330      |4.4011326 |147330 |Sherlock Holmes and Dr. Watson: Acquaintance (1979)    |Crime        |\n",
      "+------+------------+----------+-------+-------------------------------------------------------+-------------+\n",
      "\n",
      "user 44730 train data:\n"
     ]
    },
    {
     "name": "stderr",
     "output_type": "stream",
     "text": [
      "                                                                                \r"
     ]
    },
    {
     "name": "stdout",
     "output_type": "stream",
     "text": [
      "+-------+------+------+--------------------------------------+-------------------------------------------+\n",
      "|movieId|userId|rating|title                                 |genres                                     |\n",
      "+-------+------+------+--------------------------------------+-------------------------------------------+\n",
      "|282    |44730 |2.0   |Nell (1994)                           |Drama                                      |\n",
      "|364    |44730 |4.0   |Lion King, The (1994)                 |Adventure|Animation|Children|Drama|Musical |\n",
      "|466    |44730 |4.0   |Hot Shots! Part Deux (1993)           |Action|Comedy|War                          |\n",
      "|543    |44730 |3.5   |So I Married an Axe Murderer (1993)   |Comedy|Romance|Thriller                    |\n",
      "|586    |44730 |3.5   |Home Alone (1990)                     |Children|Comedy                            |\n",
      "|588    |44730 |4.0   |Aladdin (1992)                        |Adventure|Animation|Children|Comedy|Musical|\n",
      "|593    |44730 |4.0   |Silence of the Lambs, The (1991)      |Crime|Horror|Thriller                      |\n",
      "|708    |44730 |4.0   |Truth About Cats & Dogs, The (1996)   |Comedy|Romance                             |\n",
      "|784    |44730 |2.0   |Cable Guy, The (1996)                 |Comedy|Thriller                            |\n",
      "|852    |44730 |3.5   |Tin Cup (1996)                        |Comedy|Drama|Romance                       |\n",
      "|904    |44730 |4.5   |Rear Window (1954)                    |Mystery|Thriller                           |\n",
      "|1043   |44730 |4.0   |To Gillian on Her 37th Birthday (1996)|Drama|Romance                              |\n",
      "|1101   |44730 |4.0   |Top Gun (1986)                        |Action|Romance                             |\n",
      "|1219   |44730 |4.0   |Psycho (1960)                         |Crime|Horror                               |\n",
      "|1285   |44730 |3.5   |Heathers (1989)                       |Comedy                                     |\n",
      "|1380   |44730 |4.0   |Grease (1978)                         |Comedy|Musical|Romance                     |\n",
      "|1407   |44730 |4.0   |Scream (1996)                         |Comedy|Horror|Mystery|Thriller             |\n",
      "|1408   |44730 |4.5   |Last of the Mohicans, The (1992)      |Action|Romance|War|Western                 |\n",
      "|1485   |44730 |0.5   |Liar Liar (1997)                      |Comedy                                     |\n",
      "|1500   |44730 |4.5   |Grosse Pointe Blank (1997)            |Comedy|Crime|Romance                       |\n",
      "+-------+------+------+--------------------------------------+-------------------------------------------+\n",
      "only showing top 20 rows\n",
      "\n",
      "user 44730 test data:\n",
      "+-------+------+------+--------------------------------------+----------------------------------------+\n",
      "|movieId|userId|rating|title                                 |genres                                  |\n",
      "+-------+------+------+--------------------------------------+----------------------------------------+\n",
      "|342    |44730 |2.0   |Muriel's Wedding (1994)               |Comedy                                  |\n",
      "|520    |44730 |3.5   |Robin Hood: Men in Tights (1993)      |Comedy                                  |\n",
      "|953    |44730 |4.5   |It's a Wonderful Life (1946)          |Children|Drama|Fantasy|Romance          |\n",
      "|1207   |44730 |4.0   |To Kill a Mockingbird (1962)          |Drama                                   |\n",
      "|1644   |44730 |3.0   |I Know What You Did Last Summer (1997)|Horror|Mystery|Thriller                 |\n",
      "|1923   |44730 |4.5   |There's Something About Mary (1998)   |Comedy|Romance                          |\n",
      "|2054   |44730 |0.5   |Honey, I Shrunk the Kids (1989)       |Adventure|Children|Comedy|Fantasy|Sci-Fi|\n",
      "|2599   |44730 |4.5   |Election (1999)                       |Comedy                                  |\n",
      "|2797   |44730 |4.5   |Big (1988)                            |Comedy|Drama|Fantasy|Romance            |\n",
      "|6503   |44730 |4.0   |Charlie's Angels: Full Throttle (2003)|Action|Adventure|Comedy|Crime|Thriller  |\n",
      "|7771   |44730 |4.0   |Zorba the Greek (Alexis Zorbas) (1964)|Adventure|Drama                         |\n",
      "+-------+------+------+--------------------------------------+----------------------------------------+\n",
      "\n"
     ]
    }
   ],
   "source": [
    "rand_id = test.rdd.takeSample(False, 1, seed=0)[0][0]\n",
    "print(\"Rand Rec Stats\")\n",
    "print_reccomendations(rand_id, top_5_recommendations, train, test, movies_df)"
   ]
  },
  {
   "cell_type": "code",
   "execution_count": 33,
   "id": "741d87a7-56a9-4b1d-8348-c2e377d1a97f",
   "metadata": {},
   "outputs": [],
   "source": [
    "# spark.stop()"
   ]
  }
 ],
 "metadata": {
  "kernelspec": {
   "display_name": "Python 3 (ipykernel)",
   "language": "python",
   "name": "python3"
  },
  "language_info": {
   "codemirror_mode": {
    "name": "ipython",
    "version": 3
   },
   "file_extension": ".py",
   "mimetype": "text/x-python",
   "name": "python",
   "nbconvert_exporter": "python",
   "pygments_lexer": "ipython3",
   "version": "3.8.10"
  },
  "toc-autonumbering": true,
  "toc-showcode": true,
  "toc-showmarkdowntxt": true
 },
 "nbformat": 4,
 "nbformat_minor": 5
}
