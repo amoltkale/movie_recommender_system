{
 "cells": [
  {
   "cell_type": "markdown",
   "id": "aadb84bb-9ac3-4bcc-91de-c42847a8b597",
   "metadata": {},
   "source": [
    "# Movie Ratings Matrix Factorization (Collaborative Filtering)"
   ]
  },
  {
   "cell_type": "markdown",
   "id": "922e83e9-d208-46ff-b955-934847f1ecb3",
   "metadata": {},
   "source": [
    "## Imports"
   ]
  },
  {
   "cell_type": "code",
   "execution_count": 1,
   "id": "5fa89d59-cee9-48ff-a958-307bab0b4610",
   "metadata": {},
   "outputs": [],
   "source": [
    "import pyspark\n",
    "from pyspark.sql import SparkSession\n",
    "from pyspark.sql.functions import *"
   ]
  },
  {
   "cell_type": "code",
   "execution_count": 2,
   "id": "3987fe69-9816-4295-868b-ba0cc21d71ce",
   "metadata": {},
   "outputs": [],
   "source": [
    "#env variables\n",
    "write_files = False"
   ]
  },
  {
   "cell_type": "markdown",
   "id": "016ca127-97a9-4b9e-9693-e55447c865f9",
   "metadata": {},
   "source": [
    "## Spark Session"
   ]
  },
  {
   "cell_type": "code",
   "execution_count": 3,
   "id": "fa1f26ce-f197-4e4b-8c30-b5389cd06335",
   "metadata": {},
   "outputs": [
    {
     "name": "stderr",
     "output_type": "stream",
     "text": [
      "WARNING: An illegal reflective access operation has occurred\n",
      "WARNING: Illegal reflective access by org.apache.spark.unsafe.Platform (file:/usr/spark-3.2.1/jars/spark-unsafe_2.12-3.2.1.jar) to constructor java.nio.DirectByteBuffer(long,int)\n",
      "WARNING: Please consider reporting this to the maintainers of org.apache.spark.unsafe.Platform\n",
      "WARNING: Use --illegal-access=warn to enable warnings of further illegal reflective access operations\n",
      "WARNING: All illegal access operations will be denied in a future release\n",
      "Setting default log level to \"WARN\".\n",
      "To adjust logging level use sc.setLogLevel(newLevel). For SparkR, use setLogLevel(newLevel).\n",
      "2022-05-23 04:49:26,046 WARN util.NativeCodeLoader: Unable to load native-hadoop library for your platform... using builtin-java classes where applicable\n",
      "2022-05-23 04:49:27,644 WARN util.Utils: Service 'SparkUI' could not bind on port 4040. Attempting port 4041.\n"
     ]
    }
   ],
   "source": [
    "# Change the number of cores in this code block\n",
    "# by setting `spark.master` to `local[n]` where\n",
    "# n is the number of cores\n",
    "\n",
    "import matplotlib.pyplot as plt\n",
    "\n",
    "conf = pyspark.SparkConf().setAll([('spark.master', 'local[4]'),\n",
    "                                   ('spark.app.name', 'MatrixFactorization'),\n",
    "                                   ('spark.memory.offHeap.enabled', True),\n",
    "                                   ('spark.memory.offHeap.size','4g'),\n",
    "                                   ('spark.executor.memory', '4g'), \n",
    "                                   ('spark.driver.memory','6g')])\n",
    "spark = SparkSession.builder.config(conf=conf).getOrCreate()"
   ]
  },
  {
   "cell_type": "code",
   "execution_count": 4,
   "id": "ef3ade65-8682-49d2-95cf-16b781ae5683",
   "metadata": {},
   "outputs": [],
   "source": [
    "spark.sparkContext.setLogLevel(\"off\")"
   ]
  },
  {
   "cell_type": "code",
   "execution_count": 5,
   "id": "f3abbb7b-826f-458c-9da6-2bf639e05e56",
   "metadata": {},
   "outputs": [
    {
     "data": {
      "text/plain": [
       "'3.2.1'"
      ]
     },
     "execution_count": 5,
     "metadata": {},
     "output_type": "execute_result"
    }
   ],
   "source": [
    "spark.version"
   ]
  },
  {
   "cell_type": "markdown",
   "id": "878ab34c-05cc-4517-af5a-176880f60bcb",
   "metadata": {},
   "source": [
    "## Load final ratings files"
   ]
  },
  {
   "cell_type": "code",
   "execution_count": 6,
   "id": "9acda688-d8e8-4b82-a1e5-b6480ab8a383",
   "metadata": {},
   "outputs": [],
   "source": [
    "# ratings_df = spark.read.csv(\"file:///home/work/data/ratings_100_max.csv\", inferSchema=True, header=True) \\\n",
    "#                         .select('userId','movieId','rating','genres')\n",
    "# ratings_df.printSchema()"
   ]
  },
  {
   "cell_type": "code",
   "execution_count": 7,
   "id": "87ad7090-25c9-473e-ab7f-ad0e6416ff18",
   "metadata": {},
   "outputs": [],
   "source": [
    "#ratings_df.write.csv(\"file:///home/work/data/ratings_100_max_wo_ohe.csv\", header=True)"
   ]
  },
  {
   "cell_type": "code",
   "execution_count": 8,
   "id": "490e7220-5daf-4d0f-b428-9b0ad67ec15f",
   "metadata": {},
   "outputs": [
    {
     "name": "stderr",
     "output_type": "stream",
     "text": [
      "                                                                                \r"
     ]
    }
   ],
   "source": [
    "ratings_df = spark.read.csv(\"file:///home/work/data/ratings_100_max_wo_ohe.csv\", inferSchema=True, header=True)"
   ]
  },
  {
   "cell_type": "code",
   "execution_count": 9,
   "id": "4bc5e86a-932d-48ac-b8e8-39b2e19f5e4e",
   "metadata": {},
   "outputs": [],
   "source": [
    "# train, test = ratings_df.randomSplit([0.8, 0.2], seed=0)\n",
    "train, test = ratings_df.randomSplit([0.5, 0.5], seed=0)"
   ]
  },
  {
   "cell_type": "code",
   "execution_count": 10,
   "id": "709a8de1-33a0-40c6-8dee-5ee0bcd02a10",
   "metadata": {},
   "outputs": [
    {
     "data": {
      "text/plain": [
       "DataFrame[userId: int, movieId: int, rating: double, genres: string]"
      ]
     },
     "execution_count": 10,
     "metadata": {},
     "output_type": "execute_result"
    }
   ],
   "source": [
    "#checking number of partitions \n",
    "# train.rdd.getNumPartitions()\n",
    "#ratings_df.unpersist()\n",
    "test.unpersist()"
   ]
  },
  {
   "cell_type": "markdown",
   "id": "e909bf6d-77d6-40cd-8f8c-6b8445a07b85",
   "metadata": {},
   "source": [
    "## Building ALS model"
   ]
  },
  {
   "cell_type": "markdown",
   "id": "a17447ea-5ccf-4968-90d8-9ac215587ced",
   "metadata": {},
   "source": [
    "### Alternating Least Squares (ALS) matrix factorization"
   ]
  },
  {
   "cell_type": "code",
   "execution_count": 11,
   "id": "daf8117a-9fbd-442c-90a7-407c677e112e",
   "metadata": {},
   "outputs": [],
   "source": [
    "#Alternating Least Squares (ALS) matrix factorization\n",
    "from pyspark.ml.recommendation import ALS\n",
    "als = ALS(userCol='userId',\n",
    "          itemCol='movieId',\n",
    "          ratingCol='rating',\n",
    "          nonnegative=True, #setting this to true since we are using ratings > 0.\n",
    "          implicitPrefs=False, #setting this to false as we are using explicit ratings.\n",
    "          coldStartStrategy='drop', # to make sure we don't get NaN evaluation metrics\n",
    ")"
   ]
  },
  {
   "cell_type": "markdown",
   "id": "e66be9f7-8e3f-4f3d-98cf-75c8b51994af",
   "metadata": {},
   "source": [
    "### Hyperparameter Tuning"
   ]
  },
  {
   "cell_type": "code",
   "execution_count": 12,
   "id": "d9782f34-51a6-4443-8b2d-145c07f47bb9",
   "metadata": {},
   "outputs": [],
   "source": [
    "from pyspark.ml.tuning import ParamGridBuilder\n",
    "param_grid = ParamGridBuilder() \\\n",
    "                .addGrid(als.rank,[50, 75, 100, 125]) \\\n",
    "                .addGrid(als.regParam,[.1, .2, .3, .4]) \\\n",
    "                .build()"
   ]
  },
  {
   "cell_type": "code",
   "execution_count": 13,
   "id": "dac7d835-47d7-4e7c-ad4d-05b39df08f6b",
   "metadata": {},
   "outputs": [],
   "source": [
    "from pyspark.ml.evaluation import RegressionEvaluator\n",
    "evaluator = RegressionEvaluator(metricName='rmse',\n",
    "                                labelCol='rating',\n",
    "                                predictionCol='prediction')                                "
   ]
  },
  {
   "cell_type": "code",
   "execution_count": 14,
   "id": "43266aa3-71a5-401a-b732-1a6084b47f62",
   "metadata": {},
   "outputs": [],
   "source": [
    "# from pyspark.ml.tuning import CrossValidator\n",
    "# cv = CrossValidator(estimator=als,\n",
    "#                     estimatorParamMaps=param_grid,\n",
    "#                     evaluator=evaluator,\n",
    "#                     numFolds=10)\n",
    "# cv.fit(test)\n",
    "from pyspark.ml.tuning import TrainValidationSplit\n",
    "tvs = TrainValidationSplit(estimator=als, estimatorParamMaps=param_grid, evaluator=evaluator, parallelism=1, seed=0)\n"
   ]
  },
  {
   "cell_type": "code",
   "execution_count": null,
   "id": "411b45cd-6b0c-4963-ac2e-1db8effab750",
   "metadata": {},
   "outputs": [],
   "source": []
  },
  {
   "cell_type": "code",
   "execution_count": 15,
   "id": "5b6e78b4-d754-487a-af39-f73945c3de21",
   "metadata": {},
   "outputs": [
    {
     "name": "stdout",
     "output_type": "stream",
     "text": [
      "CPU times: user 4 µs, sys: 2 µs, total: 6 µs\n",
      "Wall time: 40.8 µs\n"
     ]
    }
   ],
   "source": [
    "%%time\n",
    "#tvs_model = tvs.fit(train)"
   ]
  },
  {
   "cell_type": "code",
   "execution_count": 16,
   "id": "9941626e-1199-4e20-8a8c-ad97a031be65",
   "metadata": {},
   "outputs": [],
   "source": [
    "model_path = \"file:///home/work/data/als_model_v2.0\""
   ]
  },
  {
   "cell_type": "code",
   "execution_count": 17,
   "id": "1ee8a1bb-4163-445c-95bb-2b526aa1203c",
   "metadata": {},
   "outputs": [],
   "source": [
    "if write_files:\n",
    "    tvs_model.save(model_path)"
   ]
  },
  {
   "cell_type": "code",
   "execution_count": 18,
   "id": "5b15d3aa-440c-4d26-bb30-7127fc778b14",
   "metadata": {},
   "outputs": [
    {
     "name": "stderr",
     "output_type": "stream",
     "text": [
      "                                                                                \r"
     ]
    }
   ],
   "source": [
    "from pyspark.ml.tuning import TrainValidationSplitModel\n",
    "tvsModelRead = TrainValidationSplitModel.read().load(model_path)"
   ]
  },
  {
   "cell_type": "code",
   "execution_count": 19,
   "id": "81908983-42a0-43f1-a62c-e25e63e78112",
   "metadata": {},
   "outputs": [
    {
     "data": {
      "text/plain": [
       "[0.9479053994041635,\n",
       " 0.9221359702902987,\n",
       " 0.9560366413532954,\n",
       " 1.0015068616712193,\n",
       " 0.9465487440341056,\n",
       " 0.9223445542522011,\n",
       " 0.9560000850943212,\n",
       " 1.0013656163827065,\n",
       " 0.9457746297001982,\n",
       " 0.9225150075076441,\n",
       " 0.9561453037570703,\n",
       " 1.0015428256898005,\n",
       " 0.9447042865116653,\n",
       " 0.9224164127975071,\n",
       " 0.956147839090789,\n",
       " 1.001402419828829]"
      ]
     },
     "execution_count": 19,
     "metadata": {},
     "output_type": "execute_result"
    }
   ],
   "source": [
    "tvsModelRead.validationMetrics"
   ]
  },
  {
   "cell_type": "code",
   "execution_count": 20,
   "id": "07c16fdf-8d3e-46be-b90f-57fa4f457664",
   "metadata": {},
   "outputs": [
    {
     "data": {
      "text/plain": [
       "\"estimator: estimator to be cross-validated (current: ALS_0a4f06b475f9)\\nestimatorParamMaps: estimator param maps (current: [{Param(parent='ALS_0a4f06b475f9', name='regParam', doc='regularization parameter (>= 0).'): 0.1, Param(parent='ALS_0a4f06b475f9', name='rank', doc='rank of the factorization'): 50}, {Param(parent='ALS_0a4f06b475f9', name='regParam', doc='regularization parameter (>= 0).'): 0.2, Param(parent='ALS_0a4f06b475f9', name='rank', doc='rank of the factorization'): 50}, {Param(parent='ALS_0a4f06b475f9', name='regParam', doc='regularization parameter (>= 0).'): 0.3, Param(parent='ALS_0a4f06b475f9', name='rank', doc='rank of the factorization'): 50}, {Param(parent='ALS_0a4f06b475f9', name='regParam', doc='regularization parameter (>= 0).'): 0.4, Param(parent='ALS_0a4f06b475f9', name='rank', doc='rank of the factorization'): 50}, {Param(parent='ALS_0a4f06b475f9', name='regParam', doc='regularization parameter (>= 0).'): 0.1, Param(parent='ALS_0a4f06b475f9', name='rank', doc='rank of the factorization'): 75}, {Param(parent='ALS_0a4f06b475f9', name='regParam', doc='regularization parameter (>= 0).'): 0.2, Param(parent='ALS_0a4f06b475f9', name='rank', doc='rank of the factorization'): 75}, {Param(parent='ALS_0a4f06b475f9', name='regParam', doc='regularization parameter (>= 0).'): 0.3, Param(parent='ALS_0a4f06b475f9', name='rank', doc='rank of the factorization'): 75}, {Param(parent='ALS_0a4f06b475f9', name='regParam', doc='regularization parameter (>= 0).'): 0.4, Param(parent='ALS_0a4f06b475f9', name='rank', doc='rank of the factorization'): 75}, {Param(parent='ALS_0a4f06b475f9', name='regParam', doc='regularization parameter (>= 0).'): 0.1, Param(parent='ALS_0a4f06b475f9', name='rank', doc='rank of the factorization'): 100}, {Param(parent='ALS_0a4f06b475f9', name='regParam', doc='regularization parameter (>= 0).'): 0.2, Param(parent='ALS_0a4f06b475f9', name='rank', doc='rank of the factorization'): 100}, {Param(parent='ALS_0a4f06b475f9', name='regParam', doc='regularization parameter (>= 0).'): 0.3, Param(parent='ALS_0a4f06b475f9', name='rank', doc='rank of the factorization'): 100}, {Param(parent='ALS_0a4f06b475f9', name='regParam', doc='regularization parameter (>= 0).'): 0.4, Param(parent='ALS_0a4f06b475f9', name='rank', doc='rank of the factorization'): 100}, {Param(parent='ALS_0a4f06b475f9', name='regParam', doc='regularization parameter (>= 0).'): 0.1, Param(parent='ALS_0a4f06b475f9', name='rank', doc='rank of the factorization'): 125}, {Param(parent='ALS_0a4f06b475f9', name='regParam', doc='regularization parameter (>= 0).'): 0.2, Param(parent='ALS_0a4f06b475f9', name='rank', doc='rank of the factorization'): 125}, {Param(parent='ALS_0a4f06b475f9', name='regParam', doc='regularization parameter (>= 0).'): 0.3, Param(parent='ALS_0a4f06b475f9', name='rank', doc='rank of the factorization'): 125}, {Param(parent='ALS_0a4f06b475f9', name='regParam', doc='regularization parameter (>= 0).'): 0.4, Param(parent='ALS_0a4f06b475f9', name='rank', doc='rank of the factorization'): 125}])\\nevaluator: evaluator used to select hyper-parameters that maximize the validator metric (current: RegressionEvaluator_9d16bec0e514)\\nseed: random seed. (default: 456388142819086759, current: 0)\\ntrainRatio: Param for ratio between train and     validation data. Must be between 0 and 1. (default: 0.75, current: 0.75)\""
      ]
     },
     "execution_count": 20,
     "metadata": {},
     "output_type": "execute_result"
    }
   ],
   "source": [
    "tvsModelRead.explainParams()"
   ]
  },
  {
   "cell_type": "code",
   "execution_count": 21,
   "id": "adb2df2a-711f-4cbd-895f-d4999eedb362",
   "metadata": {},
   "outputs": [],
   "source": [
    "best_model = tvsModelRead.bestModel"
   ]
  },
  {
   "cell_type": "code",
   "execution_count": 22,
   "id": "165e1cfb-395f-48ec-8996-adf115e7424e",
   "metadata": {},
   "outputs": [
    {
     "name": "stderr",
     "output_type": "stream",
     "text": [
      "[Stage 17:===========================================>              (3 + 1) / 4]\r"
     ]
    },
    {
     "name": "stdout",
     "output_type": "stream",
     "text": [
      "Best Model Train RMSE =  0.8527373346517281\n"
     ]
    },
    {
     "name": "stderr",
     "output_type": "stream",
     "text": [
      "                                                                                \r"
     ]
    }
   ],
   "source": [
    "print(\"Best Model Train RMSE = \",evaluator.evaluate(best_model.transform(train)))"
   ]
  },
  {
   "cell_type": "code",
   "execution_count": 23,
   "id": "9559ca36-7442-42c0-b405-1b3a7c6d9dde",
   "metadata": {},
   "outputs": [
    {
     "name": "stderr",
     "output_type": "stream",
     "text": [
      "[Stage 23:===========================================>              (3 + 1) / 4]\r"
     ]
    },
    {
     "name": "stdout",
     "output_type": "stream",
     "text": [
      "Best Model Test RMSE =  0.8524302570365064\n",
      "CPU times: user 31 ms, sys: 13 ms, total: 44 ms\n",
      "Wall time: 19.2 s\n"
     ]
    },
    {
     "name": "stderr",
     "output_type": "stream",
     "text": [
      "                                                                                \r"
     ]
    }
   ],
   "source": [
    "%%time\n",
    "print(\"Best Model Test RMSE = \",evaluator.evaluate(best_model.transform(test)))"
   ]
  },
  {
   "cell_type": "code",
   "execution_count": 24,
   "id": "0bcfc77b-dbd8-45b6-844b-75afcb7fcc8f",
   "metadata": {},
   "outputs": [
    {
     "name": "stderr",
     "output_type": "stream",
     "text": [
      "/usr/local/lib/python3.8/dist-packages/pyspark/sql/context.py:125: FutureWarning: Deprecated in 3.0.0. Use SparkSession.builder.getOrCreate() instead.\n",
      "  warnings.warn(\n",
      "[Stage 25:===========================================>              (3 + 1) / 4]\r"
     ]
    },
    {
     "name": "stdout",
     "output_type": "stream",
     "text": [
      "+------+------------------------------------------------------------------------------------------------------+\n",
      "|userId|recommendations                                                                                       |\n",
      "+------+------------------------------------------------------------------------------------------------------+\n",
      "|1     |[{176403, 5.585524}, {7898, 5.184587}, {8332, 5.082441}, {68831, 4.957301}, {172455, 4.9383826}]      |\n",
      "|6     |[{176403, 5.84705}, {7898, 5.7286277}, {192391, 5.521527}, {172455, 5.4141035}, {72557, 5.2496595}]   |\n",
      "|16    |[{176403, 5.9276967}, {7898, 5.6642647}, {49265, 5.2970176}, {172455, 5.2871194}, {207311, 5.2752876}]|\n",
      "|22    |[{7898, 6.203899}, {176403, 5.888308}, {172455, 5.884922}, {26167, 5.7084074}, {118760, 5.670126}]    |\n",
      "|26    |[{7898, 5.0351887}, {176403, 4.911462}, {172455, 4.746614}, {99841, 4.554283}, {2257, 4.517469}]      |\n",
      "|27    |[{176403, 5.1657653}, {118760, 5.085511}, {7898, 5.0501847}, {8761, 4.992553}, {134579, 4.900047}]    |\n",
      "|28    |[{176403, 6.500098}, {7898, 6.4498262}, {172455, 6.117937}, {207311, 5.845702}, {118760, 5.8326683}]  |\n",
      "|34    |[{176403, 5.1981807}, {7898, 4.856509}, {172455, 4.847053}, {118760, 4.8059144}, {192391, 4.775199}]  |\n",
      "|44    |[{93022, 5.8940253}, {7898, 5.842515}, {118760, 5.837665}, {192391, 5.7758837}, {172455, 5.734314}]   |\n",
      "|47    |[{176403, 5.225482}, {7898, 4.99796}, {4671, 4.8160615}, {8332, 4.715277}, {207311, 4.710808}]        |\n",
      "+------+------------------------------------------------------------------------------------------------------+\n",
      "only showing top 10 rows\n",
      "\n"
     ]
    },
    {
     "name": "stderr",
     "output_type": "stream",
     "text": [
      "                                                                                \r"
     ]
    }
   ],
   "source": [
    "recommendations = best_model.recommendForAllUsers(5)\n",
    "recommendations.show(10,truncate=False)"
   ]
  },
  {
   "cell_type": "code",
   "execution_count": 25,
   "id": "530f723a-f755-418d-bdbb-fa7a5df3e602",
   "metadata": {},
   "outputs": [],
   "source": [
    "top_5_recommendations = recommendations.withColumn('recommendation', explode('recommendations')) \\\n",
    "                .select('userId',col('recommendation.movieId').alias('rec_movie_id'),col('recommendation.rating').alias('rec_rating'))\n"
   ]
  },
  {
   "cell_type": "code",
   "execution_count": 26,
   "id": "fa4a947d-f12f-45f9-9bf9-0bafd9ccd48a",
   "metadata": {},
   "outputs": [
    {
     "name": "stderr",
     "output_type": "stream",
     "text": [
      "                                                                                \r"
     ]
    },
    {
     "data": {
      "text/html": [
       "<div>\n",
       "<style scoped>\n",
       "    .dataframe tbody tr th:only-of-type {\n",
       "        vertical-align: middle;\n",
       "    }\n",
       "\n",
       "    .dataframe tbody tr th {\n",
       "        vertical-align: top;\n",
       "    }\n",
       "\n",
       "    .dataframe thead th {\n",
       "        text-align: right;\n",
       "    }\n",
       "</style>\n",
       "<table border=\"1\" class=\"dataframe\">\n",
       "  <thead>\n",
       "    <tr style=\"text-align: right;\">\n",
       "      <th></th>\n",
       "      <th>summary</th>\n",
       "      <th>rec_rating</th>\n",
       "    </tr>\n",
       "  </thead>\n",
       "  <tbody>\n",
       "    <tr>\n",
       "      <th>0</th>\n",
       "      <td>count</td>\n",
       "      <td>497195</td>\n",
       "    </tr>\n",
       "    <tr>\n",
       "      <th>1</th>\n",
       "      <td>mean</td>\n",
       "      <td>5.058202126536634</td>\n",
       "    </tr>\n",
       "    <tr>\n",
       "      <th>2</th>\n",
       "      <td>stddev</td>\n",
       "      <td>0.6114788883792666</td>\n",
       "    </tr>\n",
       "    <tr>\n",
       "      <th>3</th>\n",
       "      <td>min</td>\n",
       "      <td>0.6190477</td>\n",
       "    </tr>\n",
       "    <tr>\n",
       "      <th>4</th>\n",
       "      <td>max</td>\n",
       "      <td>7.513843</td>\n",
       "    </tr>\n",
       "  </tbody>\n",
       "</table>\n",
       "</div>"
      ],
      "text/plain": [
       "  summary          rec_rating\n",
       "0   count              497195\n",
       "1    mean   5.058202126536634\n",
       "2  stddev  0.6114788883792666\n",
       "3     min           0.6190477\n",
       "4     max            7.513843"
      ]
     },
     "execution_count": 26,
     "metadata": {},
     "output_type": "execute_result"
    }
   ],
   "source": [
    "top_5_recommendations.select('rec_rating').describe().toPandas()"
   ]
  },
  {
   "cell_type": "markdown",
   "id": "ddb5fcbc-10b0-4756-b658-5b258dfafbc4",
   "metadata": {},
   "source": [
    "Fetching groups of user id and top recommended rating"
   ]
  },
  {
   "cell_type": "code",
   "execution_count": 27,
   "id": "47a33c4e-98ff-41c0-b2f3-409aad487134",
   "metadata": {},
   "outputs": [
    {
     "name": "stderr",
     "output_type": "stream",
     "text": [
      "[Stage 38:>                                                         (0 + 4) / 4]\r"
     ]
    },
    {
     "name": "stdout",
     "output_type": "stream",
     "text": [
      "+------+------------+----------+\n",
      "|userId|rec_movie_id|rec_rating|\n",
      "+------+------------+----------+\n",
      "| 86408|      176403|0.70916986|\n",
      "| 13677|        7898| 0.7104447|\n",
      "|122697|      176403| 0.7112727|\n",
      "| 61102|        7898| 0.7116633|\n",
      "| 55553|      176403|0.71313316|\n",
      "|124552|      176403|0.72123104|\n",
      "| 95542|      176403| 0.7220734|\n",
      "|  5821|      176403|0.72314626|\n",
      "| 63044|        7898| 0.7246245|\n",
      "|113767|      176403| 0.7258566|\n",
      "| 94280|        7898|0.72810245|\n",
      "| 60674|      176403|0.73048496|\n",
      "| 38998|      176403|0.74399805|\n",
      "|121218|      176403| 0.7501817|\n",
      "| 10364|      176403|0.75109565|\n",
      "|  9152|      176403| 0.7574091|\n",
      "| 37091|      176403| 0.7816114|\n",
      "| 15547|        7898|0.92563355|\n",
      "| 66805|      176403|   1.02988|\n",
      "|138720|      176403| 1.1151667|\n",
      "+------+------------+----------+\n",
      "only showing top 20 rows\n",
      "\n"
     ]
    },
    {
     "name": "stderr",
     "output_type": "stream",
     "text": [
      "                                                                                \r"
     ]
    }
   ],
   "source": [
    "from pyspark.sql.window import Window\n",
    "from pyspark.sql.functions import col, row_number\n",
    "windowDept = Window.partitionBy(\"userId\").orderBy(col(\"rec_rating\").desc())\n",
    "top_5_recommendations.withColumn(\"row\",row_number().over(windowDept)) \\\n",
    "  .filter(col(\"row\") == 1).drop(\"row\") \\\n",
    "  .sort('rec_rating') \\\n",
    "  .show()"
   ]
  },
  {
   "cell_type": "markdown",
   "id": "4fcf7aad-e0d0-4f92-8511-6edafad1509b",
   "metadata": {},
   "source": [
    "Fetching max recommended rating !!"
   ]
  },
  {
   "cell_type": "code",
   "execution_count": 28,
   "id": "fc21fff1-3075-4e19-b5d0-c459e4baa5f5",
   "metadata": {},
   "outputs": [
    {
     "name": "stderr",
     "output_type": "stream",
     "text": [
      "                                                                                \r"
     ]
    },
    {
     "data": {
      "text/plain": [
       "7.513843059539795"
      ]
     },
     "execution_count": 28,
     "metadata": {},
     "output_type": "execute_result"
    }
   ],
   "source": [
    "max_rec_rating = top_5_recommendations.select(max('rec_rating')).collect()[0][0]\n",
    "max_rec_rating"
   ]
  },
  {
   "cell_type": "markdown",
   "id": "0a87d246-594b-4516-a509-05777cab7b5f",
   "metadata": {},
   "source": [
    "Finding the user with max recommended rating"
   ]
  },
  {
   "cell_type": "code",
   "execution_count": 29,
   "id": "d5b36c76-c45f-44e8-a500-b1d5b77ee6a1",
   "metadata": {},
   "outputs": [
    {
     "name": "stderr",
     "output_type": "stream",
     "text": [
      "                                                                                \r"
     ]
    },
    {
     "data": {
      "text/html": [
       "<div>\n",
       "<style scoped>\n",
       "    .dataframe tbody tr th:only-of-type {\n",
       "        vertical-align: middle;\n",
       "    }\n",
       "\n",
       "    .dataframe tbody tr th {\n",
       "        vertical-align: top;\n",
       "    }\n",
       "\n",
       "    .dataframe thead th {\n",
       "        text-align: right;\n",
       "    }\n",
       "</style>\n",
       "<table border=\"1\" class=\"dataframe\">\n",
       "  <thead>\n",
       "    <tr style=\"text-align: right;\">\n",
       "      <th></th>\n",
       "      <th>userId</th>\n",
       "      <th>rec_movie_id</th>\n",
       "      <th>rec_rating</th>\n",
       "    </tr>\n",
       "  </thead>\n",
       "  <tbody>\n",
       "    <tr>\n",
       "      <th>0</th>\n",
       "      <td>66365</td>\n",
       "      <td>176403</td>\n",
       "      <td>7.513843</td>\n",
       "    </tr>\n",
       "  </tbody>\n",
       "</table>\n",
       "</div>"
      ],
      "text/plain": [
       "   userId  rec_movie_id  rec_rating\n",
       "0   66365        176403    7.513843"
      ]
     },
     "execution_count": 29,
     "metadata": {},
     "output_type": "execute_result"
    }
   ],
   "source": [
    "top_5_recommendations.filter(col('rec_rating')==max_rec_rating).toPandas()"
   ]
  },
  {
   "cell_type": "code",
   "execution_count": 30,
   "id": "d7e6bdde-7ccc-4934-b687-b9684ffe5975",
   "metadata": {},
   "outputs": [
    {
     "name": "stderr",
     "output_type": "stream",
     "text": [
      "[Stage 51:===========================================>              (3 + 1) / 4]\r"
     ]
    },
    {
     "name": "stdout",
     "output_type": "stream",
     "text": [
      "User ID with max recommendation rating:  66365\n"
     ]
    },
    {
     "name": "stderr",
     "output_type": "stream",
     "text": [
      "                                                                                \r"
     ]
    }
   ],
   "source": [
    "user_id_with_max_rec_rating = top_5_recommendations.filter(col('rec_rating')==max_rec_rating).collect()[0][0]\n",
    "print(\"User ID with max recommendation rating: \", user_id_with_max_rec_rating)"
   ]
  },
  {
   "cell_type": "markdown",
   "id": "26acf62b-1454-43e8-91c9-ea23fa30a729",
   "metadata": {},
   "source": [
    "Refering movies file to get the titles"
   ]
  },
  {
   "cell_type": "code",
   "execution_count": 31,
   "id": "13088634-a192-4256-a970-62ac5b49fb9e",
   "metadata": {},
   "outputs": [],
   "source": [
    "movies_df = spark.read.option(\"header\",True).csv(\"file:///home/work/data/cleaned_movies.csv\", inferSchema=True)"
   ]
  },
  {
   "cell_type": "markdown",
   "id": "66a949af-6e7c-4e98-a614-6c670c1b64ac",
   "metadata": {},
   "source": [
    "Getting top 5 recommended movies for User ID with max recommendation rating"
   ]
  },
  {
   "cell_type": "code",
   "execution_count": 32,
   "id": "1c7681d9-0ab1-4809-8e54-b42dda2f1ae1",
   "metadata": {},
   "outputs": [
    {
     "name": "stderr",
     "output_type": "stream",
     "text": [
      "                                                                                \r"
     ]
    },
    {
     "name": "stdout",
     "output_type": "stream",
     "text": [
      "+-------+------+------------+----------+--------------------+------------------------+\n",
      "|movieId|userId|rec_movie_id|rec_rating|genres              |title                   |\n",
      "+-------+------+------------+----------+--------------------+------------------------+\n",
      "|176403 |66365 |176403      |7.513843  |Drama               |The Divine Order (2017) |\n",
      "|7898   |66365 |7898        |7.4206233 |Comedy|Drama|Western|Junior Bonner (1972)    |\n",
      "|172455 |66365 |172455      |7.154274  |Comedy              |Beatriz at Dinner (2017)|\n",
      "|118760 |66365 |118760      |6.964354  |Drama               |The Good Lie (2014)     |\n",
      "|8013   |66365 |8013        |6.882248  |Comedy|Romance      |I'm with Lucy (2002)    |\n",
      "+-------+------+------------+----------+--------------------+------------------------+\n",
      "\n"
     ]
    }
   ],
   "source": [
    "#Recommendations\n",
    "top_5_recommendations.join(ratings_df.select('movieId','genres'), top_5_recommendations.rec_movie_id ==  ratings_df.movieId) \\\n",
    "                    .distinct() \\\n",
    "                    .join(movies_df.select('movieId','title'), on='movieId') \\\n",
    "                    .filter(col('userId') ==  user_id_with_max_rec_rating ) \\\n",
    "                    .sort('rec_rating', ascending = False).show(10, truncate=False)"
   ]
  },
  {
   "cell_type": "markdown",
   "id": "1ff098ba-c555-4dc8-8149-4d61570c8a8c",
   "metadata": {},
   "source": [
    "Getting all the movies rated highly by User ID with max recommendation rating"
   ]
  },
  {
   "cell_type": "code",
   "execution_count": 34,
   "id": "0631bd0a-3114-46fe-a03c-95602fb540da",
   "metadata": {},
   "outputs": [
    {
     "name": "stderr",
     "output_type": "stream",
     "text": [
      "[Stage 65:==============================================>           (4 + 1) / 5]\r"
     ]
    },
    {
     "name": "stdout",
     "output_type": "stream",
     "text": [
      "+-------+------+------------------------------------+------+-------------------------------------+\n",
      "|movieId|userId|genres                              |rating|title                                |\n",
      "+-------+------+------------------------------------+------+-------------------------------------+\n",
      "|196    |66365 |Horror|Sci-Fi                       |5.0   |Species (1995)                       |\n",
      "|552    |66365 |Action|Adventure|Comedy|Romance     |5.0   |Three Musketeers, The (1993)         |\n",
      "|1909   |66365 |Action|Crime|Mystery|Sci-Fi|Thriller|5.0   |X-Files: Fight the Future, The (1998)|\n",
      "|158    |66365 |Adventure|Children                  |5.0   |Casper (1995)                        |\n",
      "|5      |66365 |Comedy                              |5.0   |Father of the Bride Part II (1995)   |\n",
      "|2763   |66365 |Action|Mystery                      |5.0   |Thomas Crown Affair, The (1999)      |\n",
      "|3175   |66365 |Adventure|Comedy|Sci-Fi             |5.0   |Galaxy Quest (1999)                  |\n",
      "|3176   |66365 |Drama|Mystery|Thriller              |5.0   |Talented Mr. Ripley, The (1999)      |\n",
      "|168    |66365 |Action|Drama|Romance                |5.0   |First Knight (1995)                  |\n",
      "|1777   |66365 |Comedy|Romance                      |5.0   |Wedding Singer, The (1998)           |\n",
      "+-------+------+------------------------------------+------+-------------------------------------+\n",
      "only showing top 10 rows\n",
      "\n"
     ]
    },
    {
     "name": "stderr",
     "output_type": "stream",
     "text": [
      "                                                                                \r"
     ]
    }
   ],
   "source": [
    "#Actual User Prefernces\n",
    "test.select('userId','movieId','genres','rating') \\\n",
    "     .distinct() \\\n",
    "     .join(movies_df.select('movieId','title'), on='movieId') \\\n",
    "     .filter(col('userId') ==  user_id_with_max_rec_rating) \\\n",
    "     .sort('rating', ascending = False) \\\n",
    "     .show(10, truncate=False)"
   ]
  },
  {
   "cell_type": "code",
   "execution_count": 35,
   "id": "741d87a7-56a9-4b1d-8348-c2e377d1a97f",
   "metadata": {},
   "outputs": [],
   "source": [
    "spark.stop()"
   ]
  },
  {
   "cell_type": "code",
   "execution_count": null,
   "id": "50869af4-b5a7-464f-a01a-76bbe4e34fd9",
   "metadata": {},
   "outputs": [],
   "source": []
  },
  {
   "cell_type": "code",
   "execution_count": null,
   "id": "a7fbf645-bc3c-47e3-881b-13c635f26ae8",
   "metadata": {},
   "outputs": [],
   "source": []
  }
 ],
 "metadata": {
  "kernelspec": {
   "display_name": "Python 3 (ipykernel)",
   "language": "python",
   "name": "python3"
  },
  "language_info": {
   "codemirror_mode": {
    "name": "ipython",
    "version": 3
   },
   "file_extension": ".py",
   "mimetype": "text/x-python",
   "name": "python",
   "nbconvert_exporter": "python",
   "pygments_lexer": "ipython3",
   "version": "3.8.10"
  },
  "toc-autonumbering": true,
  "toc-showcode": true,
  "toc-showmarkdowntxt": true
 },
 "nbformat": 4,
 "nbformat_minor": 5
}
