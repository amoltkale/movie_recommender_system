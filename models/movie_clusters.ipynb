{
 "cells": [
  {
   "cell_type": "markdown",
   "id": "fe5738f4-9e5a-46d8-abc6-e620a352b282",
   "metadata": {},
   "source": [
    "# Kmeans Clustering"
   ]
  },
  {
   "cell_type": "code",
   "execution_count": 1,
   "id": "0c482eea-902e-4252-b383-115337259348",
   "metadata": {},
   "outputs": [],
   "source": [
    "import time\n",
    "\n",
    "import numpy as np\n",
    "import pandas as pd\n",
    "import matplotlib.pyplot as plt\n",
    "\n",
    "import pyspark\n",
    "\n",
    "from pyspark.sql import SparkSession\n",
    "from pyspark.sql.functions import *\n",
    "\n",
    "from pyspark.ml.feature import VectorAssembler\n",
    "\n",
    "from pyspark.ml.tuning import TrainValidationSplit, ParamGridBuilder\n",
    "from pyspark.ml.tuning import TrainValidationSplitModel\n",
    "\n",
    "from pyspark.ml.clustering import KMeans\n",
    "from pyspark.ml.evaluation import ClusteringEvaluator"
   ]
  },
  {
   "cell_type": "code",
   "execution_count": 2,
   "id": "a252f939-3482-4365-9c78-7a7041a17420",
   "metadata": {},
   "outputs": [
    {
     "name": "stderr",
     "output_type": "stream",
     "text": [
      "WARNING: An illegal reflective access operation has occurred\n",
      "WARNING: Illegal reflective access by org.apache.spark.unsafe.Platform (file:/usr/spark-3.2.1/jars/spark-unsafe_2.12-3.2.1.jar) to constructor java.nio.DirectByteBuffer(long,int)\n",
      "WARNING: Please consider reporting this to the maintainers of org.apache.spark.unsafe.Platform\n",
      "WARNING: Use --illegal-access=warn to enable warnings of further illegal reflective access operations\n",
      "WARNING: All illegal access operations will be denied in a future release\n",
      "Setting default log level to \"WARN\".\n",
      "To adjust logging level use sc.setLogLevel(newLevel). For SparkR, use setLogLevel(newLevel).\n",
      "2022-05-20 17:26:52,068 WARN util.NativeCodeLoader: Unable to load native-hadoop library for your platform... using builtin-java classes where applicable\n"
     ]
    }
   ],
   "source": [
    "# Change the number of cores in this code block\n",
    "# by setting `spark.master` to `local[n]` where\n",
    "# n is the number of cores\n",
    "\n",
    "conf = pyspark.SparkConf().setAll([('spark.master', 'local[4]'),\n",
    "                                   ('spark.app.name', 'Basic Setup')])\n",
    "spark = SparkSession.builder.config(conf=conf).getOrCreate()"
   ]
  },
  {
   "cell_type": "code",
   "execution_count": 3,
   "id": "16001886-d139-4656-a824-0e8abc104880",
   "metadata": {},
   "outputs": [
    {
     "name": "stdout",
     "output_type": "stream",
     "text": [
      "root\n",
      " |-- movieId: integer (nullable = true)\n",
      " |-- title: string (nullable = true)\n",
      " |-- avg_rating: double (nullable = true)\n",
      " |-- movieYear: integer (nullable = true)\n",
      " |-- genres: string (nullable = true)\n",
      " |-- Crime: double (nullable = true)\n",
      " |-- Romance: double (nullable = true)\n",
      " |-- Thriller: double (nullable = true)\n",
      " |-- Adventure: double (nullable = true)\n",
      " |-- Drama: double (nullable = true)\n",
      " |-- War: double (nullable = true)\n",
      " |-- Documentary: double (nullable = true)\n",
      " |-- Fantasy: double (nullable = true)\n",
      " |-- Mystery: double (nullable = true)\n",
      " |-- Musical: double (nullable = true)\n",
      " |-- Animation: double (nullable = true)\n",
      " |-- Film-Noir: double (nullable = true)\n",
      " |-- Horror: double (nullable = true)\n",
      " |-- Western: double (nullable = true)\n",
      " |-- Comedy: double (nullable = true)\n",
      " |-- Children: double (nullable = true)\n",
      " |-- Action: double (nullable = true)\n",
      " |-- Sci-Fi: double (nullable = true)\n",
      "\n"
     ]
    }
   ],
   "source": [
    "df = spark.read.option(\"header\",True).csv(\"file:///home/work/data/final_movies_df_10.csv\", inferSchema=True)\n",
    "df.printSchema()"
   ]
  },
  {
   "cell_type": "code",
   "execution_count": 4,
   "id": "c5cf3f37-3e5c-4a6f-a67d-9add4abe68a6",
   "metadata": {},
   "outputs": [
    {
     "name": "stdout",
     "output_type": "stream",
     "text": [
      "+-------+--------------------+------------------+---------+--------------------+-----+-------+--------+---------+-----+---+-----------+-------+-------+-------+---------+---------+------+-------+------+--------+------+------+\n",
      "|movieId|               title|        avg_rating|movieYear|              genres|Crime|Romance|Thriller|Adventure|Drama|War|Documentary|Fantasy|Mystery|Musical|Animation|Film-Noir|Horror|Western|Comedy|Children|Action|Sci-Fi|\n",
      "+-------+--------------------+------------------+---------+--------------------+-----+-------+--------+---------+-----+---+-----------+-------+-------+-------+---------+---------+------+-------+------+--------+------+------+\n",
      "|   1088|Dirty Dancing (1987)|  3.25002094679514|     1987|Drama|Musical|Rom...|  0.0|    1.0|     0.0|      0.0|  1.0|0.0|        0.0|    0.0|    0.0|    1.0|      0.0|      0.0|   0.0|    0.0|   0.0|     0.0|   0.0|   0.0|\n",
      "|   1580|Men in Black (a.k...|3.5817083457378187|     1997|Action|Comedy|Sci-Fi|  0.0|    0.0|     0.0|      0.0|  0.0|0.0|        0.0|    0.0|    0.0|    0.0|      0.0|      0.0|   0.0|    0.0|   1.0|     0.0|   1.0|   1.0|\n",
      "|   3175| Galaxy Quest (1999)|3.6077836141619484|     1999|Adventure|Comedy|...|  0.0|    0.0|     0.0|      1.0|  0.0|0.0|        0.0|    0.0|    0.0|    0.0|      0.0|      0.0|   0.0|    0.0|   1.0|     0.0|   0.0|   1.0|\n",
      "|  44022|Ice Age 2: The Me...|3.2593627146699773|     2006|Adventure|Animati...|  0.0|    0.0|     0.0|      1.0|  0.0|0.0|        0.0|    0.0|    0.0|    0.0|      1.0|      0.0|   0.0|    0.0|   1.0|     1.0|   0.0|   0.0|\n",
      "| 175197|The Dark Tower (2...| 2.754918032786885|     2017|Fantasy|Horror|Sc...|  0.0|    0.0|     0.0|      0.0|  0.0|0.0|        0.0|    1.0|    0.0|    0.0|      0.0|      0.0|   1.0|    1.0|   0.0|     0.0|   0.0|   1.0|\n",
      "+-------+--------------------+------------------+---------+--------------------+-----+-------+--------+---------+-----+---+-----------+-------+-------+-------+---------+---------+------+-------+------+--------+------+------+\n",
      "only showing top 5 rows\n",
      "\n"
     ]
    }
   ],
   "source": [
    "df.show(5)"
   ]
  },
  {
   "cell_type": "markdown",
   "id": "abb4a1af-4c8a-47f7-adb8-bb29af8b58f2",
   "metadata": {},
   "source": [
    "*Checking null values in each column*"
   ]
  },
  {
   "cell_type": "code",
   "execution_count": 5,
   "id": "43bb50bf-9c84-4197-b206-588f28ba30c0",
   "metadata": {},
   "outputs": [
    {
     "name": "stdout",
     "output_type": "stream",
     "text": [
      "+-------+-----+----------+---------+------+-----+-------+--------+---------+-----+---+-----------+-------+-------+-------+---------+---------+------+-------+------+--------+------+------+\n",
      "|movieId|title|avg_rating|movieYear|genres|Crime|Romance|Thriller|Adventure|Drama|War|Documentary|Fantasy|Mystery|Musical|Animation|Film-Noir|Horror|Western|Comedy|Children|Action|Sci-Fi|\n",
      "+-------+-----+----------+---------+------+-----+-------+--------+---------+-----+---+-----------+-------+-------+-------+---------+---------+------+-------+------+--------+------+------+\n",
      "|      0|    0|         0|       24|     0|    0|      0|       0|        0|    0|  0|          0|      0|      0|      0|        0|        0|     0|      0|     0|       0|     0|     0|\n",
      "+-------+-----+----------+---------+------+-----+-------+--------+---------+-----+---+-----------+-------+-------+-------+---------+---------+------+-------+------+--------+------+------+\n",
      "\n"
     ]
    }
   ],
   "source": [
    "df.select([count(when(isnan(c) | col(c).isNull(), c)).alias(c) for c in df.columns]).show()"
   ]
  },
  {
   "cell_type": "markdown",
   "id": "2c1166bc-7e80-471c-8531-17e42ddb01a5",
   "metadata": {},
   "source": [
    "*Printing movies without year in it*"
   ]
  },
  {
   "cell_type": "code",
   "execution_count": 6,
   "id": "31103c8f-081f-4cca-a089-1f63de606eda",
   "metadata": {},
   "outputs": [
    {
     "data": {
      "text/html": [
       "<div>\n",
       "<style scoped>\n",
       "    .dataframe tbody tr th:only-of-type {\n",
       "        vertical-align: middle;\n",
       "    }\n",
       "\n",
       "    .dataframe tbody tr th {\n",
       "        vertical-align: top;\n",
       "    }\n",
       "\n",
       "    .dataframe thead th {\n",
       "        text-align: right;\n",
       "    }\n",
       "</style>\n",
       "<table border=\"1\" class=\"dataframe\">\n",
       "  <thead>\n",
       "    <tr style=\"text-align: right;\">\n",
       "      <th></th>\n",
       "      <th>title</th>\n",
       "    </tr>\n",
       "  </thead>\n",
       "  <tbody>\n",
       "    <tr>\n",
       "      <th>0</th>\n",
       "      <td>The King</td>\n",
       "    </tr>\n",
       "    <tr>\n",
       "      <th>1</th>\n",
       "      <td>Science Fiction Volume One: The Osiris Child</td>\n",
       "    </tr>\n",
       "    <tr>\n",
       "      <th>2</th>\n",
       "      <td>Mara</td>\n",
       "    </tr>\n",
       "    <tr>\n",
       "      <th>3</th>\n",
       "      <td>Angel Has Fallen</td>\n",
       "    </tr>\n",
       "    <tr>\n",
       "      <th>4</th>\n",
       "      <td>Trophy Kids</td>\n",
       "    </tr>\n",
       "    <tr>\n",
       "      <th>5</th>\n",
       "      <td>Falling Inn Love</td>\n",
       "    </tr>\n",
       "    <tr>\n",
       "      <th>6</th>\n",
       "      <td>The Perfect Date</td>\n",
       "    </tr>\n",
       "    <tr>\n",
       "      <th>7</th>\n",
       "      <td>In the Tall Grass</td>\n",
       "    </tr>\n",
       "    <tr>\n",
       "      <th>8</th>\n",
       "      <td>Tau</td>\n",
       "    </tr>\n",
       "    <tr>\n",
       "      <th>9</th>\n",
       "      <td>Ready Player One</td>\n",
       "    </tr>\n",
       "    <tr>\n",
       "      <th>10</th>\n",
       "      <td>The Death &amp; Life of John F. Donovan</td>\n",
       "    </tr>\n",
       "    <tr>\n",
       "      <th>11</th>\n",
       "      <td>The Glass Castle</td>\n",
       "    </tr>\n",
       "    <tr>\n",
       "      <th>12</th>\n",
       "      <td>38 Parrots</td>\n",
       "    </tr>\n",
       "    <tr>\n",
       "      <th>13</th>\n",
       "      <td>Paradise Hills</td>\n",
       "    </tr>\n",
       "    <tr>\n",
       "      <th>14</th>\n",
       "      <td>I'm Not Here</td>\n",
       "    </tr>\n",
       "    <tr>\n",
       "      <th>15</th>\n",
       "      <td>The Factory</td>\n",
       "    </tr>\n",
       "    <tr>\n",
       "      <th>16</th>\n",
       "      <td>The Dead Lands</td>\n",
       "    </tr>\n",
       "    <tr>\n",
       "      <th>17</th>\n",
       "      <td>Nocturnal Animals</td>\n",
       "    </tr>\n",
       "    <tr>\n",
       "      <th>18</th>\n",
       "      <td>Millions Game, The (Das Millionenspiel)</td>\n",
       "    </tr>\n",
       "    <tr>\n",
       "      <th>19</th>\n",
       "      <td>Terminal</td>\n",
       "    </tr>\n",
       "    <tr>\n",
       "      <th>20</th>\n",
       "      <td>The Death of Superman</td>\n",
       "    </tr>\n",
       "    <tr>\n",
       "      <th>21</th>\n",
       "      <td>The Favourite</td>\n",
       "    </tr>\n",
       "    <tr>\n",
       "      <th>22</th>\n",
       "      <td>Moonlight</td>\n",
       "    </tr>\n",
       "    <tr>\n",
       "      <th>23</th>\n",
       "      <td>Sherlock: The Blind Banker</td>\n",
       "    </tr>\n",
       "  </tbody>\n",
       "</table>\n",
       "</div>"
      ],
      "text/plain": [
       "                                           title\n",
       "0                                       The King\n",
       "1   Science Fiction Volume One: The Osiris Child\n",
       "2                                           Mara\n",
       "3                               Angel Has Fallen\n",
       "4                                    Trophy Kids\n",
       "5                               Falling Inn Love\n",
       "6                               The Perfect Date\n",
       "7                              In the Tall Grass\n",
       "8                                            Tau\n",
       "9                               Ready Player One\n",
       "10           The Death & Life of John F. Donovan\n",
       "11                              The Glass Castle\n",
       "12                                    38 Parrots\n",
       "13                                Paradise Hills\n",
       "14                                  I'm Not Here\n",
       "15                                   The Factory\n",
       "16                                The Dead Lands\n",
       "17                             Nocturnal Animals\n",
       "18       Millions Game, The (Das Millionenspiel)\n",
       "19                                      Terminal\n",
       "20                         The Death of Superman\n",
       "21                                 The Favourite\n",
       "22                                     Moonlight\n",
       "23                    Sherlock: The Blind Banker"
      ]
     },
     "execution_count": 6,
     "metadata": {},
     "output_type": "execute_result"
    }
   ],
   "source": [
    "#Doing toPandas() for pretty printing\n",
    "df.filter(col('movieYear').isNull()).select('title').toPandas()"
   ]
  },
  {
   "cell_type": "code",
   "execution_count": 7,
   "id": "f019fdfe-b089-47f7-9e83-4f828757da6c",
   "metadata": {},
   "outputs": [
    {
     "name": "stderr",
     "output_type": "stream",
     "text": [
      "                                                                                \r"
     ]
    },
    {
     "data": {
      "text/html": [
       "<div>\n",
       "<style scoped>\n",
       "    .dataframe tbody tr th:only-of-type {\n",
       "        vertical-align: middle;\n",
       "    }\n",
       "\n",
       "    .dataframe tbody tr th {\n",
       "        vertical-align: top;\n",
       "    }\n",
       "\n",
       "    .dataframe thead th {\n",
       "        text-align: right;\n",
       "    }\n",
       "</style>\n",
       "<table border=\"1\" class=\"dataframe\">\n",
       "  <thead>\n",
       "    <tr style=\"text-align: right;\">\n",
       "      <th></th>\n",
       "      <th>summary</th>\n",
       "      <th>movieId</th>\n",
       "      <th>title</th>\n",
       "      <th>avg_rating</th>\n",
       "      <th>movieYear</th>\n",
       "      <th>genres</th>\n",
       "      <th>Crime</th>\n",
       "      <th>Romance</th>\n",
       "      <th>Thriller</th>\n",
       "      <th>Adventure</th>\n",
       "      <th>...</th>\n",
       "      <th>Mystery</th>\n",
       "      <th>Musical</th>\n",
       "      <th>Animation</th>\n",
       "      <th>Film-Noir</th>\n",
       "      <th>Horror</th>\n",
       "      <th>Western</th>\n",
       "      <th>Comedy</th>\n",
       "      <th>Children</th>\n",
       "      <th>Action</th>\n",
       "      <th>Sci-Fi</th>\n",
       "    </tr>\n",
       "  </thead>\n",
       "  <tbody>\n",
       "    <tr>\n",
       "      <th>0</th>\n",
       "      <td>count</td>\n",
       "      <td>24009</td>\n",
       "      <td>24009</td>\n",
       "      <td>24009</td>\n",
       "      <td>23985</td>\n",
       "      <td>24009</td>\n",
       "      <td>24009</td>\n",
       "      <td>24009</td>\n",
       "      <td>24009</td>\n",
       "      <td>24009</td>\n",
       "      <td>...</td>\n",
       "      <td>24009</td>\n",
       "      <td>24009</td>\n",
       "      <td>24009</td>\n",
       "      <td>24009</td>\n",
       "      <td>24009</td>\n",
       "      <td>24009</td>\n",
       "      <td>24009</td>\n",
       "      <td>24009</td>\n",
       "      <td>24009</td>\n",
       "      <td>24009</td>\n",
       "    </tr>\n",
       "    <tr>\n",
       "      <th>1</th>\n",
       "      <td>mean</td>\n",
       "      <td>70788.93344162605</td>\n",
       "      <td>None</td>\n",
       "      <td>3.2003455170428925</td>\n",
       "      <td>1994.7507608922242</td>\n",
       "      <td>None</td>\n",
       "      <td>0.10745970261152069</td>\n",
       "      <td>0.14815277604231747</td>\n",
       "      <td>0.17372651922195842</td>\n",
       "      <td>0.09159065350493564</td>\n",
       "      <td>...</td>\n",
       "      <td>0.05747844558290641</td>\n",
       "      <td>0.0301137073597401</td>\n",
       "      <td>0.057436794535382564</td>\n",
       "      <td>0.010745970261152068</td>\n",
       "      <td>0.11041692698571369</td>\n",
       "      <td>0.019159481860968802</td>\n",
       "      <td>0.3237119413553251</td>\n",
       "      <td>0.055895705777000294</td>\n",
       "      <td>0.14290474405431297</td>\n",
       "      <td>0.07580490649339831</td>\n",
       "    </tr>\n",
       "    <tr>\n",
       "      <th>2</th>\n",
       "      <td>stddev</td>\n",
       "      <td>62574.92667477875</td>\n",
       "      <td>None</td>\n",
       "      <td>0.4939954796797395</td>\n",
       "      <td>22.038548812964635</td>\n",
       "      <td>None</td>\n",
       "      <td>0.30970326109458013</td>\n",
       "      <td>0.35525876163929826</td>\n",
       "      <td>0.37888203284832367</td>\n",
       "      <td>0.28845323933383626</td>\n",
       "      <td>...</td>\n",
       "      <td>0.23275938305937793</td>\n",
       "      <td>0.1709037405567116</td>\n",
       "      <td>0.23268017569029853</td>\n",
       "      <td>0.10310643614230844</td>\n",
       "      <td>0.3134152526066884</td>\n",
       "      <td>0.13708821565464424</td>\n",
       "      <td>0.4679013134320066</td>\n",
       "      <td>0.22972499630498883</td>\n",
       "      <td>0.3499829709256203</td>\n",
       "      <td>0.2646912177941029</td>\n",
       "    </tr>\n",
       "    <tr>\n",
       "      <th>3</th>\n",
       "      <td>min</td>\n",
       "      <td>1</td>\n",
       "      <td>\"\"\"Great Performances\"\" Cats (1998)\"</td>\n",
       "      <td>0.6785714285714286</td>\n",
       "      <td>1874</td>\n",
       "      <td>Action</td>\n",
       "      <td>0.0</td>\n",
       "      <td>0.0</td>\n",
       "      <td>0.0</td>\n",
       "      <td>0.0</td>\n",
       "      <td>...</td>\n",
       "      <td>0.0</td>\n",
       "      <td>0.0</td>\n",
       "      <td>0.0</td>\n",
       "      <td>0.0</td>\n",
       "      <td>0.0</td>\n",
       "      <td>0.0</td>\n",
       "      <td>0.0</td>\n",
       "      <td>0.0</td>\n",
       "      <td>0.0</td>\n",
       "      <td>0.0</td>\n",
       "    </tr>\n",
       "    <tr>\n",
       "      <th>4</th>\n",
       "      <td>max</td>\n",
       "      <td>208737</td>\n",
       "      <td>貞子3D (2012)</td>\n",
       "      <td>4.483096085409253</td>\n",
       "      <td>2019</td>\n",
       "      <td>Western</td>\n",
       "      <td>1.0</td>\n",
       "      <td>1.0</td>\n",
       "      <td>1.0</td>\n",
       "      <td>1.0</td>\n",
       "      <td>...</td>\n",
       "      <td>1.0</td>\n",
       "      <td>1.0</td>\n",
       "      <td>1.0</td>\n",
       "      <td>1.0</td>\n",
       "      <td>1.0</td>\n",
       "      <td>1.0</td>\n",
       "      <td>1.0</td>\n",
       "      <td>1.0</td>\n",
       "      <td>1.0</td>\n",
       "      <td>1.0</td>\n",
       "    </tr>\n",
       "  </tbody>\n",
       "</table>\n",
       "<p>5 rows × 24 columns</p>\n",
       "</div>"
      ],
      "text/plain": [
       "  summary            movieId                                 title  \\\n",
       "0   count              24009                                 24009   \n",
       "1    mean  70788.93344162605                                  None   \n",
       "2  stddev  62574.92667477875                                  None   \n",
       "3     min                  1  \"\"\"Great Performances\"\" Cats (1998)\"   \n",
       "4     max             208737                           貞子3D (2012)   \n",
       "\n",
       "           avg_rating           movieYear   genres                Crime  \\\n",
       "0               24009               23985    24009                24009   \n",
       "1  3.2003455170428925  1994.7507608922242     None  0.10745970261152069   \n",
       "2  0.4939954796797395  22.038548812964635     None  0.30970326109458013   \n",
       "3  0.6785714285714286                1874   Action                  0.0   \n",
       "4   4.483096085409253                2019  Western                  1.0   \n",
       "\n",
       "               Romance             Thriller            Adventure  ...  \\\n",
       "0                24009                24009                24009  ...   \n",
       "1  0.14815277604231747  0.17372651922195842  0.09159065350493564  ...   \n",
       "2  0.35525876163929826  0.37888203284832367  0.28845323933383626  ...   \n",
       "3                  0.0                  0.0                  0.0  ...   \n",
       "4                  1.0                  1.0                  1.0  ...   \n",
       "\n",
       "               Mystery             Musical             Animation  \\\n",
       "0                24009               24009                 24009   \n",
       "1  0.05747844558290641  0.0301137073597401  0.057436794535382564   \n",
       "2  0.23275938305937793  0.1709037405567116   0.23268017569029853   \n",
       "3                  0.0                 0.0                   0.0   \n",
       "4                  1.0                 1.0                   1.0   \n",
       "\n",
       "              Film-Noir               Horror               Western  \\\n",
       "0                 24009                24009                 24009   \n",
       "1  0.010745970261152068  0.11041692698571369  0.019159481860968802   \n",
       "2   0.10310643614230844   0.3134152526066884   0.13708821565464424   \n",
       "3                   0.0                  0.0                   0.0   \n",
       "4                   1.0                  1.0                   1.0   \n",
       "\n",
       "               Comedy              Children               Action  \\\n",
       "0               24009                 24009                24009   \n",
       "1  0.3237119413553251  0.055895705777000294  0.14290474405431297   \n",
       "2  0.4679013134320066   0.22972499630498883   0.3499829709256203   \n",
       "3                 0.0                   0.0                  0.0   \n",
       "4                 1.0                   1.0                  1.0   \n",
       "\n",
       "                Sci-Fi  \n",
       "0                24009  \n",
       "1  0.07580490649339831  \n",
       "2   0.2646912177941029  \n",
       "3                  0.0  \n",
       "4                  1.0  \n",
       "\n",
       "[5 rows x 24 columns]"
      ]
     },
     "execution_count": 7,
     "metadata": {},
     "output_type": "execute_result"
    }
   ],
   "source": [
    "df.describe().toPandas()"
   ]
  },
  {
   "cell_type": "code",
   "execution_count": 34,
   "id": "2d301671-36c5-4f7d-971d-7eb8bf1aa45e",
   "metadata": {},
   "outputs": [
    {
     "name": "stderr",
     "output_type": "stream",
     "text": [
      "[Stage 11531:===============>                                  (323 + 4) / 1024]\r"
     ]
    },
    {
     "data": {
      "text/plain": [
       "['Action',\n",
       " 'Adventure',\n",
       " 'Animation',\n",
       " 'Children',\n",
       " 'Comedy',\n",
       " 'Crime',\n",
       " 'Documentary',\n",
       " 'Drama',\n",
       " 'Fantasy',\n",
       " 'Film-Noir',\n",
       " 'Horror',\n",
       " 'Musical',\n",
       " 'Mystery',\n",
       " 'Romance',\n",
       " 'Sci-Fi',\n",
       " 'Thriller',\n",
       " 'War',\n",
       " 'Western',\n",
       " 'avg_rating']"
      ]
     },
     "execution_count": 34,
     "metadata": {},
     "output_type": "execute_result"
    },
    {
     "name": "stderr",
     "output_type": "stream",
     "text": [
      "[Stage 11537:============================>                     (586 + 5) / 1024]\r"
     ]
    }
   ],
   "source": [
    "col_names = df.columns\n",
    "exc_cols = ['movieId', 'title', 'genres', 'movieYear']\n",
    "feat_cols = sorted(list(set(col_names).difference(set(exc_cols))))\n",
    "feat_cols"
   ]
  },
  {
   "cell_type": "markdown",
   "id": "20a83e89-cbd6-4ac5-b95e-4108a43ae6d8",
   "metadata": {},
   "source": [
    "### Creating features"
   ]
  },
  {
   "cell_type": "markdown",
   "id": "858639af-feb0-4075-a50d-a1a5389d5f11",
   "metadata": {},
   "source": [
    "### Vector assembler to create feature vector column"
   ]
  },
  {
   "cell_type": "code",
   "execution_count": 9,
   "id": "b0be9b78-4731-4725-91b3-3d32a8f80a1e",
   "metadata": {},
   "outputs": [],
   "source": [
    "assembler = VectorAssembler(inputCols=feat_cols, outputCol='features', handleInvalid='skip')\n",
    "final_df = assembler.transform(df)"
   ]
  },
  {
   "cell_type": "code",
   "execution_count": 10,
   "id": "35b4f28e-b0ad-49ff-ac60-bd9f5b6d5568",
   "metadata": {},
   "outputs": [
    {
     "name": "stderr",
     "output_type": "stream",
     "text": [
      "2022-05-20 17:27:02,152 WARN util.package: Truncated the string representation of a plan since it was too large. This behavior can be adjusted by setting 'spark.sql.debug.maxToStringFields'.\n"
     ]
    },
    {
     "name": "stdout",
     "output_type": "stream",
     "text": [
      "+-------+--------------------+------------------+---------+--------------------+-----+-------+--------+---------+-----+---+-----------+-------+-------+-------+---------+---------+------+-------+------+--------+------+------+--------------------+\n",
      "|movieId|               title|        avg_rating|movieYear|              genres|Crime|Romance|Thriller|Adventure|Drama|War|Documentary|Fantasy|Mystery|Musical|Animation|Film-Noir|Horror|Western|Comedy|Children|Action|Sci-Fi|            features|\n",
      "+-------+--------------------+------------------+---------+--------------------+-----+-------+--------+---------+-----+---+-----------+-------+-------+-------+---------+---------+------+-------+------+--------+------+------+--------------------+\n",
      "|   1088|Dirty Dancing (1987)|  3.25002094679514|     1987|Drama|Musical|Rom...|  0.0|    1.0|     0.0|      0.0|  1.0|0.0|        0.0|    0.0|    0.0|    1.0|      0.0|      0.0|   0.0|    0.0|   0.0|     0.0|   0.0|   0.0|(19,[0,1,14,18],[...|\n",
      "|   1580|Men in Black (a.k...|3.5817083457378187|     1997|Action|Comedy|Sci-Fi|  0.0|    0.0|     0.0|      0.0|  0.0|0.0|        0.0|    0.0|    0.0|    0.0|      0.0|      0.0|   0.0|    0.0|   1.0|     0.0|   1.0|   1.0|(19,[1,12,15,17],...|\n",
      "|   3175| Galaxy Quest (1999)|3.6077836141619484|     1999|Adventure|Comedy|...|  0.0|    0.0|     0.0|      1.0|  0.0|0.0|        0.0|    0.0|    0.0|    0.0|      0.0|      0.0|   0.0|    0.0|   1.0|     0.0|   0.0|   1.0|(19,[1,11,12,15],...|\n",
      "|  44022|Ice Age 2: The Me...|3.2593627146699773|     2006|Adventure|Animati...|  0.0|    0.0|     0.0|      1.0|  0.0|0.0|        0.0|    0.0|    0.0|    0.0|      1.0|      0.0|   0.0|    0.0|   1.0|     1.0|   0.0|   0.0|(19,[1,4,11,12,13...|\n",
      "| 175197|The Dark Tower (2...| 2.754918032786885|     2017|Fantasy|Horror|Sc...|  0.0|    0.0|     0.0|      0.0|  0.0|0.0|        0.0|    1.0|    0.0|    0.0|      0.0|      0.0|   1.0|    1.0|   0.0|     0.0|   0.0|   1.0|(19,[1,5,8,10,15]...|\n",
      "+-------+--------------------+------------------+---------+--------------------+-----+-------+--------+---------+-----+---+-----------+-------+-------+-------+---------+---------+------+-------+------+--------+------+------+--------------------+\n",
      "only showing top 5 rows\n",
      "\n"
     ]
    }
   ],
   "source": [
    "final_df.show(5)"
   ]
  },
  {
   "cell_type": "markdown",
   "id": "39c9b885-7e47-46d1-92fd-c7fb245a2516",
   "metadata": {},
   "source": [
    "#### We might not need scaling, but did it anyway for learning purpose"
   ]
  },
  {
   "cell_type": "code",
   "execution_count": 11,
   "id": "f1c7f431-9a3c-43ed-8f05-871912df45d9",
   "metadata": {},
   "outputs": [],
   "source": [
    "# from pyspark.ml.feature import StandardScaler\n",
    "# scaler = StandardScaler(inputCol='features',\n",
    "#                        outputCol='scaled_feat',\n",
    "#                        withStd=True,\n",
    "#                        withMean=False\n",
    "#                        )\n",
    "# scaled_model = scaler.fit(final_df)\n",
    "# cluster_df = scaled_model.transform(final_df)"
   ]
  },
  {
   "cell_type": "markdown",
   "id": "b15ffa38-abb2-4be8-8d7e-ce38652cab73",
   "metadata": {},
   "source": [
    "#### Cluster Evaluator to check how close the points in individual clusters are ?"
   ]
  },
  {
   "cell_type": "code",
   "execution_count": 14,
   "id": "77aae007-00a1-47b0-902b-955ff5c469dd",
   "metadata": {
    "tags": []
   },
   "outputs": [
    {
     "name": "stderr",
     "output_type": "stream",
     "text": [
      "2022-05-20 17:28:25,734 WARN execution.CacheManager: Asked to cache already cached data.\n",
      "2022-05-20 17:28:25,738 WARN execution.CacheManager: Asked to cache already cached data.\n",
      "                                                                                \r"
     ]
    },
    {
     "name": "stdout",
     "output_type": "stream",
     "text": [
      "CPU times: user 11.4 s, sys: 2.72 s, total: 14.1 s\n",
      "Wall time: 1h 36min 43s\n"
     ]
    },
    {
     "name": "stderr",
     "output_type": "stream",
     "text": [
      "[Stage 11186:===============================>                  (637 + 4) / 1024]\r"
     ]
    }
   ],
   "source": [
    "%%time\n",
    "kmeans_algo = KMeans(featuresCol='features', seed=0, maxIter=1000, distanceMeasure=\"cosine\")\n",
    "evaluator = ClusteringEvaluator(predictionCol='prediction',\n",
    "                          featuresCol='features',\n",
    "                          metricName='silhouette',\n",
    "                          distanceMeasure='cosine')\n",
    "\n",
    "\n",
    "grid = ParamGridBuilder().addGrid(kmeans_algo.k, list(range(10,1001,10))).build()\n",
    "\n",
    "tvs = TrainValidationSplit(estimator=kmeans_algo, estimatorParamMaps=grid, evaluator=evaluator, parallelism=1, seed=0)\n",
    "tvsModel = tvs.fit(final_df)"
   ]
  },
  {
   "cell_type": "code",
   "execution_count": 19,
   "id": "1b3ba663-7233-40a9-9e65-97902846727b",
   "metadata": {},
   "outputs": [
    {
     "name": "stderr",
     "output_type": "stream",
     "text": [
      "[Stage 11247:========>(1019 + 4) / 1024][Stage 11249:>              (0 + 0) / 1]\r"
     ]
    },
    {
     "name": "stdout",
     "output_type": "stream",
     "text": [
      "CPU times: user 65.8 ms, sys: 9.04 ms, total: 74.8 ms\n",
      "Wall time: 34.4 s\n"
     ]
    },
    {
     "name": "stderr",
     "output_type": "stream",
     "text": [
      "                                                                                \r"
     ]
    },
    {
     "data": {
      "text/plain": [
       "0.522210564631767"
      ]
     },
     "execution_count": 19,
     "metadata": {},
     "output_type": "execute_result"
    },
    {
     "name": "stderr",
     "output_type": "stream",
     "text": [
      "[Stage 11338:=================================>                (676 + 4) / 1024]\r"
     ]
    }
   ],
   "source": [
    "%%time\n",
    "evaluator.evaluate(tvsModel.transform(final_df))"
   ]
  },
  {
   "cell_type": "code",
   "execution_count": 23,
   "id": "bbcf903b-7371-4734-a37a-58f4a96e5eb7",
   "metadata": {},
   "outputs": [
    {
     "data": {
      "text/plain": [
       "KMeansModel: uid=KMeans_70b0a0e61174, k=170, distanceMeasure=cosine, numFeatures=19"
      ]
     },
     "execution_count": 23,
     "metadata": {},
     "output_type": "execute_result"
    },
    {
     "name": "stderr",
     "output_type": "stream",
     "text": [
      "[Stage 11396:=======================>                          (476 + 4) / 1024]\r"
     ]
    }
   ],
   "source": [
    "tvsModel.bestModel"
   ]
  },
  {
   "cell_type": "code",
   "execution_count": 33,
   "id": "2c97af03-10e5-4fa1-add1-1aa9742137bf",
   "metadata": {},
   "outputs": [
    {
     "name": "stderr",
     "output_type": "stream",
     "text": [
      "[Stage 11485:=======================>                          (482 + 4) / 1024]\r"
     ]
    },
    {
     "data": {
      "text/plain": [
       "<matplotlib.collections.PathCollection at 0x7f653011b520>"
      ]
     },
     "execution_count": 33,
     "metadata": {},
     "output_type": "execute_result"
    },
    {
     "data": {
      "image/png": "[encoded data removed]",
      "text/plain": [
       "<Figure size 432x288 with 1 Axes>"
      ]
     },
     "metadata": {
      "needs_background": "light"
     },
     "output_type": "display_data"
    },
    {
     "name": "stderr",
     "output_type": "stream",
     "text": [
      "[Stage 11531:===============>                                  (311 + 4) / 1024]\r"
     ]
    }
   ],
   "source": [
    "plt.scatter(list(range(10,1001,10)), tvsModel.validationMetrics)\n",
    "plt.scatter(list(range(10,1001,10))[16], tvsModel.validationMetrics[16])"
   ]
  },
  {
   "cell_type": "code",
   "execution_count": 12,
   "id": "591d3bbe-d520-4bf8-a3e2-38c2a2a96c93",
   "metadata": {},
   "outputs": [],
   "source": [
    "eval = ClusteringEvaluator(predictionCol='prediction',\n",
    "                          featuresCol='features',\n",
    "                          metricName='silhouette',\n",
    "                          distanceMeasure='cosine')"
   ]
  },
  {
   "cell_type": "code",
   "execution_count": 13,
   "id": "e8b3d142-eacb-44a0-a1d8-f4ff1f21ad1e",
   "metadata": {},
   "outputs": [],
   "source": [
    "### KMeans clustering "
   ]
  },
  {
   "cell_type": "code",
   "execution_count": 14,
   "id": "05c22d3f-fc23-4c2c-8ddd-3d908d317f35",
   "metadata": {},
   "outputs": [
    {
     "name": "stdout",
     "output_type": "stream",
     "text": [
      "\n",
      "Silhouette Scores for K Means Clustering\n",
      "========================================\n",
      "Model\tScore\t\n",
      "=====\t=====\t\n",
      "\n"
     ]
    },
    {
     "name": "stderr",
     "output_type": "stream",
     "text": [
      "                                                                                \r"
     ]
    },
    {
     "name": "stdout",
     "output_type": "stream",
     "text": [
      "100\n",
      "0.4911384049346459\n"
     ]
    },
    {
     "name": "stderr",
     "output_type": "stream",
     "text": [
      "                                                                                \r"
     ]
    },
    {
     "name": "stdout",
     "output_type": "stream",
     "text": [
      "200\n",
      "0.6011487277159002\n"
     ]
    },
    {
     "name": "stderr",
     "output_type": "stream",
     "text": [
      "                                                                                \r"
     ]
    },
    {
     "name": "stdout",
     "output_type": "stream",
     "text": [
      "300\n",
      "0.6037404968788648\n"
     ]
    },
    {
     "name": "stderr",
     "output_type": "stream",
     "text": [
      "                                                                                \r"
     ]
    },
    {
     "name": "stdout",
     "output_type": "stream",
     "text": [
      "400\n",
      "0.57048802247429\n"
     ]
    },
    {
     "name": "stderr",
     "output_type": "stream",
     "text": [
      "                                                                                \r"
     ]
    },
    {
     "name": "stdout",
     "output_type": "stream",
     "text": [
      "500\n",
      "0.5610350492519948\n"
     ]
    },
    {
     "name": "stderr",
     "output_type": "stream",
     "text": [
      "                                                                                \r"
     ]
    },
    {
     "name": "stdout",
     "output_type": "stream",
     "text": [
      "600\n",
      "0.5864398393095508\n"
     ]
    },
    {
     "name": "stderr",
     "output_type": "stream",
     "text": [
      "                                                                                \r"
     ]
    },
    {
     "name": "stdout",
     "output_type": "stream",
     "text": [
      "700\n",
      "0.5973663145855808\n"
     ]
    },
    {
     "name": "stderr",
     "output_type": "stream",
     "text": [
      "                                                                                \r"
     ]
    },
    {
     "name": "stdout",
     "output_type": "stream",
     "text": [
      "800\n",
      "0.6086745281340338\n"
     ]
    },
    {
     "name": "stderr",
     "output_type": "stream",
     "text": [
      "                                                                                \r"
     ]
    },
    {
     "name": "stdout",
     "output_type": "stream",
     "text": [
      "900\n",
      "0.5901716824791318\n"
     ]
    },
    {
     "name": "stderr",
     "output_type": "stream",
     "text": [
      "                                                                                \r"
     ]
    },
    {
     "name": "stdout",
     "output_type": "stream",
     "text": [
      "1000\n",
      "0.61039176154859\n"
     ]
    },
    {
     "name": "stderr",
     "output_type": "stream",
     "text": [
      "                                                                                \r"
     ]
    },
    {
     "name": "stdout",
     "output_type": "stream",
     "text": [
      "1100\n",
      "0.6198625095479733\n"
     ]
    },
    {
     "name": "stderr",
     "output_type": "stream",
     "text": [
      "                                                                                \r"
     ]
    },
    {
     "name": "stdout",
     "output_type": "stream",
     "text": [
      "1200\n",
      "0.6231700509471332\n"
     ]
    },
    {
     "name": "stderr",
     "output_type": "stream",
     "text": [
      "                                                                                \r"
     ]
    },
    {
     "name": "stdout",
     "output_type": "stream",
     "text": [
      "1300\n",
      "0.6225412733574709\n"
     ]
    },
    {
     "name": "stderr",
     "output_type": "stream",
     "text": [
      "                                                                                \r"
     ]
    },
    {
     "name": "stdout",
     "output_type": "stream",
     "text": [
      "1400\n",
      "0.6323966128250387\n"
     ]
    },
    {
     "name": "stderr",
     "output_type": "stream",
     "text": [
      "[Stage 7440:>                                                       (0 + 1) / 1]\r"
     ]
    },
    {
     "name": "stdout",
     "output_type": "stream",
     "text": [
      "1500\n",
      "0.634802272921113\n",
      "Runtime: 11041.68783903122\n"
     ]
    },
    {
     "name": "stderr",
     "output_type": "stream",
     "text": [
      "                                                                                \r"
     ]
    }
   ],
   "source": [
    "silhouette_score = {}\n",
    "print(\"\"\"\n",
    "Silhouette Scores for K Means Clustering\n",
    "========================================\n",
    "Model\\tScore\\t\n",
    "=====\\t=====\\t\n",
    "\"\"\")\n",
    "start = time.time()\n",
    "for k in range(10,1501,10):\n",
    "    kmeans_algo = KMeans(featuresCol='features', k=k, seed=0, maxIter=1000, distanceMeasure=\"cosine\")\n",
    "    kmeans_fit = kmeans_algo.fit(final_df)\n",
    "    output = kmeans_fit.transform(final_df)\n",
    "    score = eval.evaluate(output)\n",
    "    silhouette_score[k] = score\n",
    "    if k % 100 == 0:\n",
    "        # aaa = max(silhouette_score, key = silhouette_score.get) \n",
    "        # print(f\"Max cluster: {aaa} Value: {silhouette_score[aaa]}\")\n",
    "        print(k)\n",
    "        print(silhouette_score[k])\n",
    "    # silhouette_score.append(score)\n",
    "    # print(f\"K{k}\\t{np.round(score,3)}\\t\")\n",
    "end = time.time()\n",
    "print(f\"Runtime: {end - start}\")"
   ]
  },
  {
   "cell_type": "code",
   "execution_count": 15,
   "id": "2be8529e-b6e2-48af-adc1-976bff160d93",
   "metadata": {},
   "outputs": [
    {
     "data": {
      "text/html": [
       "<div>\n",
       "<style scoped>\n",
       "    .dataframe tbody tr th:only-of-type {\n",
       "        vertical-align: middle;\n",
       "    }\n",
       "\n",
       "    .dataframe tbody tr th {\n",
       "        vertical-align: top;\n",
       "    }\n",
       "\n",
       "    .dataframe thead th {\n",
       "        text-align: right;\n",
       "    }\n",
       "</style>\n",
       "<table border=\"1\" class=\"dataframe\">\n",
       "  <thead>\n",
       "    <tr style=\"text-align: right;\">\n",
       "      <th></th>\n",
       "      <th>clusters</th>\n",
       "      <th>score</th>\n",
       "    </tr>\n",
       "  </thead>\n",
       "  <tbody>\n",
       "    <tr>\n",
       "      <th>0</th>\n",
       "      <td>10</td>\n",
       "      <td>0.330907</td>\n",
       "    </tr>\n",
       "    <tr>\n",
       "      <th>1</th>\n",
       "      <td>20</td>\n",
       "      <td>0.442582</td>\n",
       "    </tr>\n",
       "    <tr>\n",
       "      <th>2</th>\n",
       "      <td>30</td>\n",
       "      <td>0.494541</td>\n",
       "    </tr>\n",
       "    <tr>\n",
       "      <th>3</th>\n",
       "      <td>40</td>\n",
       "      <td>0.485320</td>\n",
       "    </tr>\n",
       "    <tr>\n",
       "      <th>4</th>\n",
       "      <td>50</td>\n",
       "      <td>0.471295</td>\n",
       "    </tr>\n",
       "    <tr>\n",
       "      <th>...</th>\n",
       "      <td>...</td>\n",
       "      <td>...</td>\n",
       "    </tr>\n",
       "    <tr>\n",
       "      <th>145</th>\n",
       "      <td>1460</td>\n",
       "      <td>0.636298</td>\n",
       "    </tr>\n",
       "    <tr>\n",
       "      <th>146</th>\n",
       "      <td>1470</td>\n",
       "      <td>0.640617</td>\n",
       "    </tr>\n",
       "    <tr>\n",
       "      <th>147</th>\n",
       "      <td>1480</td>\n",
       "      <td>0.634447</td>\n",
       "    </tr>\n",
       "    <tr>\n",
       "      <th>148</th>\n",
       "      <td>1490</td>\n",
       "      <td>0.635793</td>\n",
       "    </tr>\n",
       "    <tr>\n",
       "      <th>149</th>\n",
       "      <td>1500</td>\n",
       "      <td>0.634802</td>\n",
       "    </tr>\n",
       "  </tbody>\n",
       "</table>\n",
       "<p>150 rows × 2 columns</p>\n",
       "</div>"
      ],
      "text/plain": [
       "     clusters     score\n",
       "0          10  0.330907\n",
       "1          20  0.442582\n",
       "2          30  0.494541\n",
       "3          40  0.485320\n",
       "4          50  0.471295\n",
       "..        ...       ...\n",
       "145      1460  0.636298\n",
       "146      1470  0.640617\n",
       "147      1480  0.634447\n",
       "148      1490  0.635793\n",
       "149      1500  0.634802\n",
       "\n",
       "[150 rows x 2 columns]"
      ]
     },
     "execution_count": 15,
     "metadata": {},
     "output_type": "execute_result"
    }
   ],
   "source": [
    "# silhouette_score\n",
    "score_df = pd.DataFrame(silhouette_score.items(), columns=['clusters', 'score'])\n",
    "score_df"
   ]
  },
  {
   "cell_type": "code",
   "execution_count": 16,
   "id": "adbd2306-af6a-4b8a-8756-d1049dc9816e",
   "metadata": {},
   "outputs": [
    {
     "data": {
      "text/plain": [
       "clusters    1370.00000\n",
       "score          0.64189\n",
       "Name: 136, dtype: float64"
      ]
     },
     "execution_count": 16,
     "metadata": {},
     "output_type": "execute_result"
    }
   ],
   "source": [
    "score_df.loc[score_df.score.argmax(), :]"
   ]
  },
  {
   "cell_type": "code",
   "execution_count": 18,
   "id": "83c76f27-8ac8-4213-8567-6dc54a732ff0",
   "metadata": {},
   "outputs": [
    {
     "data": {
      "text/plain": [
       "<matplotlib.collections.PathCollection at 0x7f323c6305e0>"
      ]
     },
     "execution_count": 18,
     "metadata": {},
     "output_type": "execute_result"
    },
    {
     "data": {
      "image/png": "[encoded data removed]",
      "text/plain": [
       "<Figure size 432x288 with 1 Axes>"
      ]
     },
     "metadata": {
      "needs_background": "light"
     },
     "output_type": "display_data"
    }
   ],
   "source": [
    "plt.scatter(score_df.clusters, score_df.score)"
   ]
  },
  {
   "cell_type": "code",
   "execution_count": 34,
   "id": "d065de7b-0fcf-43b5-bacc-6a5a4d700cab",
   "metadata": {},
   "outputs": [],
   "source": [
    "write_files = False\n",
    "if write_files:\n",
    "    score_df.to_csv('../../data/res_cosine_all.csv', index=False, header=True)"
   ]
  },
  {
   "cell_type": "markdown",
   "id": "3572e0c6-c073-4e41-8b70-ac9adcbffeb3",
   "metadata": {},
   "source": [
    "#### The above score should give us idea if points inside clusters are close to each other."
   ]
  },
  {
   "cell_type": "code",
   "execution_count": 36,
   "id": "eb7a0e03-19c0-40cf-8767-18fff593cf01",
   "metadata": {},
   "outputs": [],
   "source": [
    "spark.stop()"
   ]
  },
  {
   "cell_type": "code",
   "execution_count": null,
   "id": "26756322-c128-48d4-813b-cbaff3130df5",
   "metadata": {},
   "outputs": [],
   "source": []
  }
 ],
 "metadata": {
  "kernelspec": {
   "display_name": "Python 3 (ipykernel)",
   "language": "python",
   "name": "python3"
  },
  "language_info": {
   "codemirror_mode": {
    "name": "ipython",
    "version": 3
   },
   "file_extension": ".py",
   "mimetype": "text/x-python",
   "name": "python",
   "nbconvert_exporter": "python",
   "pygments_lexer": "ipython3",
   "version": "3.8.10"
  }
 },
 "nbformat": 4,
 "nbformat_minor": 5
}
