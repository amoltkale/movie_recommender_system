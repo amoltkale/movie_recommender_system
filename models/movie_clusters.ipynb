{
 "cells": [
  {
   "cell_type": "markdown",
   "id": "fe5738f4-9e5a-46d8-abc6-e620a352b282",
   "metadata": {},
   "source": [
    "# Kmeans Clustering"
   ]
  },
  {
   "cell_type": "code",
   "execution_count": 1,
   "id": "0c482eea-902e-4252-b383-115337259348",
   "metadata": {},
   "outputs": [],
   "source": [
    "import time\n",
    "\n",
    "import numpy as np\n",
    "import pandas as pd\n",
    "import matplotlib.pyplot as plt\n",
    "\n",
    "import pyspark\n",
    "\n",
    "from pyspark.sql import SparkSession\n",
    "from pyspark.sql.functions import *\n",
    "\n",
    "from pyspark.ml.feature import VectorAssembler\n",
    "\n",
    "from pyspark.ml.tuning import TrainValidationSplit, ParamGridBuilder\n",
    "from pyspark.ml.tuning import TrainValidationSplitModel\n",
    "\n",
    "from pyspark.ml.clustering import KMeans\n",
    "from pyspark.ml.evaluation import ClusteringEvaluator"
   ]
  },
  {
   "cell_type": "code",
   "execution_count": 2,
   "id": "612aaf3b-b66d-43df-9d0d-2a164d47169f",
   "metadata": {},
   "outputs": [],
   "source": [
    "#env variables\n",
    "write_files = False\n",
    "fit_model = False\n",
    "model_path = \"file:///home/work/data/kmeans_movies_model\""
   ]
  },
  {
   "cell_type": "code",
   "execution_count": 3,
   "id": "a252f939-3482-4365-9c78-7a7041a17420",
   "metadata": {
    "tags": []
   },
   "outputs": [
    {
     "name": "stderr",
     "output_type": "stream",
     "text": [
      "WARNING: An illegal reflective access operation has occurred\n",
      "WARNING: Illegal reflective access by org.apache.spark.unsafe.Platform (file:/usr/spark-3.2.1/jars/spark-unsafe_2.12-3.2.1.jar) to constructor java.nio.DirectByteBuffer(long,int)\n",
      "WARNING: Please consider reporting this to the maintainers of org.apache.spark.unsafe.Platform\n",
      "WARNING: Use --illegal-access=warn to enable warnings of further illegal reflective access operations\n",
      "WARNING: All illegal access operations will be denied in a future release\n",
      "Setting default log level to \"WARN\".\n",
      "To adjust logging level use sc.setLogLevel(newLevel). For SparkR, use setLogLevel(newLevel).\n",
      "2022-05-30 01:19:22,415 WARN util.NativeCodeLoader: Unable to load native-hadoop library for your platform... using builtin-java classes where applicable\n"
     ]
    }
   ],
   "source": [
    "# Change the number of cores in this code block\n",
    "# by setting `spark.master` to `local[n]` where\n",
    "# n is the number of cores\n",
    "\n",
    "conf = pyspark.SparkConf().setAll([('spark.master', 'local[4]'),\n",
    "                                   ('spark.app.name', 'KMEANS Clustering')])\n",
    "spark = SparkSession.builder.config(conf=conf).getOrCreate()"
   ]
  },
  {
   "cell_type": "markdown",
   "id": "f8bf0b98-2b32-4674-8571-d4bf94de4132",
   "metadata": {},
   "source": [
    "## Read in data"
   ]
  },
  {
   "cell_type": "code",
   "execution_count": 4,
   "id": "16001886-d139-4656-a824-0e8abc104880",
   "metadata": {},
   "outputs": [
    {
     "name": "stderr",
     "output_type": "stream",
     "text": [
      "                                                                                \r"
     ]
    },
    {
     "name": "stdout",
     "output_type": "stream",
     "text": [
      "root\n",
      " |-- movieId: integer (nullable = true)\n",
      " |-- title: string (nullable = true)\n",
      " |-- avg_rating: double (nullable = true)\n",
      " |-- movieYear: integer (nullable = true)\n",
      " |-- genres: string (nullable = true)\n",
      " |-- Crime: double (nullable = true)\n",
      " |-- Romance: double (nullable = true)\n",
      " |-- Thriller: double (nullable = true)\n",
      " |-- Adventure: double (nullable = true)\n",
      " |-- Drama: double (nullable = true)\n",
      " |-- War: double (nullable = true)\n",
      " |-- Documentary: double (nullable = true)\n",
      " |-- Fantasy: double (nullable = true)\n",
      " |-- Mystery: double (nullable = true)\n",
      " |-- Musical: double (nullable = true)\n",
      " |-- Animation: double (nullable = true)\n",
      " |-- Film-Noir: double (nullable = true)\n",
      " |-- Horror: double (nullable = true)\n",
      " |-- Western: double (nullable = true)\n",
      " |-- Comedy: double (nullable = true)\n",
      " |-- Children: double (nullable = true)\n",
      " |-- Action: double (nullable = true)\n",
      " |-- Sci-Fi: double (nullable = true)\n",
      "\n"
     ]
    }
   ],
   "source": [
    "train_df = spark.read.option(\"header\",True).csv(\"file:///home/work/data/kmeans_movies_train/\", inferSchema=True)\n",
    "test_df = spark.read.option(\"header\",True).csv(\"file:///home/work/data/kmeans_movies_test/\", inferSchema=True)\n",
    "train_df.printSchema()"
   ]
  },
  {
   "cell_type": "code",
   "execution_count": 5,
   "id": "2d301671-36c5-4f7d-971d-7eb8bf1aa45e",
   "metadata": {},
   "outputs": [],
   "source": [
    "col_names = train_df.columns\n",
    "exc_cols = ['movieId', 'title', 'genres', 'movieYear']\n",
    "feat_cols = sorted(list(set(col_names).difference(set(exc_cols))))"
   ]
  },
  {
   "cell_type": "markdown",
   "id": "858639af-feb0-4075-a50d-a1a5389d5f11",
   "metadata": {},
   "source": [
    "### Form train and test features for k-means"
   ]
  },
  {
   "cell_type": "code",
   "execution_count": 6,
   "id": "b0be9b78-4731-4725-91b3-3d32a8f80a1e",
   "metadata": {},
   "outputs": [],
   "source": [
    "assembler = VectorAssembler(inputCols=feat_cols, outputCol='features', handleInvalid='skip')\n",
    "train = assembler.transform(train_df)\n",
    "test = assembler.transform(test_df)"
   ]
  },
  {
   "cell_type": "markdown",
   "id": "b15ffa38-abb2-4be8-8d7e-ce38652cab73",
   "metadata": {},
   "source": [
    "### Fit k-means"
   ]
  },
  {
   "cell_type": "code",
   "execution_count": 7,
   "id": "77aae007-00a1-47b0-902b-955ff5c469dd",
   "metadata": {
    "tags": []
   },
   "outputs": [],
   "source": [
    "cluster_list = list(range(10,1501,10))\n",
    "kmeans_algo = KMeans(featuresCol='features', seed=0, maxIter=1000, distanceMeasure=\"cosine\")\n",
    "evaluator = ClusteringEvaluator(predictionCol='prediction',\n",
    "                          featuresCol='features',\n",
    "                          metricName='silhouette',\n",
    "                          distanceMeasure='cosine')\n",
    "\n",
    "\n",
    "grid = ParamGridBuilder().addGrid(kmeans_algo.k, cluster_list).build()\n",
    "\n",
    "tvs = TrainValidationSplit(estimator=kmeans_algo, estimatorParamMaps=grid, evaluator=evaluator, parallelism=1, seed=0)\n",
    "\n",
    "if fit_model:\n",
    "    start = time.time()\n",
    "    tvsModel = tvs.fit(train)\n",
    "    tot_runtime = time.time() - start\n",
    "    print(f\"Total runtime to fit k-means model: {tot_runtime}\")\n",
    "    \n",
    "if write_files:\n",
    "    tvsModel.write().save(model_path)"
   ]
  },
  {
   "cell_type": "markdown",
   "id": "6c570bef-4111-4a06-add5-bcbbae1679df",
   "metadata": {},
   "source": [
    "## Read in model"
   ]
  },
  {
   "cell_type": "code",
   "execution_count": 8,
   "id": "1b3ba663-7233-40a9-9e65-97902846727b",
   "metadata": {},
   "outputs": [
    {
     "name": "stderr",
     "output_type": "stream",
     "text": [
      "2022-05-30 01:19:35,394 WARN util.package: Truncated the string representation of a plan since it was too large. This behavior can be adjusted by setting 'spark.sql.debug.maxToStringFields'.\n",
      "[Stage 21:>                                                         (0 + 1) / 1]\r"
     ]
    },
    {
     "name": "stdout",
     "output_type": "stream",
     "text": [
      "Train score: 0.6355963350995041 Test score: 0.5725490613357676\n"
     ]
    },
    {
     "name": "stderr",
     "output_type": "stream",
     "text": [
      "                                                                                \r"
     ]
    }
   ],
   "source": [
    "tvsModel = TrainValidationSplitModel.read().load(model_path)\n",
    "train_score = evaluator.evaluate(tvsModel.transform(train))\n",
    "test_score = evaluator.evaluate(tvsModel.transform(test))\n",
    "print(f\"Train score: {train_score} Test score: {test_score}\")"
   ]
  },
  {
   "cell_type": "code",
   "execution_count": 9,
   "id": "2c97af03-10e5-4fa1-add1-1aa9742137bf",
   "metadata": {},
   "outputs": [
    {
     "name": "stdout",
     "output_type": "stream",
     "text": [
      "K: 1350 cosine score: 0.6031929712453477\n"
     ]
    },
    {
     "data": {
      "image/png": "[encoded data removed]",
      "text/plain": [
       "<Figure size 432x288 with 1 Axes>"
      ]
     },
     "metadata": {
      "needs_background": "light"
     },
     "output_type": "display_data"
    }
   ],
   "source": [
    "plt.scatter(cluster_list, tvsModel.validationMetrics)\n",
    "k = tvsModel.bestModel.getK()\n",
    "k_i = int((k /10) - 1)\n",
    "plt.scatter(k, tvsModel.validationMetrics[k_i])\n",
    "plt.savefig('../../data/kmeans_scatter.png')\n",
    "print(f'K: {k} cosine score: {tvsModel.validationMetrics[k_i]}')"
   ]
  },
  {
   "cell_type": "code",
   "execution_count": 10,
   "id": "eb7a0e03-19c0-40cf-8767-18fff593cf01",
   "metadata": {},
   "outputs": [],
   "source": [
    "spark.stop()"
   ]
  }
 ],
 "metadata": {
  "kernelspec": {
   "display_name": "Python 3 (ipykernel)",
   "language": "python",
   "name": "python3"
  },
  "language_info": {
   "codemirror_mode": {
    "name": "ipython",
    "version": 3
   },
   "file_extension": ".py",
   "mimetype": "text/x-python",
   "name": "python",
   "nbconvert_exporter": "python",
   "pygments_lexer": "ipython3",
   "version": "3.8.10"
  }
 },
 "nbformat": 4,
 "nbformat_minor": 5
}
