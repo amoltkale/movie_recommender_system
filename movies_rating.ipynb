{
 "cells": [
  {
   "cell_type": "markdown",
   "id": "aa17e7bf-61eb-45d4-b2e6-9e9865b959c1",
   "metadata": {},
   "source": [
    "# Start Spark Session"
   ]
  },
  {
   "cell_type": "code",
   "execution_count": 8,
   "id": "a3f16a4d-0238-4895-97e2-174aec459e8f",
   "metadata": {},
   "outputs": [
    {
     "name": "stderr",
     "output_type": "stream",
     "text": [
      "2022-05-16 00:59:21,043 WARN util.Utils: Service 'SparkUI' could not bind on port 4040. Attempting port 4041.\n",
      "2022-05-16 00:59:21,043 WARN util.Utils: Service 'SparkUI' could not bind on port 4041. Attempting port 4042.\n"
     ]
    }
   ],
   "source": [
    "# Change the number of cores in this code block\n",
    "# by setting `spark.master` to `local[n]` where\n",
    "# n is the number of cores\n",
    "import pyspark\n",
    "from pyspark.sql import SparkSession\n",
    "from pyspark.sql.functions import *\n",
    "\n",
    "conf = pyspark.SparkConf().setAll([('spark.master', 'local[2]'),\n",
    "                                   ('spark.app.name', 'Basic Setup')])\n",
    "spark = SparkSession.builder.config(conf=conf).getOrCreate()"
   ]
  },
  {
   "cell_type": "markdown",
   "id": "98bfd16a-5135-486c-95d2-23ec490f5d96",
   "metadata": {},
   "source": [
    "## Load Data\n",
    "\n",
    "### Read data from the `movies.csv` file"
   ]
  },
  {
   "cell_type": "code",
   "execution_count": 9,
   "id": "a9337c7e-7b81-435a-a2a3-ba95f99f5a5e",
   "metadata": {},
   "outputs": [
    {
     "name": "stdout",
     "output_type": "stream",
     "text": [
      "root\n",
      " |-- movieId: string (nullable = true)\n",
      " |-- title: string (nullable = true)\n",
      " |-- genres: string (nullable = true)\n",
      "\n"
     ]
    }
   ],
   "source": [
    "movies_df = spark.read.option(\"header\",True).csv(\"file:///home/work/data/movies.csv\").cache()\n",
    "movies_df.printSchema()"
   ]
  },
  {
   "cell_type": "code",
   "execution_count": 10,
   "id": "1fd64a26-2fca-474b-9fb6-441c12c7ef05",
   "metadata": {},
   "outputs": [
    {
     "name": "stdout",
     "output_type": "stream",
     "text": [
      "+-------+--------------------+--------------------+\n",
      "|movieId|               title|              genres|\n",
      "+-------+--------------------+--------------------+\n",
      "|      1|    Toy Story (1995)|Adventure|Animati...|\n",
      "|      2|      Jumanji (1995)|Adventure|Childre...|\n",
      "|      3|Grumpier Old Men ...|      Comedy|Romance|\n",
      "|      4|Waiting to Exhale...|Comedy|Drama|Romance|\n",
      "|      5|Father of the Bri...|              Comedy|\n",
      "|      6|         Heat (1995)|Action|Crime|Thri...|\n",
      "|      7|      Sabrina (1995)|      Comedy|Romance|\n",
      "|      8| Tom and Huck (1995)|  Adventure|Children|\n",
      "|      9| Sudden Death (1995)|              Action|\n",
      "|     10|    GoldenEye (1995)|Action|Adventure|...|\n",
      "|     11|American Presiden...|Comedy|Drama|Romance|\n",
      "|     12|Dracula: Dead and...|       Comedy|Horror|\n",
      "|     13|        Balto (1995)|Adventure|Animati...|\n",
      "|     14|        Nixon (1995)|               Drama|\n",
      "|     15|Cutthroat Island ...|Action|Adventure|...|\n",
      "|     16|       Casino (1995)|         Crime|Drama|\n",
      "|     17|Sense and Sensibi...|       Drama|Romance|\n",
      "|     18|   Four Rooms (1995)|              Comedy|\n",
      "|     19|Ace Ventura: When...|              Comedy|\n",
      "|     20|  Money Train (1995)|Action|Comedy|Cri...|\n",
      "+-------+--------------------+--------------------+\n",
      "only showing top 20 rows\n",
      "\n"
     ]
    }
   ],
   "source": [
    "movies_df.show()"
   ]
  },
  {
   "cell_type": "markdown",
   "id": "81f30d03-db18-4f18-bb61-134186002561",
   "metadata": {},
   "source": [
    "### Read in ratings csv"
   ]
  },
  {
   "cell_type": "code",
   "execution_count": 11,
   "id": "19af640a-1483-4c4f-9958-e0999e68e9b5",
   "metadata": {},
   "outputs": [
    {
     "name": "stdout",
     "output_type": "stream",
     "text": [
      "root\n",
      " |-- userId: string (nullable = true)\n",
      " |-- movieId: string (nullable = true)\n",
      " |-- rating: string (nullable = true)\n",
      " |-- timestamp: string (nullable = true)\n",
      "\n"
     ]
    }
   ],
   "source": [
    "ratings_df = spark.read.option(\"header\",True).csv(\"file:///home/work/data/ratings.csv\").cache()\n",
    "ratings_df.printSchema()"
   ]
  },
  {
   "cell_type": "code",
   "execution_count": 12,
   "id": "0b887c25-6f76-4328-baec-3546bd9a8b24",
   "metadata": {},
   "outputs": [
    {
     "name": "stderr",
     "output_type": "stream",
     "text": [
      "[Stage 3:>                                                          (0 + 1) / 1]\r"
     ]
    },
    {
     "name": "stdout",
     "output_type": "stream",
     "text": [
      "+------+-------+------+----------+\n",
      "|userId|movieId|rating| timestamp|\n",
      "+------+-------+------+----------+\n",
      "|     1|    296|   5.0|1147880044|\n",
      "|     1|    306|   3.5|1147868817|\n",
      "|     1|    307|   5.0|1147868828|\n",
      "|     1|    665|   5.0|1147878820|\n",
      "|     1|    899|   3.5|1147868510|\n",
      "|     1|   1088|   4.0|1147868495|\n",
      "|     1|   1175|   3.5|1147868826|\n",
      "|     1|   1217|   3.5|1147878326|\n",
      "|     1|   1237|   5.0|1147868839|\n",
      "|     1|   1250|   4.0|1147868414|\n",
      "|     1|   1260|   3.5|1147877857|\n",
      "|     1|   1653|   4.0|1147868097|\n",
      "|     1|   2011|   2.5|1147868079|\n",
      "|     1|   2012|   2.5|1147868068|\n",
      "|     1|   2068|   2.5|1147869044|\n",
      "|     1|   2161|   3.5|1147868609|\n",
      "|     1|   2351|   4.5|1147877957|\n",
      "|     1|   2573|   4.0|1147878923|\n",
      "|     1|   2632|   5.0|1147878248|\n",
      "|     1|   2692|   5.0|1147869100|\n",
      "+------+-------+------+----------+\n",
      "only showing top 20 rows\n",
      "\n"
     ]
    },
    {
     "name": "stderr",
     "output_type": "stream",
     "text": [
      "                                                                                \r"
     ]
    }
   ],
   "source": [
    "ratings_df.show()"
   ]
  },
  {
   "cell_type": "markdown",
   "id": "c2672640-08bf-4756-b9a2-15150b46cb92",
   "metadata": {},
   "source": [
    "## Join between movies and ratings"
   ]
  },
  {
   "cell_type": "code",
   "execution_count": 13,
   "id": "20bcad43-2cf9-4ec4-8500-e9b019dd7318",
   "metadata": {},
   "outputs": [
    {
     "name": "stderr",
     "output_type": "stream",
     "text": [
      "2022-05-16 01:00:00,489 WARN memory.MemoryStore: Not enough space to cache rdd_31_3 in memory! (computed 54.6 MiB so far)\n",
      "2022-05-16 01:00:00,489 WARN storage.BlockManager: Persisting block rdd_31_3 to disk instead.\n",
      "2022-05-16 01:00:06,431 WARN memory.MemoryStore: Not enough space to cache rdd_31_3 in memory! (computed 35.3 MiB so far)\n",
      "2022-05-16 01:00:06,724 WARN memory.MemoryStore: Not enough space to cache rdd_31_4 in memory! (computed 83.6 MiB so far)\n",
      "2022-05-16 01:00:06,724 WARN storage.BlockManager: Persisting block rdd_31_4 to disk instead.\n",
      "[Stage 8:>                                                          (0 + 2) / 2]\r"
     ]
    },
    {
     "name": "stdout",
     "output_type": "stream",
     "text": [
      "+--------------+\n",
      "|count(movieId)|\n",
      "+--------------+\n",
      "|3376          |\n",
      "+--------------+\n",
      "\n"
     ]
    },
    {
     "name": "stderr",
     "output_type": "stream",
     "text": [
      "                                                                                \r"
     ]
    }
   ],
   "source": [
    "# missing_movies = movies_df.join(ratings_df, movies_df.movieId ==  ratings_df.movieId, \"leftanti\").show(truncate=False)\n",
    "\n",
    "movies_df.createOrReplaceTempView(\"m\")\n",
    "ratings_df.createOrReplaceTempView(\"r\")\n",
    "missing_movies = spark.sql(\"SELECT COUNT(m.movieId) FROM m LEFT ANTI JOIN r ON m.movieId == r.movieId\") \\\n",
    "  .show(truncate=False)"
   ]
  },
  {
   "cell_type": "code",
   "execution_count": 14,
   "id": "a0c57ba0-414d-45c7-bf60-3b434e0a6790",
   "metadata": {},
   "outputs": [
    {
     "name": "stderr",
     "output_type": "stream",
     "text": [
      "2022-05-16 01:20:41,122 WARN memory.MemoryStore: Not enough space to cache rdd_31_3 in memory! (computed 35.3 MiB so far)\n",
      "[Stage 17:>                                                         (0 + 1) / 1]\r"
     ]
    },
    {
     "name": "stdout",
     "output_type": "stream",
     "text": [
      "+-------+------------------------------------------------------------------+\n",
      "|movieId|title                                                             |\n",
      "+-------+------------------------------------------------------------------+\n",
      "|100585 |Above the Street, Below the Water (Over gaden under vandet) (2009)|\n",
      "|101237 |9500 Liberty (2009)                                               |\n",
      "|101329 |Shining Night: A Portrait of Composer Morten Lauridsen (2012)     |\n",
      "|101444 |Big Bang in Tunguska (Das Rätsel von Tunguska) (2008)             |\n",
      "|101472 |Brussels Business, The (2012)                                     |\n",
      "|102135 |Sadda Haq (2013)                                                  |\n",
      "|102192 |Successful Calamity, A (1932)                                     |\n",
      "|103241 |Flea in Her Ear, A (1968)                                         |\n",
      "|103322 |Projectionist, The (1971)                                         |\n",
      "|104640 |Long Dark Hall, The (1951)                                        |\n",
      "|104656 |Across the Sierras (1941)                                         |\n",
      "|105279 |Adventures of Kitty O'Day (Kitty O'Day Comes Through) (1945)      |\n",
      "|105589 |Bachelor Bait (1934)                                              |\n",
      "|105796 |Back in the Saddle (Back in the Saddle Again) (1941)              |\n",
      "|106028 |Thrill of Brazil, The (1946)                                      |\n",
      "|106034 |Don't Play Us Cheap (1973)                                        |\n",
      "|106232 |Reformer and the Redhead, The (1950)                              |\n",
      "|106304 |Hit! (1973)                                                       |\n",
      "|106419 |Aggie Appleby Maker of Men (1933)                                 |\n",
      "|107291 |Annapolis Salute (1937)                                           |\n",
      "+-------+------------------------------------------------------------------+\n",
      "only showing top 20 rows\n",
      "\n"
     ]
    },
    {
     "name": "stderr",
     "output_type": "stream",
     "text": [
      "                                                                                \r"
     ]
    }
   ],
   "source": [
    "missing_movies = spark.sql(\"SELECT m.movieId, m.title FROM m LEFT ANTI JOIN r ON m.movieId == r.movieId\") \\\n",
    "  .show(truncate=False)"
   ]
  },
  {
   "cell_type": "code",
   "execution_count": 22,
   "id": "07166702-6909-4e56-bf34-d5f14c27ee74",
   "metadata": {},
   "outputs": [],
   "source": [
    "no_genre_ratings = spark.sql(\"SELECT m.movieId FROM m RIGHT JOIN r ON m.movieId == r.movieId WHERE m.genres like '%no genres listed%' \")"
   ]
  },
  {
   "cell_type": "code",
   "execution_count": 27,
   "id": "c32e14b6-90c2-494c-ac77-7b5fc4e67010",
   "metadata": {},
   "outputs": [
    {
     "name": "stderr",
     "output_type": "stream",
     "text": [
      "2022-05-16 02:26:06,486 WARN memory.MemoryStore: Not enough space to cache rdd_31_0 in memory! (computed 54.6 MiB so far)\n",
      "                                                                                \r"
     ]
    },
    {
     "data": {
      "text/plain": [
       "26627"
      ]
     },
     "execution_count": 27,
     "metadata": {},
     "output_type": "execute_result"
    }
   ],
   "source": [
    "no_genre_ratings.count()"
   ]
  },
  {
   "cell_type": "code",
   "execution_count": 26,
   "id": "7c7d889a-2010-46d3-ad76-afe2316cf1f1",
   "metadata": {},
   "outputs": [
    {
     "name": "stderr",
     "output_type": "stream",
     "text": [
      "2022-05-16 02:25:37,158 WARN memory.MemoryStore: Not enough space to cache rdd_31_0 in memory! (computed 54.6 MiB so far)\n",
      "2022-05-16 02:25:37,542 WARN memory.MemoryStore: Not enough space to cache rdd_31_0 in memory! (computed 54.6 MiB so far)\n",
      "2022-05-16 02:25:39,878 WARN memory.MemoryStore: Not enough space to cache rdd_31_0 in memory! (computed 54.6 MiB so far)\n"
     ]
    },
    {
     "name": "stdout",
     "output_type": "stream",
     "text": [
      "If drop ratings for movies without genres, we will lose 0.107% of ratings data.\n"
     ]
    }
   ],
   "source": [
    "percent_lost = 100 - (((ratings_df.count() - no_genre_ratings.count()) / ratings_df.count()) * 100)\n",
    "print(f\"If drop ratings for movies without genres, we will lose {percent_lost:.3f}% of ratings data.\")"
   ]
  },
  {
   "cell_type": "code",
   "execution_count": null,
   "id": "29973989-b2bc-47d5-9ab1-11ddf10b4057",
   "metadata": {},
   "outputs": [],
   "source": []
  },
  {
   "cell_type": "code",
   "execution_count": 7,
   "id": "f86bce71-e096-4f1f-969d-14fdf9cfbc75",
   "metadata": {},
   "outputs": [],
   "source": [
    "# spark.stop()"
   ]
  }
 ],
 "metadata": {
  "kernelspec": {
   "display_name": "Python 3 (ipykernel)",
   "language": "python",
   "name": "python3"
  },
  "language_info": {
   "codemirror_mode": {
    "name": "ipython",
    "version": 3
   },
   "file_extension": ".py",
   "mimetype": "text/x-python",
   "name": "python",
   "nbconvert_exporter": "python",
   "pygments_lexer": "ipython3",
   "version": "3.8.10"
  }
 },
 "nbformat": 4,
 "nbformat_minor": 5
}
