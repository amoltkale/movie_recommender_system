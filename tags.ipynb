{
 "cells": [
  {
   "cell_type": "code",
   "execution_count": 1,
   "id": "b85c2161-ee36-4459-930b-7becf98ad786",
   "metadata": {},
   "outputs": [
    {
     "name": "stdout",
     "output_type": "stream",
     "text": [
      "Found 8 items\n",
      "-rw-r--r--   1 root supergroup  219041604 2022-04-16 06:33 /BookReviews_1M.txt\n",
      "-rw-r--r--   1 root supergroup    3038099 2022-04-28 20:51 /movies.csv\n",
      "-rw-r--r--   1 root supergroup  678260987 2022-04-28 20:54 /ratings.csv\n",
      "drwxr-xr-x   - root supergroup          0 2022-04-27 16:57 /sorted-word-count.csv\n",
      "drwxr-xr-x   - root supergroup          0 2022-04-27 19:31 /sorted-words-count.csv\n",
      "drwxr-xr-x   - root supergroup          0 2022-04-15 18:50 /sortednames.csv\n",
      "-rw-r--r--   1 root supergroup   38810332 2022-04-28 22:48 /tags.csv\n",
      "drwxr-xr-x   - root supergroup          0 2022-04-15 21:29 /user\n",
      "userId,movieId,tag,timestamp\n",
      "3,260,classic,1439472355\n",
      "3,260,sci-fi,1439472256\n",
      "4,1732,dark comedy,1573943598\n",
      "4,1732,great dialogue,1573943604\n",
      "4,7569,so bad it's good,1573943455\n",
      "4,44665,unreliable narrators,1573943619\n",
      "4,115569,tense,1573943077\n",
      "4,115713,artificial intelligence,1573942979\n",
      "4,115713,philosophical,1573943033\n",
      "cat: Unable to write to output stream.\n"
     ]
    }
   ],
   "source": [
    "!hadoop fs -copyFromLocal ../data/tags.csv /\n",
    "!hadoop fs -ls /"
   ]
  },
  {
   "cell_type": "code",
   "execution_count": 2,
   "id": "2ce99f2b-9196-4995-9817-7e7b29199a95",
   "metadata": {},
   "outputs": [
    {
     "name": "stderr",
     "output_type": "stream",
     "text": [
      "WARNING: An illegal reflective access operation has occurred\n",
      "WARNING: Illegal reflective access by org.apache.spark.unsafe.Platform (file:/usr/spark-3.2.1/jars/spark-unsafe_2.12-3.2.1.jar) to constructor java.nio.DirectByteBuffer(long,int)\n",
      "WARNING: Please consider reporting this to the maintainers of org.apache.spark.unsafe.Platform\n",
      "WARNING: Use --illegal-access=warn to enable warnings of further illegal reflective access operations\n",
      "WARNING: All illegal access operations will be denied in a future release\n",
      "Setting default log level to \"WARN\".\n",
      "To adjust logging level use sc.setLogLevel(newLevel). For SparkR, use setLogLevel(newLevel).\n",
      "2022-04-28 22:51:46,677 WARN util.NativeCodeLoader: Unable to load native-hadoop library for your platform... using builtin-java classes where applicable\n",
      "2022-04-28 22:51:50,317 WARN util.Utils: Service 'SparkUI' could not bind on port 4040. Attempting port 4041.\n",
      "2022-04-28 22:51:50,318 WARN util.Utils: Service 'SparkUI' could not bind on port 4041. Attempting port 4042.\n",
      "2022-04-28 22:51:50,318 WARN util.Utils: Service 'SparkUI' could not bind on port 4042. Attempting port 4043.\n",
      "2022-04-28 22:51:50,322 WARN util.Utils: Service 'SparkUI' could not bind on port 4043. Attempting port 4044.\n",
      "2022-04-28 22:51:50,326 WARN util.Utils: Service 'SparkUI' could not bind on port 4044. Attempting port 4045.\n"
     ]
    }
   ],
   "source": [
    "# Change the number of cores in this code block\n",
    "# by setting `spark.master` to `local[n]` where\n",
    "# n is the number of cores\n",
    "import pyspark\n",
    "from pyspark.sql import SparkSession\n",
    "from pyspark.sql.functions import *\n",
    "\n",
    "conf = pyspark.SparkConf().setAll([('spark.master', 'local[2]'),\n",
    "                                   ('spark.app.name', 'Basic Setup')])\n",
    "spark = SparkSession.builder.config(conf=conf).getOrCreate()"
   ]
  },
  {
   "cell_type": "code",
   "execution_count": 3,
   "id": "eb08e6c2-cea0-42a1-9566-d2bc5e6d26cd",
   "metadata": {},
   "outputs": [
    {
     "name": "stderr",
     "output_type": "stream",
     "text": [
      "                                                                                \r"
     ]
    },
    {
     "name": "stdout",
     "output_type": "stream",
     "text": [
      "root\n",
      " |-- userId: string (nullable = true)\n",
      " |-- movieId: string (nullable = true)\n",
      " |-- tag: string (nullable = true)\n",
      " |-- timestamp: string (nullable = true)\n",
      "\n"
     ]
    }
   ],
   "source": [
    "tags_df = spark.read.option(\"header\",True).csv(\"hdfs:///tags.csv\").cache()\n",
    "tags_df.printSchema()"
   ]
  },
  {
   "cell_type": "code",
   "execution_count": 4,
   "id": "3f70f09d-2c3f-4cd5-b127-70a7545fda0a",
   "metadata": {},
   "outputs": [
    {
     "name": "stderr",
     "output_type": "stream",
     "text": [
      "                                                                                \r"
     ]
    },
    {
     "data": {
      "text/plain": [
       "1093360"
      ]
     },
     "execution_count": 4,
     "metadata": {},
     "output_type": "execute_result"
    }
   ],
   "source": [
    "tags_df.count()"
   ]
  },
  {
   "cell_type": "code",
   "execution_count": 5,
   "id": "74060126-4749-4d3b-9c9f-aec0a72dad7e",
   "metadata": {},
   "outputs": [
    {
     "name": "stderr",
     "output_type": "stream",
     "text": [
      "                                                                                \r"
     ]
    },
    {
     "data": {
      "text/plain": [
       "14592"
      ]
     },
     "execution_count": 5,
     "metadata": {},
     "output_type": "execute_result"
    }
   ],
   "source": [
    "tags_df.select(\"userId\").distinct().count()"
   ]
  },
  {
   "cell_type": "code",
   "execution_count": 6,
   "id": "b274de8b-dac4-490a-802b-cc4c48dc71c9",
   "metadata": {},
   "outputs": [
    {
     "name": "stderr",
     "output_type": "stream",
     "text": [
      "                                                                                \r"
     ]
    },
    {
     "data": {
      "text/plain": [
       "73051"
      ]
     },
     "execution_count": 6,
     "metadata": {},
     "output_type": "execute_result"
    }
   ],
   "source": [
    "tags_df.select(\"tag\").distinct().count()"
   ]
  },
  {
   "cell_type": "code",
   "execution_count": 8,
   "id": "5005566a-4f60-4b6d-ba5a-fa3914bb12c9",
   "metadata": {},
   "outputs": [
    {
     "name": "stderr",
     "output_type": "stream",
     "text": [
      "[Stage 16:>                                                         (0 + 2) / 2]\r"
     ]
    },
    {
     "name": "stdout",
     "output_type": "stream",
     "text": [
      "+------------------+-----+\n",
      "|               tag|count|\n",
      "+------------------+-----+\n",
      "|            sci-fi| 8330|\n",
      "|       atmospheric| 6516|\n",
      "|            action| 5907|\n",
      "|            comedy| 5702|\n",
      "|           surreal| 5326|\n",
      "|   based on a book| 5079|\n",
      "|      twist ending| 4820|\n",
      "|             funny| 4738|\n",
      "|visually appealing| 4526|\n",
      "|          dystopia| 4257|\n",
      "|       dark comedy| 4026|\n",
      "|              BD-R| 3966|\n",
      "| thought-provoking| 3844|\n",
      "|           romance| 3791|\n",
      "|          stylized| 3728|\n",
      "|            quirky| 3677|\n",
      "|        psychology| 3625|\n",
      "|    woman director| 3589|\n",
      "|           fantasy| 3523|\n",
      "|           classic| 3456|\n",
      "+------------------+-----+\n",
      "only showing top 20 rows\n",
      "\n"
     ]
    },
    {
     "name": "stderr",
     "output_type": "stream",
     "text": [
      "                                                                                \r"
     ]
    }
   ],
   "source": [
    "tags_df.groupBy('tag').count().sort(col(\"count\").desc()).show()"
   ]
  },
  {
   "cell_type": "code",
   "execution_count": 10,
   "id": "a66ae661-8c54-4d9e-be2a-e84772cc93ad",
   "metadata": {},
   "outputs": [
    {
     "data": {
      "text/plain": [
       "45251"
      ]
     },
     "execution_count": 10,
     "metadata": {},
     "output_type": "execute_result"
    }
   ],
   "source": [
    "tags_df.select(\"movieId\").distinct().count()"
   ]
  },
  {
   "cell_type": "code",
   "execution_count": 12,
   "id": "3195f6a2-c8cf-4a53-a577-bb846aa621c4",
   "metadata": {},
   "outputs": [
    {
     "name": "stderr",
     "output_type": "stream",
     "text": [
      "                                                                                \r"
     ]
    },
    {
     "data": {
      "text/plain": [
       "472862"
      ]
     },
     "execution_count": 12,
     "metadata": {},
     "output_type": "execute_result"
    }
   ],
   "source": [
    "tags_df.select(\"tag\",\"movieId\").distinct().count()"
   ]
  },
  {
   "cell_type": "code",
   "execution_count": null,
   "id": "ff67fa1c-1b6b-4950-b559-b1e7f23a57be",
   "metadata": {},
   "outputs": [],
   "source": []
  }
 ],
 "metadata": {
  "kernelspec": {
   "display_name": "Python 3 (ipykernel)",
   "language": "python",
   "name": "python3"
  },
  "language_info": {
   "codemirror_mode": {
    "name": "ipython",
    "version": 3
   },
   "file_extension": ".py",
   "mimetype": "text/x-python",
   "name": "python",
   "nbconvert_exporter": "python",
   "pygments_lexer": "ipython3",
   "version": "3.8.10"
  }
 },
 "nbformat": 4,
 "nbformat_minor": 5
}
