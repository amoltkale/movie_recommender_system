{
 "cells": [
  {
   "cell_type": "code",
   "execution_count": 1,
   "id": "a1f3fd63-b6ce-43ac-8294-e57f8f0af399",
   "metadata": {},
   "outputs": [],
   "source": [
    "import pyspark\n",
    "from pyspark.sql import SparkSession\n",
    "from pyspark.sql.functions import *\n",
    "\n",
    "import matplotlib.pyplot as plt"
   ]
  },
  {
   "cell_type": "code",
   "execution_count": 2,
   "id": "1d634576-8e1a-4a00-af2b-1d05a3a42cd8",
   "metadata": {},
   "outputs": [
    {
     "name": "stderr",
     "output_type": "stream",
     "text": [
      "WARNING: An illegal reflective access operation has occurred\n",
      "WARNING: Illegal reflective access by org.apache.spark.unsafe.Platform (file:/usr/spark-3.2.1/jars/spark-unsafe_2.12-3.2.1.jar) to constructor java.nio.DirectByteBuffer(long,int)\n",
      "WARNING: Please consider reporting this to the maintainers of org.apache.spark.unsafe.Platform\n",
      "WARNING: Use --illegal-access=warn to enable warnings of further illegal reflective access operations\n",
      "WARNING: All illegal access operations will be denied in a future release\n",
      "Setting default log level to \"WARN\".\n",
      "To adjust logging level use sc.setLogLevel(newLevel). For SparkR, use setLogLevel(newLevel).\n",
      "2022-05-16 01:49:13,609 WARN util.NativeCodeLoader: Unable to load native-hadoop library for your platform... using builtin-java classes where applicable\n"
     ]
    }
   ],
   "source": [
    "# Change the number of cores in this code block\n",
    "# by setting `spark.master` to `local[n]` where\n",
    "# n is the number of cores\n",
    "\n",
    "conf = pyspark.SparkConf().setAll([('spark.master', 'local[2]'),\n",
    "                                   ('spark.app.name', 'Basic Setup')])\n",
    "spark = SparkSession.builder.config(conf=conf).getOrCreate()"
   ]
  },
  {
   "cell_type": "markdown",
   "id": "d307d264-cd26-4a77-8a7d-106c83308b6c",
   "metadata": {},
   "source": [
    "## Load Data\n",
    "\n",
    "Read data from the `ratings.csv` file"
   ]
  },
  {
   "cell_type": "code",
   "execution_count": 3,
   "id": "33a028a0-d29d-400f-bcf7-cdc7783f2a4e",
   "metadata": {},
   "outputs": [
    {
     "name": "stdout",
     "output_type": "stream",
     "text": [
      "root\n",
      " |-- movieId: string (nullable = true)\n",
      " |-- title: string (nullable = true)\n",
      " |-- genres: string (nullable = true)\n",
      "\n"
     ]
    }
   ],
   "source": [
    "movies_df = spark.read.option(\"header\",True).csv(\"file:///home/work/data/movies.csv\").cache()\n",
    "movies_df.printSchema()"
   ]
  },
  {
   "cell_type": "code",
   "execution_count": 4,
   "id": "60bee5ab-3d81-420d-bb7b-0eb9aac2c8c7",
   "metadata": {},
   "outputs": [
    {
     "name": "stdout",
     "output_type": "stream",
     "text": [
      "+-------+--------------------+--------------------+\n",
      "|movieId|               title|              genres|\n",
      "+-------+--------------------+--------------------+\n",
      "|      1|    Toy Story (1995)|Adventure|Animati...|\n",
      "|      2|      Jumanji (1995)|Adventure|Childre...|\n",
      "|      3|Grumpier Old Men ...|      Comedy|Romance|\n",
      "|      4|Waiting to Exhale...|Comedy|Drama|Romance|\n",
      "|      5|Father of the Bri...|              Comedy|\n",
      "|      6|         Heat (1995)|Action|Crime|Thri...|\n",
      "|      7|      Sabrina (1995)|      Comedy|Romance|\n",
      "|      8| Tom and Huck (1995)|  Adventure|Children|\n",
      "|      9| Sudden Death (1995)|              Action|\n",
      "|     10|    GoldenEye (1995)|Action|Adventure|...|\n",
      "|     11|American Presiden...|Comedy|Drama|Romance|\n",
      "|     12|Dracula: Dead and...|       Comedy|Horror|\n",
      "|     13|        Balto (1995)|Adventure|Animati...|\n",
      "|     14|        Nixon (1995)|               Drama|\n",
      "|     15|Cutthroat Island ...|Action|Adventure|...|\n",
      "|     16|       Casino (1995)|         Crime|Drama|\n",
      "|     17|Sense and Sensibi...|       Drama|Romance|\n",
      "|     18|   Four Rooms (1995)|              Comedy|\n",
      "|     19|Ace Ventura: When...|              Comedy|\n",
      "|     20|  Money Train (1995)|Action|Comedy|Cri...|\n",
      "+-------+--------------------+--------------------+\n",
      "only showing top 20 rows\n",
      "\n"
     ]
    },
    {
     "name": "stderr",
     "output_type": "stream",
     "text": [
      "                                                                                \r"
     ]
    }
   ],
   "source": [
    "movies_df.show()"
   ]
  },
  {
   "cell_type": "markdown",
   "id": "2553b935-0fe5-4943-ab1a-15e766631749",
   "metadata": {},
   "source": [
    "## Add Year column"
   ]
  },
  {
   "cell_type": "code",
   "execution_count": 6,
   "id": "15c596b7-d1b6-4c2f-9e7f-2ba353bb6517",
   "metadata": {},
   "outputs": [],
   "source": [
    "#TODO\n",
    "# movies_df.select('')"
   ]
  },
  {
   "cell_type": "markdown",
   "id": "a4ad22cc-a872-4a36-a55b-b8e03b1a85da",
   "metadata": {},
   "source": [
    "## Removing IMAX\n",
    "Upon visual inspection, there were only two cases for IMAX\n",
    "### Case 1: IMAX was only genre\n",
    "* 1 movie where this was true\n",
    "    * 4460,Encounter in the Third Dimension (1999),IMAX -> only movie with IMAX as only genre -> 27 ratings\n",
    "Solution: Replace pattern: \",IMAX\" -> \",(no genres listed)\"\n",
    "### Case 2: IMAX was last genre listed\n",
    "* All other 194 instances of IMAX, IMAX was the last genre\n",
    "Solution: Replace pattern: \"|IMAX\" -> \"\""
   ]
  },
  {
   "cell_type": "code",
   "execution_count": 7,
   "id": "cebbae8e-aa41-4a72-873c-087b4e0de7bb",
   "metadata": {},
   "outputs": [],
   "source": [
    "# Case 1: IMAX is only genre\n",
    "movies_df = movies_df.withColumn('genres', regexp_replace(col('genres'), ',IMAX', ',(no genres listed)'))\n",
    "# Case 2: ImMAX is last genre\n",
    "movies_df = movies_df.withColumn('genres', regexp_replace(col('genres'), '|IMAX', ''))"
   ]
  },
  {
   "cell_type": "code",
   "execution_count": 8,
   "id": "7bd89b32-53df-40e0-b531-e298720d7a1a",
   "metadata": {},
   "outputs": [
    {
     "name": "stdout",
     "output_type": "stream",
     "text": [
      "+-------+--------------------+------+\n",
      "|movieId|               title|genres|\n",
      "+-------+--------------------+------+\n",
      "|   4460|Encounter in the ...|  IMAX|\n",
      "+-------+--------------------+------+\n",
      "\n"
     ]
    }
   ],
   "source": [
    "movies_df.filter(movies_df.genres == 'IMAX').show()"
   ]
  },
  {
   "cell_type": "code",
   "execution_count": 9,
   "id": "6e7e82b3-0775-42ff-839f-13382503a9b5",
   "metadata": {
    "tags": []
   },
   "outputs": [
    {
     "name": "stdout",
     "output_type": "stream",
     "text": [
      "+---------+\n",
      "|word     |\n",
      "+---------+\n",
      "|Adventure|\n",
      "|Animation|\n",
      "|Children |\n",
      "|Comedy   |\n",
      "|Fantasy  |\n",
      "+---------+\n",
      "only showing top 5 rows\n",
      "\n"
     ]
    }
   ],
   "source": [
    "genres_df = movies_df.select(split(\"genres\",\"\\|\").alias(\"genres\"))\n",
    "genres_df = genres_df.select(explode(\"genres\").alias(\"word\"))\n",
    "genres_df.show(5, truncate=False)"
   ]
  },
  {
   "cell_type": "code",
   "execution_count": 10,
   "id": "7abd9910-a94d-4eb0-a21f-d0bdbb9252c3",
   "metadata": {},
   "outputs": [
    {
     "name": "stdout",
     "output_type": "stream",
     "text": [
      "Total distinct genres: 20\n"
     ]
    },
    {
     "name": "stderr",
     "output_type": "stream",
     "text": [
      "[Stage 16:>                                                         (0 + 1) / 1]\r"
     ]
    },
    {
     "name": "stdout",
     "output_type": "stream",
     "text": [
      "+------------------+-----+\n",
      "|word              |count|\n",
      "+------------------+-----+\n",
      "|Drama             |25606|\n",
      "|Comedy            |16870|\n",
      "|Thriller          |8654 |\n",
      "|Romance           |7719 |\n",
      "|Action            |7348 |\n",
      "|Horror            |5989 |\n",
      "|Documentary       |5605 |\n",
      "|Crime             |5319 |\n",
      "|(no genres listed)|5062 |\n",
      "|Adventure         |4145 |\n",
      "|Sci-Fi            |3595 |\n",
      "|Children          |2935 |\n",
      "|Animation         |2929 |\n",
      "|Mystery           |2925 |\n",
      "|Fantasy           |2731 |\n",
      "|War               |1874 |\n",
      "|Western           |1399 |\n",
      "|Musical           |1054 |\n",
      "|Film-Noir         |353  |\n",
      "|IMAX              |195  |\n",
      "+------------------+-----+\n",
      "\n"
     ]
    },
    {
     "name": "stderr",
     "output_type": "stream",
     "text": [
      "                                                                                \r"
     ]
    }
   ],
   "source": [
    "distinct_genres = genres_df.groupBy('word').count().sort(col(\"count\").desc())\n",
    "print(f\"Total distinct genres: {distinct_genres.count()}\")\n",
    "distinct_genres.show(25, truncate=False)"
   ]
  },
  {
   "cell_type": "markdown",
   "id": "e60ab49a-4c18-46c5-ba89-7b12e3b00359",
   "metadata": {},
   "source": [
    "## Movies with no genres\n",
    "Solution: Drop movies without genres\n",
    "Future aim: write scraper to pull missing genres"
   ]
  },
  {
   "cell_type": "markdown",
   "id": "8ab8337d-f51e-4d8b-a5a4-177191887a52",
   "metadata": {},
   "source": [
    "## Movies with no ratings\n",
    "Interestingly, the movies found with no ratings were found to be a mixed bag of quality. A decent check of movies without ratings were also older movies.\n",
    "Solution: Drop movies since we have a way of guestimating their rating\n",
    "\n",
    "Future Aims: Pull average rating from other sites and possibly introduce movies as a fresh experience for users."
   ]
  },
  {
   "cell_type": "code",
   "execution_count": 11,
   "id": "2d7c3faa-9061-4e85-9395-120a2a6b4582",
   "metadata": {},
   "outputs": [],
   "source": [
    "# missing_movies = spark.sql(\"SELECT m.movieId= FROM m LEFT ANTI JOIN r ON m.movieId == r.movieId\") \\\n",
    "#   .show(truncate=False)"
   ]
  },
  {
   "cell_type": "markdown",
   "id": "662f904b-96b6-4f53-bcc0-182bde4d1792",
   "metadata": {},
   "source": [
    "# How to deal with genres?\n",
    "## One hot encoding\n",
    "```\n",
    "Action           001\n",
    "Action|Adventure 010\n",
    "Drama            100\n",
    "Dram|Action      110\n",
    "```\n",
    "https://spark.apache.org/docs/3.1.1/api/python/reference/api/pyspark.ml.feature.OneHotEncoder.html#:~:text=A%20one%2Dhot%20encoder%20that,0.0%2C%201.0%2C%200.0%5D%20\n",
    "## Writing CSV\n",
    "Convert 18 long array to string representation"
   ]
  },
  {
   "cell_type": "code",
   "execution_count": 5,
   "id": "cf4a87b2-c054-4be1-aef2-51c97dafc5ed",
   "metadata": {},
   "outputs": [
    {
     "data": {
      "text/plain": [
       "1639"
      ]
     },
     "execution_count": 5,
     "metadata": {},
     "output_type": "execute_result"
    }
   ],
   "source": [
    "# Unique movie genre combos\n",
    "movies_df.select('genres').distinct().count()"
   ]
  },
  {
   "cell_type": "markdown",
   "id": "d6c283f5-6803-48dc-924b-b41a93914483",
   "metadata": {},
   "source": [
    "## Distribution of genre combination count\n",
    "ie: how many movies are drama and comedy"
   ]
  },
  {
   "cell_type": "code",
   "execution_count": null,
   "id": "9d038d16-d1b6-4391-824f-1a387335a062",
   "metadata": {},
   "outputs": [],
   "source": [
    "# TODO"
   ]
  }
 ],
 "metadata": {
  "kernelspec": {
   "display_name": "Python 3 (ipykernel)",
   "language": "python",
   "name": "python3"
  },
  "language_info": {
   "codemirror_mode": {
    "name": "ipython",
    "version": 3
   },
   "file_extension": ".py",
   "mimetype": "text/x-python",
   "name": "python",
   "nbconvert_exporter": "python",
   "pygments_lexer": "ipython3",
   "version": "3.8.10"
  }
 },
 "nbformat": 4,
 "nbformat_minor": 5
}
