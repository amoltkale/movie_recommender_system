{
 "cells": [
  {
   "cell_type": "code",
   "execution_count": 1,
   "id": "a1f3fd63-b6ce-43ac-8294-e57f8f0af399",
   "metadata": {},
   "outputs": [],
   "source": [
    "import pyspark\n",
    "from pyspark.sql import SparkSession\n",
    "from pyspark.sql.functions import *\n",
    "from pyspark.ml.feature import OneHotEncoder\n",
    "from pyspark.sql import functions as F\n",
    "from pyspark.sql import types as T\n",
    "from pyspark.sql.types import IntegerType\n",
    "\n",
    "import matplotlib.pyplot as plt\n",
    "import numpy as np"
   ]
  },
  {
   "cell_type": "code",
   "execution_count": 2,
   "id": "1d634576-8e1a-4a00-af2b-1d05a3a42cd8",
   "metadata": {},
   "outputs": [
    {
     "name": "stderr",
     "output_type": "stream",
     "text": [
      "WARNING: An illegal reflective access operation has occurred\n",
      "WARNING: Illegal reflective access by org.apache.spark.unsafe.Platform (file:/usr/spark-3.2.1/jars/spark-unsafe_2.12-3.2.1.jar) to constructor java.nio.DirectByteBuffer(long,int)\n",
      "WARNING: Please consider reporting this to the maintainers of org.apache.spark.unsafe.Platform\n",
      "WARNING: Use --illegal-access=warn to enable warnings of further illegal reflective access operations\n",
      "WARNING: All illegal access operations will be denied in a future release\n",
      "Setting default log level to \"WARN\".\n",
      "To adjust logging level use sc.setLogLevel(newLevel). For SparkR, use setLogLevel(newLevel).\n",
      "2022-05-18 02:51:52,660 WARN util.NativeCodeLoader: Unable to load native-hadoop library for your platform... using builtin-java classes where applicable\n"
     ]
    }
   ],
   "source": [
    "# Change the number of cores in this code block\n",
    "# by setting `spark.master` to `local[n]` where\n",
    "# n is the number of cores\n",
    "\n",
    "conf = pyspark.SparkConf().setAll([('spark.master', 'local[4]'),\n",
    "                                   ('spark.app.name', 'Basic Setup')])\n",
    "spark = SparkSession.builder.config(conf=conf).getOrCreate()"
   ]
  },
  {
   "cell_type": "markdown",
   "id": "d307d264-cd26-4a77-8a7d-106c83308b6c",
   "metadata": {},
   "source": [
    "## Load Data\n",
    "\n",
    "Read data from the `ratings.csv` file"
   ]
  },
  {
   "cell_type": "code",
   "execution_count": 3,
   "id": "33a028a0-d29d-400f-bcf7-cdc7783f2a4e",
   "metadata": {},
   "outputs": [
    {
     "name": "stdout",
     "output_type": "stream",
     "text": [
      "root\n",
      " |-- movieId: string (nullable = true)\n",
      " |-- title: string (nullable = true)\n",
      " |-- genres: string (nullable = true)\n",
      "\n"
     ]
    }
   ],
   "source": [
    "movies_df = spark.read.option(\"header\",True).csv(\"file:///home/work/data/movies.csv\")\n",
    "movies_df.printSchema()"
   ]
  },
  {
   "cell_type": "code",
   "execution_count": 4,
   "id": "60bee5ab-3d81-420d-bb7b-0eb9aac2c8c7",
   "metadata": {},
   "outputs": [
    {
     "name": "stdout",
     "output_type": "stream",
     "text": [
      "+-------+--------------------+--------------------+\n",
      "|movieId|               title|              genres|\n",
      "+-------+--------------------+--------------------+\n",
      "|      1|    Toy Story (1995)|Adventure|Animati...|\n",
      "|      2|      Jumanji (1995)|Adventure|Childre...|\n",
      "|      3|Grumpier Old Men ...|      Comedy|Romance|\n",
      "|      4|Waiting to Exhale...|Comedy|Drama|Romance|\n",
      "|      5|Father of the Bri...|              Comedy|\n",
      "|      6|         Heat (1995)|Action|Crime|Thri...|\n",
      "|      7|      Sabrina (1995)|      Comedy|Romance|\n",
      "|      8| Tom and Huck (1995)|  Adventure|Children|\n",
      "|      9| Sudden Death (1995)|              Action|\n",
      "|     10|    GoldenEye (1995)|Action|Adventure|...|\n",
      "|     11|American Presiden...|Comedy|Drama|Romance|\n",
      "|     12|Dracula: Dead and...|       Comedy|Horror|\n",
      "|     13|        Balto (1995)|Adventure|Animati...|\n",
      "|     14|        Nixon (1995)|               Drama|\n",
      "|     15|Cutthroat Island ...|Action|Adventure|...|\n",
      "|     16|       Casino (1995)|         Crime|Drama|\n",
      "|     17|Sense and Sensibi...|       Drama|Romance|\n",
      "|     18|   Four Rooms (1995)|              Comedy|\n",
      "|     19|Ace Ventura: When...|              Comedy|\n",
      "|     20|  Money Train (1995)|Action|Comedy|Cri...|\n",
      "+-------+--------------------+--------------------+\n",
      "only showing top 20 rows\n",
      "\n"
     ]
    }
   ],
   "source": [
    "movies_df.show()"
   ]
  },
  {
   "cell_type": "markdown",
   "id": "2553b935-0fe5-4943-ab1a-15e766631749",
   "metadata": {},
   "source": [
    "## Add Year column"
   ]
  },
  {
   "cell_type": "code",
   "execution_count": 5,
   "id": "15c596b7-d1b6-4c2f-9e7f-2ba353bb6517",
   "metadata": {},
   "outputs": [],
   "source": [
    "#Extracting the year from Movie Title\n",
    "movies_df = movies_df.withColumn('movieYear',regexp_extract(col('title'), '(.+)(\\()([0-9]{4})(\\))', 3))"
   ]
  },
  {
   "cell_type": "code",
   "execution_count": 6,
   "id": "2bd59cb8-45fb-4c24-bc03-59eb804c09e6",
   "metadata": {},
   "outputs": [
    {
     "name": "stdout",
     "output_type": "stream",
     "text": [
      "+-------+--------------------+--------------------+---------+\n",
      "|movieId|               title|              genres|movieYear|\n",
      "+-------+--------------------+--------------------+---------+\n",
      "|      1|    Toy Story (1995)|Adventure|Animati...|     1995|\n",
      "|      2|      Jumanji (1995)|Adventure|Childre...|     1995|\n",
      "|      3|Grumpier Old Men ...|      Comedy|Romance|     1995|\n",
      "|      4|Waiting to Exhale...|Comedy|Drama|Romance|     1995|\n",
      "|      5|Father of the Bri...|              Comedy|     1995|\n",
      "|      6|         Heat (1995)|Action|Crime|Thri...|     1995|\n",
      "|      7|      Sabrina (1995)|      Comedy|Romance|     1995|\n",
      "|      8| Tom and Huck (1995)|  Adventure|Children|     1995|\n",
      "|      9| Sudden Death (1995)|              Action|     1995|\n",
      "|     10|    GoldenEye (1995)|Action|Adventure|...|     1995|\n",
      "|     11|American Presiden...|Comedy|Drama|Romance|     1995|\n",
      "|     12|Dracula: Dead and...|       Comedy|Horror|     1995|\n",
      "|     13|        Balto (1995)|Adventure|Animati...|     1995|\n",
      "|     14|        Nixon (1995)|               Drama|     1995|\n",
      "|     15|Cutthroat Island ...|Action|Adventure|...|     1995|\n",
      "|     16|       Casino (1995)|         Crime|Drama|     1995|\n",
      "|     17|Sense and Sensibi...|       Drama|Romance|     1995|\n",
      "|     18|   Four Rooms (1995)|              Comedy|     1995|\n",
      "|     19|Ace Ventura: When...|              Comedy|     1995|\n",
      "|     20|  Money Train (1995)|Action|Comedy|Cri...|     1995|\n",
      "+-------+--------------------+--------------------+---------+\n",
      "only showing top 20 rows\n",
      "\n"
     ]
    }
   ],
   "source": [
    "movies_df.show()"
   ]
  },
  {
   "cell_type": "markdown",
   "id": "a4ad22cc-a872-4a36-a55b-b8e03b1a85da",
   "metadata": {},
   "source": [
    "## Removing IMAX\n",
    "Upon visual inspection, there were only two cases for IMAX\n",
    "### Case 1: IMAX was only genre\n",
    "* 1 movie where this was true\n",
    "    * 4460,Encounter in the Third Dimension (1999),IMAX -> only movie with IMAX as only genre -> 27 ratings\n",
    "Solution: Replace pattern: \",IMAX\" -> \",(no genres listed)\"\n",
    "### Case 2: IMAX was last genre listed\n",
    "* All other 194 instances of IMAX, IMAX was the last genre\n",
    "Solution: Replace pattern: \"|IMAX\" -> \"\""
   ]
  },
  {
   "cell_type": "code",
   "execution_count": 7,
   "id": "e851b672-75b6-4c75-8b13-6e6dfcf91c2b",
   "metadata": {},
   "outputs": [
    {
     "name": "stdout",
     "output_type": "stream",
     "text": [
      "+-------+--------------------+--------------------+---------+\n",
      "|movieId|               title|              genres|movieYear|\n",
      "+-------+--------------------+--------------------+---------+\n",
      "|     33|Wings of Courage ...|Adventure|Romance...|     1995|\n",
      "|     37|Across the Sea of...|    Documentary|IMAX|     1995|\n",
      "|    150|    Apollo 13 (1995)|Adventure|Drama|IMAX|     1995|\n",
      "|    364|Lion King, The (1...|Adventure|Animati...|     1994|\n",
      "|    595|Beauty and the Be...|Animation|Childre...|     1991|\n",
      "|   1797|      Everest (1998)|    Documentary|IMAX|     1998|\n",
      "|   3159|Fantasia 2000 (1999)|Animation|Childre...|     1999|\n",
      "|   4382|       Wolves (1999)|    Documentary|IMAX|     1999|\n",
      "|   4445|T-Rex: Back to th...|Adventure|Documen...|     1998|\n",
      "|   4453|Michael Jordan to...|    Documentary|IMAX|     2000|\n",
      "|   4454|         More (1998)|Animation|Drama|S...|     1998|\n",
      "|   4455|Thrill Ride: The ...|Adventure|Documen...|     1997|\n",
      "|   4456|Haunted Castle (2...|Animation|Horror|...|     2001|\n",
      "|   4457|   All Access (2001)|Documentary|Music...|     2001|\n",
      "|   4458|Africa: The Seren...|    Documentary|IMAX|     1994|\n",
      "|   4459|Alaska: Spirit of...|    Documentary|IMAX|     1997|\n",
      "|   4460|Encounter in the ...|                IMAX|     1999|\n",
      "|   4461|Siegfried & Roy: ...|    Documentary|IMAX|     1999|\n",
      "|   4856|Destiny in Space ...|    Documentary|IMAX|     1994|\n",
      "|   4858|Hail Columbia! (1...|    Documentary|IMAX|     1982|\n",
      "+-------+--------------------+--------------------+---------+\n",
      "only showing top 20 rows\n",
      "\n"
     ]
    }
   ],
   "source": [
    "#Check IMAX genres in records\n",
    "movies_df.filter(col(\"genres\").contains(\"IMAX\")).show()"
   ]
  },
  {
   "cell_type": "code",
   "execution_count": 8,
   "id": "cebbae8e-aa41-4a72-873c-087b4e0de7bb",
   "metadata": {},
   "outputs": [],
   "source": [
    "# Case 1: IMAX is only genre\n",
    "movies_df = movies_df.withColumn('genres', regexp_replace(col('genres'), '\\\\|IMAX', '')) \\\n",
    "                    .withColumn('genres', regexp_replace(col('genres'), 'IMAX', '(no genres listed)'))\n",
    "         "
   ]
  },
  {
   "cell_type": "code",
   "execution_count": 9,
   "id": "7bd89b32-53df-40e0-b531-e298720d7a1a",
   "metadata": {},
   "outputs": [
    {
     "name": "stdout",
     "output_type": "stream",
     "text": [
      "+-------+-----+------+---------+\n",
      "|movieId|title|genres|movieYear|\n",
      "+-------+-----+------+---------+\n",
      "+-------+-----+------+---------+\n",
      "\n"
     ]
    }
   ],
   "source": [
    "#check after IMAX genre removal \n",
    "movies_df.filter(col(\"genres\").contains(\"IMAX\")).show()"
   ]
  },
  {
   "cell_type": "code",
   "execution_count": 10,
   "id": "bdee05d5-6955-4c30-ae6d-7349faa7cf74",
   "metadata": {},
   "outputs": [
    {
     "data": {
      "text/plain": [
       "5063"
      ]
     },
     "execution_count": 10,
     "metadata": {},
     "output_type": "execute_result"
    }
   ],
   "source": [
    "movies_df.filter(col(\"genres\") == '(no genres listed)').count()"
   ]
  },
  {
   "cell_type": "code",
   "execution_count": 11,
   "id": "c2857419-b2c2-4e09-bc7b-ef1c28089fd4",
   "metadata": {},
   "outputs": [
    {
     "data": {
      "text/plain": [
       "62423"
      ]
     },
     "execution_count": 11,
     "metadata": {},
     "output_type": "execute_result"
    }
   ],
   "source": [
    "#Movies before flattening the genres\n",
    "movies_df.count()"
   ]
  },
  {
   "cell_type": "code",
   "execution_count": 12,
   "id": "872ea2be-cbb4-4d6a-bf8a-8cbea881b0a7",
   "metadata": {},
   "outputs": [
    {
     "name": "stdout",
     "output_type": "stream",
     "text": [
      "Unique movie Counts 62423\n"
     ]
    }
   ],
   "source": [
    "print(\"Unique movie Counts\",movies_df.select('movieId').distinct().count())"
   ]
  },
  {
   "cell_type": "code",
   "execution_count": 13,
   "id": "7f079eee-c091-400a-92d6-17c2b1d205fb",
   "metadata": {},
   "outputs": [],
   "source": [
    "#Creating the flattened version of movies with genres\n",
    "final_moveies_df = movies_df.select(col('movieId'),col('title'),col('movieYear'),explode(split(\"genres\",\"\\\\|\")).alias(\"genre\"))"
   ]
  },
  {
   "cell_type": "code",
   "execution_count": 14,
   "id": "4c0fea79-5a57-4e4c-9bd6-3fa758fd9004",
   "metadata": {},
   "outputs": [
    {
     "data": {
      "text/plain": [
       "112113"
      ]
     },
     "execution_count": 14,
     "metadata": {},
     "output_type": "execute_result"
    }
   ],
   "source": [
    "final_moveies_df.count()"
   ]
  },
  {
   "cell_type": "markdown",
   "id": "e60ab49a-4c18-46c5-ba89-7b12e3b00359",
   "metadata": {},
   "source": [
    "## Movies with no genres\n",
    "Solution: Drop movies without genres\n",
    "Future aim: write scraper to pull missing genres"
   ]
  },
  {
   "cell_type": "code",
   "execution_count": 15,
   "id": "c0b95709-9432-47ae-a8fb-19414551c850",
   "metadata": {},
   "outputs": [],
   "source": [
    "#Removing movies with (no genres listed)\n",
    "final_moveies_df = final_moveies_df.filter(col(\"genres\") != \"(no genres listed)\")"
   ]
  },
  {
   "cell_type": "code",
   "execution_count": 16,
   "id": "8c5ba7aa-90b7-473b-95f4-256bd0c29d7e",
   "metadata": {},
   "outputs": [
    {
     "name": "stdout",
     "output_type": "stream",
     "text": [
      "Total distinct genres: 18\n",
      "+-----------+-----+\n",
      "|genre      |count|\n",
      "+-----------+-----+\n",
      "|Drama      |25606|\n",
      "|Comedy     |16870|\n",
      "|Thriller   |8654 |\n",
      "|Romance    |7719 |\n",
      "|Action     |7348 |\n",
      "|Horror     |5989 |\n",
      "|Documentary|5605 |\n",
      "|Crime      |5319 |\n",
      "|Adventure  |4145 |\n",
      "|Sci-Fi     |3595 |\n",
      "|Children   |2935 |\n",
      "|Animation  |2929 |\n",
      "|Mystery    |2925 |\n",
      "|Fantasy    |2731 |\n",
      "|War        |1874 |\n",
      "|Western    |1399 |\n",
      "|Musical    |1054 |\n",
      "|Film-Noir  |353  |\n",
      "+-----------+-----+\n",
      "\n"
     ]
    }
   ],
   "source": [
    "distinct_genres = final_moveies_df.groupBy('genre').count().sort(col(\"count\").desc())\n",
    "print(f\"Total distinct genres: {distinct_genres.count()}\")\n",
    "distinct_genres.show(25, truncate=False)"
   ]
  },
  {
   "cell_type": "code",
   "execution_count": 17,
   "id": "95a6617f-403a-4fc3-9884-66b8717e915b",
   "metadata": {},
   "outputs": [
    {
     "data": {
      "text/plain": [
       "107050"
      ]
     },
     "execution_count": 17,
     "metadata": {},
     "output_type": "execute_result"
    }
   ],
   "source": [
    "final_moveies_df.count()"
   ]
  },
  {
   "cell_type": "code",
   "execution_count": 18,
   "id": "204cc2de-30d8-4740-b52f-3cb124e60e75",
   "metadata": {},
   "outputs": [
    {
     "name": "stdout",
     "output_type": "stream",
     "text": [
      "+-------+----------------------------------+---------+---------+\n",
      "|movieId|title                             |movieYear|genre    |\n",
      "+-------+----------------------------------+---------+---------+\n",
      "|1      |Toy Story (1995)                  |1995     |Adventure|\n",
      "|1      |Toy Story (1995)                  |1995     |Animation|\n",
      "|1      |Toy Story (1995)                  |1995     |Children |\n",
      "|1      |Toy Story (1995)                  |1995     |Comedy   |\n",
      "|1      |Toy Story (1995)                  |1995     |Fantasy  |\n",
      "|2      |Jumanji (1995)                    |1995     |Adventure|\n",
      "|2      |Jumanji (1995)                    |1995     |Children |\n",
      "|2      |Jumanji (1995)                    |1995     |Fantasy  |\n",
      "|3      |Grumpier Old Men (1995)           |1995     |Comedy   |\n",
      "|3      |Grumpier Old Men (1995)           |1995     |Romance  |\n",
      "|4      |Waiting to Exhale (1995)          |1995     |Comedy   |\n",
      "|4      |Waiting to Exhale (1995)          |1995     |Drama    |\n",
      "|4      |Waiting to Exhale (1995)          |1995     |Romance  |\n",
      "|5      |Father of the Bride Part II (1995)|1995     |Comedy   |\n",
      "|6      |Heat (1995)                       |1995     |Action   |\n",
      "|6      |Heat (1995)                       |1995     |Crime    |\n",
      "|6      |Heat (1995)                       |1995     |Thriller |\n",
      "|7      |Sabrina (1995)                    |1995     |Comedy   |\n",
      "|7      |Sabrina (1995)                    |1995     |Romance  |\n",
      "|8      |Tom and Huck (1995)               |1995     |Adventure|\n",
      "+-------+----------------------------------+---------+---------+\n",
      "only showing top 20 rows\n",
      "\n"
     ]
    }
   ],
   "source": [
    "final_moveies_df.show(truncate=False)"
   ]
  },
  {
   "cell_type": "markdown",
   "id": "8ab8337d-f51e-4d8b-a5a4-177191887a52",
   "metadata": {},
   "source": [
    "## Movies with no ratings\n",
    "Interestingly, the movies found with no ratings were found to be a mixed bag of quality. A decent check of movies without ratings were also older movies.\n",
    "Solution: Drop movies since we have a way of guestimating their rating\n",
    "\n",
    "Future Aims: Pull average rating from other sites and possibly introduce movies as a fresh experience for users."
   ]
  },
  {
   "cell_type": "markdown",
   "id": "662f904b-96b6-4f53-bcc0-182bde4d1792",
   "metadata": {},
   "source": [
    "# How to deal with genres?\n",
    "## One hot encoding\n",
    "```\n",
    "Action           001\n",
    "Action|Adventure 010\n",
    "Drama            100\n",
    "Dram|Action      110\n",
    "```\n",
    "https://spark.apache.org/docs/3.1.1/api/python/reference/api/pyspark.ml.feature.OneHotEncoder.html#:~:text=A%20one%2Dhot%20encoder%20that,0.0%2C%201.0%2C%200.0%5D%20\n",
    "## Writing CSV\n",
    "Convert 18 long array to string representation"
   ]
  },
  {
   "cell_type": "code",
   "execution_count": 19,
   "id": "5199f41a-ab56-41e6-acf5-069bda1747f7",
   "metadata": {},
   "outputs": [],
   "source": [
    "\n",
    "genre_list = np.array(final_moveies_df.select(col('genre')).distinct().collect()).squeeze().tolist()\n",
    "genre_map = {g: i for i, g in enumerate(genre_list)}\n",
    "\n",
    "# https://stackoverflow.com/questions/42980704/pyspark-create-new-column-with-mapping-from-a-dict\n",
    "\n",
    "#This UDF converts the genre_id to mapped numerical value\n",
    "def translate(mapping):\n",
    "    def translate_(col):\n",
    "        return mapping.get(col)\n",
    "    return udf(translate_, IntegerType())\n",
    "\n",
    "final_moveies_df = final_moveies_df.withColumn(\"genre_id\", translate(genre_map)(\"genre\"))"
   ]
  },
  {
   "cell_type": "code",
   "execution_count": 20,
   "id": "2d7c3faa-9061-4e85-9395-120a2a6b4582",
   "metadata": {},
   "outputs": [
    {
     "name": "stderr",
     "output_type": "stream",
     "text": [
      "                                                                                \r"
     ]
    },
    {
     "name": "stdout",
     "output_type": "stream",
     "text": [
      "+-------+--------------------+---------+---------+--------+---------------+\n",
      "|movieId|               title|movieYear|    genre|genre_id|       ohe_test|\n",
      "+-------+--------------------+---------+---------+--------+---------------+\n",
      "|      1|    Toy Story (1995)|     1995|Adventure|       3| (18,[3],[1.0])|\n",
      "|      1|    Toy Story (1995)|     1995|Animation|      10|(18,[10],[1.0])|\n",
      "|      1|    Toy Story (1995)|     1995| Children|      15|(18,[15],[1.0])|\n",
      "|      1|    Toy Story (1995)|     1995|   Comedy|      14|(18,[14],[1.0])|\n",
      "|      1|    Toy Story (1995)|     1995|  Fantasy|       7| (18,[7],[1.0])|\n",
      "|      2|      Jumanji (1995)|     1995|Adventure|       3| (18,[3],[1.0])|\n",
      "|      2|      Jumanji (1995)|     1995| Children|      15|(18,[15],[1.0])|\n",
      "|      2|      Jumanji (1995)|     1995|  Fantasy|       7| (18,[7],[1.0])|\n",
      "|      3|Grumpier Old Men ...|     1995|   Comedy|      14|(18,[14],[1.0])|\n",
      "|      3|Grumpier Old Men ...|     1995|  Romance|       1| (18,[1],[1.0])|\n",
      "|      4|Waiting to Exhale...|     1995|   Comedy|      14|(18,[14],[1.0])|\n",
      "|      4|Waiting to Exhale...|     1995|    Drama|       4| (18,[4],[1.0])|\n",
      "|      4|Waiting to Exhale...|     1995|  Romance|       1| (18,[1],[1.0])|\n",
      "|      5|Father of the Bri...|     1995|   Comedy|      14|(18,[14],[1.0])|\n",
      "|      6|         Heat (1995)|     1995|   Action|      16|(18,[16],[1.0])|\n",
      "|      6|         Heat (1995)|     1995|    Crime|       0| (18,[0],[1.0])|\n",
      "|      6|         Heat (1995)|     1995| Thriller|       2| (18,[2],[1.0])|\n",
      "|      7|      Sabrina (1995)|     1995|   Comedy|      14|(18,[14],[1.0])|\n",
      "|      7|      Sabrina (1995)|     1995|  Romance|       1| (18,[1],[1.0])|\n",
      "|      8| Tom and Huck (1995)|     1995|Adventure|       3| (18,[3],[1.0])|\n",
      "+-------+--------------------+---------+---------+--------+---------------+\n",
      "only showing top 20 rows\n",
      "\n"
     ]
    }
   ],
   "source": [
    "ohe = OneHotEncoder(inputCol='genre_id', outputCol='ohe_test', dropLast=False)\n",
    "\n",
    "ohe_model = ohe.fit(final_moveies_df)\n",
    "transformed_df = ohe_model.transform(final_moveies_df)\n",
    "transformed_df.show()"
   ]
  },
  {
   "cell_type": "code",
   "execution_count": 21,
   "id": "668da216-da7d-45b5-972a-9547e261cbf4",
   "metadata": {},
   "outputs": [
    {
     "name": "stderr",
     "output_type": "stream",
     "text": [
      "                                                                                \r"
     ]
    },
    {
     "data": {
      "text/plain": [
       "array([0., 0., 0., 0., 0., 0., 0., 0., 0., 0., 1., 0., 0., 0., 0., 0., 0.,\n",
       "       0.])"
      ]
     },
     "execution_count": 21,
     "metadata": {},
     "output_type": "execute_result"
    }
   ],
   "source": [
    "#Testing a sparse vector in array form\n",
    "ohe_model.transform(final_moveies_df).collect()[1].ohe_test.toArray()"
   ]
  },
  {
   "cell_type": "code",
   "execution_count": 22,
   "id": "3a9d6179-e16a-4062-a0e4-a57c33246a79",
   "metadata": {},
   "outputs": [],
   "source": [
    "#Uncomment for testing\n",
    "#sc = spark.sparkContext\n",
    "\n",
    "#df = sc.parallelize([\n",
    "#  (1, SparseVector(17, {3: 1.0})),\n",
    "#  (2, SparseVector(17, {10: 1.0})),\n",
    "#  (3, SparseVector(17, {15: 1.0})),\n",
    "#  (4, SparseVector(17, {14: 1.0})),\n",
    "#  (5, SparseVector(17, {7: 1.0})),\n",
    "#]).toDF([\"row_num\", \"features\"])\n",
    "\n",
    "#df.printSchema()\n",
    "#df.show(truncate=False)"
   ]
  },
  {
   "cell_type": "code",
   "execution_count": 23,
   "id": "8314519c-c4b4-4d69-a4d4-a62afbf24cba",
   "metadata": {},
   "outputs": [],
   "source": [
    "from pyspark.ml.linalg import SparseVector, DenseVector\n",
    "# note that using Sparse and Dense Vectors from ml.linalg. There are other Sparse/Dense vectors in spark.\n",
    "\n",
    "#This is user defined function to convert the sparse vector to array for easy parsing\n",
    "def sparse_to_array(v):\n",
    "  v = DenseVector(v)\n",
    "  new_array = list([float(x) for x in v])\n",
    "  return new_array\n",
    "\n",
    "sparse_to_array_udf = F.udf(sparse_to_array, T.ArrayType(T.FloatType()))\n"
   ]
  },
  {
   "cell_type": "code",
   "execution_count": 24,
   "id": "e77e98a5-9132-4bcb-8235-ef5fdab24165",
   "metadata": {},
   "outputs": [],
   "source": [
    "final_moveies_df = transformed_df.withColumn('ohe_array', sparse_to_array_udf('ohe_test')) \\\n",
    "    .select(\"movieId\",\"title\",\"movieYear\",\"genre\",\"ohe_array\") \\\n",
    "    .groupBy(\"movieId\",\"title\",\"movieYear\") \\\n",
    "    .agg( \n",
    "        concat_ws('|',collect_list(col(\"genre\"))).alias(\"genres\"),\n",
    "        F.array(*[F.sum(F.col('ohe_array')[i]) for i in range(len(genre_map))]).alias('dense_ohe_feature')\n",
    "    )"
   ]
  },
  {
   "cell_type": "code",
   "execution_count": 25,
   "id": "f5824eb9-34d8-4d43-848b-8666f6c710fc",
   "metadata": {},
   "outputs": [
    {
     "name": "stderr",
     "output_type": "stream",
     "text": [
      "[Stage 39:>                                                         (0 + 1) / 1]\r"
     ]
    },
    {
     "name": "stdout",
     "output_type": "stream",
     "text": [
      "+-------+-------------------------------------+---------+-------------------------+------------------------------------------------------------------------------------------+\n",
      "|movieId|title                                |movieYear|genres                   |dense_ohe_feature                                                                         |\n",
      "+-------+-------------------------------------+---------+-------------------------+------------------------------------------------------------------------------------------+\n",
      "|10     |GoldenEye (1995)                     |1995     |Action|Adventure|Thriller|[0.0, 0.0, 1.0, 1.0, 0.0, 0.0, 0.0, 0.0, 0.0, 0.0, 0.0, 0.0, 0.0, 0.0, 0.0, 0.0, 1.0, 0.0]|\n",
      "|1000   |Curdled (1996)                       |1996     |Crime                    |[1.0, 0.0, 0.0, 0.0, 0.0, 0.0, 0.0, 0.0, 0.0, 0.0, 0.0, 0.0, 0.0, 0.0, 0.0, 0.0, 0.0, 0.0]|\n",
      "|100003 |Up in Smoke (1957)                   |1957     |Comedy                   |[0.0, 0.0, 0.0, 0.0, 0.0, 0.0, 0.0, 0.0, 0.0, 0.0, 0.0, 0.0, 0.0, 0.0, 1.0, 0.0, 0.0, 0.0]|\n",
      "|100038 |Middle of Nowhere (2012)             |2012     |Drama|Romance            |[0.0, 1.0, 0.0, 0.0, 1.0, 0.0, 0.0, 0.0, 0.0, 0.0, 0.0, 0.0, 0.0, 0.0, 0.0, 0.0, 0.0, 0.0]|\n",
      "|100048 |Omar Killed Me (Omar m'a tuer) (2011)|2011     |Crime|Drama              |[1.0, 0.0, 0.0, 0.0, 1.0, 0.0, 0.0, 0.0, 0.0, 0.0, 0.0, 0.0, 0.0, 0.0, 0.0, 0.0, 0.0, 0.0]|\n",
      "+-------+-------------------------------------+---------+-------------------------+------------------------------------------------------------------------------------------+\n",
      "only showing top 5 rows\n",
      "\n"
     ]
    },
    {
     "name": "stderr",
     "output_type": "stream",
     "text": [
      "                                                                                \r"
     ]
    }
   ],
   "source": [
    "final_moveies_df.show(5, truncate=False)"
   ]
  },
  {
   "cell_type": "code",
   "execution_count": 26,
   "id": "a7b23914-343f-40d0-8e1d-f9d04f4e855c",
   "metadata": {},
   "outputs": [],
   "source": [
    "#Saving the file\n",
    "#final_moveies_df.coalesce(1).write.csv(\"file:///home/work/data/movies_preped\", header=True)"
   ]
  },
  {
   "cell_type": "code",
   "execution_count": 27,
   "id": "0ddbfea6-f000-4240-83e6-0f3806fe043e",
   "metadata": {},
   "outputs": [],
   "source": [
    "#final_moveies_df.select('movieId', 'dense_ohe_feature.*').show()\n",
    "final_moveies_df = final_moveies_df.select(['movieId','title','movieYear','genres'] + [final_moveies_df.dense_ohe_feature[x] for x in range(len(genre_map))])"
   ]
  },
  {
   "cell_type": "code",
   "execution_count": 28,
   "id": "027bf73b-b95b-4218-8b70-ff4cda1687f1",
   "metadata": {},
   "outputs": [
    {
     "name": "stdout",
     "output_type": "stream",
     "text": [
      "root\n",
      " |-- movieId: string (nullable = true)\n",
      " |-- title: string (nullable = true)\n",
      " |-- movieYear: string (nullable = true)\n",
      " |-- genres: string (nullable = false)\n",
      " |-- dense_ohe_feature[0]: double (nullable = true)\n",
      " |-- dense_ohe_feature[1]: double (nullable = true)\n",
      " |-- dense_ohe_feature[2]: double (nullable = true)\n",
      " |-- dense_ohe_feature[3]: double (nullable = true)\n",
      " |-- dense_ohe_feature[4]: double (nullable = true)\n",
      " |-- dense_ohe_feature[5]: double (nullable = true)\n",
      " |-- dense_ohe_feature[6]: double (nullable = true)\n",
      " |-- dense_ohe_feature[7]: double (nullable = true)\n",
      " |-- dense_ohe_feature[8]: double (nullable = true)\n",
      " |-- dense_ohe_feature[9]: double (nullable = true)\n",
      " |-- dense_ohe_feature[10]: double (nullable = true)\n",
      " |-- dense_ohe_feature[11]: double (nullable = true)\n",
      " |-- dense_ohe_feature[12]: double (nullable = true)\n",
      " |-- dense_ohe_feature[13]: double (nullable = true)\n",
      " |-- dense_ohe_feature[14]: double (nullable = true)\n",
      " |-- dense_ohe_feature[15]: double (nullable = true)\n",
      " |-- dense_ohe_feature[16]: double (nullable = true)\n",
      " |-- dense_ohe_feature[17]: double (nullable = true)\n",
      "\n"
     ]
    }
   ],
   "source": [
    "final_moveies_df.printSchema()"
   ]
  },
  {
   "cell_type": "code",
   "execution_count": 29,
   "id": "66741101-6638-406f-9c00-fb2e400a6b51",
   "metadata": {},
   "outputs": [
    {
     "name": "stderr",
     "output_type": "stream",
     "text": [
      "[Stage 42:>                                                         (0 + 1) / 1]\r"
     ]
    },
    {
     "name": "stdout",
     "output_type": "stream",
     "text": [
      "+-------+-------------------------------------+---------+-------------------------+--------------------+--------------------+--------------------+--------------------+--------------------+--------------------+--------------------+--------------------+--------------------+--------------------+---------------------+---------------------+---------------------+---------------------+---------------------+---------------------+---------------------+---------------------+\n",
      "|movieId|title                                |movieYear|genres                   |dense_ohe_feature[0]|dense_ohe_feature[1]|dense_ohe_feature[2]|dense_ohe_feature[3]|dense_ohe_feature[4]|dense_ohe_feature[5]|dense_ohe_feature[6]|dense_ohe_feature[7]|dense_ohe_feature[8]|dense_ohe_feature[9]|dense_ohe_feature[10]|dense_ohe_feature[11]|dense_ohe_feature[12]|dense_ohe_feature[13]|dense_ohe_feature[14]|dense_ohe_feature[15]|dense_ohe_feature[16]|dense_ohe_feature[17]|\n",
      "+-------+-------------------------------------+---------+-------------------------+--------------------+--------------------+--------------------+--------------------+--------------------+--------------------+--------------------+--------------------+--------------------+--------------------+---------------------+---------------------+---------------------+---------------------+---------------------+---------------------+---------------------+---------------------+\n",
      "|10     |GoldenEye (1995)                     |1995     |Action|Adventure|Thriller|0.0                 |0.0                 |1.0                 |1.0                 |0.0                 |0.0                 |0.0                 |0.0                 |0.0                 |0.0                 |0.0                  |0.0                  |0.0                  |0.0                  |0.0                  |0.0                  |1.0                  |0.0                  |\n",
      "|1000   |Curdled (1996)                       |1996     |Crime                    |1.0                 |0.0                 |0.0                 |0.0                 |0.0                 |0.0                 |0.0                 |0.0                 |0.0                 |0.0                 |0.0                  |0.0                  |0.0                  |0.0                  |0.0                  |0.0                  |0.0                  |0.0                  |\n",
      "|100003 |Up in Smoke (1957)                   |1957     |Comedy                   |0.0                 |0.0                 |0.0                 |0.0                 |0.0                 |0.0                 |0.0                 |0.0                 |0.0                 |0.0                 |0.0                  |0.0                  |0.0                  |0.0                  |1.0                  |0.0                  |0.0                  |0.0                  |\n",
      "|100038 |Middle of Nowhere (2012)             |2012     |Drama|Romance            |0.0                 |1.0                 |0.0                 |0.0                 |1.0                 |0.0                 |0.0                 |0.0                 |0.0                 |0.0                 |0.0                  |0.0                  |0.0                  |0.0                  |0.0                  |0.0                  |0.0                  |0.0                  |\n",
      "|100048 |Omar Killed Me (Omar m'a tuer) (2011)|2011     |Crime|Drama              |1.0                 |0.0                 |0.0                 |0.0                 |1.0                 |0.0                 |0.0                 |0.0                 |0.0                 |0.0                 |0.0                  |0.0                  |0.0                  |0.0                  |0.0                  |0.0                  |0.0                  |0.0                  |\n",
      "+-------+-------------------------------------+---------+-------------------------+--------------------+--------------------+--------------------+--------------------+--------------------+--------------------+--------------------+--------------------+--------------------+--------------------+---------------------+---------------------+---------------------+---------------------+---------------------+---------------------+---------------------+---------------------+\n",
      "only showing top 5 rows\n",
      "\n"
     ]
    },
    {
     "name": "stderr",
     "output_type": "stream",
     "text": [
      "                                                                                \r"
     ]
    }
   ],
   "source": [
    "final_moveies_df.show(5, truncate=False)"
   ]
  },
  {
   "cell_type": "markdown",
   "id": "3bd6da1e-5399-4cf7-b434-91c149f12011",
   "metadata": {},
   "source": [
    "*To get the corresponding genre key*"
   ]
  },
  {
   "cell_type": "code",
   "execution_count": 30,
   "id": "4a708308-e3a1-40c2-9231-c938af1abc0b",
   "metadata": {},
   "outputs": [],
   "source": [
    "def get_keys_from_value(d, val):\n",
    "    return [k for k, v in d.items() if v == val][0]"
   ]
  },
  {
   "cell_type": "markdown",
   "id": "5d1c7794-90db-410a-953b-e0671c7115d8",
   "metadata": {},
   "source": [
    "*Renaming all the genre columns*"
   ]
  },
  {
   "cell_type": "code",
   "execution_count": 31,
   "id": "1a298896-35e7-457f-84b1-42573b1e9fef",
   "metadata": {},
   "outputs": [
    {
     "name": "stdout",
     "output_type": "stream",
     "text": [
      "root\n",
      " |-- movieId: string (nullable = true)\n",
      " |-- title: string (nullable = true)\n",
      " |-- movieYear: string (nullable = true)\n",
      " |-- genres: string (nullable = false)\n",
      " |-- Crime: double (nullable = true)\n",
      " |-- Romance: double (nullable = true)\n",
      " |-- Thriller: double (nullable = true)\n",
      " |-- Adventure: double (nullable = true)\n",
      " |-- Drama: double (nullable = true)\n",
      " |-- War: double (nullable = true)\n",
      " |-- Documentary: double (nullable = true)\n",
      " |-- Fantasy: double (nullable = true)\n",
      " |-- Mystery: double (nullable = true)\n",
      " |-- Musical: double (nullable = true)\n",
      " |-- Animation: double (nullable = true)\n",
      " |-- Film-Noir: double (nullable = true)\n",
      " |-- Horror: double (nullable = true)\n",
      " |-- Western: double (nullable = true)\n",
      " |-- Comedy: double (nullable = true)\n",
      " |-- Children: double (nullable = true)\n",
      " |-- Action: double (nullable = true)\n",
      " |-- Sci-Fi: double (nullable = true)\n",
      "\n"
     ]
    }
   ],
   "source": [
    "for i in range(len(genre_map)):\n",
    "    old_column = \"dense_ohe_feature[{}]\".format(i)\n",
    "    new_column = get_keys_from_value(genre_map,i)\n",
    "    final_moveies_df = final_moveies_df.withColumnRenamed(old_column,new_column)\n",
    "final_moveies_df.printSchema()"
   ]
  },
  {
   "cell_type": "code",
   "execution_count": 32,
   "id": "a5d878a5-7e28-4439-ab4a-69c2799646b5",
   "metadata": {},
   "outputs": [
    {
     "name": "stderr",
     "output_type": "stream",
     "text": [
      "[Stage 45:>                                                         (0 + 1) / 1]\r"
     ]
    },
    {
     "name": "stdout",
     "output_type": "stream",
     "text": [
      "+-------+-------------------------------------+---------+-------------------------+-----+-------+--------+---------+-----+---+-----------+-------+-------+-------+---------+---------+------+-------+------+--------+------+------+\n",
      "|movieId|title                                |movieYear|genres                   |Crime|Romance|Thriller|Adventure|Drama|War|Documentary|Fantasy|Mystery|Musical|Animation|Film-Noir|Horror|Western|Comedy|Children|Action|Sci-Fi|\n",
      "+-------+-------------------------------------+---------+-------------------------+-----+-------+--------+---------+-----+---+-----------+-------+-------+-------+---------+---------+------+-------+------+--------+------+------+\n",
      "|10     |GoldenEye (1995)                     |1995     |Action|Adventure|Thriller|0.0  |0.0    |1.0     |1.0      |0.0  |0.0|0.0        |0.0    |0.0    |0.0    |0.0      |0.0      |0.0   |0.0    |0.0   |0.0     |1.0   |0.0   |\n",
      "|1000   |Curdled (1996)                       |1996     |Crime                    |1.0  |0.0    |0.0     |0.0      |0.0  |0.0|0.0        |0.0    |0.0    |0.0    |0.0      |0.0      |0.0   |0.0    |0.0   |0.0     |0.0   |0.0   |\n",
      "|100003 |Up in Smoke (1957)                   |1957     |Comedy                   |0.0  |0.0    |0.0     |0.0      |0.0  |0.0|0.0        |0.0    |0.0    |0.0    |0.0      |0.0      |0.0   |0.0    |1.0   |0.0     |0.0   |0.0   |\n",
      "|100038 |Middle of Nowhere (2012)             |2012     |Drama|Romance            |0.0  |1.0    |0.0     |0.0      |1.0  |0.0|0.0        |0.0    |0.0    |0.0    |0.0      |0.0      |0.0   |0.0    |0.0   |0.0     |0.0   |0.0   |\n",
      "|100048 |Omar Killed Me (Omar m'a tuer) (2011)|2011     |Crime|Drama              |1.0  |0.0    |0.0     |0.0      |1.0  |0.0|0.0        |0.0    |0.0    |0.0    |0.0      |0.0      |0.0   |0.0    |0.0   |0.0     |0.0   |0.0   |\n",
      "+-------+-------------------------------------+---------+-------------------------+-----+-------+--------+---------+-----+---+-----------+-------+-------+-------+---------+---------+------+-------+------+--------+------+------+\n",
      "only showing top 5 rows\n",
      "\n"
     ]
    },
    {
     "name": "stderr",
     "output_type": "stream",
     "text": [
      "                                                                                \r"
     ]
    }
   ],
   "source": [
    "final_moveies_df.show(5, truncate=False)"
   ]
  },
  {
   "cell_type": "code",
   "execution_count": 33,
   "id": "2e4bc8ca-75ef-4233-a8a6-af49a0681694",
   "metadata": {},
   "outputs": [
    {
     "data": {
      "text/plain": [
       "57360"
      ]
     },
     "execution_count": 33,
     "metadata": {},
     "output_type": "execute_result"
    }
   ],
   "source": [
    "final_moveies_df.count()"
   ]
  },
  {
   "cell_type": "markdown",
   "id": "bb4b80d2-5297-40e7-b2a4-45096d718f9a",
   "metadata": {},
   "source": [
    "## Add average movie ratings"
   ]
  },
  {
   "cell_type": "code",
   "execution_count": 34,
   "id": "d25286c5-6879-4fe5-bf6e-3290da855721",
   "metadata": {},
   "outputs": [
    {
     "name": "stderr",
     "output_type": "stream",
     "text": [
      "[Stage 55:================================================>         (5 + 1) / 6]\r"
     ]
    },
    {
     "name": "stdout",
     "output_type": "stream",
     "text": [
      "root\n",
      " |-- userId: integer (nullable = true)\n",
      " |-- movieId: integer (nullable = true)\n",
      " |-- rating: double (nullable = true)\n",
      " |-- timestamp: integer (nullable = true)\n",
      "\n"
     ]
    },
    {
     "name": "stderr",
     "output_type": "stream",
     "text": [
      "                                                                                \r"
     ]
    }
   ],
   "source": [
    "ratings_df = spark.read.csv(\"file:///home/work/data/ratings.csv\", inferSchema=True, header=True)\n",
    "ratings_df.printSchema()"
   ]
  },
  {
   "cell_type": "code",
   "execution_count": 35,
   "id": "9c3f3372-91ab-4a3e-b3a9-cfd27d97a8ea",
   "metadata": {},
   "outputs": [],
   "source": [
    "final_moveies_df.createOrReplaceTempView(\"m\")\n",
    "ratings_df.createOrReplaceTempView(\"r\")"
   ]
  },
  {
   "cell_type": "code",
   "execution_count": 36,
   "id": "a0609eda-046b-45f3-ab6a-f6fd21ad0afa",
   "metadata": {},
   "outputs": [
    {
     "name": "stderr",
     "output_type": "stream",
     "text": [
      "                                                                                \r"
     ]
    },
    {
     "name": "stdout",
     "output_type": "stream",
     "text": [
      "Total distinct movies with min 5:  32720\n"
     ]
    },
    {
     "name": "stderr",
     "output_type": "stream",
     "text": [
      "                                                                                \r"
     ]
    },
    {
     "name": "stdout",
     "output_type": "stream",
     "text": [
      "Total distinct movies with min 10: 24330\n"
     ]
    },
    {
     "name": "stderr",
     "output_type": "stream",
     "text": [
      "[Stage 68:================================================>         (5 + 1) / 6]\r"
     ]
    },
    {
     "name": "stdout",
     "output_type": "stream",
     "text": [
      "+-------+------------------+\n",
      "|movieId|        avg_rating|\n",
      "+-------+------------------+\n",
      "| 171011| 4.483096085409253|\n",
      "| 159817| 4.464796794504865|\n",
      "|    318| 4.413576004516335|\n",
      "| 170705| 4.398598820058997|\n",
      "| 158958| 4.384615384615385|\n",
      "| 171331|             4.375|\n",
      "| 169022| 4.333333333333333|\n",
      "| 171495|4.3267148014440435|\n",
      "|    858| 4.324336165187245|\n",
      "| 179135| 4.289833080424886|\n",
      "|     50| 4.284353213163313|\n",
      "| 174551| 4.277777777777778|\n",
      "| 172631|4.2727272727272725|\n",
      "| 198185| 4.267361111111111|\n",
      "|   1221|4.2617585117585115|\n",
      "| 163809| 4.258241758241758|\n",
      "| 176601| 4.256578947368421|\n",
      "|   2019|  4.25476920775043|\n",
      "| 147250|4.2517006802721085|\n",
      "| 131980|              4.25|\n",
      "+-------+------------------+\n",
      "only showing top 20 rows\n",
      "\n"
     ]
    },
    {
     "name": "stderr",
     "output_type": "stream",
     "text": [
      "                                                                                \r"
     ]
    }
   ],
   "source": [
    "avg_rating_5 = spark.sql(\"SELECT r.movieId, AVG(r.rating) as avg_rating FROM r GROUP BY r.movieId HAVING COUNT(r.userId) >= 5 ORDER BY avg_rating DESC\")\n",
    "avg_rating_5.createOrReplaceTempView(\"avg_5\")\n",
    "avg_rating_10 = spark.sql(\"SELECT r.movieId, AVG(r.rating) as avg_rating FROM r GROUP BY r.movieId HAVING COUNT(r.userId) >= 10 ORDER BY avg_rating DESC\")\n",
    "avg_rating_10.createOrReplaceTempView(\"avg_10\")\n",
    "print(f\"Total distinct movies with min 5:  {avg_rating_5.count()}\")\n",
    "print(f\"Total distinct movies with min 10: {avg_rating_10.count()}\")\n",
    "avg_rating_10.show()"
   ]
  },
  {
   "cell_type": "code",
   "execution_count": 37,
   "id": "d49978a2-b2fe-4eff-8734-83bf3dcf2a94",
   "metadata": {},
   "outputs": [
    {
     "name": "stdout",
     "output_type": "stream",
     "text": [
      "Total distinct ratings with min 5:\n"
     ]
    },
    {
     "name": "stderr",
     "output_type": "stream",
     "text": [
      "                                                                                \r"
     ]
    },
    {
     "name": "stdout",
     "output_type": "stream",
     "text": [
      "+--------------+\n",
      "|count(movieId)|\n",
      "+--------------+\n",
      "|      24945870|\n",
      "+--------------+\n",
      "\n",
      "Total distinct ratings with min 10:\n"
     ]
    },
    {
     "name": "stderr",
     "output_type": "stream",
     "text": [
      "[Stage 85:==============================================>           (4 + 1) / 5]\r"
     ]
    },
    {
     "name": "stdout",
     "output_type": "stream",
     "text": [
      "+--------------+\n",
      "|count(movieId)|\n",
      "+--------------+\n",
      "|      24890583|\n",
      "+--------------+\n",
      "\n"
     ]
    },
    {
     "name": "stderr",
     "output_type": "stream",
     "text": [
      "                                                                                \r"
     ]
    }
   ],
   "source": [
    "print(f\"Total distinct ratings with min 5:\")\n",
    "spark.sql(\"SELECT COUNT(r.movieId) FROM r INNER JOIN avg_5 ON r.movieId == avg_5.movieId\").show()\n",
    "print(f\"Total distinct ratings with min 10:\")\n",
    "spark.sql(\"SELECT COUNT(r.movieId) FROM r INNER JOIN avg_10 ON r.movieId == avg_10.movieId\").show()"
   ]
  },
  {
   "cell_type": "markdown",
   "id": "cc6af474-b8ef-4838-af17-0790409234f9",
   "metadata": {},
   "source": [
    "### Filter by at least 5 ratings/movie  \n",
    "* Movies drop down from 57360 to 32720 (24640 total movies lost)  \n",
    "* Ratings drop from 25000095 to 24945870 (54225 total ratings lost)  \n",
    "### Filter by at least 10 ratings/movie  \n",
    "* Movies drop down from 57360 to 24330 (33030 total movies lost)  \n",
    "* Ratings drop from 25000095 to 24890583 (109512 total ratings lost)  "
   ]
  },
  {
   "cell_type": "code",
   "execution_count": 39,
   "id": "30669041-dda5-4772-b62c-bf7ab3d02395",
   "metadata": {},
   "outputs": [],
   "source": [
    "# join average ratings with movie table\n",
    "final_df_cols = [\"m.`\" + c + \"`\" if '-' in c else \"m.\" + c for c in final_moveies_df.columns]\n",
    "\n",
    "final_df_cols.insert(2, \"avg_5.avg_rating\")\n",
    "final_df_cols = \", \".join(final_df_cols)\n",
    "\n",
    "# put together query\n",
    "query = \"SELECT \" + final_df_cols + \" FROM m JOIN avg_5 ON m.movieId == avg_5.movieId\"\n",
    "\n",
    "# run query\n",
    "final_moveies_df_5 = spark.sql(query)\n",
    "# final_moveies_df_5.show()"
   ]
  },
  {
   "cell_type": "code",
   "execution_count": 40,
   "id": "465782bc-403a-45f1-92eb-0a293bf25599",
   "metadata": {},
   "outputs": [],
   "source": [
    "# join average ratings with movie table\n",
    "final_df_cols = [\"m.`\" + c + \"`\" if '-' in c else \"m.\" + c for c in final_moveies_df.columns]\n",
    "\n",
    "final_df_cols.insert(2, \"avg_10.avg_rating\")\n",
    "final_df_cols = \", \".join(final_df_cols)\n",
    "\n",
    "# put together query\n",
    "query = \"SELECT \" + final_df_cols + \" FROM m JOIN avg_10 ON m.movieId == avg_10.movieId\"\n",
    "\n",
    "# run query\n",
    "final_moveies_df_10 = spark.sql(query)\n",
    "# final_moveies_df_10.show()"
   ]
  },
  {
   "cell_type": "code",
   "execution_count": 41,
   "id": "e0e17ae9-7974-400f-a1de-d5aeecbf4c74",
   "metadata": {},
   "outputs": [],
   "source": [
    "write_files = False\n",
    "if write_files:\n",
    "    final_moveies_df_5.coalesce(1).write.csv(\"hdfs:///final_movies_df_5\", header=True)\n",
    "    !hadoop fs -ls /final_moveies_df_5\n",
    "    !hadoop fs -copyToLocal /final_moveies_df_5/part-*.csv /home/work/data/\n",
    "\n",
    "    final_moveies_df_10.coalesce(1).write.csv(\"hdfs:///final_movies_df_10\", header=True)\n",
    "    !hadoop fs -ls /final_moveies_df_10\n",
    "    !hadoop fs -copyToLocal /final_moveies_df_10/part-*.csv /home/work/data/"
   ]
  },
  {
   "cell_type": "markdown",
   "id": "99356d8d-e02f-437f-ac27-ed8d1346b9fd",
   "metadata": {},
   "source": [
    "Saving the final cleaned CSV file."
   ]
  },
  {
   "cell_type": "code",
   "execution_count": 42,
   "id": "46b7dd16-9a14-4e7f-a0fa-54a6415b6124",
   "metadata": {},
   "outputs": [],
   "source": [
    "#!hadoop fs -copyToLocal /final_moveies_df/part-*.csv /home/work/data/\n",
    "#!mv /home/work/data/part-00000-7c9c7e1a-ce8f-410b-878e-69c76b9a5bd5-c000.csv /home/work/data/cleaned_movies.csv\n",
    "#!ls -lrt /home/work/data/"
   ]
  }
 ],
 "metadata": {
  "kernelspec": {
   "display_name": "Python 3 (ipykernel)",
   "language": "python",
   "name": "python3"
  },
  "language_info": {
   "codemirror_mode": {
    "name": "ipython",
    "version": 3
   },
   "file_extension": ".py",
   "mimetype": "text/x-python",
   "name": "python",
   "nbconvert_exporter": "python",
   "pygments_lexer": "ipython3",
   "version": "3.8.10"
  }
 },
 "nbformat": 4,
 "nbformat_minor": 5
}
