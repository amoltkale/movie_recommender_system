{
 "cells": [
  {
   "cell_type": "code",
   "execution_count": 32,
   "id": "a1f3fd63-b6ce-43ac-8294-e57f8f0af399",
   "metadata": {},
   "outputs": [],
   "source": [
    "import pyspark\n",
    "from pyspark.sql import SparkSession\n",
    "from pyspark.sql.functions import *\n",
    "from pyspark.ml.feature import OneHotEncoder\n",
    "\n",
    "import matplotlib.pyplot as plt\n",
    "import numpy as np"
   ]
  },
  {
   "cell_type": "code",
   "execution_count": 2,
   "id": "1d634576-8e1a-4a00-af2b-1d05a3a42cd8",
   "metadata": {},
   "outputs": [
    {
     "name": "stderr",
     "output_type": "stream",
     "text": [
      "WARNING: An illegal reflective access operation has occurred\n",
      "WARNING: Illegal reflective access by org.apache.spark.unsafe.Platform (file:/usr/spark-3.2.1/jars/spark-unsafe_2.12-3.2.1.jar) to constructor java.nio.DirectByteBuffer(long,int)\n",
      "WARNING: Please consider reporting this to the maintainers of org.apache.spark.unsafe.Platform\n",
      "WARNING: Use --illegal-access=warn to enable warnings of further illegal reflective access operations\n",
      "WARNING: All illegal access operations will be denied in a future release\n",
      "Setting default log level to \"WARN\".\n",
      "To adjust logging level use sc.setLogLevel(newLevel). For SparkR, use setLogLevel(newLevel).\n",
      "2022-05-16 07:05:39,520 WARN util.NativeCodeLoader: Unable to load native-hadoop library for your platform... using builtin-java classes where applicable\n"
     ]
    }
   ],
   "source": [
    "# Change the number of cores in this code block\n",
    "# by setting `spark.master` to `local[n]` where\n",
    "# n is the number of cores\n",
    "\n",
    "conf = pyspark.SparkConf().setAll([('spark.master', 'local[4]'),\n",
    "                                   ('spark.app.name', 'Basic Setup')])\n",
    "spark = SparkSession.builder.config(conf=conf).getOrCreate()"
   ]
  },
  {
   "cell_type": "markdown",
   "id": "d307d264-cd26-4a77-8a7d-106c83308b6c",
   "metadata": {},
   "source": [
    "## Load Data\n",
    "\n",
    "Read data from the `ratings.csv` file"
   ]
  },
  {
   "cell_type": "code",
   "execution_count": 3,
   "id": "33a028a0-d29d-400f-bcf7-cdc7783f2a4e",
   "metadata": {},
   "outputs": [
    {
     "name": "stdout",
     "output_type": "stream",
     "text": [
      "root\n",
      " |-- movieId: string (nullable = true)\n",
      " |-- title: string (nullable = true)\n",
      " |-- genres: string (nullable = true)\n",
      "\n"
     ]
    }
   ],
   "source": [
    "movies_df = spark.read.option(\"header\",True).csv(\"file:///home/work/data/movies.csv\")\n",
    "movies_df.printSchema()"
   ]
  },
  {
   "cell_type": "code",
   "execution_count": 4,
   "id": "60bee5ab-3d81-420d-bb7b-0eb9aac2c8c7",
   "metadata": {},
   "outputs": [
    {
     "name": "stdout",
     "output_type": "stream",
     "text": [
      "+-------+--------------------+--------------------+\n",
      "|movieId|               title|              genres|\n",
      "+-------+--------------------+--------------------+\n",
      "|      1|    Toy Story (1995)|Adventure|Animati...|\n",
      "|      2|      Jumanji (1995)|Adventure|Childre...|\n",
      "|      3|Grumpier Old Men ...|      Comedy|Romance|\n",
      "|      4|Waiting to Exhale...|Comedy|Drama|Romance|\n",
      "|      5|Father of the Bri...|              Comedy|\n",
      "|      6|         Heat (1995)|Action|Crime|Thri...|\n",
      "|      7|      Sabrina (1995)|      Comedy|Romance|\n",
      "|      8| Tom and Huck (1995)|  Adventure|Children|\n",
      "|      9| Sudden Death (1995)|              Action|\n",
      "|     10|    GoldenEye (1995)|Action|Adventure|...|\n",
      "|     11|American Presiden...|Comedy|Drama|Romance|\n",
      "|     12|Dracula: Dead and...|       Comedy|Horror|\n",
      "|     13|        Balto (1995)|Adventure|Animati...|\n",
      "|     14|        Nixon (1995)|               Drama|\n",
      "|     15|Cutthroat Island ...|Action|Adventure|...|\n",
      "|     16|       Casino (1995)|         Crime|Drama|\n",
      "|     17|Sense and Sensibi...|       Drama|Romance|\n",
      "|     18|   Four Rooms (1995)|              Comedy|\n",
      "|     19|Ace Ventura: When...|              Comedy|\n",
      "|     20|  Money Train (1995)|Action|Comedy|Cri...|\n",
      "+-------+--------------------+--------------------+\n",
      "only showing top 20 rows\n",
      "\n"
     ]
    }
   ],
   "source": [
    "movies_df.show()"
   ]
  },
  {
   "cell_type": "markdown",
   "id": "2553b935-0fe5-4943-ab1a-15e766631749",
   "metadata": {},
   "source": [
    "## Add Year column"
   ]
  },
  {
   "cell_type": "code",
   "execution_count": 5,
   "id": "15c596b7-d1b6-4c2f-9e7f-2ba353bb6517",
   "metadata": {},
   "outputs": [],
   "source": [
    "#Extracting the year from Movie Title\n",
    "movies_df = movies_df.withColumn('movieYear',regexp_extract(col('title'), '(.+)(\\()([0-9]{4})(\\))', 3))"
   ]
  },
  {
   "cell_type": "code",
   "execution_count": 6,
   "id": "2bd59cb8-45fb-4c24-bc03-59eb804c09e6",
   "metadata": {},
   "outputs": [
    {
     "name": "stdout",
     "output_type": "stream",
     "text": [
      "+-------+--------------------+--------------------+---------+\n",
      "|movieId|               title|              genres|movieYear|\n",
      "+-------+--------------------+--------------------+---------+\n",
      "|      1|    Toy Story (1995)|Adventure|Animati...|     1995|\n",
      "|      2|      Jumanji (1995)|Adventure|Childre...|     1995|\n",
      "|      3|Grumpier Old Men ...|      Comedy|Romance|     1995|\n",
      "|      4|Waiting to Exhale...|Comedy|Drama|Romance|     1995|\n",
      "|      5|Father of the Bri...|              Comedy|     1995|\n",
      "|      6|         Heat (1995)|Action|Crime|Thri...|     1995|\n",
      "|      7|      Sabrina (1995)|      Comedy|Romance|     1995|\n",
      "|      8| Tom and Huck (1995)|  Adventure|Children|     1995|\n",
      "|      9| Sudden Death (1995)|              Action|     1995|\n",
      "|     10|    GoldenEye (1995)|Action|Adventure|...|     1995|\n",
      "|     11|American Presiden...|Comedy|Drama|Romance|     1995|\n",
      "|     12|Dracula: Dead and...|       Comedy|Horror|     1995|\n",
      "|     13|        Balto (1995)|Adventure|Animati...|     1995|\n",
      "|     14|        Nixon (1995)|               Drama|     1995|\n",
      "|     15|Cutthroat Island ...|Action|Adventure|...|     1995|\n",
      "|     16|       Casino (1995)|         Crime|Drama|     1995|\n",
      "|     17|Sense and Sensibi...|       Drama|Romance|     1995|\n",
      "|     18|   Four Rooms (1995)|              Comedy|     1995|\n",
      "|     19|Ace Ventura: When...|              Comedy|     1995|\n",
      "|     20|  Money Train (1995)|Action|Comedy|Cri...|     1995|\n",
      "+-------+--------------------+--------------------+---------+\n",
      "only showing top 20 rows\n",
      "\n"
     ]
    }
   ],
   "source": [
    "movies_df.show()"
   ]
  },
  {
   "cell_type": "markdown",
   "id": "a4ad22cc-a872-4a36-a55b-b8e03b1a85da",
   "metadata": {},
   "source": [
    "## Removing IMAX\n",
    "Upon visual inspection, there were only two cases for IMAX\n",
    "### Case 1: IMAX was only genre\n",
    "* 1 movie where this was true\n",
    "    * 4460,Encounter in the Third Dimension (1999),IMAX -> only movie with IMAX as only genre -> 27 ratings\n",
    "Solution: Replace pattern: \",IMAX\" -> \",(no genres listed)\"\n",
    "### Case 2: IMAX was last genre listed\n",
    "* All other 194 instances of IMAX, IMAX was the last genre\n",
    "Solution: Replace pattern: \"|IMAX\" -> \"\""
   ]
  },
  {
   "cell_type": "code",
   "execution_count": 7,
   "id": "e851b672-75b6-4c75-8b13-6e6dfcf91c2b",
   "metadata": {},
   "outputs": [
    {
     "name": "stdout",
     "output_type": "stream",
     "text": [
      "+-------+--------------------+--------------------+---------+\n",
      "|movieId|               title|              genres|movieYear|\n",
      "+-------+--------------------+--------------------+---------+\n",
      "|     33|Wings of Courage ...|Adventure|Romance...|     1995|\n",
      "|     37|Across the Sea of...|    Documentary|IMAX|     1995|\n",
      "|    150|    Apollo 13 (1995)|Adventure|Drama|IMAX|     1995|\n",
      "|    364|Lion King, The (1...|Adventure|Animati...|     1994|\n",
      "|    595|Beauty and the Be...|Animation|Childre...|     1991|\n",
      "|   1797|      Everest (1998)|    Documentary|IMAX|     1998|\n",
      "|   3159|Fantasia 2000 (1999)|Animation|Childre...|     1999|\n",
      "|   4382|       Wolves (1999)|    Documentary|IMAX|     1999|\n",
      "|   4445|T-Rex: Back to th...|Adventure|Documen...|     1998|\n",
      "|   4453|Michael Jordan to...|    Documentary|IMAX|     2000|\n",
      "|   4454|         More (1998)|Animation|Drama|S...|     1998|\n",
      "|   4455|Thrill Ride: The ...|Adventure|Documen...|     1997|\n",
      "|   4456|Haunted Castle (2...|Animation|Horror|...|     2001|\n",
      "|   4457|   All Access (2001)|Documentary|Music...|     2001|\n",
      "|   4458|Africa: The Seren...|    Documentary|IMAX|     1994|\n",
      "|   4459|Alaska: Spirit of...|    Documentary|IMAX|     1997|\n",
      "|   4460|Encounter in the ...|                IMAX|     1999|\n",
      "|   4461|Siegfried & Roy: ...|    Documentary|IMAX|     1999|\n",
      "|   4856|Destiny in Space ...|    Documentary|IMAX|     1994|\n",
      "|   4858|Hail Columbia! (1...|    Documentary|IMAX|     1982|\n",
      "+-------+--------------------+--------------------+---------+\n",
      "only showing top 20 rows\n",
      "\n"
     ]
    }
   ],
   "source": [
    "#Check IMAX genres in records\n",
    "movies_df.filter(col(\"genres\").contains(\"IMAX\")).show()"
   ]
  },
  {
   "cell_type": "code",
   "execution_count": 8,
   "id": "cebbae8e-aa41-4a72-873c-087b4e0de7bb",
   "metadata": {},
   "outputs": [],
   "source": [
    "# Case 1: IMAX is only genre\n",
    "movies_df = movies_df.withColumn('genres', regexp_replace(col('genres'), '\\\\|IMAX', '')) \\\n",
    "                    .withColumn('genres', regexp_replace(col('genres'), 'IMAX', '(no genres listed)'))\n",
    "         "
   ]
  },
  {
   "cell_type": "code",
   "execution_count": 9,
   "id": "7bd89b32-53df-40e0-b531-e298720d7a1a",
   "metadata": {},
   "outputs": [
    {
     "name": "stdout",
     "output_type": "stream",
     "text": [
      "+-------+-----+------+---------+\n",
      "|movieId|title|genres|movieYear|\n",
      "+-------+-----+------+---------+\n",
      "+-------+-----+------+---------+\n",
      "\n"
     ]
    }
   ],
   "source": [
    "#check after IMAX genre removal \n",
    "movies_df.filter(col(\"genres\").contains(\"IMAX\")).show()"
   ]
  },
  {
   "cell_type": "code",
   "execution_count": 10,
   "id": "c2857419-b2c2-4e09-bc7b-ef1c28089fd4",
   "metadata": {},
   "outputs": [
    {
     "data": {
      "text/plain": [
       "62423"
      ]
     },
     "execution_count": 10,
     "metadata": {},
     "output_type": "execute_result"
    }
   ],
   "source": [
    "#Movies before flattening the genres\n",
    "movies_df.count()"
   ]
  },
  {
   "cell_type": "code",
   "execution_count": 11,
   "id": "7f079eee-c091-400a-92d6-17c2b1d205fb",
   "metadata": {},
   "outputs": [],
   "source": [
    "#Creating the flattened version of movies with genres\n",
    "final_moveies_df = movies_df.select(col('movieId'),col('title'),col('movieYear'),explode(split(\"genres\",\"\\\\|\")).alias(\"genre\"))"
   ]
  },
  {
   "cell_type": "code",
   "execution_count": 12,
   "id": "4c0fea79-5a57-4e4c-9bd6-3fa758fd9004",
   "metadata": {},
   "outputs": [
    {
     "data": {
      "text/plain": [
       "112113"
      ]
     },
     "execution_count": 12,
     "metadata": {},
     "output_type": "execute_result"
    }
   ],
   "source": [
    "final_moveies_df.count()"
   ]
  },
  {
   "cell_type": "markdown",
   "id": "e60ab49a-4c18-46c5-ba89-7b12e3b00359",
   "metadata": {},
   "source": [
    "## Movies with no genres\n",
    "Solution: Drop movies without genres\n",
    "Future aim: write scraper to pull missing genres"
   ]
  },
  {
   "cell_type": "code",
   "execution_count": 14,
   "id": "c0b95709-9432-47ae-a8fb-19414551c850",
   "metadata": {},
   "outputs": [],
   "source": [
    "#Removing movies with (no genres listed)\n",
    "final_moveies_df = final_moveies_df.filter(col(\"genres\") != \"(no genres listed)\")"
   ]
  },
  {
   "cell_type": "code",
   "execution_count": 21,
   "id": "8c5ba7aa-90b7-473b-95f4-256bd0c29d7e",
   "metadata": {},
   "outputs": [
    {
     "name": "stdout",
     "output_type": "stream",
     "text": [
      "Total distinct genres: 18\n",
      "+-----------+-----+\n",
      "|genre      |count|\n",
      "+-----------+-----+\n",
      "|Drama      |25606|\n",
      "|Comedy     |16870|\n",
      "|Thriller   |8654 |\n",
      "|Romance    |7719 |\n",
      "|Action     |7348 |\n",
      "|Horror     |5989 |\n",
      "|Documentary|5605 |\n",
      "|Crime      |5319 |\n",
      "|Adventure  |4145 |\n",
      "|Sci-Fi     |3595 |\n",
      "|Children   |2935 |\n",
      "|Animation  |2929 |\n",
      "|Mystery    |2925 |\n",
      "|Fantasy    |2731 |\n",
      "|War        |1874 |\n",
      "|Western    |1399 |\n",
      "|Musical    |1054 |\n",
      "|Film-Noir  |353  |\n",
      "+-----------+-----+\n",
      "\n"
     ]
    }
   ],
   "source": [
    "distinct_genres = final_moveies_df.groupBy('genre').count().sort(col(\"count\").desc())\n",
    "print(f\"Total distinct genres: {distinct_genres.count()}\")\n",
    "distinct_genres.show(25, truncate=False)"
   ]
  },
  {
   "cell_type": "code",
   "execution_count": 22,
   "id": "95a6617f-403a-4fc3-9884-66b8717e915b",
   "metadata": {},
   "outputs": [
    {
     "data": {
      "text/plain": [
       "107050"
      ]
     },
     "execution_count": 22,
     "metadata": {},
     "output_type": "execute_result"
    }
   ],
   "source": [
    "final_moveies_df.count()"
   ]
  },
  {
   "cell_type": "code",
   "execution_count": 23,
   "id": "204cc2de-30d8-4740-b52f-3cb124e60e75",
   "metadata": {},
   "outputs": [
    {
     "name": "stdout",
     "output_type": "stream",
     "text": [
      "+-------+----------------------------------+---------+---------+\n",
      "|movieId|title                             |movieYear|genre    |\n",
      "+-------+----------------------------------+---------+---------+\n",
      "|1      |Toy Story (1995)                  |1995     |Adventure|\n",
      "|1      |Toy Story (1995)                  |1995     |Animation|\n",
      "|1      |Toy Story (1995)                  |1995     |Children |\n",
      "|1      |Toy Story (1995)                  |1995     |Comedy   |\n",
      "|1      |Toy Story (1995)                  |1995     |Fantasy  |\n",
      "|2      |Jumanji (1995)                    |1995     |Adventure|\n",
      "|2      |Jumanji (1995)                    |1995     |Children |\n",
      "|2      |Jumanji (1995)                    |1995     |Fantasy  |\n",
      "|3      |Grumpier Old Men (1995)           |1995     |Comedy   |\n",
      "|3      |Grumpier Old Men (1995)           |1995     |Romance  |\n",
      "|4      |Waiting to Exhale (1995)          |1995     |Comedy   |\n",
      "|4      |Waiting to Exhale (1995)          |1995     |Drama    |\n",
      "|4      |Waiting to Exhale (1995)          |1995     |Romance  |\n",
      "|5      |Father of the Bride Part II (1995)|1995     |Comedy   |\n",
      "|6      |Heat (1995)                       |1995     |Action   |\n",
      "|6      |Heat (1995)                       |1995     |Crime    |\n",
      "|6      |Heat (1995)                       |1995     |Thriller |\n",
      "|7      |Sabrina (1995)                    |1995     |Comedy   |\n",
      "|7      |Sabrina (1995)                    |1995     |Romance  |\n",
      "|8      |Tom and Huck (1995)               |1995     |Adventure|\n",
      "+-------+----------------------------------+---------+---------+\n",
      "only showing top 20 rows\n",
      "\n"
     ]
    }
   ],
   "source": [
    "final_moveies_df.show(truncate=False)"
   ]
  },
  {
   "cell_type": "markdown",
   "id": "8ab8337d-f51e-4d8b-a5a4-177191887a52",
   "metadata": {},
   "source": [
    "## Movies with no ratings\n",
    "Interestingly, the movies found with no ratings were found to be a mixed bag of quality. A decent check of movies without ratings were also older movies.\n",
    "Solution: Drop movies since we have a way of guestimating their rating\n",
    "\n",
    "Future Aims: Pull average rating from other sites and possibly introduce movies as a fresh experience for users."
   ]
  },
  {
   "cell_type": "code",
   "execution_count": 55,
   "id": "5199f41a-ab56-41e6-acf5-069bda1747f7",
   "metadata": {},
   "outputs": [],
   "source": [
    "from pyspark.sql.types import IntegerType\n",
    "genre_list = np.array(final_moveies_df.select(col('genre')).distinct().collect()).squeeze().tolist()\n",
    "genre_map = {g: i for i, g in enumerate(genre_list)}\n",
    "\n",
    "# https://stackoverflow.com/questions/42980704/pyspark-create-new-column-with-mapping-from-a-dict\n",
    "def translate(mapping):\n",
    "    def translate_(col):\n",
    "        return mapping.get(col)\n",
    "    return udf(translate_, IntegerType())\n",
    "\n",
    "final_moveies_df = final_moveies_df.withColumn(\"genre_id\", translate(genre_map)(\"genre\"))"
   ]
  },
  {
   "cell_type": "code",
   "execution_count": 58,
   "id": "2d7c3faa-9061-4e85-9395-120a2a6b4582",
   "metadata": {},
   "outputs": [
    {
     "name": "stdout",
     "output_type": "stream",
     "text": [
      "+-------+--------------------+---------+---------+--------+---------------+\n",
      "|movieId|               title|movieYear|    genre|genre_id|       ohe_test|\n",
      "+-------+--------------------+---------+---------+--------+---------------+\n",
      "|      1|    Toy Story (1995)|     1995|Adventure|       3| (17,[3],[1.0])|\n",
      "|      1|    Toy Story (1995)|     1995|Animation|      10|(17,[10],[1.0])|\n",
      "|      1|    Toy Story (1995)|     1995| Children|      15|(17,[15],[1.0])|\n",
      "|      1|    Toy Story (1995)|     1995|   Comedy|      14|(17,[14],[1.0])|\n",
      "|      1|    Toy Story (1995)|     1995|  Fantasy|       7| (17,[7],[1.0])|\n",
      "|      2|      Jumanji (1995)|     1995|Adventure|       3| (17,[3],[1.0])|\n",
      "|      2|      Jumanji (1995)|     1995| Children|      15|(17,[15],[1.0])|\n",
      "|      2|      Jumanji (1995)|     1995|  Fantasy|       7| (17,[7],[1.0])|\n",
      "|      3|Grumpier Old Men ...|     1995|   Comedy|      14|(17,[14],[1.0])|\n",
      "|      3|Grumpier Old Men ...|     1995|  Romance|       1| (17,[1],[1.0])|\n",
      "|      4|Waiting to Exhale...|     1995|   Comedy|      14|(17,[14],[1.0])|\n",
      "|      4|Waiting to Exhale...|     1995|    Drama|       4| (17,[4],[1.0])|\n",
      "|      4|Waiting to Exhale...|     1995|  Romance|       1| (17,[1],[1.0])|\n",
      "|      5|Father of the Bri...|     1995|   Comedy|      14|(17,[14],[1.0])|\n",
      "|      6|         Heat (1995)|     1995|   Action|      16|(17,[16],[1.0])|\n",
      "|      6|         Heat (1995)|     1995|    Crime|       0| (17,[0],[1.0])|\n",
      "|      6|         Heat (1995)|     1995| Thriller|       2| (17,[2],[1.0])|\n",
      "|      7|      Sabrina (1995)|     1995|   Comedy|      14|(17,[14],[1.0])|\n",
      "|      7|      Sabrina (1995)|     1995|  Romance|       1| (17,[1],[1.0])|\n",
      "|      8| Tom and Huck (1995)|     1995|Adventure|       3| (17,[3],[1.0])|\n",
      "+-------+--------------------+---------+---------+--------+---------------+\n",
      "only showing top 20 rows\n",
      "\n"
     ]
    },
    {
     "data": {
      "text/plain": [
       "array([0., 0., 0., 1., 0., 0., 0., 0., 0., 0., 0., 0., 0., 0., 0., 0., 0.])"
      ]
     },
     "execution_count": 58,
     "metadata": {},
     "output_type": "execute_result"
    }
   ],
   "source": [
    "ohe = OneHotEncoder(inputCol='genre_id', outputCol='ohe_test')\n",
    "\n",
    "ohe_model = ohe.fit(final_moveies_df)\n",
    "ohe_model.transform(final_moveies_df).show()\n",
    "ohe_model.transform(final_moveies_df).head().ohe_test.toArray()"
   ]
  },
  {
   "cell_type": "markdown",
   "id": "662f904b-96b6-4f53-bcc0-182bde4d1792",
   "metadata": {},
   "source": [
    "# How to deal with genres?\n",
    "## One hot encoding\n",
    "```\n",
    "Action           001\n",
    "Action|Adventure 010\n",
    "Drama            100\n",
    "Dram|Action      110\n",
    "```\n",
    "https://spark.apache.org/docs/3.1.1/api/python/reference/api/pyspark.ml.feature.OneHotEncoder.html#:~:text=A%20one%2Dhot%20encoder%20that,0.0%2C%201.0%2C%200.0%5D%20\n",
    "## Writing CSV\n",
    "Convert 18 long array to string representation"
   ]
  },
  {
   "cell_type": "markdown",
   "id": "d6c283f5-6803-48dc-924b-b41a93914483",
   "metadata": {},
   "source": [
    "## Distribution of genre combination count\n",
    "ie: how many movies are drama and comedy"
   ]
  },
  {
   "cell_type": "code",
   "execution_count": 19,
   "id": "9d038d16-d1b6-4391-824f-1a387335a062",
   "metadata": {},
   "outputs": [],
   "source": [
    "# TODO"
   ]
  }
 ],
 "metadata": {
  "kernelspec": {
   "display_name": "Python 3 (ipykernel)",
   "language": "python",
   "name": "python3"
  },
  "language_info": {
   "codemirror_mode": {
    "name": "ipython",
    "version": 3
   },
   "file_extension": ".py",
   "mimetype": "text/x-python",
   "name": "python",
   "nbconvert_exporter": "python",
   "pygments_lexer": "ipython3",
   "version": "3.8.10"
  }
 },
 "nbformat": 4,
 "nbformat_minor": 5
}
