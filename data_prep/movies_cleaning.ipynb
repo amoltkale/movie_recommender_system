{
 "cells": [
  {
   "cell_type": "code",
   "execution_count": 1,
   "id": "a1f3fd63-b6ce-43ac-8294-e57f8f0af399",
   "metadata": {},
   "outputs": [],
   "source": [
    "import pyspark\n",
    "\n",
    "from pyspark.sql.functions import *\n",
    "from pyspark.sql.types import IntegerType\n",
    "\n",
    "from pyspark.sql import SparkSession\n",
    "from pyspark.sql import functions as F\n",
    "from pyspark.sql import types as T\n",
    "\n",
    "from pyspark.ml.linalg import SparseVector, DenseVector\n",
    "from pyspark.ml.feature import OneHotEncoder\n",
    "\n",
    "import numpy as np\n",
    "\n",
    "import sys\n",
    "import os\n",
    "sys.path.insert(0, os.path.abspath('../'))\n",
    "from utils import write_dataframe"
   ]
  },
  {
   "cell_type": "code",
   "execution_count": 2,
   "id": "868202b2-c8c1-459f-af92-a52fce025303",
   "metadata": {},
   "outputs": [],
   "source": [
    "min_ratings = 10\n",
    "drop_missing_years = False\n",
    "\n",
    "write_files = False\n",
    "create_train_test = True\n",
    "train_test_ratio = [.8,.2]\n",
    "seed = 0"
   ]
  },
  {
   "cell_type": "code",
   "execution_count": 3,
   "id": "1d634576-8e1a-4a00-af2b-1d05a3a42cd8",
   "metadata": {},
   "outputs": [
    {
     "name": "stderr",
     "output_type": "stream",
     "text": [
      "WARNING: An illegal reflective access operation has occurred\n",
      "WARNING: Illegal reflective access by org.apache.spark.unsafe.Platform (file:/usr/spark-3.2.1/jars/spark-unsafe_2.12-3.2.1.jar) to constructor java.nio.DirectByteBuffer(long,int)\n",
      "WARNING: Please consider reporting this to the maintainers of org.apache.spark.unsafe.Platform\n",
      "WARNING: Use --illegal-access=warn to enable warnings of further illegal reflective access operations\n",
      "WARNING: All illegal access operations will be denied in a future release\n",
      "Setting default log level to \"WARN\".\n",
      "To adjust logging level use sc.setLogLevel(newLevel). For SparkR, use setLogLevel(newLevel).\n",
      "2022-05-30 01:16:54,853 WARN util.NativeCodeLoader: Unable to load native-hadoop library for your platform... using builtin-java classes where applicable\n",
      "2022-05-30 01:16:55,519 WARN util.Utils: Service 'SparkUI' could not bind on port 4040. Attempting port 4041.\n"
     ]
    }
   ],
   "source": [
    "# Change the number of cores in this code block\n",
    "# by setting `spark.master` to `local[n]` where\n",
    "# n is the number of cores\n",
    "\n",
    "conf = pyspark.SparkConf().setAll([('spark.master', 'local[4]'),\n",
    "                                   ('spark.app.name', 'Basic Setup')])\n",
    "spark = SparkSession.builder.config(conf=conf).getOrCreate()\n",
    "sc = spark.sparkContext"
   ]
  },
  {
   "cell_type": "markdown",
   "id": "d307d264-cd26-4a77-8a7d-106c83308b6c",
   "metadata": {},
   "source": [
    "## Load Data\n",
    "\n",
    "Read data from the `ratings.csv` file"
   ]
  },
  {
   "cell_type": "code",
   "execution_count": 4,
   "id": "33a028a0-d29d-400f-bcf7-cdc7783f2a4e",
   "metadata": {},
   "outputs": [
    {
     "name": "stdout",
     "output_type": "stream",
     "text": [
      "root\n",
      " |-- movieId: string (nullable = true)\n",
      " |-- title: string (nullable = true)\n",
      " |-- genres: string (nullable = true)\n",
      "\n"
     ]
    }
   ],
   "source": [
    "movies_df = spark.read.option(\"header\",True).csv(\"file:///home/work/data/movies.csv\")\n",
    "movies_df.printSchema()"
   ]
  },
  {
   "cell_type": "markdown",
   "id": "2553b935-0fe5-4943-ab1a-15e766631749",
   "metadata": {},
   "source": [
    "## Add Year column"
   ]
  },
  {
   "cell_type": "code",
   "execution_count": 5,
   "id": "15c596b7-d1b6-4c2f-9e7f-2ba353bb6517",
   "metadata": {},
   "outputs": [],
   "source": [
    "#Extracting the year from Movie Title\n",
    "movies_df = movies_df.withColumn('movieYear',regexp_extract(col('title'), '(.+)(\\()([0-9]{4})(\\))', 3))"
   ]
  },
  {
   "cell_type": "code",
   "execution_count": 6,
   "id": "2bd59cb8-45fb-4c24-bc03-59eb804c09e6",
   "metadata": {},
   "outputs": [
    {
     "name": "stdout",
     "output_type": "stream",
     "text": [
      "+-------+--------------------+--------------------+---------+\n",
      "|movieId|               title|              genres|movieYear|\n",
      "+-------+--------------------+--------------------+---------+\n",
      "|      1|    Toy Story (1995)|Adventure|Animati...|     1995|\n",
      "|      2|      Jumanji (1995)|Adventure|Childre...|     1995|\n",
      "|      3|Grumpier Old Men ...|      Comedy|Romance|     1995|\n",
      "|      4|Waiting to Exhale...|Comedy|Drama|Romance|     1995|\n",
      "|      5|Father of the Bri...|              Comedy|     1995|\n",
      "|      6|         Heat (1995)|Action|Crime|Thri...|     1995|\n",
      "|      7|      Sabrina (1995)|      Comedy|Romance|     1995|\n",
      "|      8| Tom and Huck (1995)|  Adventure|Children|     1995|\n",
      "|      9| Sudden Death (1995)|              Action|     1995|\n",
      "|     10|    GoldenEye (1995)|Action|Adventure|...|     1995|\n",
      "|     11|American Presiden...|Comedy|Drama|Romance|     1995|\n",
      "|     12|Dracula: Dead and...|       Comedy|Horror|     1995|\n",
      "|     13|        Balto (1995)|Adventure|Animati...|     1995|\n",
      "|     14|        Nixon (1995)|               Drama|     1995|\n",
      "|     15|Cutthroat Island ...|Action|Adventure|...|     1995|\n",
      "|     16|       Casino (1995)|         Crime|Drama|     1995|\n",
      "|     17|Sense and Sensibi...|       Drama|Romance|     1995|\n",
      "|     18|   Four Rooms (1995)|              Comedy|     1995|\n",
      "|     19|Ace Ventura: When...|              Comedy|     1995|\n",
      "|     20|  Money Train (1995)|Action|Comedy|Cri...|     1995|\n",
      "+-------+--------------------+--------------------+---------+\n",
      "only showing top 20 rows\n",
      "\n"
     ]
    }
   ],
   "source": [
    "movies_df.show()"
   ]
  },
  {
   "cell_type": "markdown",
   "id": "a4ad22cc-a872-4a36-a55b-b8e03b1a85da",
   "metadata": {},
   "source": [
    "## Removing IMAX\n",
    "Upon visual inspection, there were only two cases for IMAX\n",
    "### Case 1: IMAX was only genre\n",
    "* 1 movie where this was true\n",
    "    * 4460,Encounter in the Third Dimension (1999),IMAX -> only movie with IMAX as only genre -> 27 ratings\n",
    "Solution: Replace pattern: \",IMAX\" -> \",(no genres listed)\"\n",
    "### Case 2: IMAX was last genre listed\n",
    "* All other 194 instances of IMAX, IMAX was the last genre\n",
    "Solution: Replace pattern: \"|IMAX\" -> \"\""
   ]
  },
  {
   "cell_type": "code",
   "execution_count": 7,
   "id": "e851b672-75b6-4c75-8b13-6e6dfcf91c2b",
   "metadata": {},
   "outputs": [
    {
     "name": "stdout",
     "output_type": "stream",
     "text": [
      "+-------+--------------------+--------------------+---------+\n",
      "|movieId|               title|              genres|movieYear|\n",
      "+-------+--------------------+--------------------+---------+\n",
      "|     33|Wings of Courage ...|Adventure|Romance...|     1995|\n",
      "|     37|Across the Sea of...|    Documentary|IMAX|     1995|\n",
      "|    150|    Apollo 13 (1995)|Adventure|Drama|IMAX|     1995|\n",
      "|    364|Lion King, The (1...|Adventure|Animati...|     1994|\n",
      "|    595|Beauty and the Be...|Animation|Childre...|     1991|\n",
      "|   1797|      Everest (1998)|    Documentary|IMAX|     1998|\n",
      "|   3159|Fantasia 2000 (1999)|Animation|Childre...|     1999|\n",
      "|   4382|       Wolves (1999)|    Documentary|IMAX|     1999|\n",
      "|   4445|T-Rex: Back to th...|Adventure|Documen...|     1998|\n",
      "|   4453|Michael Jordan to...|    Documentary|IMAX|     2000|\n",
      "|   4454|         More (1998)|Animation|Drama|S...|     1998|\n",
      "|   4455|Thrill Ride: The ...|Adventure|Documen...|     1997|\n",
      "|   4456|Haunted Castle (2...|Animation|Horror|...|     2001|\n",
      "|   4457|   All Access (2001)|Documentary|Music...|     2001|\n",
      "|   4458|Africa: The Seren...|    Documentary|IMAX|     1994|\n",
      "|   4459|Alaska: Spirit of...|    Documentary|IMAX|     1997|\n",
      "|   4460|Encounter in the ...|                IMAX|     1999|\n",
      "|   4461|Siegfried & Roy: ...|    Documentary|IMAX|     1999|\n",
      "|   4856|Destiny in Space ...|    Documentary|IMAX|     1994|\n",
      "|   4858|Hail Columbia! (1...|    Documentary|IMAX|     1982|\n",
      "+-------+--------------------+--------------------+---------+\n",
      "only showing top 20 rows\n",
      "\n"
     ]
    }
   ],
   "source": [
    "#Check IMAX genres in records\n",
    "movies_df.filter(col(\"genres\").contains(\"IMAX\")).show()"
   ]
  },
  {
   "cell_type": "code",
   "execution_count": 8,
   "id": "cebbae8e-aa41-4a72-873c-087b4e0de7bb",
   "metadata": {},
   "outputs": [],
   "source": [
    "# Case 1: IMAX is only genre\n",
    "movies_df = movies_df.withColumn('genres', regexp_replace(col('genres'), '\\\\|IMAX', '')) \\\n",
    "                    .withColumn('genres', regexp_replace(col('genres'), 'IMAX', '(no genres listed)'))     "
   ]
  },
  {
   "cell_type": "code",
   "execution_count": 9,
   "id": "7bd89b32-53df-40e0-b531-e298720d7a1a",
   "metadata": {},
   "outputs": [
    {
     "name": "stdout",
     "output_type": "stream",
     "text": [
      "Verifying there are no longer movies with IMAX genre\n",
      "+-------+-----+------+---------+\n",
      "|movieId|title|genres|movieYear|\n",
      "+-------+-----+------+---------+\n",
      "+-------+-----+------+---------+\n",
      "\n"
     ]
    }
   ],
   "source": [
    "#check after IMAX genre removal \n",
    "print(\"Verifying there are no longer movies with IMAX genre\")\n",
    "movies_df.filter(col(\"genres\").contains(\"IMAX\")).show()"
   ]
  },
  {
   "cell_type": "markdown",
   "id": "7f732277-13fd-4ee4-9fe8-6c911841c83e",
   "metadata": {},
   "source": [
    "## Remove movies without genre info"
   ]
  },
  {
   "cell_type": "code",
   "execution_count": 10,
   "id": "872ea2be-cbb4-4d6a-bf8a-8cbea881b0a7",
   "metadata": {},
   "outputs": [
    {
     "name": "stdout",
     "output_type": "stream",
     "text": [
      "Unique movie Counts: 62423\n",
      "Total movies after removing missing genres: 57360\n",
      "Movies without genres: 5063\n"
     ]
    }
   ],
   "source": [
    "tot_movies = movies_df.select('movieId').distinct().count()\n",
    "tot_missing_genre = movies_df.filter(col(\"genres\") == \"(no genres listed)\").count()\n",
    "tot_with_genre = movies_df.filter(col(\"genres\") != \"(no genres listed)\").count()\n",
    "print(f\"Unique movie Counts: {tot_movies}\")\n",
    "print(f\"Total movies after removing missing genres: {tot_with_genre}\")\n",
    "print(f\"Movies without genres: {tot_missing_genre}\")"
   ]
  },
  {
   "cell_type": "code",
   "execution_count": 11,
   "id": "c0b95709-9432-47ae-a8fb-19414551c850",
   "metadata": {},
   "outputs": [],
   "source": [
    "#Creating the flattened version of movies with genres\n",
    "genre_cleaning_df = movies_df.select(col('movieId'),col('title'),col('movieYear'),explode(split(\"genres\",\"\\\\|\")).alias(\"genre\"))\n",
    "\n",
    "#Removing movies with (no genres listed)\n",
    "genre_cleaning_df = genre_cleaning_df.filter(col(\"genres\") != \"(no genres listed)\")"
   ]
  },
  {
   "cell_type": "markdown",
   "id": "662f904b-96b6-4f53-bcc0-182bde4d1792",
   "metadata": {},
   "source": [
    "# How to deal with genres?\n",
    "## One hot encoding\n",
    "```\n",
    "Action           001\n",
    "Action|Adventure 010\n",
    "Drama            100\n",
    "Dram|Action      110\n",
    "```\n",
    "https://spark.apache.org/docs/3.1.1/api/python/reference/api/pyspark.ml.feature.OneHotEncoder.html#:~:text=A%20one%2Dhot%20encoder%20that,0.0%2C%201.0%2C%200.0%5D%20"
   ]
  },
  {
   "cell_type": "code",
   "execution_count": 12,
   "id": "5199f41a-ab56-41e6-acf5-069bda1747f7",
   "metadata": {},
   "outputs": [],
   "source": [
    "genre_list = np.array(genre_cleaning_df.select(col('genre')).distinct().collect()).squeeze().tolist()\n",
    "genre_map = {g: i for i, g in enumerate(genre_list)}\n",
    "\n",
    "# https://stackoverflow.com/questions/42980704/pyspark-create-new-column-with-mapping-from-a-dict\n",
    "\n",
    "#This UDF converts the genre_id to mapped numerical value\n",
    "def translate(mapping):\n",
    "    def translate_(col):\n",
    "        return mapping.get(col)\n",
    "    return udf(translate_, IntegerType())\n",
    "\n",
    "genre_cleaning_df = genre_cleaning_df.withColumn(\"genre_id\", translate(genre_map)(\"genre\"))"
   ]
  },
  {
   "cell_type": "code",
   "execution_count": 13,
   "id": "2d7c3faa-9061-4e85-9395-120a2a6b4582",
   "metadata": {},
   "outputs": [
    {
     "name": "stderr",
     "output_type": "stream",
     "text": [
      "                                                                                \r"
     ]
    },
    {
     "name": "stdout",
     "output_type": "stream",
     "text": [
      "+-------+--------------------+---------+---------+--------+---------------+\n",
      "|movieId|               title|movieYear|    genre|genre_id|       ohe_test|\n",
      "+-------+--------------------+---------+---------+--------+---------------+\n",
      "|      1|    Toy Story (1995)|     1995|Adventure|       3| (18,[3],[1.0])|\n",
      "|      1|    Toy Story (1995)|     1995|Animation|      10|(18,[10],[1.0])|\n",
      "|      1|    Toy Story (1995)|     1995| Children|      15|(18,[15],[1.0])|\n",
      "|      1|    Toy Story (1995)|     1995|   Comedy|      14|(18,[14],[1.0])|\n",
      "|      1|    Toy Story (1995)|     1995|  Fantasy|       7| (18,[7],[1.0])|\n",
      "|      2|      Jumanji (1995)|     1995|Adventure|       3| (18,[3],[1.0])|\n",
      "|      2|      Jumanji (1995)|     1995| Children|      15|(18,[15],[1.0])|\n",
      "|      2|      Jumanji (1995)|     1995|  Fantasy|       7| (18,[7],[1.0])|\n",
      "|      3|Grumpier Old Men ...|     1995|   Comedy|      14|(18,[14],[1.0])|\n",
      "|      3|Grumpier Old Men ...|     1995|  Romance|       1| (18,[1],[1.0])|\n",
      "|      4|Waiting to Exhale...|     1995|   Comedy|      14|(18,[14],[1.0])|\n",
      "|      4|Waiting to Exhale...|     1995|    Drama|       4| (18,[4],[1.0])|\n",
      "|      4|Waiting to Exhale...|     1995|  Romance|       1| (18,[1],[1.0])|\n",
      "|      5|Father of the Bri...|     1995|   Comedy|      14|(18,[14],[1.0])|\n",
      "|      6|         Heat (1995)|     1995|   Action|      16|(18,[16],[1.0])|\n",
      "|      6|         Heat (1995)|     1995|    Crime|       0| (18,[0],[1.0])|\n",
      "|      6|         Heat (1995)|     1995| Thriller|       2| (18,[2],[1.0])|\n",
      "|      7|      Sabrina (1995)|     1995|   Comedy|      14|(18,[14],[1.0])|\n",
      "|      7|      Sabrina (1995)|     1995|  Romance|       1| (18,[1],[1.0])|\n",
      "|      8| Tom and Huck (1995)|     1995|Adventure|       3| (18,[3],[1.0])|\n",
      "+-------+--------------------+---------+---------+--------+---------------+\n",
      "only showing top 20 rows\n",
      "\n"
     ]
    }
   ],
   "source": [
    "ohe = OneHotEncoder(inputCol='genre_id', outputCol='ohe_test', dropLast=False)\n",
    "\n",
    "ohe_model = ohe.fit(genre_cleaning_df)\n",
    "transformed_df = ohe_model.transform(genre_cleaning_df)\n",
    "transformed_df.show()"
   ]
  },
  {
   "cell_type": "code",
   "execution_count": 14,
   "id": "8314519c-c4b4-4d69-a4d4-a62afbf24cba",
   "metadata": {},
   "outputs": [],
   "source": [
    "# note that using Sparse and Dense Vectors from ml.linalg. There are other Sparse/Dense vectors in spark.\n",
    "\n",
    "#This is user defined function to convert the sparse vector to array for easy parsing\n",
    "def sparse_to_array(v):\n",
    "  v = DenseVector(v)\n",
    "  new_array = list([float(x) for x in v])\n",
    "  return new_array\n",
    "\n",
    "sparse_to_array_udf = F.udf(sparse_to_array, T.ArrayType(T.FloatType()))\n"
   ]
  },
  {
   "cell_type": "code",
   "execution_count": 15,
   "id": "e77e98a5-9132-4bcb-8235-ef5fdab24165",
   "metadata": {},
   "outputs": [],
   "source": [
    "genre_cleaning_df = transformed_df.withColumn('ohe_array', sparse_to_array_udf('ohe_test')) \\\n",
    "    .select(\"movieId\",\"title\",\"movieYear\",\"genre\",\"ohe_array\") \\\n",
    "    .groupBy(\"movieId\",\"title\",\"movieYear\") \\\n",
    "    .agg( \n",
    "        concat_ws('|',collect_list(col(\"genre\"))).alias(\"genres\"),\n",
    "        F.array(*[F.sum(F.col('ohe_array')[i]) for i in range(len(genre_map))]).alias('dense_ohe_feature')\n",
    "    )"
   ]
  },
  {
   "cell_type": "code",
   "execution_count": 16,
   "id": "f5824eb9-34d8-4d43-848b-8666f6c710fc",
   "metadata": {},
   "outputs": [
    {
     "name": "stderr",
     "output_type": "stream",
     "text": [
      "[Stage 21:>                                                         (0 + 1) / 1]\r"
     ]
    },
    {
     "name": "stdout",
     "output_type": "stream",
     "text": [
      "+-------+-------------------------------------+---------+-------------------------+------------------------------------------------------------------------------------------+\n",
      "|movieId|title                                |movieYear|genres                   |dense_ohe_feature                                                                         |\n",
      "+-------+-------------------------------------+---------+-------------------------+------------------------------------------------------------------------------------------+\n",
      "|10     |GoldenEye (1995)                     |1995     |Action|Adventure|Thriller|[0.0, 0.0, 1.0, 1.0, 0.0, 0.0, 0.0, 0.0, 0.0, 0.0, 0.0, 0.0, 0.0, 0.0, 0.0, 0.0, 1.0, 0.0]|\n",
      "|1000   |Curdled (1996)                       |1996     |Crime                    |[1.0, 0.0, 0.0, 0.0, 0.0, 0.0, 0.0, 0.0, 0.0, 0.0, 0.0, 0.0, 0.0, 0.0, 0.0, 0.0, 0.0, 0.0]|\n",
      "|100003 |Up in Smoke (1957)                   |1957     |Comedy                   |[0.0, 0.0, 0.0, 0.0, 0.0, 0.0, 0.0, 0.0, 0.0, 0.0, 0.0, 0.0, 0.0, 0.0, 1.0, 0.0, 0.0, 0.0]|\n",
      "|100038 |Middle of Nowhere (2012)             |2012     |Drama|Romance            |[0.0, 1.0, 0.0, 0.0, 1.0, 0.0, 0.0, 0.0, 0.0, 0.0, 0.0, 0.0, 0.0, 0.0, 0.0, 0.0, 0.0, 0.0]|\n",
      "|100048 |Omar Killed Me (Omar m'a tuer) (2011)|2011     |Crime|Drama              |[1.0, 0.0, 0.0, 0.0, 1.0, 0.0, 0.0, 0.0, 0.0, 0.0, 0.0, 0.0, 0.0, 0.0, 0.0, 0.0, 0.0, 0.0]|\n",
      "+-------+-------------------------------------+---------+-------------------------+------------------------------------------------------------------------------------------+\n",
      "only showing top 5 rows\n",
      "\n"
     ]
    },
    {
     "name": "stderr",
     "output_type": "stream",
     "text": [
      "                                                                                \r"
     ]
    }
   ],
   "source": [
    "genre_cleaning_df.show(5, truncate=False)"
   ]
  },
  {
   "cell_type": "code",
   "execution_count": 17,
   "id": "0ddbfea6-f000-4240-83e6-0f3806fe043e",
   "metadata": {},
   "outputs": [],
   "source": [
    "genre_cleaning_df = genre_cleaning_df.select(['movieId','title','movieYear','genres'] + [genre_cleaning_df.dense_ohe_feature[x] for x in range(len(genre_map))])"
   ]
  },
  {
   "cell_type": "markdown",
   "id": "3bd6da1e-5399-4cf7-b434-91c149f12011",
   "metadata": {},
   "source": [
    "*To get the corresponding genre key*"
   ]
  },
  {
   "cell_type": "code",
   "execution_count": 18,
   "id": "4a708308-e3a1-40c2-9231-c938af1abc0b",
   "metadata": {},
   "outputs": [],
   "source": [
    "def get_keys_from_value(d, val):\n",
    "    return [k for k, v in d.items() if v == val][0]"
   ]
  },
  {
   "cell_type": "markdown",
   "id": "5d1c7794-90db-410a-953b-e0671c7115d8",
   "metadata": {},
   "source": [
    "*Renaming all the genre columns*"
   ]
  },
  {
   "cell_type": "code",
   "execution_count": 19,
   "id": "1a298896-35e7-457f-84b1-42573b1e9fef",
   "metadata": {},
   "outputs": [
    {
     "name": "stdout",
     "output_type": "stream",
     "text": [
      "root\n",
      " |-- movieId: string (nullable = true)\n",
      " |-- title: string (nullable = true)\n",
      " |-- movieYear: string (nullable = true)\n",
      " |-- genres: string (nullable = false)\n",
      " |-- Crime: double (nullable = true)\n",
      " |-- Romance: double (nullable = true)\n",
      " |-- Thriller: double (nullable = true)\n",
      " |-- Adventure: double (nullable = true)\n",
      " |-- Drama: double (nullable = true)\n",
      " |-- War: double (nullable = true)\n",
      " |-- Documentary: double (nullable = true)\n",
      " |-- Fantasy: double (nullable = true)\n",
      " |-- Mystery: double (nullable = true)\n",
      " |-- Musical: double (nullable = true)\n",
      " |-- Animation: double (nullable = true)\n",
      " |-- Film-Noir: double (nullable = true)\n",
      " |-- Horror: double (nullable = true)\n",
      " |-- Western: double (nullable = true)\n",
      " |-- Comedy: double (nullable = true)\n",
      " |-- Children: double (nullable = true)\n",
      " |-- Action: double (nullable = true)\n",
      " |-- Sci-Fi: double (nullable = true)\n",
      "\n"
     ]
    }
   ],
   "source": [
    "for i in range(len(genre_map)):\n",
    "    old_column = \"dense_ohe_feature[{}]\".format(i)\n",
    "    new_column = get_keys_from_value(genre_map,i)\n",
    "    genre_cleaning_df = genre_cleaning_df.withColumnRenamed(old_column,new_column)\n",
    "genre_cleaning_df.printSchema()"
   ]
  },
  {
   "cell_type": "markdown",
   "id": "bb4b80d2-5297-40e7-b2a4-45096d718f9a",
   "metadata": {},
   "source": [
    "## Add average movie ratings"
   ]
  },
  {
   "cell_type": "code",
   "execution_count": 20,
   "id": "d25286c5-6879-4fe5-bf6e-3290da855721",
   "metadata": {},
   "outputs": [
    {
     "name": "stderr",
     "output_type": "stream",
     "text": [
      "[Stage 25:================================================>         (5 + 1) / 6]\r"
     ]
    },
    {
     "name": "stdout",
     "output_type": "stream",
     "text": [
      "root\n",
      " |-- userId: integer (nullable = true)\n",
      " |-- movieId: integer (nullable = true)\n",
      " |-- rating: double (nullable = true)\n",
      " |-- timestamp: integer (nullable = true)\n",
      "\n"
     ]
    },
    {
     "name": "stderr",
     "output_type": "stream",
     "text": [
      "                                                                                \r"
     ]
    }
   ],
   "source": [
    "ratings_df = spark.read.csv(\"file:///home/work/data/ratings.csv\", inferSchema=True, header=True)\n",
    "ratings_df.printSchema()"
   ]
  },
  {
   "cell_type": "code",
   "execution_count": 21,
   "id": "9c3f3372-91ab-4a3e-b3a9-cfd27d97a8ea",
   "metadata": {},
   "outputs": [],
   "source": [
    "genre_cleaning_df.createOrReplaceTempView(\"m\")\n",
    "ratings_df.createOrReplaceTempView(\"r\")"
   ]
  },
  {
   "cell_type": "code",
   "execution_count": 22,
   "id": "5bc1bc58-fac4-46e3-9278-0643a6fe65ff",
   "metadata": {},
   "outputs": [],
   "source": [
    "avg_ratings = spark.sql(\"SELECT r.movieId, AVG(r.rating) as avg_rating FROM r GROUP BY r.movieId HAVING COUNT(r.userId) >= {} ORDER BY avg_rating DESC\".format(min_ratings))\n",
    "avg_ratings.createOrReplaceTempView(\"avg_r\")"
   ]
  },
  {
   "cell_type": "code",
   "execution_count": 23,
   "id": "86b38eb1-7cda-466e-8b34-9e865d5a6e5b",
   "metadata": {},
   "outputs": [],
   "source": [
    "# join average ratings with movie table\n",
    "final_df_cols = [\"m.`\" + c + \"`\" if '-' in c else \"m.\" + c for c in genre_cleaning_df.columns]\n",
    "\n",
    "final_df_cols.insert(2, \"avg_r.avg_rating\")\n",
    "final_df_cols = \", \".join(final_df_cols)\n",
    "\n",
    "# put together query\n",
    "query = \"SELECT \" + final_df_cols + \" FROM m JOIN avg_r ON m.movieId == avg_r.movieId\"\n",
    "\n",
    "# run query\n",
    "cleaned_df = spark.sql(query)\n",
    "\n",
    "if drop_missing_years:\n",
    "    # Drop missing movie years\n",
    "    cleaned_df = cleaned_df.filter(cleaned_df.movieYear != \"\")\n",
    "    \n",
    "cleaned_df.createOrReplaceTempView(\"c\")"
   ]
  },
  {
   "cell_type": "code",
   "execution_count": 24,
   "id": "45b877c2-1429-429b-ae0d-5b884d1a50fa",
   "metadata": {},
   "outputs": [
    {
     "name": "stderr",
     "output_type": "stream",
     "text": [
      "[Stage 52:================================================>         (5 + 1) / 6]\r"
     ]
    },
    {
     "name": "stdout",
     "output_type": "stream",
     "text": [
      "Total distinct ratings after cleaning: 24873798\n",
      "Total distinct movies after cleaning: 24009\n",
      "Total distinct genres after cleaning: 1232\n"
     ]
    },
    {
     "name": "stderr",
     "output_type": "stream",
     "text": [
      "                                                                                \r"
     ]
    }
   ],
   "source": [
    "tot_ratings = spark.sql(\"SELECT r.movieId FROM r INNER JOIN c ON r.movieId == c.movieId\").count()\n",
    "tot_movies = cleaned_df.select('movieID').distinct().count()\n",
    "tot_genre_combos = cleaned_df.select('genres').distinct().count()\n",
    "print(f\"Total distinct ratings after cleaning: {tot_ratings}\")\n",
    "print(f\"Total distinct movies after cleaning: {tot_movies}\")\n",
    "print(f\"Total distinct genres after cleaning: {tot_genre_combos}\")"
   ]
  },
  {
   "cell_type": "code",
   "execution_count": 25,
   "id": "fe45388a-43eb-46c2-b030-2d489de749fe",
   "metadata": {},
   "outputs": [
    {
     "name": "stderr",
     "output_type": "stream",
     "text": [
      "                                                                                \r"
     ]
    },
    {
     "name": "stdout",
     "output_type": "stream",
     "text": [
      "Train observations: 19199 Test observations: 4793\n"
     ]
    },
    {
     "name": "stderr",
     "output_type": "stream",
     "text": [
      "                                                                                \r"
     ]
    }
   ],
   "source": [
    "if write_files and create_train_test:\n",
    "    # Split cleaned data into train and test\n",
    "    train, test = cleaned_df.randomSplit(train_test_ratio, seed=seed)\n",
    "    print(f\"Train observations: {train.count()} Test observations: {test.count()}\")\n",
    "    \n",
    "    # write train file\n",
    "    train.coalesce(1).write.csv('file:///home/work/data/kmeans_movies_train', header=True)\n",
    "    \n",
    "    # write test file\n",
    "    test.coalesce(1).write.csv('file:///home/work/data/kmeans_movies_test', header=True)\n",
    "elif write_files:\n",
    "    cleaned_df.coalesce(1).write.csv('file:///home/work/data/cleaned_movies', header=True)"
   ]
  },
  {
   "cell_type": "code",
   "execution_count": 26,
   "id": "bf9187e3-d560-4feb-843f-0c5830a4b967",
   "metadata": {},
   "outputs": [],
   "source": [
    "spark.stop()"
   ]
  }
 ],
 "metadata": {
  "kernelspec": {
   "display_name": "Python 3 (ipykernel)",
   "language": "python",
   "name": "python3"
  },
  "language_info": {
   "codemirror_mode": {
    "name": "ipython",
    "version": 3
   },
   "file_extension": ".py",
   "mimetype": "text/x-python",
   "name": "python",
   "nbconvert_exporter": "python",
   "pygments_lexer": "ipython3",
   "version": "3.8.10"
  }
 },
 "nbformat": 4,
 "nbformat_minor": 5
}
