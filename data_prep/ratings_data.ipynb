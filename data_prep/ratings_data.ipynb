{
 "cells": [
  {
   "cell_type": "code",
   "execution_count": null,
   "id": "975912c6-9dd9-4204-bb76-63b9645969a0",
   "metadata": {},
   "outputs": [],
   "source": [
    "# Change the number of cores in this code block\n",
    "# by setting `spark.master` to `local[n]` where\n",
    "# n is the number of cores\n",
    "import pyspark\n",
    "from pyspark.sql import SparkSession\n",
    "from pyspark.sql.functions import *\n",
    "\n",
    "import matplotlib.pyplot as plt\n",
    "\n",
    "conf = pyspark.SparkConf().setAll([('spark.master', 'local[4]'),\n",
    "                                   ('spark.app.name', 'Data Prep')])\n",
    "spark = SparkSession.builder.config(conf=conf).getOrCreate()"
   ]
  },
  {
   "cell_type": "code",
   "execution_count": 13,
   "id": "b7e9936d-84c5-4604-8494-0928dd79beac",
   "metadata": {},
   "outputs": [
    {
     "name": "stderr",
     "output_type": "stream",
     "text": [
      "[Stage 10:================================================>         (5 + 1) / 6]\r"
     ]
    },
    {
     "name": "stdout",
     "output_type": "stream",
     "text": [
      "root\n",
      " |-- userId: integer (nullable = true)\n",
      " |-- movieId: integer (nullable = true)\n",
      " |-- rating: double (nullable = true)\n",
      " |-- timestamp: integer (nullable = true)\n",
      "\n"
     ]
    },
    {
     "name": "stderr",
     "output_type": "stream",
     "text": [
      "                                                                                \r"
     ]
    }
   ],
   "source": [
    "ratings_df = spark.read.csv(\"file:///home/work/data/ratings.csv\", inferSchema=True, header=True)\n",
    "ratings_df.printSchema()"
   ]
  },
  {
   "cell_type": "code",
   "execution_count": 14,
   "id": "af105223-449c-432a-a587-3eefa336aa9b",
   "metadata": {},
   "outputs": [],
   "source": [
    "from pyspark.sql.functions import *\n",
    "ratings_df = ratings_df.withColumn('date',from_unixtime(col(\"timestamp\"))).withColumn('year',year(\"date\"))\n"
   ]
  },
  {
   "cell_type": "code",
   "execution_count": 15,
   "id": "14db643d-1399-4570-bebd-ec956271031e",
   "metadata": {},
   "outputs": [
    {
     "name": "stdout",
     "output_type": "stream",
     "text": [
      "+------+-------+------+----------+-------------------+----+\n",
      "|userId|movieId|rating| timestamp|               date|year|\n",
      "+------+-------+------+----------+-------------------+----+\n",
      "|     1|    296|   5.0|1147880044|2006-05-17 15:34:04|2006|\n",
      "|     1|    306|   3.5|1147868817|2006-05-17 12:26:57|2006|\n",
      "|     1|    307|   5.0|1147868828|2006-05-17 12:27:08|2006|\n",
      "|     1|    665|   5.0|1147878820|2006-05-17 15:13:40|2006|\n",
      "|     1|    899|   3.5|1147868510|2006-05-17 12:21:50|2006|\n",
      "|     1|   1088|   4.0|1147868495|2006-05-17 12:21:35|2006|\n",
      "|     1|   1175|   3.5|1147868826|2006-05-17 12:27:06|2006|\n",
      "|     1|   1217|   3.5|1147878326|2006-05-17 15:05:26|2006|\n",
      "|     1|   1237|   5.0|1147868839|2006-05-17 12:27:19|2006|\n",
      "|     1|   1250|   4.0|1147868414|2006-05-17 12:20:14|2006|\n",
      "|     1|   1260|   3.5|1147877857|2006-05-17 14:57:37|2006|\n",
      "|     1|   1653|   4.0|1147868097|2006-05-17 12:14:57|2006|\n",
      "|     1|   2011|   2.5|1147868079|2006-05-17 12:14:39|2006|\n",
      "|     1|   2012|   2.5|1147868068|2006-05-17 12:14:28|2006|\n",
      "|     1|   2068|   2.5|1147869044|2006-05-17 12:30:44|2006|\n",
      "|     1|   2161|   3.5|1147868609|2006-05-17 12:23:29|2006|\n",
      "|     1|   2351|   4.5|1147877957|2006-05-17 14:59:17|2006|\n",
      "|     1|   2573|   4.0|1147878923|2006-05-17 15:15:23|2006|\n",
      "|     1|   2632|   5.0|1147878248|2006-05-17 15:04:08|2006|\n",
      "|     1|   2692|   5.0|1147869100|2006-05-17 12:31:40|2006|\n",
      "+------+-------+------+----------+-------------------+----+\n",
      "only showing top 20 rows\n",
      "\n"
     ]
    }
   ],
   "source": [
    "ratings_df.show()"
   ]
  },
  {
   "cell_type": "code",
   "execution_count": 26,
   "id": "1dd91d33-c797-4c19-b1af-c2180bd2dbee",
   "metadata": {},
   "outputs": [
    {
     "name": "stderr",
     "output_type": "stream",
     "text": [
      "                                                                                \r"
     ]
    }
   ],
   "source": [
    "ratings_pd = ratings_df.groupBy(\"year\").count().sort('count').toPandas()"
   ]
  },
  {
   "cell_type": "code",
   "execution_count": 31,
   "id": "30b4dd39-95c0-45bb-a39d-d0bfd235d8c2",
   "metadata": {},
   "outputs": [
    {
     "data": {
      "text/html": [
       "<div>\n",
       "<style scoped>\n",
       "    .dataframe tbody tr th:only-of-type {\n",
       "        vertical-align: middle;\n",
       "    }\n",
       "\n",
       "    .dataframe tbody tr th {\n",
       "        vertical-align: top;\n",
       "    }\n",
       "\n",
       "    .dataframe thead th {\n",
       "        text-align: right;\n",
       "    }\n",
       "</style>\n",
       "<table border=\"1\" class=\"dataframe\">\n",
       "  <thead>\n",
       "    <tr style=\"text-align: right;\">\n",
       "      <th></th>\n",
       "      <th>year</th>\n",
       "      <th>count</th>\n",
       "    </tr>\n",
       "  </thead>\n",
       "  <tbody>\n",
       "    <tr>\n",
       "      <th>0</th>\n",
       "      <td>1995</td>\n",
       "      <td>3</td>\n",
       "    </tr>\n",
       "    <tr>\n",
       "      <th>1</th>\n",
       "      <td>1998</td>\n",
       "      <td>272099</td>\n",
       "    </tr>\n",
       "    <tr>\n",
       "      <th>2</th>\n",
       "      <td>2014</td>\n",
       "      <td>478270</td>\n",
       "    </tr>\n",
       "    <tr>\n",
       "      <th>3</th>\n",
       "      <td>2013</td>\n",
       "      <td>515684</td>\n",
       "    </tr>\n",
       "    <tr>\n",
       "      <th>4</th>\n",
       "      <td>1997</td>\n",
       "      <td>626202</td>\n",
       "    </tr>\n",
       "    <tr>\n",
       "      <th>5</th>\n",
       "      <td>2012</td>\n",
       "      <td>635208</td>\n",
       "    </tr>\n",
       "    <tr>\n",
       "      <th>6</th>\n",
       "      <td>2011</td>\n",
       "      <td>676498</td>\n",
       "    </tr>\n",
       "    <tr>\n",
       "      <th>7</th>\n",
       "      <td>2002</td>\n",
       "      <td>776654</td>\n",
       "    </tr>\n",
       "    <tr>\n",
       "      <th>8</th>\n",
       "      <td>2010</td>\n",
       "      <td>792436</td>\n",
       "    </tr>\n",
       "    <tr>\n",
       "      <th>9</th>\n",
       "      <td>2009</td>\n",
       "      <td>810127</td>\n",
       "    </tr>\n",
       "    <tr>\n",
       "      <th>10</th>\n",
       "      <td>2003</td>\n",
       "      <td>920295</td>\n",
       "    </tr>\n",
       "    <tr>\n",
       "      <th>11</th>\n",
       "      <td>2007</td>\n",
       "      <td>931432</td>\n",
       "    </tr>\n",
       "    <tr>\n",
       "      <th>12</th>\n",
       "      <td>2008</td>\n",
       "      <td>1018001</td>\n",
       "    </tr>\n",
       "    <tr>\n",
       "      <th>13</th>\n",
       "      <td>2006</td>\n",
       "      <td>1038458</td>\n",
       "    </tr>\n",
       "    <tr>\n",
       "      <th>14</th>\n",
       "      <td>2004</td>\n",
       "      <td>1048116</td>\n",
       "    </tr>\n",
       "    <tr>\n",
       "      <th>15</th>\n",
       "      <td>2001</td>\n",
       "      <td>1058750</td>\n",
       "    </tr>\n",
       "    <tr>\n",
       "      <th>16</th>\n",
       "      <td>1999</td>\n",
       "      <td>1059080</td>\n",
       "    </tr>\n",
       "    <tr>\n",
       "      <th>17</th>\n",
       "      <td>2019</td>\n",
       "      <td>1200634</td>\n",
       "    </tr>\n",
       "    <tr>\n",
       "      <th>18</th>\n",
       "      <td>2018</td>\n",
       "      <td>1310761</td>\n",
       "    </tr>\n",
       "    <tr>\n",
       "      <th>19</th>\n",
       "      <td>1996</td>\n",
       "      <td>1430093</td>\n",
       "    </tr>\n",
       "    <tr>\n",
       "      <th>20</th>\n",
       "      <td>2015</td>\n",
       "      <td>1604971</td>\n",
       "    </tr>\n",
       "    <tr>\n",
       "      <th>21</th>\n",
       "      <td>2005</td>\n",
       "      <td>1613550</td>\n",
       "    </tr>\n",
       "    <tr>\n",
       "      <th>22</th>\n",
       "      <td>2017</td>\n",
       "      <td>1689935</td>\n",
       "    </tr>\n",
       "    <tr>\n",
       "      <th>23</th>\n",
       "      <td>2000</td>\n",
       "      <td>1735398</td>\n",
       "    </tr>\n",
       "    <tr>\n",
       "      <th>24</th>\n",
       "      <td>2016</td>\n",
       "      <td>1757440</td>\n",
       "    </tr>\n",
       "  </tbody>\n",
       "</table>\n",
       "</div>"
      ],
      "text/plain": [
       "    year    count\n",
       "0   1995        3\n",
       "1   1998   272099\n",
       "2   2014   478270\n",
       "3   2013   515684\n",
       "4   1997   626202\n",
       "5   2012   635208\n",
       "6   2011   676498\n",
       "7   2002   776654\n",
       "8   2010   792436\n",
       "9   2009   810127\n",
       "10  2003   920295\n",
       "11  2007   931432\n",
       "12  2008  1018001\n",
       "13  2006  1038458\n",
       "14  2004  1048116\n",
       "15  2001  1058750\n",
       "16  1999  1059080\n",
       "17  2019  1200634\n",
       "18  2018  1310761\n",
       "19  1996  1430093\n",
       "20  2015  1604971\n",
       "21  2005  1613550\n",
       "22  2017  1689935\n",
       "23  2000  1735398\n",
       "24  2016  1757440"
      ]
     },
     "execution_count": 31,
     "metadata": {},
     "output_type": "execute_result"
    }
   ],
   "source": [
    "ratings_pd"
   ]
  },
  {
   "cell_type": "code",
   "execution_count": 33,
   "id": "438a067a-6f01-4d1d-8b3f-4f40c20e6fe0",
   "metadata": {},
   "outputs": [
    {
     "data": {
      "image/png": "[encoded data removed]",
      "text/plain": [
       "<Figure size 720x720 with 1 Axes>"
      ]
     },
     "metadata": {
      "needs_background": "light"
     },
     "output_type": "display_data"
    }
   ],
   "source": [
    "font = {'family' : 'DejaVu Sans',\n",
    "        'weight' : 'bold',\n",
    "        'size'   : 22}\n",
    "\n",
    "plt.rc('font', **font)\n",
    "\n",
    "plt.figure(figsize=(10,10))\n",
    "plt.bar(ratings_pd[\"year\"], ratings_pd[\"count\"],edgecolor='k')\n",
    "plt.title(\"Rating Distribution over years\")\n",
    "plt.ylabel(\"Count of Ratings\")\n",
    "plt.xlabel(\"Year\")\n",
    "ax = plt.gca()\n",
    "#plt.savefig('../data/rating_dist.png')"
   ]
  },
  {
   "cell_type": "code",
   "execution_count": null,
   "id": "f48b41c2-88cd-42b1-9ba6-32c18c2e5e72",
   "metadata": {},
   "outputs": [],
   "source": [
    "#spark.stop()"
   ]
  },
  {
   "cell_type": "code",
   "execution_count": null,
   "id": "cb125a3f-31ef-46a8-8ce0-88121e6aac55",
   "metadata": {},
   "outputs": [],
   "source": []
  }
 ],
 "metadata": {
  "kernelspec": {
   "display_name": "Python 3 (ipykernel)",
   "language": "python",
   "name": "python3"
  },
  "language_info": {
   "codemirror_mode": {
    "name": "ipython",
    "version": 3
   },
   "file_extension": ".py",
   "mimetype": "text/x-python",
   "name": "python",
   "nbconvert_exporter": "python",
   "pygments_lexer": "ipython3",
   "version": "3.8.10"
  }
 },
 "nbformat": 4,
 "nbformat_minor": 5
}
