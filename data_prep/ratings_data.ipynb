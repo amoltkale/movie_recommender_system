{
 "cells": [
  {
   "cell_type": "code",
   "execution_count": 1,
   "id": "975912c6-9dd9-4204-bb76-63b9645969a0",
   "metadata": {},
   "outputs": [
    {
     "name": "stderr",
     "output_type": "stream",
     "text": [
      "WARNING: An illegal reflective access operation has occurred\n",
      "WARNING: Illegal reflective access by org.apache.spark.unsafe.Platform (file:/usr/spark-3.2.1/jars/spark-unsafe_2.12-3.2.1.jar) to constructor java.nio.DirectByteBuffer(long,int)\n",
      "WARNING: Please consider reporting this to the maintainers of org.apache.spark.unsafe.Platform\n",
      "WARNING: Use --illegal-access=warn to enable warnings of further illegal reflective access operations\n",
      "WARNING: All illegal access operations will be denied in a future release\n",
      "Setting default log level to \"WARN\".\n",
      "To adjust logging level use sc.setLogLevel(newLevel). For SparkR, use setLogLevel(newLevel).\n",
      "2022-05-17 21:52:45,919 WARN util.NativeCodeLoader: Unable to load native-hadoop library for your platform... using builtin-java classes where applicable\n",
      "2022-05-17 21:52:46,599 WARN util.Utils: Service 'SparkUI' could not bind on port 4040. Attempting port 4041.\n"
     ]
    }
   ],
   "source": [
    "# Change the number of cores in this code block\n",
    "# by setting `spark.master` to `local[n]` where\n",
    "# n is the number of cores\n",
    "import pyspark\n",
    "from pyspark.sql import SparkSession\n",
    "from pyspark.sql.functions import *\n",
    "\n",
    "import matplotlib.pyplot as plt\n",
    "\n",
    "conf = pyspark.SparkConf().setAll([('spark.master', 'local[4]'),\n",
    "                                   ('spark.app.name', 'Data Prep')])\n",
    "spark = SparkSession.builder.config(conf=conf).getOrCreate()"
   ]
  },
  {
   "cell_type": "markdown",
   "id": "a3cf7475-1446-401e-8607-88ebce902796",
   "metadata": {},
   "source": [
    "## Read in data  \n",
    "TODO: Read in cleaned movies"
   ]
  },
  {
   "cell_type": "code",
   "execution_count": 2,
   "id": "b7e9936d-84c5-4604-8494-0928dd79beac",
   "metadata": {},
   "outputs": [
    {
     "name": "stderr",
     "output_type": "stream",
     "text": [
      "[Stage 1:=================================================>         (5 + 1) / 6]\r"
     ]
    },
    {
     "name": "stdout",
     "output_type": "stream",
     "text": [
      "root\n",
      " |-- userId: integer (nullable = true)\n",
      " |-- movieId: integer (nullable = true)\n",
      " |-- rating: double (nullable = true)\n",
      " |-- timestamp: integer (nullable = true)\n",
      "\n"
     ]
    },
    {
     "name": "stderr",
     "output_type": "stream",
     "text": [
      "                                                                                \r"
     ]
    }
   ],
   "source": [
    "ratings_df = spark.read.csv(\"file:///home/work/data/ratings.csv\", inferSchema=True, header=True)\n",
    "ratings_df.printSchema()"
   ]
  },
  {
   "cell_type": "code",
   "execution_count": 3,
   "id": "a6f62214-b219-4315-b846-8b55f19d017b",
   "metadata": {},
   "outputs": [
    {
     "name": "stdout",
     "output_type": "stream",
     "text": [
      "root\n",
      " |-- movieId: integer (nullable = true)\n",
      " |-- title: string (nullable = true)\n",
      " |-- genres: string (nullable = true)\n",
      "\n",
      "Total distinct movies: 62423\n"
     ]
    }
   ],
   "source": [
    "movies_df = spark.read.csv(\"file:///home/work/data/movies.csv\", inferSchema=True, header=True)\n",
    "movies_df.printSchema()\n",
    "print(f\"Total distinct movies: {movies_df.count()}\")"
   ]
  },
  {
   "cell_type": "markdown",
   "id": "d0884d15-b05e-482c-ad2c-e7a26c569749",
   "metadata": {},
   "source": [
    "## Drop movies  \n",
    "Currently only drops movies without genres"
   ]
  },
  {
   "cell_type": "code",
   "execution_count": 4,
   "id": "4ee8042e-82bd-464e-b6a1-1cdad123d780",
   "metadata": {},
   "outputs": [],
   "source": [
    "movies_df.createOrReplaceTempView(\"m\")\n",
    "ratings_df.createOrReplaceTempView(\"r\")\n",
    "no_genre_ratings = spark.sql(\"SELECT m.movieId FROM m RIGHT JOIN r ON m.movieId == r.movieId WHERE m.genres like '%no genres listed%' \")"
   ]
  },
  {
   "cell_type": "code",
   "execution_count": 5,
   "id": "8d4f9747-b157-4a0f-8e81-aa99dd7eee60",
   "metadata": {},
   "outputs": [
    {
     "name": "stderr",
     "output_type": "stream",
     "text": [
      "[Stage 11:================================================>         (5 + 1) / 6]\r"
     ]
    },
    {
     "name": "stdout",
     "output_type": "stream",
     "text": [
      "Total Reviews: 25000095 Total movies without genres: 26627 Total movies after dropping: 24973468\n",
      "If drop ratings for movies without genres, we will lose 0.107% of ratings data.\n"
     ]
    },
    {
     "name": "stderr",
     "output_type": "stream",
     "text": [
      "                                                                                \r"
     ]
    }
   ],
   "source": [
    "tot_r = ratings_df.count()\n",
    "tot_no_g = no_genre_ratings.count()\n",
    "percent_lost = 100 - (((tot_r - tot_no_g) / tot_r) * 100)\n",
    "print(f\"Total Reviews: {tot_r} Total movies without genres: {tot_no_g} Total movies after dropping: {tot_r - tot_no_g}\")\n",
    "print(f\"If drop ratings for movies without genres, we will lose {percent_lost:.3f}% of ratings data.\")"
   ]
  },
  {
   "cell_type": "code",
   "execution_count": 6,
   "id": "1f926efc-f795-455b-9699-f1c55e226546",
   "metadata": {},
   "outputs": [
    {
     "name": "stderr",
     "output_type": "stream",
     "text": [
      "                                                                                \r"
     ]
    }
   ],
   "source": [
    "no_genre_ratings.createOrReplaceTempView(\"ng\")\n",
    "ratings_df = spark.sql(\"SELECT * FROM r LEFT ANTI JOIN ng ON r.movieId == ng.movieId\")\n",
    "tot_r = ratings_df.count()"
   ]
  },
  {
   "cell_type": "markdown",
   "id": "a9f40d44-c1d2-40d3-92b0-a720cfc39390",
   "metadata": {},
   "source": [
    "## Timestamps"
   ]
  },
  {
   "cell_type": "code",
   "execution_count": 7,
   "id": "af105223-449c-432a-a587-3eefa336aa9b",
   "metadata": {},
   "outputs": [],
   "source": [
    "ratings_df = ratings_df.withColumn('date',from_unixtime(col(\"timestamp\"))).withColumn('year',year(\"date\"))\n",
    "spark.sql(\"drop view r\");\n",
    "ratings_df.createOrReplaceTempView(\"r\")"
   ]
  },
  {
   "cell_type": "code",
   "execution_count": 8,
   "id": "14db643d-1399-4570-bebd-ec956271031e",
   "metadata": {},
   "outputs": [
    {
     "name": "stderr",
     "output_type": "stream",
     "text": [
      "[Stage 26:================================================>         (5 + 1) / 6]\r"
     ]
    },
    {
     "name": "stdout",
     "output_type": "stream",
     "text": [
      "+------+-------+------+----------+-------------------+----+\n",
      "|userId|movieId|rating| timestamp|               date|year|\n",
      "+------+-------+------+----------+-------------------+----+\n",
      "|     1|   1088|   4.0|1147868495|2006-05-17 12:21:35|2006|\n",
      "|     2|   1580|   4.5|1141417059|2006-03-03 20:17:39|2006|\n",
      "|     2|   3175|   3.5|1141417288|2006-03-03 20:21:28|2006|\n",
      "|     3|  44022|   4.0|1439473713|2015-08-13 13:48:33|2015|\n",
      "|     3| 175197|   3.5|1566089493|2019-08-18 00:51:33|2019|\n",
      "|     4|   1580|   4.5|1573938142|2019-11-16 21:02:22|2019|\n",
      "|     4|   3175|   4.0|1573943913|2019-11-16 22:38:33|2019|\n",
      "|     8|   1580|   5.0| 890510873|1998-03-21 20:07:53|1998|\n",
      "|     8|   1645|   4.0| 890510977|1998-03-21 20:09:37|1998|\n",
      "|     9|   1088|   5.0| 859384754|1997-03-26 13:59:14|1997|\n",
      "|    12|    471|   4.0|1167582388|2006-12-31 16:26:28|2006|\n",
      "|    12|   1088|   4.0|1167582465|2006-12-31 16:27:45|2006|\n",
      "|    12|   1580|   3.5|1167582669|2006-12-31 16:31:09|2006|\n",
      "|    12|   3794|   2.0|1137230098|2006-01-14 09:14:58|2006|\n",
      "|    12|   8638|   4.0|1149092439|2006-05-31 16:20:39|2006|\n",
      "|    12|  33722|   3.0|1159805048|2006-10-02 16:04:08|2006|\n",
      "|    13|   1580|   3.5|1238029138|2009-03-26 00:58:58|2009|\n",
      "|    13|   2142|   4.5|1278602136|2010-07-08 15:15:36|2010|\n",
      "|    13|   2366|   3.5|1279481249|2010-07-18 19:27:29|2010|\n",
      "|    13|   3175|   4.0|1278443226|2010-07-06 19:07:06|2010|\n",
      "+------+-------+------+----------+-------------------+----+\n",
      "only showing top 20 rows\n",
      "\n"
     ]
    },
    {
     "name": "stderr",
     "output_type": "stream",
     "text": [
      "                                                                                \r"
     ]
    }
   ],
   "source": [
    "ratings_df.show()"
   ]
  },
  {
   "cell_type": "markdown",
   "id": "d3dd872b-5308-4ed0-a577-cae38dd43d4b",
   "metadata": {},
   "source": [
    "### Plot year distribution"
   ]
  },
  {
   "cell_type": "code",
   "execution_count": 9,
   "id": "438a067a-6f01-4d1d-8b3f-4f40c20e6fe0",
   "metadata": {},
   "outputs": [
    {
     "name": "stderr",
     "output_type": "stream",
     "text": [
      "                                                                                \r"
     ]
    },
    {
     "data": {
      "image/png": "[encoded data removed]",
      "text/plain": [
       "<Figure size 720x720 with 1 Axes>"
      ]
     },
     "metadata": {
      "needs_background": "light"
     },
     "output_type": "display_data"
    }
   ],
   "source": [
    "ratings_pd = ratings_df.groupBy(\"year\").count().sort('count').toPandas()\n",
    "\n",
    "font = {'family' : 'DejaVu Sans',\n",
    "        'weight' : 'bold',\n",
    "        'size'   : 22}\n",
    "\n",
    "plt.rc('font', **font)\n",
    "\n",
    "plt.figure(figsize=(10,10))\n",
    "plt.bar(ratings_pd[\"year\"], ratings_pd[\"count\"],edgecolor='k')\n",
    "plt.title(\"Rating Distribution over years\")\n",
    "plt.ylabel(\"Count of Ratings\")\n",
    "plt.xlabel(\"Year\")\n",
    "ax = plt.gca()\n",
    "#plt.savefig('../data/rating_dist.png')"
   ]
  },
  {
   "cell_type": "markdown",
   "id": "1d3ac3f5-1270-4672-b862-f43cbf75c5c1",
   "metadata": {},
   "source": [
    "## Ratings relative to first review\n",
    "ie: how many users left reviews within 1 year, 2 years, 3, ..."
   ]
  },
  {
   "cell_type": "code",
   "execution_count": 10,
   "id": "3af6d457-9da5-4201-be94-dc4ae281bfc5",
   "metadata": {},
   "outputs": [
    {
     "name": "stderr",
     "output_type": "stream",
     "text": [
      "[Stage 54:==============================================>           (4 + 1) / 5]\r"
     ]
    },
    {
     "name": "stdout",
     "output_type": "stream",
     "text": [
      "+------+----------+\n",
      "|userId|    min_ts|\n",
      "+------+----------+\n",
      "|     1|1147868053|\n",
      "|     2|1141415509|\n",
      "|     3|1439472199|\n",
      "|     4|1573937091|\n",
      "|     5| 830786155|\n",
      "|     6| 945141530|\n",
      "|     7| 835444730|\n",
      "|     8| 890489203|\n",
      "|     9| 859381992|\n",
      "|    10|1227570828|\n",
      "|    11|1208038679|\n",
      "|    12| 940765824|\n",
      "|    13|1237969539|\n",
      "|    14|1506208807|\n",
      "|    15| 946011308|\n",
      "|    16|1432077522|\n",
      "|    17|1485581429|\n",
      "|    18|1108271088|\n",
      "|    19|1445258693|\n",
      "|    20|1061997999|\n",
      "+------+----------+\n",
      "only showing top 20 rows\n",
      "\n"
     ]
    },
    {
     "name": "stderr",
     "output_type": "stream",
     "text": [
      "                                                                                \r"
     ]
    }
   ],
   "source": [
    "#TODO\n",
    "min_ts_df = spark.sql(\"SELECT r.userId, MIN(r.timestamp) as min_ts FROM r GROUP BY r.userId ORDER BY r.userId ASC\")\n",
    "min_ts_df.createOrReplaceTempView(\"min_ts\")\n",
    "min_ts_df.show()"
   ]
  },
  {
   "cell_type": "code",
   "execution_count": 11,
   "id": "3de84570-72c8-45c2-8d31-f964cc42ee1a",
   "metadata": {},
   "outputs": [
    {
     "name": "stderr",
     "output_type": "stream",
     "text": [
      "[Stage 70:==============================================>           (4 + 1) / 5]\r"
     ]
    },
    {
     "name": "stdout",
     "output_type": "stream",
     "text": [
      "+------+-------+---------+---------------+\n",
      "|userId|movieId|time_diff|time_diff_years|\n",
      "+------+-------+---------+---------------+\n",
      "|     1|   4325|    10069|            0.0|\n",
      "|     1|   6954|     1097|            0.0|\n",
      "|     1|   4973|     1027|            0.0|\n",
      "|     1|   1260|     9804|            0.0|\n",
      "|     1|   8786|     9800|            0.0|\n",
      "|     1|    665|    10767|            0.0|\n",
      "|     1|   7323|     1066|            0.0|\n",
      "|     1|  27266|    11312|            0.0|\n",
      "|     1|   1175|      773|            0.0|\n",
      "|     1|   7940|     9914|            0.0|\n",
      "|     1|   2692|     1047|            0.0|\n",
      "|     1|   7938|    10010|            0.0|\n",
      "|     1|  32591|    11485|            0.0|\n",
      "|     1|   7234|      816|            0.0|\n",
      "|     1|   7361|    12002|            0.0|\n",
      "|     1|   1088|      442|            0.0|\n",
      "|     1|   6711|      569|            0.0|\n",
      "|     1|    296|    11991|            0.0|\n",
      "|     1|   1653|       44|            0.0|\n",
      "|     1|   4144|      845|            0.0|\n",
      "+------+-------+---------+---------------+\n",
      "only showing top 20 rows\n",
      "\n"
     ]
    },
    {
     "name": "stderr",
     "output_type": "stream",
     "text": [
      "                                                                                \r"
     ]
    }
   ],
   "source": [
    "diff_df = spark.sql(\"SELECT r.userId, r.movieId, (r.timestamp - min_ts.min_ts) as time_diff  FROM r JOIN min_ts ON r.userId == min_ts.userId ORDER BY r.userId ASC\")\n",
    "diff_df = diff_df.withColumn('time_diff_years', round((col(\"time_diff\") / (3600 * 24 * 365))))\n",
    "diff_df.show()"
   ]
  },
  {
   "cell_type": "code",
   "execution_count": 12,
   "id": "258634ab-5eb3-4fee-ba50-5f15419ec388",
   "metadata": {},
   "outputs": [
    {
     "name": "stderr",
     "output_type": "stream",
     "text": [
      "                                                                                \r"
     ]
    },
    {
     "data": {
      "text/html": [
       "<div>\n",
       "<style scoped>\n",
       "    .dataframe tbody tr th:only-of-type {\n",
       "        vertical-align: middle;\n",
       "    }\n",
       "\n",
       "    .dataframe tbody tr th {\n",
       "        vertical-align: top;\n",
       "    }\n",
       "\n",
       "    .dataframe thead th {\n",
       "        text-align: right;\n",
       "    }\n",
       "</style>\n",
       "<table border=\"1\" class=\"dataframe\">\n",
       "  <thead>\n",
       "    <tr style=\"text-align: right;\">\n",
       "      <th></th>\n",
       "      <th>years</th>\n",
       "      <th>count</th>\n",
       "    </tr>\n",
       "  </thead>\n",
       "  <tbody>\n",
       "    <tr>\n",
       "      <th>22</th>\n",
       "      <td>0.0</td>\n",
       "      <td>20567695</td>\n",
       "    </tr>\n",
       "    <tr>\n",
       "      <th>21</th>\n",
       "      <td>1.0</td>\n",
       "      <td>1491167</td>\n",
       "    </tr>\n",
       "    <tr>\n",
       "      <th>20</th>\n",
       "      <td>2.0</td>\n",
       "      <td>801820</td>\n",
       "    </tr>\n",
       "    <tr>\n",
       "      <th>19</th>\n",
       "      <td>3.0</td>\n",
       "      <td>555492</td>\n",
       "    </tr>\n",
       "    <tr>\n",
       "      <th>18</th>\n",
       "      <td>4.0</td>\n",
       "      <td>398841</td>\n",
       "    </tr>\n",
       "    <tr>\n",
       "      <th>17</th>\n",
       "      <td>5.0</td>\n",
       "      <td>262989</td>\n",
       "    </tr>\n",
       "    <tr>\n",
       "      <th>16</th>\n",
       "      <td>6.0</td>\n",
       "      <td>201987</td>\n",
       "    </tr>\n",
       "    <tr>\n",
       "      <th>15</th>\n",
       "      <td>7.0</td>\n",
       "      <td>150761</td>\n",
       "    </tr>\n",
       "    <tr>\n",
       "      <th>14</th>\n",
       "      <td>8.0</td>\n",
       "      <td>119056</td>\n",
       "    </tr>\n",
       "    <tr>\n",
       "      <th>13</th>\n",
       "      <td>9.0</td>\n",
       "      <td>90617</td>\n",
       "    </tr>\n",
       "    <tr>\n",
       "      <th>12</th>\n",
       "      <td>10.0</td>\n",
       "      <td>73457</td>\n",
       "    </tr>\n",
       "    <tr>\n",
       "      <th>11</th>\n",
       "      <td>11.0</td>\n",
       "      <td>59052</td>\n",
       "    </tr>\n",
       "    <tr>\n",
       "      <th>10</th>\n",
       "      <td>12.0</td>\n",
       "      <td>46751</td>\n",
       "    </tr>\n",
       "    <tr>\n",
       "      <th>9</th>\n",
       "      <td>13.0</td>\n",
       "      <td>32138</td>\n",
       "    </tr>\n",
       "    <tr>\n",
       "      <th>8</th>\n",
       "      <td>14.0</td>\n",
       "      <td>30872</td>\n",
       "    </tr>\n",
       "    <tr>\n",
       "      <th>7</th>\n",
       "      <td>15.0</td>\n",
       "      <td>25230</td>\n",
       "    </tr>\n",
       "    <tr>\n",
       "      <th>6</th>\n",
       "      <td>16.0</td>\n",
       "      <td>20573</td>\n",
       "    </tr>\n",
       "    <tr>\n",
       "      <th>5</th>\n",
       "      <td>17.0</td>\n",
       "      <td>16804</td>\n",
       "    </tr>\n",
       "    <tr>\n",
       "      <th>4</th>\n",
       "      <td>18.0</td>\n",
       "      <td>15624</td>\n",
       "    </tr>\n",
       "    <tr>\n",
       "      <th>3</th>\n",
       "      <td>19.0</td>\n",
       "      <td>8416</td>\n",
       "    </tr>\n",
       "    <tr>\n",
       "      <th>2</th>\n",
       "      <td>20.0</td>\n",
       "      <td>2663</td>\n",
       "    </tr>\n",
       "    <tr>\n",
       "      <th>1</th>\n",
       "      <td>21.0</td>\n",
       "      <td>1055</td>\n",
       "    </tr>\n",
       "    <tr>\n",
       "      <th>0</th>\n",
       "      <td>22.0</td>\n",
       "      <td>408</td>\n",
       "    </tr>\n",
       "  </tbody>\n",
       "</table>\n",
       "</div>"
      ],
      "text/plain": [
       "    years     count\n",
       "22    0.0  20567695\n",
       "21    1.0   1491167\n",
       "20    2.0    801820\n",
       "19    3.0    555492\n",
       "18    4.0    398841\n",
       "17    5.0    262989\n",
       "16    6.0    201987\n",
       "15    7.0    150761\n",
       "14    8.0    119056\n",
       "13    9.0     90617\n",
       "12   10.0     73457\n",
       "11   11.0     59052\n",
       "10   12.0     46751\n",
       "9    13.0     32138\n",
       "8    14.0     30872\n",
       "7    15.0     25230\n",
       "6    16.0     20573\n",
       "5    17.0     16804\n",
       "4    18.0     15624\n",
       "3    19.0      8416\n",
       "2    20.0      2663\n",
       "1    21.0      1055\n",
       "0    22.0       408"
      ]
     },
     "execution_count": 12,
     "metadata": {},
     "output_type": "execute_result"
    }
   ],
   "source": [
    "diff_pd = diff_df.groupBy(\"time_diff_years\").count().sort('count').toPandas()\n",
    "diff_pd = diff_pd.rename(columns={\"time_diff_years\": \"years\"})\n",
    "diff_pd = diff_pd.reset_index(drop=True)\n",
    "diff_pd.sort_values(by=['count'], ascending=False)"
   ]
  },
  {
   "cell_type": "code",
   "execution_count": 13,
   "id": "e51d218c-ab58-41c7-9a8e-2c398b4cf158",
   "metadata": {},
   "outputs": [
    {
     "data": {
      "image/png": "[encoded data removed]",
      "text/plain": [
       "<Figure size 720x720 with 1 Axes>"
      ]
     },
     "metadata": {
      "needs_background": "light"
     },
     "output_type": "display_data"
    }
   ],
   "source": [
    "font = {'family' : 'DejaVu Sans',\n",
    "        'weight' : 'bold',\n",
    "        'size'   : 20}\n",
    "\n",
    "plt.rc('font', **font)\n",
    "\n",
    "plt.figure(figsize=(10,10))\n",
    "plt.bar(diff_pd[\"years\"], diff_pd[\"count\"],edgecolor='k')\n",
    "plt.title(\"Relative Counts After the First Review\")\n",
    "plt.ylabel(\"Count of Ratings (millions)\")\n",
    "plt.xlabel(\"Time (years)\")\n",
    "ax = plt.gca()"
   ]
  },
  {
   "cell_type": "code",
   "execution_count": null,
   "id": "f48b41c2-88cd-42b1-9ba6-32c18c2e5e72",
   "metadata": {},
   "outputs": [],
   "source": [
    "#spark.stop()"
   ]
  }
 ],
 "metadata": {
  "kernelspec": {
   "display_name": "Python 3 (ipykernel)",
   "language": "python",
   "name": "python3"
  },
  "language_info": {
   "codemirror_mode": {
    "name": "ipython",
    "version": 3
   },
   "file_extension": ".py",
   "mimetype": "text/x-python",
   "name": "python",
   "nbconvert_exporter": "python",
   "pygments_lexer": "ipython3",
   "version": "3.8.10"
  }
 },
 "nbformat": 4,
 "nbformat_minor": 5
}
