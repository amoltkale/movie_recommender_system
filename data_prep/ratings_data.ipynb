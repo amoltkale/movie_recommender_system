{
 "cells": [
  {
   "cell_type": "code",
   "execution_count": 1,
   "id": "975912c6-9dd9-4204-bb76-63b9645969a0",
   "metadata": {},
   "outputs": [
    {
     "name": "stderr",
     "output_type": "stream",
     "text": [
      "WARNING: An illegal reflective access operation has occurred\n",
      "WARNING: Illegal reflective access by org.apache.spark.unsafe.Platform (file:/usr/spark-3.2.1/jars/spark-unsafe_2.12-3.2.1.jar) to constructor java.nio.DirectByteBuffer(long,int)\n",
      "WARNING: Please consider reporting this to the maintainers of org.apache.spark.unsafe.Platform\n",
      "WARNING: Use --illegal-access=warn to enable warnings of further illegal reflective access operations\n",
      "WARNING: All illegal access operations will be denied in a future release\n",
      "Setting default log level to \"WARN\".\n",
      "To adjust logging level use sc.setLogLevel(newLevel). For SparkR, use setLogLevel(newLevel).\n",
      "2022-05-21 03:30:46,498 WARN util.NativeCodeLoader: Unable to load native-hadoop library for your platform... using builtin-java classes where applicable\n"
     ]
    }
   ],
   "source": [
    "# Change the number of cores in this code block\n",
    "# by setting `spark.master` to `local[n]` where\n",
    "# n is the number of cores\n",
    "import pyspark\n",
    "from pyspark.sql import SparkSession\n",
    "from pyspark.sql.functions import *\n",
    "\n",
    "import matplotlib.pyplot as plt\n",
    "\n",
    "conf = pyspark.SparkConf().setAll([('spark.master', 'local[4]'),\n",
    "                                   ('spark.app.name', 'Data Prep')])\n",
    "spark = SparkSession.builder.config(conf=conf).getOrCreate()"
   ]
  },
  {
   "cell_type": "markdown",
   "id": "a3cf7475-1446-401e-8607-88ebce902796",
   "metadata": {},
   "source": [
    "## Read in data  "
   ]
  },
  {
   "cell_type": "code",
   "execution_count": 2,
   "id": "b7e9936d-84c5-4604-8494-0928dd79beac",
   "metadata": {},
   "outputs": [
    {
     "name": "stderr",
     "output_type": "stream",
     "text": [
      "[Stage 1:=================================================>         (5 + 1) / 6]\r"
     ]
    },
    {
     "name": "stdout",
     "output_type": "stream",
     "text": [
      "root\n",
      " |-- userId: integer (nullable = true)\n",
      " |-- movieId: integer (nullable = true)\n",
      " |-- rating: double (nullable = true)\n",
      " |-- timestamp: integer (nullable = true)\n",
      "\n"
     ]
    },
    {
     "name": "stderr",
     "output_type": "stream",
     "text": [
      "                                                                                \r"
     ]
    }
   ],
   "source": [
    "ratings_df = spark.read.csv(\"file:///home/work/data/ratings.csv\", inferSchema=True, header=True)\n",
    "ratings_df.printSchema()"
   ]
  },
  {
   "cell_type": "code",
   "execution_count": 3,
   "id": "a6f62214-b219-4315-b846-8b55f19d017b",
   "metadata": {},
   "outputs": [
    {
     "name": "stdout",
     "output_type": "stream",
     "text": [
      "root\n",
      " |-- movieId: integer (nullable = true)\n",
      " |-- title: string (nullable = true)\n",
      " |-- avg_rating: double (nullable = true)\n",
      " |-- movieYear: integer (nullable = true)\n",
      " |-- genres: string (nullable = true)\n",
      " |-- Crime: double (nullable = true)\n",
      " |-- Romance: double (nullable = true)\n",
      " |-- Thriller: double (nullable = true)\n",
      " |-- Adventure: double (nullable = true)\n",
      " |-- Drama: double (nullable = true)\n",
      " |-- War: double (nullable = true)\n",
      " |-- Documentary: double (nullable = true)\n",
      " |-- Fantasy: double (nullable = true)\n",
      " |-- Mystery: double (nullable = true)\n",
      " |-- Musical: double (nullable = true)\n",
      " |-- Animation: double (nullable = true)\n",
      " |-- Film-Noir: double (nullable = true)\n",
      " |-- Horror: double (nullable = true)\n",
      " |-- Western: double (nullable = true)\n",
      " |-- Comedy: double (nullable = true)\n",
      " |-- Children: double (nullable = true)\n",
      " |-- Action: double (nullable = true)\n",
      " |-- Sci-Fi: double (nullable = true)\n",
      "\n",
      "Total distinct movies: 24009\n"
     ]
    }
   ],
   "source": [
    "movies_df = spark.read.csv(\"file:///home/work/data/final_movies_df_10.csv\", inferSchema=True, header=True)\n",
    "movies_df.printSchema()\n",
    "print(f\"Total distinct movies: {movies_df.count()}\")"
   ]
  },
  {
   "cell_type": "markdown",
   "id": "d0884d15-b05e-482c-ad2c-e7a26c569749",
   "metadata": {},
   "source": [
    "## Drop movies  "
   ]
  },
  {
   "cell_type": "code",
   "execution_count": 4,
   "id": "6f9314b5-99d5-42e9-a63d-549bb2559477",
   "metadata": {},
   "outputs": [],
   "source": [
    "movies_df.createOrReplaceTempView(\"m\")\n",
    "ratings_df.createOrReplaceTempView(\"r\")"
   ]
  },
  {
   "cell_type": "code",
   "execution_count": 5,
   "id": "4ee8042e-82bd-464e-b6a1-1cdad123d780",
   "metadata": {},
   "outputs": [
    {
     "name": "stderr",
     "output_type": "stream",
     "text": [
      "[Stage 15:================================================>         (5 + 1) / 6]\r"
     ]
    },
    {
     "name": "stdout",
     "output_type": "stream",
     "text": [
      "Total distinct movies with reviews: 24009\n",
      "Total Reviews: 25000095 Total reviews without genres: 24873798 Total reviews after dropping: 126297\n",
      "If drop ratings for movies without genres, we will lose 0.505% of ratings data.\n"
     ]
    },
    {
     "name": "stderr",
     "output_type": "stream",
     "text": [
      "                                                                                \r"
     ]
    }
   ],
   "source": [
    "tot_r = ratings_df.count()\n",
    "ratings_df = spark.sql(\"SELECT r.userId, r.movieId, r.rating, r.timestamp FROM r JOIN m ON r.movieId == m.movieId\")\n",
    "tot_g = ratings_df.count()\n",
    "percent_lost = (((tot_r - tot_g) / tot_r) * 100)\n",
    "print(f\"Total distinct movies with reviews: {ratings_df.select(col('movieId')).distinct().count()}\")\n",
    "print(f\"Total Reviews: {tot_r} Total reviews without genres: {tot_g} Total reviews after dropping: {tot_r - tot_g}\")\n",
    "print(f\"If drop ratings for movies without genres, we will lose {percent_lost:.3f}% of ratings data.\")"
   ]
  },
  {
   "cell_type": "markdown",
   "id": "a9f40d44-c1d2-40d3-92b0-a720cfc39390",
   "metadata": {},
   "source": [
    "## Timestamps"
   ]
  },
  {
   "cell_type": "code",
   "execution_count": 6,
   "id": "af105223-449c-432a-a587-3eefa336aa9b",
   "metadata": {},
   "outputs": [],
   "source": [
    "ratings_df = ratings_df.withColumn('date',from_unixtime(col(\"timestamp\"))).withColumn('year',year(\"date\"))\n",
    "spark.sql(\"drop view r\");\n",
    "ratings_df.createOrReplaceTempView(\"r\")"
   ]
  },
  {
   "cell_type": "code",
   "execution_count": 7,
   "id": "14db643d-1399-4570-bebd-ec956271031e",
   "metadata": {},
   "outputs": [
    {
     "name": "stdout",
     "output_type": "stream",
     "text": [
      "+------+-------+------+----------+-------------------+----+\n",
      "|userId|movieId|rating| timestamp|               date|year|\n",
      "+------+-------+------+----------+-------------------+----+\n",
      "|     1|    296|   5.0|1147880044|2006-05-17 15:34:04|2006|\n",
      "|     1|    306|   3.5|1147868817|2006-05-17 12:26:57|2006|\n",
      "|     1|    307|   5.0|1147868828|2006-05-17 12:27:08|2006|\n",
      "|     1|    665|   5.0|1147878820|2006-05-17 15:13:40|2006|\n",
      "|     1|    899|   3.5|1147868510|2006-05-17 12:21:50|2006|\n",
      "|     1|   1088|   4.0|1147868495|2006-05-17 12:21:35|2006|\n",
      "|     1|   1175|   3.5|1147868826|2006-05-17 12:27:06|2006|\n",
      "|     1|   1217|   3.5|1147878326|2006-05-17 15:05:26|2006|\n",
      "|     1|   1237|   5.0|1147868839|2006-05-17 12:27:19|2006|\n",
      "|     1|   1250|   4.0|1147868414|2006-05-17 12:20:14|2006|\n",
      "|     1|   1260|   3.5|1147877857|2006-05-17 14:57:37|2006|\n",
      "|     1|   1653|   4.0|1147868097|2006-05-17 12:14:57|2006|\n",
      "|     1|   2011|   2.5|1147868079|2006-05-17 12:14:39|2006|\n",
      "|     1|   2012|   2.5|1147868068|2006-05-17 12:14:28|2006|\n",
      "|     1|   2068|   2.5|1147869044|2006-05-17 12:30:44|2006|\n",
      "|     1|   2161|   3.5|1147868609|2006-05-17 12:23:29|2006|\n",
      "|     1|   2351|   4.5|1147877957|2006-05-17 14:59:17|2006|\n",
      "|     1|   2573|   4.0|1147878923|2006-05-17 15:15:23|2006|\n",
      "|     1|   2632|   5.0|1147878248|2006-05-17 15:04:08|2006|\n",
      "|     1|   2692|   5.0|1147869100|2006-05-17 12:31:40|2006|\n",
      "+------+-------+------+----------+-------------------+----+\n",
      "only showing top 20 rows\n",
      "\n"
     ]
    }
   ],
   "source": [
    "ratings_df.show()"
   ]
  },
  {
   "cell_type": "markdown",
   "id": "d3dd872b-5308-4ed0-a577-cae38dd43d4b",
   "metadata": {},
   "source": [
    "### Plot year distribution"
   ]
  },
  {
   "cell_type": "code",
   "execution_count": 8,
   "id": "438a067a-6f01-4d1d-8b3f-4f40c20e6fe0",
   "metadata": {},
   "outputs": [
    {
     "name": "stderr",
     "output_type": "stream",
     "text": [
      "                                                                                \r"
     ]
    },
    {
     "data": {
      "image/png": "[encoded data removed]",
      "text/plain": [
       "<Figure size 720x720 with 1 Axes>"
      ]
     },
     "metadata": {
      "needs_background": "light"
     },
     "output_type": "display_data"
    }
   ],
   "source": [
    "ratings_pd = ratings_df.groupBy(\"year\").count().sort('count').toPandas()\n",
    "\n",
    "font = {'family' : 'DejaVu Sans',\n",
    "        'weight' : 'bold',\n",
    "        'size'   : 22}\n",
    "\n",
    "plt.rc('font', **font)\n",
    "\n",
    "plt.figure(figsize=(10,10))\n",
    "plt.bar(ratings_pd[\"year\"], ratings_pd[\"count\"],edgecolor='k')\n",
    "\n",
    "# plot average\n",
    "ax = plt.gca()\n",
    "x_lims = ax.get_xlim()\n",
    "plt.hlines(ratings_pd[\"count\"].mean(), x_lims[0], x_lims[1], colors='r', linestyles='--')\n",
    "\n",
    "plt.title(\"Review Distribution over years\")\n",
    "plt.ylabel(\"Total Reviews\")\n",
    "plt.xlabel(\"Year\")\n",
    "ax = plt.gca()\n",
    "# plt.savefig('file:///home/work/data/count_review_dist.png')"
   ]
  },
  {
   "cell_type": "code",
   "execution_count": 9,
   "id": "57fdd718-850d-442f-a42c-55d33aa5ea4b",
   "metadata": {},
   "outputs": [
    {
     "data": {
      "text/plain": [
       "Text(0.5, 0, 'Year')"
      ]
     },
     "execution_count": 9,
     "metadata": {},
     "output_type": "execute_result"
    },
    {
     "data": {
      "image/png": "[encoded data removed]",
      "text/plain": [
       "<Figure size 720x720 with 1 Axes>"
      ]
     },
     "metadata": {
      "needs_background": "light"
     },
     "output_type": "display_data"
    }
   ],
   "source": [
    "# Plot as percentage\n",
    "ratings_pd[\"prop\"] = (ratings_pd[\"count\"] / ratings_pd[\"count\"].sum()) * 100\n",
    "plt.figure(figsize=(10,10))\n",
    "plt.bar(ratings_pd[\"year\"], ratings_pd[\"prop\"],edgecolor='k')\n",
    "# plot average\n",
    "ax = plt.gca()\n",
    "x_lims = ax.get_xlim()\n",
    "plt.hlines(ratings_pd[\"prop\"].mean(), x_lims[0], x_lims[1], colors='r', linestyles='--')\n",
    "\n",
    "plt.title(\"Review Distribution over years\")\n",
    "plt.ylabel(\"Total Reviews (%)\")\n",
    "plt.xlabel(\"Year\")\n",
    "# plt.savefig('file:///home/work/data/percentage_review_dist.png')"
   ]
  },
  {
   "cell_type": "markdown",
   "id": "1d3ac3f5-1270-4672-b862-f43cbf75c5c1",
   "metadata": {},
   "source": [
    "## Ratings relative to first review\n",
    "ie: how many users left reviews within 1 year, 2 years, 3, ..."
   ]
  },
  {
   "cell_type": "code",
   "execution_count": 10,
   "id": "3af6d457-9da5-4201-be94-dc4ae281bfc5",
   "metadata": {},
   "outputs": [
    {
     "name": "stderr",
     "output_type": "stream",
     "text": [
      "[Stage 33:================================================>         (5 + 1) / 6]\r"
     ]
    },
    {
     "name": "stdout",
     "output_type": "stream",
     "text": [
      "+------+----------+\n",
      "|userId|    min_ts|\n",
      "+------+----------+\n",
      "|     1|1147868053|\n",
      "|     2|1141415509|\n",
      "|     3|1439472199|\n",
      "|     4|1573937091|\n",
      "|     5| 830786155|\n",
      "|     6| 945141530|\n",
      "|     7| 835444730|\n",
      "|     8| 890489203|\n",
      "|     9| 859381992|\n",
      "|    10|1227570828|\n",
      "|    11|1208038679|\n",
      "|    12| 940765824|\n",
      "|    13|1237969539|\n",
      "|    14|1506208807|\n",
      "|    15| 946011308|\n",
      "|    16|1432077522|\n",
      "|    17|1485581429|\n",
      "|    18|1108271088|\n",
      "|    19|1445258693|\n",
      "|    20|1061997999|\n",
      "+------+----------+\n",
      "only showing top 20 rows\n",
      "\n"
     ]
    },
    {
     "name": "stderr",
     "output_type": "stream",
     "text": [
      "                                                                                \r"
     ]
    }
   ],
   "source": [
    "#Find min timestamps for each group\n",
    "min_ts_df = spark.sql(\"SELECT r.userId, MIN(r.timestamp) as min_ts FROM r GROUP BY r.userId ORDER BY r.userId ASC\")\n",
    "min_ts_df.createOrReplaceTempView(\"min_ts\")\n",
    "min_ts_df.show()"
   ]
  },
  {
   "cell_type": "code",
   "execution_count": 11,
   "id": "3de84570-72c8-45c2-8d31-f964cc42ee1a",
   "metadata": {},
   "outputs": [
    {
     "name": "stderr",
     "output_type": "stream",
     "text": [
      "[Stage 42:==============================================>           (4 + 1) / 5]\r"
     ]
    },
    {
     "name": "stdout",
     "output_type": "stream",
     "text": [
      "+------+-------+---------+---------------+\n",
      "|userId|movieId|time_diff|time_diff_years|\n",
      "+------+-------+---------+---------------+\n",
      "|     1|   2632|    10195|            0.0|\n",
      "|     1|   1260|     9804|            0.0|\n",
      "|     1|   2573|    10870|            0.0|\n",
      "|     1|   1088|      442|            0.0|\n",
      "|     1|   1250|      361|            0.0|\n",
      "|     1|   2012|       15|            0.0|\n",
      "|     1|   2351|     9904|            0.0|\n",
      "|     1|    306|      764|            0.0|\n",
      "|     1|    899|      457|            0.0|\n",
      "|     1|   1217|    10273|            0.0|\n",
      "|     1|   1237|      786|            0.0|\n",
      "|     1|   1653|       44|            0.0|\n",
      "|     1|   2011|       26|            0.0|\n",
      "|     1|   2068|      991|            0.0|\n",
      "|     1|   2161|      556|            0.0|\n",
      "|     1|    296|    11991|            0.0|\n",
      "|     1|   2843|      838|            0.0|\n",
      "|     1|    307|      775|            0.0|\n",
      "|     1|    665|    10767|            0.0|\n",
      "|     1|   1175|      773|            0.0|\n",
      "+------+-------+---------+---------------+\n",
      "only showing top 20 rows\n",
      "\n"
     ]
    },
    {
     "name": "stderr",
     "output_type": "stream",
     "text": [
      "                                                                                \r"
     ]
    }
   ],
   "source": [
    "# Calculate difference\n",
    "diff_df = spark.sql(\"SELECT r.userId, r.movieId, (r.timestamp - min_ts.min_ts) as time_diff  FROM r JOIN min_ts ON r.userId == min_ts.userId ORDER BY r.userId ASC\")\n",
    "diff_df = diff_df.withColumn('time_diff_years', round((col(\"time_diff\") / (3600 * 24 * 365))))\n",
    "diff_df.show()"
   ]
  },
  {
   "cell_type": "code",
   "execution_count": 12,
   "id": "258634ab-5eb3-4fee-ba50-5f15419ec388",
   "metadata": {},
   "outputs": [
    {
     "name": "stderr",
     "output_type": "stream",
     "text": [
      "                                                                                \r"
     ]
    },
    {
     "data": {
      "text/html": [
       "<div>\n",
       "<style scoped>\n",
       "    .dataframe tbody tr th:only-of-type {\n",
       "        vertical-align: middle;\n",
       "    }\n",
       "\n",
       "    .dataframe tbody tr th {\n",
       "        vertical-align: top;\n",
       "    }\n",
       "\n",
       "    .dataframe thead th {\n",
       "        text-align: right;\n",
       "    }\n",
       "</style>\n",
       "<table border=\"1\" class=\"dataframe\">\n",
       "  <thead>\n",
       "    <tr style=\"text-align: right;\">\n",
       "      <th></th>\n",
       "      <th>years</th>\n",
       "      <th>count</th>\n",
       "      <th>prop</th>\n",
       "    </tr>\n",
       "  </thead>\n",
       "  <tbody>\n",
       "    <tr>\n",
       "      <th>22</th>\n",
       "      <td>0.0</td>\n",
       "      <td>20524280</td>\n",
       "      <td>82.513656</td>\n",
       "    </tr>\n",
       "    <tr>\n",
       "      <th>21</th>\n",
       "      <td>1.0</td>\n",
       "      <td>1479959</td>\n",
       "      <td>5.949871</td>\n",
       "    </tr>\n",
       "    <tr>\n",
       "      <th>20</th>\n",
       "      <td>2.0</td>\n",
       "      <td>794262</td>\n",
       "      <td>3.193167</td>\n",
       "    </tr>\n",
       "    <tr>\n",
       "      <th>19</th>\n",
       "      <td>3.0</td>\n",
       "      <td>548032</td>\n",
       "      <td>2.203250</td>\n",
       "    </tr>\n",
       "    <tr>\n",
       "      <th>18</th>\n",
       "      <td>4.0</td>\n",
       "      <td>391316</td>\n",
       "      <td>1.573206</td>\n",
       "    </tr>\n",
       "    <tr>\n",
       "      <th>17</th>\n",
       "      <td>5.0</td>\n",
       "      <td>260842</td>\n",
       "      <td>1.048662</td>\n",
       "    </tr>\n",
       "    <tr>\n",
       "      <th>16</th>\n",
       "      <td>6.0</td>\n",
       "      <td>199793</td>\n",
       "      <td>0.803227</td>\n",
       "    </tr>\n",
       "    <tr>\n",
       "      <th>15</th>\n",
       "      <td>7.0</td>\n",
       "      <td>149033</td>\n",
       "      <td>0.599157</td>\n",
       "    </tr>\n",
       "    <tr>\n",
       "      <th>14</th>\n",
       "      <td>8.0</td>\n",
       "      <td>117151</td>\n",
       "      <td>0.470982</td>\n",
       "    </tr>\n",
       "    <tr>\n",
       "      <th>13</th>\n",
       "      <td>9.0</td>\n",
       "      <td>88655</td>\n",
       "      <td>0.356419</td>\n",
       "    </tr>\n",
       "    <tr>\n",
       "      <th>12</th>\n",
       "      <td>10.0</td>\n",
       "      <td>71585</td>\n",
       "      <td>0.287793</td>\n",
       "    </tr>\n",
       "    <tr>\n",
       "      <th>11</th>\n",
       "      <td>11.0</td>\n",
       "      <td>57641</td>\n",
       "      <td>0.231734</td>\n",
       "    </tr>\n",
       "    <tr>\n",
       "      <th>10</th>\n",
       "      <td>12.0</td>\n",
       "      <td>45324</td>\n",
       "      <td>0.182216</td>\n",
       "    </tr>\n",
       "    <tr>\n",
       "      <th>9</th>\n",
       "      <td>13.0</td>\n",
       "      <td>30871</td>\n",
       "      <td>0.124111</td>\n",
       "    </tr>\n",
       "    <tr>\n",
       "      <th>8</th>\n",
       "      <td>14.0</td>\n",
       "      <td>29670</td>\n",
       "      <td>0.119282</td>\n",
       "    </tr>\n",
       "    <tr>\n",
       "      <th>7</th>\n",
       "      <td>15.0</td>\n",
       "      <td>24207</td>\n",
       "      <td>0.097319</td>\n",
       "    </tr>\n",
       "    <tr>\n",
       "      <th>6</th>\n",
       "      <td>16.0</td>\n",
       "      <td>19570</td>\n",
       "      <td>0.078677</td>\n",
       "    </tr>\n",
       "    <tr>\n",
       "      <th>5</th>\n",
       "      <td>17.0</td>\n",
       "      <td>15976</td>\n",
       "      <td>0.064228</td>\n",
       "    </tr>\n",
       "    <tr>\n",
       "      <th>4</th>\n",
       "      <td>18.0</td>\n",
       "      <td>14101</td>\n",
       "      <td>0.056690</td>\n",
       "    </tr>\n",
       "    <tr>\n",
       "      <th>3</th>\n",
       "      <td>19.0</td>\n",
       "      <td>7830</td>\n",
       "      <td>0.031479</td>\n",
       "    </tr>\n",
       "    <tr>\n",
       "      <th>2</th>\n",
       "      <td>20.0</td>\n",
       "      <td>2425</td>\n",
       "      <td>0.009749</td>\n",
       "    </tr>\n",
       "    <tr>\n",
       "      <th>1</th>\n",
       "      <td>21.0</td>\n",
       "      <td>931</td>\n",
       "      <td>0.003743</td>\n",
       "    </tr>\n",
       "    <tr>\n",
       "      <th>0</th>\n",
       "      <td>22.0</td>\n",
       "      <td>344</td>\n",
       "      <td>0.001383</td>\n",
       "    </tr>\n",
       "  </tbody>\n",
       "</table>\n",
       "</div>"
      ],
      "text/plain": [
       "    years     count       prop\n",
       "22    0.0  20524280  82.513656\n",
       "21    1.0   1479959   5.949871\n",
       "20    2.0    794262   3.193167\n",
       "19    3.0    548032   2.203250\n",
       "18    4.0    391316   1.573206\n",
       "17    5.0    260842   1.048662\n",
       "16    6.0    199793   0.803227\n",
       "15    7.0    149033   0.599157\n",
       "14    8.0    117151   0.470982\n",
       "13    9.0     88655   0.356419\n",
       "12   10.0     71585   0.287793\n",
       "11   11.0     57641   0.231734\n",
       "10   12.0     45324   0.182216\n",
       "9    13.0     30871   0.124111\n",
       "8    14.0     29670   0.119282\n",
       "7    15.0     24207   0.097319\n",
       "6    16.0     19570   0.078677\n",
       "5    17.0     15976   0.064228\n",
       "4    18.0     14101   0.056690\n",
       "3    19.0      7830   0.031479\n",
       "2    20.0      2425   0.009749\n",
       "1    21.0       931   0.003743\n",
       "0    22.0       344   0.001383"
      ]
     },
     "execution_count": 12,
     "metadata": {},
     "output_type": "execute_result"
    }
   ],
   "source": [
    "# Count the occurences\n",
    "diff_pd = diff_df.groupBy(\"time_diff_years\").count().sort('count').toPandas()\n",
    "diff_pd = diff_pd.rename(columns={\"time_diff_years\": \"years\"})\n",
    "diff_pd = diff_pd.reset_index(drop=True)\n",
    "# Add proportion\n",
    "diff_pd[\"prop\"] = (diff_pd[\"count\"] / diff_pd[\"count\"].sum()) * 100\n",
    "diff_pd.sort_values(by=['count'], ascending=False)"
   ]
  },
  {
   "cell_type": "code",
   "execution_count": 13,
   "id": "e51d218c-ab58-41c7-9a8e-2c398b4cf158",
   "metadata": {},
   "outputs": [
    {
     "data": {
      "image/png": "[encoded data removed]",
      "text/plain": [
       "<Figure size 720x720 with 1 Axes>"
      ]
     },
     "metadata": {
      "needs_background": "light"
     },
     "output_type": "display_data"
    }
   ],
   "source": [
    "font = {'family' : 'DejaVu Sans',\n",
    "        'weight' : 'bold',\n",
    "        'size'   : 20}\n",
    "\n",
    "plt.rc('font', **font)\n",
    "\n",
    "plt.figure(figsize=(10,10))\n",
    "plt.bar(diff_pd[\"years\"], diff_pd[\"count\"],edgecolor='k')\n",
    "plt.title(\"Reviews Relative to First Review\")\n",
    "plt.ylabel(\"Ratings (millions)\")\n",
    "plt.xlabel(\"Time (years)\")\n",
    "ax = plt.gca()"
   ]
  },
  {
   "cell_type": "code",
   "execution_count": 14,
   "id": "3bf71560-25c7-4295-a0f6-fbc42037bec2",
   "metadata": {},
   "outputs": [
    {
     "data": {
      "image/png": "[encoded data removed]",
      "text/plain": [
       "<Figure size 720x720 with 1 Axes>"
      ]
     },
     "metadata": {
      "needs_background": "light"
     },
     "output_type": "display_data"
    }
   ],
   "source": [
    "font = {'family' : 'DejaVu Sans',\n",
    "        'weight' : 'bold',\n",
    "        'size'   : 20}\n",
    "\n",
    "plt.rc('font', **font)\n",
    "\n",
    "plt.figure(figsize=(10,10))\n",
    "plt.bar(diff_pd[\"years\"], diff_pd[\"prop\"],edgecolor='k')\n",
    "plt.title(\"Reviews Relative to First Review\")\n",
    "plt.ylabel(\"Ratings (%)\")\n",
    "plt.xlabel(\"Time (years)\")\n",
    "ax = plt.gca()"
   ]
  },
  {
   "cell_type": "code",
   "execution_count": 15,
   "id": "64d96cb7-e1b8-4346-a460-b452676fe9f1",
   "metadata": {},
   "outputs": [],
   "source": [
    "# put together cleaned ratings\n",
    "r_q = \"r.userId, r.movieId, r.rating, r.year, \"\n",
    "movie_cols = movies_df.columns\n",
    "exc_cols = ['movieId', 'title', 'genres', 'movieYear']\n",
    "movie_cols = sorted(list(set(movie_cols).difference(set(exc_cols))))\n",
    "m_q = \", \".join([\"m.`\" + c + \"`\" if '-' in c else \"m.\" + c for c in movie_cols])\n",
    "query = \"SELECT \" + r_q + m_q + \" FROM r JOIN m ON r.movieId == m.movieId\"\n",
    "final_df = spark.sql(query)"
   ]
  },
  {
   "cell_type": "code",
   "execution_count": 16,
   "id": "ed54b254-3b72-40ba-878c-ed65f636accf",
   "metadata": {},
   "outputs": [
    {
     "name": "stderr",
     "output_type": "stream",
     "text": [
      "[Stage 61:================================================>         (5 + 1) / 6]\r"
     ]
    },
    {
     "name": "stdout",
     "output_type": "stream",
     "text": [
      "+--------------+\n",
      "|count(movieId)|\n",
      "+--------------+\n",
      "|      24873798|\n",
      "+--------------+\n",
      "\n"
     ]
    },
    {
     "name": "stderr",
     "output_type": "stream",
     "text": [
      "                                                                                \r"
     ]
    }
   ],
   "source": [
    "# check final_df before saving\n",
    "final_df.createOrReplaceTempView(\"f\")\n",
    "spark.sql(\"SELECT COUNT(f.movieId) FROM f\").show()"
   ]
  },
  {
   "cell_type": "code",
   "execution_count": 17,
   "id": "2a480776-5463-496c-9bfc-c46163235fda",
   "metadata": {},
   "outputs": [
    {
     "name": "stdout",
     "output_type": "stream",
     "text": [
      "root\n",
      " |-- userId: integer (nullable = true)\n",
      " |-- movieId: integer (nullable = true)\n",
      " |-- rating: double (nullable = true)\n",
      " |-- year: integer (nullable = true)\n",
      " |-- Action: double (nullable = true)\n",
      " |-- Adventure: double (nullable = true)\n",
      " |-- Animation: double (nullable = true)\n",
      " |-- Children: double (nullable = true)\n",
      " |-- Comedy: double (nullable = true)\n",
      " |-- Crime: double (nullable = true)\n",
      " |-- Documentary: double (nullable = true)\n",
      " |-- Drama: double (nullable = true)\n",
      " |-- Fantasy: double (nullable = true)\n",
      " |-- Film-Noir: double (nullable = true)\n",
      " |-- Horror: double (nullable = true)\n",
      " |-- Musical: double (nullable = true)\n",
      " |-- Mystery: double (nullable = true)\n",
      " |-- Romance: double (nullable = true)\n",
      " |-- Sci-Fi: double (nullable = true)\n",
      " |-- Thriller: double (nullable = true)\n",
      " |-- War: double (nullable = true)\n",
      " |-- Western: double (nullable = true)\n",
      " |-- avg_rating: double (nullable = true)\n",
      "\n"
     ]
    }
   ],
   "source": [
    "final_df.printSchema()"
   ]
  },
  {
   "cell_type": "code",
   "execution_count": 18,
   "id": "7702b720-41cf-4184-bf5d-0b3d329fce88",
   "metadata": {},
   "outputs": [
    {
     "name": "stderr",
     "output_type": "stream",
     "text": [
      "                                                                                \r"
     ]
    },
    {
     "name": "stdout",
     "output_type": "stream",
     "text": [
      "Found 2 items\n",
      "-rw-r--r--   1 root supergroup          0 2022-05-21 03:34 /final_df/_SUCCESS\n",
      "-rw-r--r--   1 root supergroup 2753319982 2022-05-21 03:34 /final_df/part-00000-dce47b2c-686b-4d2e-8fc2-995697b75e4a-c000.csv\n"
     ]
    }
   ],
   "source": [
    "# save final_df\n",
    "write_files = True\n",
    "if write_files:\n",
    "    final_df.coalesce(1).write.csv(\"hdfs:///final_df\", header=True)\n",
    "    !hadoop fs -ls /final_df\n",
    "    !hadoop fs -copyToLocal /final_df/part-*.csv /home/work/data/"
   ]
  },
  {
   "cell_type": "code",
   "execution_count": 19,
   "id": "f48b41c2-88cd-42b1-9ba6-32c18c2e5e72",
   "metadata": {},
   "outputs": [],
   "source": [
    "spark.stop()"
   ]
  },
  {
   "cell_type": "code",
   "execution_count": null,
   "id": "5a0ea2d1-83f5-4785-9adb-fe9aa645fb0e",
   "metadata": {},
   "outputs": [],
   "source": []
  }
 ],
 "metadata": {
  "kernelspec": {
   "display_name": "Python 3 (ipykernel)",
   "language": "python",
   "name": "python3"
  },
  "language_info": {
   "codemirror_mode": {
    "name": "ipython",
    "version": 3
   },
   "file_extension": ".py",
   "mimetype": "text/x-python",
   "name": "python",
   "nbconvert_exporter": "python",
   "pygments_lexer": "ipython3",
   "version": "3.8.10"
  }
 },
 "nbformat": 4,
 "nbformat_minor": 5
}
