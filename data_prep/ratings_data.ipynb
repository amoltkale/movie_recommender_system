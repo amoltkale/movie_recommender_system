{
 "cells": [
  {
   "cell_type": "code",
   "execution_count": 1,
   "id": "975912c6-9dd9-4204-bb76-63b9645969a0",
   "metadata": {},
   "outputs": [
    {
     "name": "stderr",
     "output_type": "stream",
     "text": [
      "WARNING: An illegal reflective access operation has occurred\n",
      "WARNING: Illegal reflective access by org.apache.spark.unsafe.Platform (file:/usr/spark-3.2.1/jars/spark-unsafe_2.12-3.2.1.jar) to constructor java.nio.DirectByteBuffer(long,int)\n",
      "WARNING: Please consider reporting this to the maintainers of org.apache.spark.unsafe.Platform\n",
      "WARNING: Use --illegal-access=warn to enable warnings of further illegal reflective access operations\n",
      "WARNING: All illegal access operations will be denied in a future release\n",
      "Setting default log level to \"WARN\".\n",
      "To adjust logging level use sc.setLogLevel(newLevel). For SparkR, use setLogLevel(newLevel).\n",
      "2022-05-22 22:22:03,702 WARN util.NativeCodeLoader: Unable to load native-hadoop library for your platform... using builtin-java classes where applicable\n"
     ]
    }
   ],
   "source": [
    "# Change the number of cores in this code block\n",
    "# by setting `spark.master` to `local[n]` where\n",
    "# n is the number of cores\n",
    "import pyspark\n",
    "from pyspark.sql import SparkSession\n",
    "from pyspark.sql.functions import *\n",
    "\n",
    "import matplotlib.pyplot as plt\n",
    "\n",
    "conf = pyspark.SparkConf().setAll([('spark.master', 'local[4]'),\n",
    "                                   ('spark.app.name', 'Data Prep'),\n",
    "                                   ('spark.memory.offHeap.enabled', True),\n",
    "                                   ('spark.memory.offHeap.size','4g'),\n",
    "                                   ('spark.executor.memory', '4g'), \n",
    "                                   ('spark.driver.memory','6g')])\n",
    "spark = SparkSession.builder.config(conf=conf).getOrCreate()"
   ]
  },
  {
   "cell_type": "code",
   "execution_count": 2,
   "id": "6b9a6d87-783a-4cf2-afbe-1fa3127e9910",
   "metadata": {},
   "outputs": [],
   "source": [
    "# Set params\n",
    "write_files = True\n",
    "filter_ratings = True"
   ]
  },
  {
   "cell_type": "markdown",
   "id": "a3cf7475-1446-401e-8607-88ebce902796",
   "metadata": {},
   "source": [
    "## Read in data  "
   ]
  },
  {
   "cell_type": "code",
   "execution_count": 3,
   "id": "b7e9936d-84c5-4604-8494-0928dd79beac",
   "metadata": {},
   "outputs": [
    {
     "name": "stderr",
     "output_type": "stream",
     "text": [
      "[Stage 1:=================================================>         (5 + 1) / 6]\r"
     ]
    },
    {
     "name": "stdout",
     "output_type": "stream",
     "text": [
      "root\n",
      " |-- userId: integer (nullable = true)\n",
      " |-- movieId: integer (nullable = true)\n",
      " |-- rating: double (nullable = true)\n",
      " |-- timestamp: integer (nullable = true)\n",
      "\n"
     ]
    },
    {
     "name": "stderr",
     "output_type": "stream",
     "text": [
      "                                                                                \r"
     ]
    }
   ],
   "source": [
    "ratings_df = spark.read.csv(\"file:///home/work/data/ratings.csv\", inferSchema=True, header=True)\n",
    "ratings_df.printSchema()"
   ]
  },
  {
   "cell_type": "code",
   "execution_count": 4,
   "id": "a6f62214-b219-4315-b846-8b55f19d017b",
   "metadata": {},
   "outputs": [
    {
     "name": "stdout",
     "output_type": "stream",
     "text": [
      "root\n",
      " |-- movieId: integer (nullable = true)\n",
      " |-- title: string (nullable = true)\n",
      " |-- avg_rating: double (nullable = true)\n",
      " |-- movieYear: integer (nullable = true)\n",
      " |-- genres: string (nullable = true)\n",
      " |-- Crime: double (nullable = true)\n",
      " |-- Romance: double (nullable = true)\n",
      " |-- Thriller: double (nullable = true)\n",
      " |-- Adventure: double (nullable = true)\n",
      " |-- Drama: double (nullable = true)\n",
      " |-- War: double (nullable = true)\n",
      " |-- Documentary: double (nullable = true)\n",
      " |-- Fantasy: double (nullable = true)\n",
      " |-- Mystery: double (nullable = true)\n",
      " |-- Musical: double (nullable = true)\n",
      " |-- Animation: double (nullable = true)\n",
      " |-- Film-Noir: double (nullable = true)\n",
      " |-- Horror: double (nullable = true)\n",
      " |-- Western: double (nullable = true)\n",
      " |-- Comedy: double (nullable = true)\n",
      " |-- Children: double (nullable = true)\n",
      " |-- Action: double (nullable = true)\n",
      " |-- Sci-Fi: double (nullable = true)\n",
      "\n",
      "Total distinct movies: 24009\n"
     ]
    }
   ],
   "source": [
    "movies_df = spark.read.csv(\"file:///home/work/data/final_movies_df_10.csv\", inferSchema=True, header=True)\n",
    "movies_df.printSchema()\n",
    "print(f\"Total distinct movies: {movies_df.count()}\")"
   ]
  },
  {
   "cell_type": "markdown",
   "id": "d0884d15-b05e-482c-ad2c-e7a26c569749",
   "metadata": {},
   "source": [
    "## Drop movies  "
   ]
  },
  {
   "cell_type": "code",
   "execution_count": 5,
   "id": "6f9314b5-99d5-42e9-a63d-549bb2559477",
   "metadata": {},
   "outputs": [],
   "source": [
    "movies_df.createOrReplaceTempView(\"m\")\n",
    "ratings_df.createOrReplaceTempView(\"r\")"
   ]
  },
  {
   "cell_type": "code",
   "execution_count": 6,
   "id": "4ee8042e-82bd-464e-b6a1-1cdad123d780",
   "metadata": {},
   "outputs": [
    {
     "name": "stderr",
     "output_type": "stream",
     "text": [
      "[Stage 15:================================================>         (5 + 1) / 6]\r"
     ]
    },
    {
     "name": "stdout",
     "output_type": "stream",
     "text": [
      "Total distinct movies with reviews: 24009\n",
      "Total Reviews: 25000095 Total reviews without genres: 24873798 Total reviews after dropping: 126297\n",
      "If drop ratings for movies without genres, we will lose 0.505% of ratings data.\n"
     ]
    },
    {
     "name": "stderr",
     "output_type": "stream",
     "text": [
      "                                                                                \r"
     ]
    }
   ],
   "source": [
    "tot_r = ratings_df.count()\n",
    "ratings_df = spark.sql(\"SELECT r.userId, r.movieId, r.rating, r.timestamp FROM r JOIN m ON r.movieId == m.movieId\")\n",
    "tot_g = ratings_df.count()\n",
    "percent_lost = (((tot_r - tot_g) / tot_r) * 100)\n",
    "print(f\"Total distinct movies with reviews: {ratings_df.select(col('movieId')).distinct().count()}\")\n",
    "print(f\"Total Reviews: {tot_r} Total reviews without genres: {tot_g} Total reviews after dropping: {tot_r - tot_g}\")\n",
    "print(f\"If drop ratings for movies without genres, we will lose {percent_lost:.3f}% of ratings data.\")"
   ]
  },
  {
   "cell_type": "markdown",
   "id": "6c2e625b-d329-4024-8c3d-030c7c1bc475",
   "metadata": {},
   "source": [
    "## Filter ratings"
   ]
  },
  {
   "cell_type": "code",
   "execution_count": 7,
   "id": "08e9af86-13c6-41aa-a0ef-872b885e0ac3",
   "metadata": {},
   "outputs": [
    {
     "name": "stderr",
     "output_type": "stream",
     "text": [
      "                                                                                \r"
     ]
    },
    {
     "name": "stdout",
     "output_type": "stream",
     "text": [
      "Total ratings: 4683886\n"
     ]
    },
    {
     "name": "stderr",
     "output_type": "stream",
     "text": [
      "[Stage 40:==============================================>           (4 + 1) / 5]\r"
     ]
    },
    {
     "name": "stdout",
     "output_type": "stream",
     "text": [
      "Total distinct movies with reviews: 21836\n",
      "Total Reviews: 4683886\n"
     ]
    },
    {
     "name": "stderr",
     "output_type": "stream",
     "text": [
      "                                                                                \r"
     ]
    }
   ],
   "source": [
    "if filter_ratings:\n",
    "    median_ratings = spark.sql(\"SELECT r.userId, COUNT(r.userId) as tot_ratings FROM r GROUP BY r.userId HAVING COUNT(r.userId) <= 100 ORDER BY r.userId DESC\")\n",
    "    tot_ratings = median_ratings.agg(sum(\"tot_ratings\")).collect()[0][0]\n",
    "    print(f\"Total ratings: {tot_ratings}\")\n",
    "    median_ratings.createOrReplaceTempView(\"med_r\")\n",
    "\n",
    "    ratings_df = spark.sql(\"SELECT r.userId, r.movieId, r.rating, r.timestamp FROM r RIGHT JOIN med_r ON r.userId == med_r.userId\")\n",
    "    tot_ratings = ratings_df.count()\n",
    "    print(f\"Total distinct movies with reviews: {ratings_df.select(col('movieId')).distinct().count()}\")\n",
    "    print(f\"Total Reviews: {tot_ratings}\")"
   ]
  },
  {
   "cell_type": "code",
   "execution_count": 8,
   "id": "de11f95c-91f0-4451-9363-9fd648b49ff0",
   "metadata": {},
   "outputs": [],
   "source": [
    "# ratings_dist = ratings_df.groupBy('rating').count()\n",
    "# # .sort(col(\"rating\").asc())\n",
    "# ratings_dist = ratings_dist.toPandas()\n",
    "# # font = {'family' : 'DejaVu Sans',\n",
    "# #         'weight' : 'bold',\n",
    "# #         'size'   : 22}\n",
    "\n",
    "# # plt.rc('font', **font)\n",
    "\n",
    "# plt.figure(figsize=(10,10))\n",
    "# plt.bar(ratings_dist[\"rating\"], ratings_dist[\"count\"],width=1,align='center',edgecolor='k')\n",
    "# plt.title(\"Rating Distribution\")\n",
    "# plt.ylabel(\"Count (Million)\")\n",
    "# plt.xlabel(\"Rating\")\n",
    "# # ax = plt.gca()\n",
    "# # ax.set_xticks(ratings_dist[\"rating\"])"
   ]
  },
  {
   "cell_type": "markdown",
   "id": "a9f40d44-c1d2-40d3-92b0-a720cfc39390",
   "metadata": {},
   "source": [
    "## Timestamps"
   ]
  },
  {
   "cell_type": "code",
   "execution_count": 9,
   "id": "af105223-449c-432a-a587-3eefa336aa9b",
   "metadata": {},
   "outputs": [],
   "source": [
    "ratings_df = ratings_df.withColumn('date',from_unixtime(col(\"timestamp\"))).withColumn('year',year(\"date\"))\n",
    "spark.sql(\"drop view r\");\n",
    "ratings_df.createOrReplaceTempView(\"r\")"
   ]
  },
  {
   "cell_type": "code",
   "execution_count": 10,
   "id": "14db643d-1399-4570-bebd-ec956271031e",
   "metadata": {},
   "outputs": [
    {
     "name": "stderr",
     "output_type": "stream",
     "text": [
      "[Stage 63:>                                                         (0 + 1) / 1]\r"
     ]
    },
    {
     "name": "stdout",
     "output_type": "stream",
     "text": [
      "+------+-------+------+---------+-------------------+----+\n",
      "|userId|movieId|rating|timestamp|               date|year|\n",
      "+------+-------+------+---------+-------------------+----+\n",
      "|162514|      1|   3.0|883850636|1998-01-03 18:03:56|1998|\n",
      "|162514|     34|   5.0|883850804|1998-01-03 18:06:44|1998|\n",
      "|162514|     50|   3.0|883850591|1998-01-03 18:03:11|1998|\n",
      "|162514|    110|   4.0|883850804|1998-01-03 18:06:44|1998|\n",
      "|162514|    296|   4.0|883850688|1998-01-03 18:04:48|1998|\n",
      "|162514|    527|   5.0|883850591|1998-01-03 18:03:11|1998|\n",
      "|162514|    593|   4.0|883850725|1998-01-03 18:05:25|1998|\n",
      "|162514|    596|   3.0|883850756|1998-01-03 18:05:56|1998|\n",
      "|162514|    670|   4.0|883850688|1998-01-03 18:04:48|1998|\n",
      "|162514|    728|   3.0|883850804|1998-01-03 18:06:44|1998|\n",
      "|162514|    750|   4.0|883850920|1998-01-03 18:08:40|1998|\n",
      "|162514|    800|   4.0|883850636|1998-01-03 18:03:56|1998|\n",
      "|162514|    858|   3.0|883850833|1998-01-03 18:07:13|1998|\n",
      "|162514|    904|   4.0|883850725|1998-01-03 18:05:25|1998|\n",
      "|162514|    911|   4.0|883850804|1998-01-03 18:06:44|1998|\n",
      "|162514|    928|   4.0|883850756|1998-01-03 18:05:56|1998|\n",
      "|162514|    936|   4.0|883850725|1998-01-03 18:05:25|1998|\n",
      "|162514|    940|   4.0|883850920|1998-01-03 18:08:40|1998|\n",
      "|162514|    950|   4.0|883850804|1998-01-03 18:06:44|1998|\n",
      "|162514|   1028|   3.0|883850636|1998-01-03 18:03:56|1998|\n",
      "+------+-------+------+---------+-------------------+----+\n",
      "only showing top 20 rows\n",
      "\n"
     ]
    },
    {
     "name": "stderr",
     "output_type": "stream",
     "text": [
      "                                                                                \r"
     ]
    }
   ],
   "source": [
    "ratings_df.show()"
   ]
  },
  {
   "cell_type": "markdown",
   "id": "d3dd872b-5308-4ed0-a577-cae38dd43d4b",
   "metadata": {},
   "source": [
    "### Plot year distribution"
   ]
  },
  {
   "cell_type": "code",
   "execution_count": 11,
   "id": "438a067a-6f01-4d1d-8b3f-4f40c20e6fe0",
   "metadata": {},
   "outputs": [
    {
     "name": "stderr",
     "output_type": "stream",
     "text": [
      "                                                                                \r"
     ]
    },
    {
     "data": {
      "image/png": "[encoded data removed]",
      "text/plain": [
       "<Figure size 720x720 with 1 Axes>"
      ]
     },
     "metadata": {
      "needs_background": "light"
     },
     "output_type": "display_data"
    }
   ],
   "source": [
    "ratings_pd = ratings_df.groupBy(\"year\").count().sort('count').toPandas()\n",
    "\n",
    "font = {'family' : 'DejaVu Sans',\n",
    "        'weight' : 'bold',\n",
    "        'size'   : 22}\n",
    "\n",
    "plt.rc('font', **font)\n",
    "\n",
    "plt.figure(figsize=(10,10))\n",
    "plt.bar(ratings_pd[\"year\"], ratings_pd[\"count\"],edgecolor='k')\n",
    "\n",
    "# plot average\n",
    "ax = plt.gca()\n",
    "x_lims = ax.get_xlim()\n",
    "plt.hlines(ratings_pd[\"count\"].mean(), x_lims[0], x_lims[1], colors='r', linestyles='--')\n",
    "\n",
    "plt.title(\"Review Distribution over years\")\n",
    "plt.ylabel(\"Total Reviews\")\n",
    "plt.xlabel(\"Year\")\n",
    "ax = plt.gca()\n",
    "# plt.savefig('file:///home/work/data/count_review_dist.png')"
   ]
  },
  {
   "cell_type": "code",
   "execution_count": 12,
   "id": "57fdd718-850d-442f-a42c-55d33aa5ea4b",
   "metadata": {},
   "outputs": [
    {
     "data": {
      "text/plain": [
       "Text(0.5, 0, 'Year')"
      ]
     },
     "execution_count": 12,
     "metadata": {},
     "output_type": "execute_result"
    },
    {
     "data": {
      "image/png": "[encoded data removed]",
      "text/plain": [
       "<Figure size 720x720 with 1 Axes>"
      ]
     },
     "metadata": {
      "needs_background": "light"
     },
     "output_type": "display_data"
    }
   ],
   "source": [
    "# Plot as percentage\n",
    "ratings_pd[\"prop\"] = (ratings_pd[\"count\"] / ratings_pd[\"count\"].sum()) * 100\n",
    "plt.figure(figsize=(10,10))\n",
    "plt.bar(ratings_pd[\"year\"], ratings_pd[\"prop\"],edgecolor='k')\n",
    "# plot average\n",
    "ax = plt.gca()\n",
    "x_lims = ax.get_xlim()\n",
    "plt.hlines(ratings_pd[\"prop\"].mean(), x_lims[0], x_lims[1], colors='r', linestyles='--')\n",
    "\n",
    "plt.title(\"Review Distribution over years\")\n",
    "plt.ylabel(\"Total Reviews (%)\")\n",
    "plt.xlabel(\"Year\")\n",
    "# plt.savefig('file:///home/work/data/percentage_review_dist.png')"
   ]
  },
  {
   "cell_type": "markdown",
   "id": "1d3ac3f5-1270-4672-b862-f43cbf75c5c1",
   "metadata": {},
   "source": [
    "## Ratings relative to first review\n",
    "ie: how many users left reviews within 1 year, 2 years, 3, ..."
   ]
  },
  {
   "cell_type": "code",
   "execution_count": 13,
   "id": "3af6d457-9da5-4201-be94-dc4ae281bfc5",
   "metadata": {},
   "outputs": [
    {
     "name": "stderr",
     "output_type": "stream",
     "text": [
      "[Stage 86:==================================>                       (3 + 2) / 5]\r"
     ]
    },
    {
     "name": "stdout",
     "output_type": "stream",
     "text": [
      "+------+----------+\n",
      "|userId|    min_ts|\n",
      "+------+----------+\n",
      "|     1|1147868053|\n",
      "|     6| 945141530|\n",
      "|     7| 835444730|\n",
      "|    10|1227570828|\n",
      "|    11|1208038679|\n",
      "|    14|1506208807|\n",
      "|    15| 946011308|\n",
      "|    16|1432077522|\n",
      "|    17|1485581429|\n",
      "|    20|1061997999|\n",
      "|    22| 832862128|\n",
      "|    24|1366519990|\n",
      "|    25| 836216894|\n",
      "|    26|1280513623|\n",
      "|    27| 974256316|\n",
      "|    28| 951086053|\n",
      "|    29|1340065776|\n",
      "|    30|1488510832|\n",
      "|    32| 839020162|\n",
      "|    33|1552804255|\n",
      "+------+----------+\n",
      "only showing top 20 rows\n",
      "\n"
     ]
    },
    {
     "name": "stderr",
     "output_type": "stream",
     "text": [
      "                                                                                \r"
     ]
    }
   ],
   "source": [
    "#Find min timestamps for each group\n",
    "min_ts_df = spark.sql(\"SELECT r.userId, MIN(r.timestamp) as min_ts FROM r GROUP BY r.userId ORDER BY r.userId ASC\")\n",
    "min_ts_df.createOrReplaceTempView(\"min_ts\")\n",
    "min_ts_df.show()"
   ]
  },
  {
   "cell_type": "code",
   "execution_count": 14,
   "id": "3de84570-72c8-45c2-8d31-f964cc42ee1a",
   "metadata": {},
   "outputs": [
    {
     "name": "stderr",
     "output_type": "stream",
     "text": [
      "[Stage 98:======================================>                   (4 + 2) / 6]\r"
     ]
    },
    {
     "name": "stdout",
     "output_type": "stream",
     "text": [
      "+------+-------+---------+---------------+\n",
      "|userId|movieId|time_diff|time_diff_years|\n",
      "+------+-------+---------+---------------+\n",
      "|     1|   2692|     1047|            0.0|\n",
      "|     1|   1653|       44|            0.0|\n",
      "|     1|   2632|    10195|            0.0|\n",
      "|     1|   1175|      773|            0.0|\n",
      "|     1|   1260|     9804|            0.0|\n",
      "|     1|   2068|      991|            0.0|\n",
      "|     1|   2573|    10870|            0.0|\n",
      "|     1|    307|      775|            0.0|\n",
      "|     1|   1088|      442|            0.0|\n",
      "|     1|   1237|      786|            0.0|\n",
      "|     1|   1250|      361|            0.0|\n",
      "|     1|   2011|       26|            0.0|\n",
      "|     1|   2012|       15|            0.0|\n",
      "|     1|   2161|      556|            0.0|\n",
      "|     1|   2351|     9904|            0.0|\n",
      "|     1|    296|    11991|            0.0|\n",
      "|     1|    306|      764|            0.0|\n",
      "|     1|    665|    10767|            0.0|\n",
      "|     1|    899|      457|            0.0|\n",
      "|     1|   1217|    10273|            0.0|\n",
      "+------+-------+---------+---------------+\n",
      "only showing top 20 rows\n",
      "\n"
     ]
    },
    {
     "name": "stderr",
     "output_type": "stream",
     "text": [
      "                                                                                \r"
     ]
    }
   ],
   "source": [
    "# Calculate difference\n",
    "diff_df = spark.sql(\"SELECT r.userId, r.movieId, (r.timestamp - min_ts.min_ts) as time_diff  FROM r JOIN min_ts ON r.userId == min_ts.userId ORDER BY r.userId ASC\")\n",
    "diff_df = diff_df.withColumn('time_diff_years', round((col(\"time_diff\") / (3600 * 24 * 365))))\n",
    "diff_df.show()"
   ]
  },
  {
   "cell_type": "code",
   "execution_count": 15,
   "id": "258634ab-5eb3-4fee-ba50-5f15419ec388",
   "metadata": {},
   "outputs": [
    {
     "name": "stderr",
     "output_type": "stream",
     "text": [
      "                                                                                \r"
     ]
    },
    {
     "data": {
      "text/html": [
       "<div>\n",
       "<style scoped>\n",
       "    .dataframe tbody tr th:only-of-type {\n",
       "        vertical-align: middle;\n",
       "    }\n",
       "\n",
       "    .dataframe tbody tr th {\n",
       "        vertical-align: top;\n",
       "    }\n",
       "\n",
       "    .dataframe thead th {\n",
       "        text-align: right;\n",
       "    }\n",
       "</style>\n",
       "<table border=\"1\" class=\"dataframe\">\n",
       "  <thead>\n",
       "    <tr style=\"text-align: right;\">\n",
       "      <th></th>\n",
       "      <th>years</th>\n",
       "      <th>count</th>\n",
       "      <th>prop</th>\n",
       "    </tr>\n",
       "  </thead>\n",
       "  <tbody>\n",
       "    <tr>\n",
       "      <th>20</th>\n",
       "      <td>0.0</td>\n",
       "      <td>4575901</td>\n",
       "      <td>97.694543</td>\n",
       "    </tr>\n",
       "    <tr>\n",
       "      <th>19</th>\n",
       "      <td>1.0</td>\n",
       "      <td>62192</td>\n",
       "      <td>1.327786</td>\n",
       "    </tr>\n",
       "    <tr>\n",
       "      <th>18</th>\n",
       "      <td>2.0</td>\n",
       "      <td>21063</td>\n",
       "      <td>0.449691</td>\n",
       "    </tr>\n",
       "    <tr>\n",
       "      <th>17</th>\n",
       "      <td>3.0</td>\n",
       "      <td>10396</td>\n",
       "      <td>0.221952</td>\n",
       "    </tr>\n",
       "    <tr>\n",
       "      <th>16</th>\n",
       "      <td>4.0</td>\n",
       "      <td>4952</td>\n",
       "      <td>0.105724</td>\n",
       "    </tr>\n",
       "    <tr>\n",
       "      <th>15</th>\n",
       "      <td>5.0</td>\n",
       "      <td>3149</td>\n",
       "      <td>0.067231</td>\n",
       "    </tr>\n",
       "    <tr>\n",
       "      <th>14</th>\n",
       "      <td>6.0</td>\n",
       "      <td>1999</td>\n",
       "      <td>0.042678</td>\n",
       "    </tr>\n",
       "    <tr>\n",
       "      <th>13</th>\n",
       "      <td>7.0</td>\n",
       "      <td>1602</td>\n",
       "      <td>0.034202</td>\n",
       "    </tr>\n",
       "    <tr>\n",
       "      <th>12</th>\n",
       "      <td>9.0</td>\n",
       "      <td>752</td>\n",
       "      <td>0.016055</td>\n",
       "    </tr>\n",
       "    <tr>\n",
       "      <th>11</th>\n",
       "      <td>8.0</td>\n",
       "      <td>678</td>\n",
       "      <td>0.014475</td>\n",
       "    </tr>\n",
       "    <tr>\n",
       "      <th>10</th>\n",
       "      <td>10.0</td>\n",
       "      <td>371</td>\n",
       "      <td>0.007921</td>\n",
       "    </tr>\n",
       "    <tr>\n",
       "      <th>9</th>\n",
       "      <td>11.0</td>\n",
       "      <td>298</td>\n",
       "      <td>0.006362</td>\n",
       "    </tr>\n",
       "    <tr>\n",
       "      <th>8</th>\n",
       "      <td>12.0</td>\n",
       "      <td>162</td>\n",
       "      <td>0.003459</td>\n",
       "    </tr>\n",
       "    <tr>\n",
       "      <th>7</th>\n",
       "      <td>16.0</td>\n",
       "      <td>99</td>\n",
       "      <td>0.002114</td>\n",
       "    </tr>\n",
       "    <tr>\n",
       "      <th>6</th>\n",
       "      <td>13.0</td>\n",
       "      <td>66</td>\n",
       "      <td>0.001409</td>\n",
       "    </tr>\n",
       "    <tr>\n",
       "      <th>5</th>\n",
       "      <td>20.0</td>\n",
       "      <td>61</td>\n",
       "      <td>0.001302</td>\n",
       "    </tr>\n",
       "    <tr>\n",
       "      <th>4</th>\n",
       "      <td>18.0</td>\n",
       "      <td>44</td>\n",
       "      <td>0.000939</td>\n",
       "    </tr>\n",
       "    <tr>\n",
       "      <th>3</th>\n",
       "      <td>14.0</td>\n",
       "      <td>34</td>\n",
       "      <td>0.000726</td>\n",
       "    </tr>\n",
       "    <tr>\n",
       "      <th>2</th>\n",
       "      <td>15.0</td>\n",
       "      <td>33</td>\n",
       "      <td>0.000705</td>\n",
       "    </tr>\n",
       "    <tr>\n",
       "      <th>1</th>\n",
       "      <td>17.0</td>\n",
       "      <td>26</td>\n",
       "      <td>0.000555</td>\n",
       "    </tr>\n",
       "    <tr>\n",
       "      <th>0</th>\n",
       "      <td>19.0</td>\n",
       "      <td>8</td>\n",
       "      <td>0.000171</td>\n",
       "    </tr>\n",
       "  </tbody>\n",
       "</table>\n",
       "</div>"
      ],
      "text/plain": [
       "    years    count       prop\n",
       "20    0.0  4575901  97.694543\n",
       "19    1.0    62192   1.327786\n",
       "18    2.0    21063   0.449691\n",
       "17    3.0    10396   0.221952\n",
       "16    4.0     4952   0.105724\n",
       "15    5.0     3149   0.067231\n",
       "14    6.0     1999   0.042678\n",
       "13    7.0     1602   0.034202\n",
       "12    9.0      752   0.016055\n",
       "11    8.0      678   0.014475\n",
       "10   10.0      371   0.007921\n",
       "9    11.0      298   0.006362\n",
       "8    12.0      162   0.003459\n",
       "7    16.0       99   0.002114\n",
       "6    13.0       66   0.001409\n",
       "5    20.0       61   0.001302\n",
       "4    18.0       44   0.000939\n",
       "3    14.0       34   0.000726\n",
       "2    15.0       33   0.000705\n",
       "1    17.0       26   0.000555\n",
       "0    19.0        8   0.000171"
      ]
     },
     "execution_count": 15,
     "metadata": {},
     "output_type": "execute_result"
    }
   ],
   "source": [
    "# Count the occurences\n",
    "diff_pd = diff_df.groupBy(\"time_diff_years\").count().sort('count').toPandas()\n",
    "diff_pd = diff_pd.rename(columns={\"time_diff_years\": \"years\"})\n",
    "diff_pd = diff_pd.reset_index(drop=True)\n",
    "# Add proportion\n",
    "diff_pd[\"prop\"] = (diff_pd[\"count\"] / diff_pd[\"count\"].sum()) * 100\n",
    "diff_pd.sort_values(by=['count'], ascending=False)"
   ]
  },
  {
   "cell_type": "code",
   "execution_count": 16,
   "id": "e51d218c-ab58-41c7-9a8e-2c398b4cf158",
   "metadata": {},
   "outputs": [
    {
     "data": {
      "image/png": "[encoded data removed]",
      "text/plain": [
       "<Figure size 720x720 with 1 Axes>"
      ]
     },
     "metadata": {
      "needs_background": "light"
     },
     "output_type": "display_data"
    }
   ],
   "source": [
    "font = {'family' : 'DejaVu Sans',\n",
    "        'weight' : 'bold',\n",
    "        'size'   : 20}\n",
    "\n",
    "plt.rc('font', **font)\n",
    "\n",
    "plt.figure(figsize=(10,10))\n",
    "plt.bar(diff_pd[\"years\"], diff_pd[\"count\"],edgecolor='k')\n",
    "plt.title(\"Reviews Relative to First Review\")\n",
    "plt.ylabel(\"Ratings (millions)\")\n",
    "plt.xlabel(\"Time (years)\")\n",
    "ax = plt.gca()"
   ]
  },
  {
   "cell_type": "code",
   "execution_count": 17,
   "id": "3bf71560-25c7-4295-a0f6-fbc42037bec2",
   "metadata": {},
   "outputs": [
    {
     "data": {
      "image/png": "[encoded data removed]",
      "text/plain": [
       "<Figure size 720x720 with 1 Axes>"
      ]
     },
     "metadata": {
      "needs_background": "light"
     },
     "output_type": "display_data"
    }
   ],
   "source": [
    "font = {'family' : 'DejaVu Sans',\n",
    "        'weight' : 'bold',\n",
    "        'size'   : 20}\n",
    "\n",
    "plt.rc('font', **font)\n",
    "\n",
    "plt.figure(figsize=(10,10))\n",
    "plt.bar(diff_pd[\"years\"], diff_pd[\"prop\"],edgecolor='k')\n",
    "plt.title(\"Reviews Relative to First Review\")\n",
    "plt.ylabel(\"Ratings (%)\")\n",
    "plt.xlabel(\"Time (years)\")\n",
    "ax = plt.gca()"
   ]
  },
  {
   "cell_type": "code",
   "execution_count": 18,
   "id": "64d96cb7-e1b8-4346-a460-b452676fe9f1",
   "metadata": {},
   "outputs": [],
   "source": [
    "# put together cleaned ratings\n",
    "r_q = \"r.userId, r.movieId, r.rating, r.year, \"\n",
    "movie_cols = movies_df.columns\n",
    "exc_cols = ['movieId', 'title', 'movieYear']\n",
    "movie_cols = sorted(list(set(movie_cols).difference(set(exc_cols))))\n",
    "m_q = \", \".join([\"m.`\" + c + \"`\" if '-' in c else \"m.\" + c for c in movie_cols])\n",
    "query = \"SELECT \" + r_q + m_q + \" FROM r JOIN m ON r.movieId == m.movieId\"\n",
    "final_df = spark.sql(query)"
   ]
  },
  {
   "cell_type": "code",
   "execution_count": 19,
   "id": "ed54b254-3b72-40ba-878c-ed65f636accf",
   "metadata": {},
   "outputs": [
    {
     "name": "stderr",
     "output_type": "stream",
     "text": [
      "[Stage 121:=============================================>           (4 + 1) / 5]\r"
     ]
    },
    {
     "name": "stdout",
     "output_type": "stream",
     "text": [
      "+--------------+\n",
      "|count(movieId)|\n",
      "+--------------+\n",
      "|       4678708|\n",
      "+--------------+\n",
      "\n"
     ]
    },
    {
     "name": "stderr",
     "output_type": "stream",
     "text": [
      "                                                                                \r"
     ]
    }
   ],
   "source": [
    "# check final_df before saving\n",
    "final_df.createOrReplaceTempView(\"f\")\n",
    "spark.sql(\"SELECT COUNT(f.movieId) FROM f\").show()"
   ]
  },
  {
   "cell_type": "code",
   "execution_count": 20,
   "id": "2a480776-5463-496c-9bfc-c46163235fda",
   "metadata": {},
   "outputs": [
    {
     "name": "stdout",
     "output_type": "stream",
     "text": [
      "root\n",
      " |-- userId: integer (nullable = true)\n",
      " |-- movieId: integer (nullable = true)\n",
      " |-- rating: double (nullable = true)\n",
      " |-- year: integer (nullable = true)\n",
      " |-- Action: double (nullable = true)\n",
      " |-- Adventure: double (nullable = true)\n",
      " |-- Animation: double (nullable = true)\n",
      " |-- Children: double (nullable = true)\n",
      " |-- Comedy: double (nullable = true)\n",
      " |-- Crime: double (nullable = true)\n",
      " |-- Documentary: double (nullable = true)\n",
      " |-- Drama: double (nullable = true)\n",
      " |-- Fantasy: double (nullable = true)\n",
      " |-- Film-Noir: double (nullable = true)\n",
      " |-- Horror: double (nullable = true)\n",
      " |-- Musical: double (nullable = true)\n",
      " |-- Mystery: double (nullable = true)\n",
      " |-- Romance: double (nullable = true)\n",
      " |-- Sci-Fi: double (nullable = true)\n",
      " |-- Thriller: double (nullable = true)\n",
      " |-- War: double (nullable = true)\n",
      " |-- Western: double (nullable = true)\n",
      " |-- avg_rating: double (nullable = true)\n",
      " |-- genres: string (nullable = true)\n",
      "\n"
     ]
    }
   ],
   "source": [
    "final_df.printSchema()"
   ]
  },
  {
   "cell_type": "code",
   "execution_count": 21,
   "id": "7702b720-41cf-4184-bf5d-0b3d329fce88",
   "metadata": {},
   "outputs": [
    {
     "name": "stderr",
     "output_type": "stream",
     "text": [
      "                                                                                \r"
     ]
    },
    {
     "name": "stdout",
     "output_type": "stream",
     "text": [
      "Found 2 items\n",
      "-rw-r--r--   1 root supergroup          0 2022-05-22 22:26 /final_df/_SUCCESS\n",
      "-rw-r--r--   1 root supergroup  613533590 2022-05-22 22:26 /final_df/part-00000-a844720c-99f9-4fad-9bf0-bae1cdbbffd9-c000.csv\n"
     ]
    }
   ],
   "source": [
    "# save final_df\n",
    "if write_files:\n",
    "    final_df.coalesce(1).write.csv(\"hdfs:///final_df\", header=True)\n",
    "    !hadoop fs -ls /final_df\n",
    "    !hadoop fs -copyToLocal /final_df/part-*.csv /home/work/data/"
   ]
  },
  {
   "cell_type": "code",
   "execution_count": 22,
   "id": "f48b41c2-88cd-42b1-9ba6-32c18c2e5e72",
   "metadata": {},
   "outputs": [],
   "source": [
    "# spark.stop()"
   ]
  },
  {
   "cell_type": "code",
   "execution_count": null,
   "id": "5a0ea2d1-83f5-4785-9adb-fe9aa645fb0e",
   "metadata": {},
   "outputs": [],
   "source": []
  }
 ],
 "metadata": {
  "kernelspec": {
   "display_name": "Python 3 (ipykernel)",
   "language": "python",
   "name": "python3"
  },
  "language_info": {
   "codemirror_mode": {
    "name": "ipython",
    "version": 3
   },
   "file_extension": ".py",
   "mimetype": "text/x-python",
   "name": "python",
   "nbconvert_exporter": "python",
   "pygments_lexer": "ipython3",
   "version": "3.8.10"
  }
 },
 "nbformat": 4,
 "nbformat_minor": 5
}
